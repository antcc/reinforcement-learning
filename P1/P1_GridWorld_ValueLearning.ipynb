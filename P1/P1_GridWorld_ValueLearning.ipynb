{
  "nbformat": 4,
  "nbformat_minor": 0,
  "metadata": {
    "colab": {
      "name": "GridWorld2-Value_Learning.ipynb",
      "provenance": [],
      "collapsed_sections": [
        "-81cRu8CJuLa",
        "Mj4ToFYuRfzK",
        "71YHEXQtSujG",
        "xTTHlP2TT0Cy",
        "wt3fwRG1YOZG",
        "eedqX4KRbAFX",
        "MGi7chi5bAFp",
        "n5d6xeFzbAFy",
        "1LDg4zRxbAF4",
        "MjJK_g88bAF8",
        "VI_YWgJx5T6R",
        "KuEce-xG5T6U",
        "gFjtsbTt5T6j",
        "InZDltPg5T6r",
        "_5TFv4yC5T6t",
        "1yeq2CLgHnnl",
        "jPyBHOP2Hnns",
        "2aDF-W0WHnn7",
        "7xbmdBhEHnoB",
        "DB3Td4ESHnoH",
        "z0GVgsx3MF69",
        "qrcsl3yiMF7B",
        "LinpUSE-MF7O",
        "6UZ-PSLjMF7X",
        "L6Nk-HYcMF7d",
        "bvrY48ApYTJs",
        "mpInZLc9YTJw",
        "PUfan7uRYTJ-",
        "yIgyDeFkYTKJ",
        "m7_NeNiGYTKP",
        "ayCcO6zUkXqB",
        "FoDGxXqokXqZ",
        "p-s4CK02kXqh",
        "IswhTwdmkXqm",
        "K2Lc6YyhkXqr",
        "nra1Uv_EnYz1",
        "bimkI_X0nYz3",
        "DfxHNSlbnY0F",
        "gzeX_vCBnY0N",
        "hsOqGJo-nY0S"
      ]
    },
    "kernelspec": {
      "name": "python3",
      "display_name": "Python 3"
    },
    "language_info": {
      "name": "python"
    }
  },
  "cells": [
    {
      "cell_type": "markdown",
      "metadata": {
        "id": "9sT0K9uySw4q"
      },
      "source": [
        "*Luis Antonio Ortega Andrés     \n",
        "Antonio Coín Castro*"
      ]
    },
    {
      "cell_type": "markdown",
      "metadata": {
        "id": "C3PbFgd6CpS1"
      },
      "source": [
        "# GridWorld 2:\n",
        "\n",
        "*GridWorld* es un mundo en forma de cuadrícula muy utilizado como entorno de pruebas para técnicas de Aprendizaje por Refuerzo. Dentro de esta cuadrícula hay varios tipos de celdas: iniciales, libres, obstáculos, terminales... ¡y ahora también agujeros de gusano! Los agentes tienen que llegar desde una celda inicial hasta otra terminal evitando los obtáculos y recorriendo una distancia mínima."
      ]
    },
    {
      "cell_type": "markdown",
      "metadata": {
        "id": "nLz6HYMXCyID"
      },
      "source": [
        "Paquetes necesarios para *GridWorld 2*:"
      ]
    },
    {
      "cell_type": "code",
      "metadata": {
        "id": "aet9gV2KCe2q"
      },
      "source": [
        "import numpy as np\n",
        "import math\n",
        "import matplotlib.pyplot as plt"
      ],
      "execution_count": 2,
      "outputs": []
    },
    {
      "cell_type": "markdown",
      "metadata": {
        "id": "r4fsv0HwszqX"
      },
      "source": [
        "Funciones auxiliares para visualizar información:"
      ]
    },
    {
      "cell_type": "code",
      "metadata": {
        "id": "awRXzniVs5pj"
      },
      "source": [
        "def printMap(world):\n",
        "  # Visualiza el mapa de GridWorld\n",
        "  m = \"\"\n",
        "  for i in range(world.size[0]):\n",
        "    for j in range(world.size[1]):\n",
        "      if world.map[(i, j)] == 0: \n",
        "        m += \" O \"\n",
        "      elif world.map[(i, j)] == -1:\n",
        "        m += \" X \" \n",
        "      elif world.map[(i, j)] == 1:\n",
        "        m += \" F \"\n",
        "      elif world.map[(i, j)] == 2:\n",
        "        m += \" T \"\n",
        "    m += \"\\n\"\n",
        "  print(m)\n",
        "\n",
        "def printPolicy(world, policy):\n",
        "  # Visualiza la política con flechas\n",
        "  p = \"\"\n",
        "  for i in range(world.size[0]):\n",
        "    for j in range(world.size[1]):\n",
        "      color = \"\\033[0m\"\n",
        "      if world.map[(i, j)] == -1:\n",
        "        p += color + \" # \"\n",
        "      elif world.map[(i, j)] == 1:\n",
        "        p += color + \" @ \"\n",
        "      else:\n",
        "        if world.map[(i, j)] == 2:\n",
        "            color = \"\\033[94m\"\n",
        "        if policy[i][j] == 0:\n",
        "            p += color + \" ^ \"\n",
        "        elif policy[i][j] == 1:\n",
        "            p += color + \" v \"\n",
        "        elif policy[i][j] == 2:\n",
        "            p += color + \" < \"\n",
        "        else:\n",
        "            p += color + \" > \"\n",
        "    p += \"\\n\"\n",
        "  print(p)"
      ],
      "execution_count": 3,
      "outputs": []
    },
    {
      "cell_type": "markdown",
      "metadata": {
        "id": "ELyNLQplC-W0"
      },
      "source": [
        "# Clase *World*: \n",
        "\n",
        "Esta clase almacena la información del mundo:\n",
        "\n",
        "*   *Map*: Matriz con la codificación del mundo con celdas libres (0), obstáculos (-1), agujeros de gusano (2) y celdas terminales (1).\n",
        "*   *Size*: Vector con el tamaño de la matriz de codificación del mundo (ancho, alto).\n",
        "\n",
        "Para crear un mundo hay que aportar los siguientes datos:\n",
        "\n",
        "*   Tamaño del mapa (ancho, alto)\n",
        "*   Lista de celdas terminales\n",
        "*   Lista de celdas con obstáculos\n",
        "*   Lista de agujeros de gusano\n",
        "\n",
        "Notas:\n",
        "\n",
        "* Cuando el agente cae en un obstáculo se queda atrapado para siempre en él.\n",
        "* Cuando el agente entra por un extremo del agujero de gusano sale por el otro extremo.\n",
        "\n",
        "Por ejemplo: \n",
        "\n",
        "w = World((10, 10), [(9, 9)], [(2, 4), (4, 2)], [(0, 2), (9, 7)])\n",
        "\n",
        "Crea un mundo de 10 filas y 10 columnas con un estado terminal (9, 9), dos obstáculos en (2, 4) y (4, 2) y un teletransporte entre (0, 2) y (9, 7).\n",
        "\n",
        "![map2.png](data:image/png;base64,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)"
      ]
    },
    {
      "cell_type": "code",
      "metadata": {
        "id": "v7iQbNj6C9MC"
      },
      "source": [
        "class World:\n",
        "\n",
        "  def __init__(self, size, terminal, obstacle, hole):\n",
        "    # Crea un mundo\n",
        "    self.size = size\n",
        "    self.map = {}\n",
        "    for i in range(size[0]):\n",
        "      for j in range(size[1]):\n",
        "        # Estados libres\n",
        "        self.map[(i, j)] = 0\n",
        "        # Estados terminales\n",
        "        for t in terminal:\n",
        "          if i==t[0] and j==t[1]:\n",
        "            self.map[(i, j)] = 1\n",
        "        # Estados con obstáculos\n",
        "        for o in obstacle:\n",
        "          if i==o[0] and j==o[1]:\n",
        "            self.map[(i, j)] = -1\n",
        "        # Estados con agujeros de gusano\n",
        "        for h in hole:\n",
        "          if i==h[0] and j==h[1]:\n",
        "            self.map[(i, j)] = 2\n",
        "        self.holes = np.array(hole)\n",
        "\n",
        "  def is_goal(self, state):\n",
        "    return self.map[(state[0], state[1])] == 1\n",
        "\n",
        "  def is_obstacle(self, state):\n",
        "    return self.map[(state[0], state[1])] == -1"
      ],
      "execution_count": 4,
      "outputs": []
    },
    {
      "cell_type": "markdown",
      "metadata": {
        "id": "ZTrYC15IHy3s"
      },
      "source": [
        "Prueba de la clase *World*:"
      ]
    },
    {
      "cell_type": "code",
      "metadata": {
        "colab": {
          "base_uri": "https://localhost:8080/"
        },
        "id": "kgBnrzsQHS8R",
        "outputId": "76b29f77-4e0f-43b5-e879-f845eadaca2a"
      },
      "source": [
        "if __name__ == \"__main__\":\n",
        "  w = World((10, 10), [(9, 9)], [(2, 4), (4, 2)], [(0, 2), (9, 7)])\n",
        "  printMap(w)"
      ],
      "execution_count": 5,
      "outputs": [
        {
          "output_type": "stream",
          "text": [
            " O  O  T  O  O  O  O  O  O  O \n",
            " O  O  O  O  O  O  O  O  O  O \n",
            " O  O  O  O  X  O  O  O  O  O \n",
            " O  O  O  O  O  O  O  O  O  O \n",
            " O  O  X  O  O  O  O  O  O  O \n",
            " O  O  O  O  O  O  O  O  O  O \n",
            " O  O  O  O  O  O  O  O  O  O \n",
            " O  O  O  O  O  O  O  O  O  O \n",
            " O  O  O  O  O  O  O  O  O  O \n",
            " O  O  O  O  O  O  O  T  O  F \n",
            "\n"
          ],
          "name": "stdout"
        }
      ]
    },
    {
      "cell_type": "markdown",
      "metadata": {
        "id": "4yw3UEuAI6Cv"
      },
      "source": [
        "# Clase *Agent*:\n",
        "\n",
        "Esta clase controla el agente que aprende por refuerzo en *GridWorld*. \n",
        "\n",
        "Para crear un agente se necesitan los siguientes datos:\n",
        "\n",
        "*   *World*: Mundo en el que se desenvuelve el agente.\n",
        "*   *Initial State*: Estado inicial del agente.\n",
        "\n",
        "Para controlar el agente se usan los siguientes métodos:\n",
        "\n",
        "*   *nextState = move(state, action)*: Mueve el agente del estado *state* a un nuevo estado *nextState* aplicando una acción *action*. No modifica el estado interno.\n",
        "*   *reward = reward(nextState)*: Devuelve el refuerzo *reward* que recibe el agente al transicionar al estado *nextState*. No modifica el estado interno.\n",
        "*   *nextState, reward = checkAction(state, action)*: Comprueba a qué estado *nextState* y con qué refuerzo *reward* cambia el agente al aplicar la acción *action* en el estado *state*. Este método no cambia el estado interno del agente, por lo que puede usarse para hacer barridos del espacio de estados.\n",
        "*   *nextState, reward = executeAction(action)*: Ejecuta la acción *action* en el estado actual y devuelve el nuevo estado *nextState* y el refuerzo *reward*. Este método cambia el estado interno del agente, por lo que sólo debe usarse cuando se realice un recorrido por el mundo.\n",
        "\n",
        "## Comportamiento inicial (Agent)\n",
        "\n",
        "- Si se va a salir del mapa, rebota, recibiendo un refuerzo neutro.\n",
        "- Si entra a un agujero de gusano, sale siempre por otro, que será el más cercano a la meta (en caso de haber más de dos), recibiendo un refuerzo neutro.\n",
        "- Si entra en una casilla con obstáculo, recibe un refuerzo negativo, y además ya nunca puede salir de él.\n",
        "\n",
        "## Cambio en los obstáculos (Agent2)\n",
        "\n",
        "Se edita el comportamiento para que al entrar a un obstáculo, el agente rebote en vez de quedarse estancado para siempre.\n",
        "\n",
        "## Cambio en los refuerzo (Agent3)\n",
        "\n",
        "Damos a las casillas vacías refuerzos de -0.1 en lugar de 0, para de esta forma intentar que el agente encuentre el camino más corto a la salida. Además, incrementamos a -2 el refuerzo de los obstáculos, para que sea mucho más perjudicial ir a ninguno de ellos que avanzar por casillas vacías. No modificamos el comportamiento en los obstáculos.\n",
        "\n",
        "## Combianción de ambos cambios (Agent4)\n",
        "\n",
        "Se combinan los cambios de los dos agentes anteriores."
      ]
    },
    {
      "cell_type": "code",
      "metadata": {
        "id": "2as_2oTqH61U"
      },
      "source": [
        "class Agent:\n",
        "  def __init__(self, world, initialState):\n",
        "    # Crea un agente\n",
        "    self.world = world\n",
        "    self.state = np.array(initialState)\n",
        "\n",
        "  def move(self, state, action):\n",
        "    # Gestiona las transiciones de estados\n",
        "    nextState = state + np.array(action)\n",
        "    if nextState[0] < 0:\n",
        "      nextState[0] = 0\n",
        "    elif nextState[0] >= self.world.size[0]:\n",
        "      nextState[0] = self.world.size[0] - 1\n",
        "    if nextState[1] < 0:\n",
        "      nextState[1] = 0\n",
        "    elif nextState[1] >= self.world.size[1]:\n",
        "      nextState[1] = self.world.size[1] - 1\n",
        "    if self.world.map[(nextState[0], nextState[1])] == 2:\n",
        "      aux = nextState\n",
        "      for i in range(self.world.size[0]):\n",
        "        for j in range(self.world.size[1]):\n",
        "          if (self.world.map[(i, j)] == 2 and \n",
        "            (nextState[0] != i and nextState[1] != j)):\n",
        "            aux = np.array([i, j])\n",
        "      nextState = aux\n",
        "    return nextState\n",
        "\n",
        "  def reward(self, nextState):\n",
        "    # Gestiona los refuerzos\n",
        "    if self.world.map[(nextState[0], nextState[1])] == -1:\n",
        "      # Refuerzo cuando el agente intenta moverse a un obstáculo\n",
        "      reward = -1 # \n",
        "    elif self.world.map[(nextState[0], nextState[1])] == 1:\n",
        "      # Refuerzo cuando el agente se mueve a una celda terminal\n",
        "      reward = 1 \n",
        "    else:\n",
        "      # Refuerzo cuando el agente se mueve a una celda libre\n",
        "      reward = 0 \n",
        "    return reward\n",
        "\n",
        "  def checkAction(self, state, action):\n",
        "    # Planifica una acción\n",
        "    nextState = self.move(state, action)\n",
        "    if self.world.map[(state[0], state[1])] == -1: \n",
        "      nextState = state                            \n",
        "    reward = self.reward(nextState)\n",
        "    return nextState, reward\n",
        "\n",
        "  def executeAction(self, action):\n",
        "    # Planifica y ejecuta una acción\n",
        "    nextState = self.move(self.state, action)\n",
        "    if self.world.map[(self.state[0], self.state[1])] == -1: \n",
        "      nextState = self.state     \n",
        "    else: \n",
        "      self.state = nextState                                 \n",
        "    reward = self.reward(nextState)\n",
        "    return self.state, reward \n",
        "\n",
        "  def is_terminal(self, state):\n",
        "    return self.world.is_goal(state) or self.world.is_obstacle(state) \n",
        "\n",
        "\n",
        "class Agent2(Agent):\n",
        "  def __init__(self, world, initialState):\n",
        "    super().__init__(world, initialState)\n",
        "\n",
        "  def checkAction(self, state, action):\n",
        "    # Planifica una acción\n",
        "    nextState = self.move(state, action)\n",
        "    reward = self.reward(nextState)\n",
        "    if self.world.map[(nextState[0], nextState[1])] == -1: \n",
        "      nextState = state                            \n",
        "    return nextState, reward\n",
        "\n",
        "  def executeAction(self, action):\n",
        "    # Planifica y ejecuta una acción\n",
        "    nextState = self.move(self.state, action)\n",
        "    reward = self.reward(nextState)\n",
        "    if self.world.map[(nextState[0], nextState[1])] != -1: \n",
        "      self.state = nextState                                 \n",
        "    return self.state, reward\n",
        "\n",
        "  def is_terminal(self, state):\n",
        "    return self.world.is_goal(state)\n",
        "\n",
        "\n",
        "class Agent3(Agent):\n",
        "  def __init__(self, world, initialState):\n",
        "    super().__init__(world, initialState)\n",
        "\n",
        "  def reward(self, nextState):\n",
        "    # Modifica refuerzos\n",
        "    if self.world.map[(nextState[0], nextState[1])] == -1:\n",
        "      # Refuerzo cuando el agente intenta moverse a un obstáculo\n",
        "      reward = -2\n",
        "    elif self.world.map[(nextState[0], nextState[1])] == 1:\n",
        "      # Refuerzo cuando el agente se mueve a una celda terminal\n",
        "      reward = 1 \n",
        "    else:\n",
        "      # Refuerzo cuando el agente se mueve a una celda libre\n",
        "      reward = -0.1 \n",
        "    return reward\n",
        "\n",
        "class Agent4(Agent2, Agent3):\n",
        "  def __init__(self, world, initialState):\n",
        "    self.world = world\n",
        "    self.state = np.array(initialState)"
      ],
      "execution_count": 6,
      "outputs": []
    },
    {
      "cell_type": "markdown",
      "metadata": {
        "id": "MIpqVYBwMid7"
      },
      "source": [
        "Prueba de la clase *Agent*:"
      ]
    },
    {
      "cell_type": "code",
      "metadata": {
        "colab": {
          "base_uri": "https://localhost:8080/"
        },
        "id": "UG2bfPrfJFg4",
        "outputId": "7d731e17-e499-46c0-a25a-56f32f7df71a"
      },
      "source": [
        "if __name__ == \"__main__\":\n",
        "  # Crear el mundo\n",
        "  w = World((10, 10), [(9, 9)], [(2, 4), (4, 2)], [(0, 2), (9, 7)])\n",
        "  printMap(w)\n",
        "  # Crear el agente\n",
        "  a = Agent(w, (0, 0))\n",
        "  # Mover el agente hacia la meta pasando por el teletransporte\n",
        "  print(\"Ruta desde [(0, 0)]:\")\n",
        "  for i in range(1, 5):\n",
        "    # Mostrar cada nuevo estado y su recompensa\n",
        "    print(a.executeAction((0, 1)))"
      ],
      "execution_count": 7,
      "outputs": [
        {
          "output_type": "stream",
          "text": [
            " O  O  T  O  O  O  O  O  O  O \n",
            " O  O  O  O  O  O  O  O  O  O \n",
            " O  O  O  O  X  O  O  O  O  O \n",
            " O  O  O  O  O  O  O  O  O  O \n",
            " O  O  X  O  O  O  O  O  O  O \n",
            " O  O  O  O  O  O  O  O  O  O \n",
            " O  O  O  O  O  O  O  O  O  O \n",
            " O  O  O  O  O  O  O  O  O  O \n",
            " O  O  O  O  O  O  O  O  O  O \n",
            " O  O  O  O  O  O  O  T  O  F \n",
            "\n",
            "Ruta desde [(0, 0)]:\n",
            "(array([0, 1]), 0)\n",
            "(array([9, 7]), 0)\n",
            "(array([9, 8]), 0)\n",
            "(array([9, 9]), 1)\n"
          ],
          "name": "stdout"
        }
      ]
    },
    {
      "cell_type": "markdown",
      "metadata": {
        "id": "q9whMl4OxJI-"
      },
      "source": [
        "# Trabajo:\n",
        "\n",
        "En este trabajo vais a implementar los dos algoritmos más comunes de aprendizaje por refuerzo basados en el valor: SARSA y QLearning. Además, vais a probar ambos algoritmos en una serie de escenarios para evaluar su funcionamiento y comparar sus resultados.\n",
        "\n",
        "## Mundos: \n",
        "\n",
        "Para probar los algoritmos se ofrecen los siguientes mundos en varios tamaños:\n",
        "\n",
        "*   Mundo 1: Laberinto fácil que se puede recorrer en zigzag\n",
        "*   Mundo 2: Mundo con obstáculos aleatorios en el que el teletransporte acorta la distancia desde el inicio hasta el final\n",
        "*   Mundo 3: Mundo con obstáculos aleatorios en el que el teletransporte no reduce la distancia desde el inicio hasta el final\n",
        "*   Mundo 4: Laberinto difícil con caminos correctos y equivocados\n",
        "\n",
        "Nota: Sentíos libres de utilizar todos o algunos de estos escenarios o directamente crear vuestros propios escenarios."
      ]
    },
    {
      "cell_type": "code",
      "metadata": {
        "id": "3f9kCBErMweC",
        "colab": {
          "base_uri": "https://localhost:8080/"
        },
        "outputId": "aab61b8d-5472-4cce-c959-222885798bf6"
      },
      "source": [
        "if __name__ == \"__main__\":\n",
        "  \n",
        "  # Mundo 1 pequeño: Laberinto fácil\n",
        "  obstacles = []\n",
        "  for j in range(0, 4):\n",
        "    obstacles.append((j, 1))\n",
        "  for j in range(1, 5):\n",
        "    obstacles.append((j, 3))\n",
        "  w1p = World((5, 5), [(4, 4)], obstacles, [])\n",
        "  print(\"World 1: \")\n",
        "  printMap(w1p)\n",
        "\n",
        "  # Mundo 1 mediano: Laberinto fácil\n",
        "  obstacles = []\n",
        "  for i in [1, 5]:\n",
        "    for j in range(0, 8):\n",
        "      obstacles.append((j, i))\n",
        "  for i in [3, 7]:\n",
        "    for j in range(1, 9):\n",
        "      obstacles.append((j, i))\n",
        "  w1m = World((9, 9), [(8, 8)], obstacles, [])\n",
        "  print(\"World 1: \")\n",
        "  printMap(w1m)\n",
        "\n",
        "  # Mundo 1 grande: Laberinto fácil\n",
        "  obstacles = []\n",
        "  for i in [1, 5, 9, 13, 17]:\n",
        "    for j in range(0, 20):\n",
        "      obstacles.append((j, i))\n",
        "  for i in [3, 7, 11, 15, 19]:\n",
        "    for j in range(1, 21):\n",
        "      obstacles.append((j, i))\n",
        "  w1g = World((21, 21), [(20, 20)], obstacles, [])\n",
        "  print(\"World 1: \")\n",
        "  printMap(w1g)\n",
        "\n",
        "  # Mundo 2 pequeño: Obstáculos aleatorios, teletransporte útil\n",
        "  obstacles = []\n",
        "  for i in range(3):\n",
        "    obstacles.append((np.random.randint(1, 4), np.random.randint(1, 4)))  \n",
        "  w2p = World((5, 5), [(4, 4)], obstacles, [(2, 0), (4, 2)])\n",
        "  print(\"World 2: \")\n",
        "  printMap(w2p)\n",
        "\n",
        "  # Mundo 2 mediano: Obstáculos aleatorios, teletransporte útil\n",
        "  obstacles = []\n",
        "  for i in range(10):\n",
        "    obstacles.append((np.random.randint(1, 9), np.random.randint(1, 9)))  \n",
        "  w2m = World((10, 10), [(9, 9)], obstacles, [(3, 1), (8, 6)])\n",
        "  print(\"World 2: \")\n",
        "  printMap(w2m)\n",
        "\n",
        "  # Mundo 2 grande: Obstáculos aleatorios, teletransporte útil\n",
        "  obstacles = []\n",
        "  for i in range(50):\n",
        "    obstacles.append((np.random.randint(1, 19), np.random.randint(1, 19)))  \n",
        "  w2g = World((21, 21), [(20, 20)], obstacles, [(6, 2), (18, 14)])\n",
        "  print(\"World 2: \")\n",
        "  printMap(w2g)\n",
        "\n",
        "  # Mundo 3 pequeño: Obstáculos aleatorios, teletransporte inútil\n",
        "  obstacles = []\n",
        "  for i in range(3):\n",
        "    obstacles.append((np.random.randint(1, 4), np.random.randint(1, 4)))  \n",
        "  w3p = World((5, 5), [(4, 4)], obstacles, [(4, 0), (0, 4)])\n",
        "  print(\"World 3: \")\n",
        "  printMap(w3p)\n",
        "\n",
        "  # Mundo 3 mediano: Obstáculos aleatorios, teletransporte inútil\n",
        "  obstacles = []\n",
        "  for i in range(10):\n",
        "    obstacles.append((np.random.randint(1, 9), np.random.randint(1, 9)))  \n",
        "  w3m = World((10, 10), [(9, 9)], obstacles, [(8, 1), (1, 8)])\n",
        "  print(\"World 3: \")\n",
        "  printMap(w3m)\n",
        "\n",
        "  # Mundo 3 grande: Obstáculos aleatorios, teletransporte inútil\n",
        "  obstacles = []\n",
        "  for i in range(50):\n",
        "    obstacles.append((np.random.randint(1, 19), np.random.randint(1, 19)))  \n",
        "  w3g = World((21, 21), [(20, 20)], obstacles, [(18, 2), (2, 18)])\n",
        "  print(\"World 3: \")\n",
        "  printMap(w3g)\n",
        "\n",
        "  # Mundo 4: Laberinto difícil\n",
        "  obstacles = [(0,1),(0,3),(0,9),(0,15),(0,16),(0,17),(0,19),\n",
        "               (1,1),(1,3),(1,4),(1,5),(1,6),(1,7),(1,9),(1,10),(1,11),(1,12),(1,13),(1,17),(1,19),\n",
        "               (2,1),(2,9),(2,13),(2,15),(2,16),(2,17),(2,19),\n",
        "               (3,1),(3,3),(3,5),(3,7),(3,9),(3,11),(3,16),(3,19),\n",
        "               (4,3),(4,5),(4,7),(4,8),(4,9),(4,10),(4,11),(4,12),(4,13),(4,14),(4,16),(4,18),(4,19),\n",
        "               (5,0),(5,1),(5,2),(5,3),(5,5),(5,9),(5,16),\n",
        "               (6,5),(6,6),(6,7),(6,9),(6,10),(6,11),(6,12),(6,13),(6,14),(6,16),(6,17),(6,19),\n",
        "               (7,0),(7,1),(7,2),(7,3),(7,5),(7,7),(7,9),(7,19),\n",
        "               (8,3),(8,7),(8,8),(8,9),(8,12),(8,13),(8,14),(8,15),(8,16),(8,17),(8,18),(8,19),\n",
        "               (9,1),(9,3),(9,5),(9,7),(9,11),(9,12),(9,19),(9,20),\n",
        "               (10,1),(10,3),(10,5),(10,6),(10,7),(10,9),(10,11),(10,14),(10,15),(10,16),(10,17),\n",
        "               (11,1),(11,3),(11,5),(11,9),(11,11),(11,13),(11,14),(11,17),(11,18),(11,19),\n",
        "               (12,1),(12,5),(12,6),(12,8),(12,9),(12,11),(12,13),(12,19),\n",
        "               (13,1),(13,2),(13,3),(13,4),(13,5),(13,8),(13,15),(13,16),(13,17),(13,19),\n",
        "               (14,4),(14,7),(14,8),(14,10),(14,12),(14,13),(14,15),(14,19),\n",
        "               (15,0),(15,1),(15,2),(15,6),(15,7),(15,10),(15,13),(15,14),(15,15),(15,17),(15,18),(15,19),(15,20),\n",
        "               (16,2),(16,3),(16,5),(16,6),(16,7),(16,8),(16,9),(16,10),(16,11),(16,15),(16,17),\n",
        "               (17,0),(17,3),(17,5),(17,9),(17,13),(17,14),(17,15),(17,17),(17,19),\n",
        "               (18,0),(18,1),(18,5),(18,6),(18,7),(18,9),(18,10),(18,11),(18,15),(18,19),\n",
        "               (19,1),(19,2),(19,4),(19,5),(19,11),(19,13),(19,14),(19,15),(19,16),(19,17),(19,18),(19,19),\n",
        "               (20,7),(20,8),(20,9),(20,11),(20,19)]          \n",
        "  print(\"World 4: \")\n",
        "  w4 = World((21, 21), [(20, 20)], obstacles, [])\n",
        "  printMap(w4)"
      ],
      "execution_count": 8,
      "outputs": [
        {
          "output_type": "stream",
          "text": [
            "World 1: \n",
            " O  X  O  O  O \n",
            " O  X  O  X  O \n",
            " O  X  O  X  O \n",
            " O  X  O  X  O \n",
            " O  O  O  X  F \n",
            "\n",
            "World 1: \n",
            " O  X  O  O  O  X  O  O  O \n",
            " O  X  O  X  O  X  O  X  O \n",
            " O  X  O  X  O  X  O  X  O \n",
            " O  X  O  X  O  X  O  X  O \n",
            " O  X  O  X  O  X  O  X  O \n",
            " O  X  O  X  O  X  O  X  O \n",
            " O  X  O  X  O  X  O  X  O \n",
            " O  X  O  X  O  X  O  X  O \n",
            " O  O  O  X  O  O  O  X  F \n",
            "\n",
            "World 1: \n",
            " O  X  O  O  O  X  O  O  O  X  O  O  O  X  O  O  O  X  O  O  O \n",
            " O  X  O  X  O  X  O  X  O  X  O  X  O  X  O  X  O  X  O  X  O \n",
            " O  X  O  X  O  X  O  X  O  X  O  X  O  X  O  X  O  X  O  X  O \n",
            " O  X  O  X  O  X  O  X  O  X  O  X  O  X  O  X  O  X  O  X  O \n",
            " O  X  O  X  O  X  O  X  O  X  O  X  O  X  O  X  O  X  O  X  O \n",
            " O  X  O  X  O  X  O  X  O  X  O  X  O  X  O  X  O  X  O  X  O \n",
            " O  X  O  X  O  X  O  X  O  X  O  X  O  X  O  X  O  X  O  X  O \n",
            " O  X  O  X  O  X  O  X  O  X  O  X  O  X  O  X  O  X  O  X  O \n",
            " O  X  O  X  O  X  O  X  O  X  O  X  O  X  O  X  O  X  O  X  O \n",
            " O  X  O  X  O  X  O  X  O  X  O  X  O  X  O  X  O  X  O  X  O \n",
            " O  X  O  X  O  X  O  X  O  X  O  X  O  X  O  X  O  X  O  X  O \n",
            " O  X  O  X  O  X  O  X  O  X  O  X  O  X  O  X  O  X  O  X  O \n",
            " O  X  O  X  O  X  O  X  O  X  O  X  O  X  O  X  O  X  O  X  O \n",
            " O  X  O  X  O  X  O  X  O  X  O  X  O  X  O  X  O  X  O  X  O \n",
            " O  X  O  X  O  X  O  X  O  X  O  X  O  X  O  X  O  X  O  X  O \n",
            " O  X  O  X  O  X  O  X  O  X  O  X  O  X  O  X  O  X  O  X  O \n",
            " O  X  O  X  O  X  O  X  O  X  O  X  O  X  O  X  O  X  O  X  O \n",
            " O  X  O  X  O  X  O  X  O  X  O  X  O  X  O  X  O  X  O  X  O \n",
            " O  X  O  X  O  X  O  X  O  X  O  X  O  X  O  X  O  X  O  X  O \n",
            " O  X  O  X  O  X  O  X  O  X  O  X  O  X  O  X  O  X  O  X  O \n",
            " O  O  O  X  O  O  O  X  O  O  O  X  O  O  O  X  O  O  O  X  F \n",
            "\n",
            "World 2: \n",
            " O  O  O  O  O \n",
            " O  O  X  O  O \n",
            " T  O  X  O  O \n",
            " O  O  X  O  O \n",
            " O  O  T  O  F \n",
            "\n",
            "World 2: \n",
            " O  O  O  O  O  O  O  O  O  O \n",
            " O  O  O  O  O  O  O  O  O  O \n",
            " O  O  X  O  O  O  O  X  O  O \n",
            " O  T  O  O  O  O  X  X  O  O \n",
            " O  O  O  X  O  O  O  O  O  O \n",
            " O  O  O  O  O  X  O  O  X  O \n",
            " O  O  O  X  O  O  O  O  O  O \n",
            " O  O  O  O  O  O  O  X  O  O \n",
            " O  O  O  O  O  O  T  O  X  O \n",
            " O  O  O  O  O  O  O  O  O  F \n",
            "\n",
            "World 2: \n",
            " O  O  O  O  O  O  O  O  O  O  O  O  O  O  O  O  O  O  O  O  O \n",
            " O  O  X  O  X  O  O  O  X  O  O  O  O  O  O  O  O  O  O  O  O \n",
            " O  X  O  X  O  O  O  O  O  O  O  O  X  O  O  O  O  O  O  O  O \n",
            " O  O  X  O  O  O  O  O  O  O  O  O  O  O  O  O  O  O  O  O  O \n",
            " O  O  O  O  O  O  O  O  O  O  O  O  O  O  O  X  O  O  O  O  O \n",
            " O  O  X  O  O  O  O  X  O  X  O  O  O  O  X  O  O  O  O  O  O \n",
            " O  O  T  O  O  O  O  O  O  O  O  O  O  X  O  O  O  O  O  O  O \n",
            " O  O  O  O  X  X  O  O  O  X  O  O  X  O  O  O  O  O  X  O  O \n",
            " O  O  O  O  O  O  X  X  O  O  O  X  O  O  O  O  X  O  X  O  O \n",
            " O  O  O  O  O  O  X  O  O  X  O  O  X  O  O  O  X  O  X  O  O \n",
            " O  O  X  O  X  O  O  O  O  O  O  O  O  O  O  O  O  O  O  O  O \n",
            " O  O  X  O  O  X  O  O  O  O  O  O  O  O  O  O  O  O  O  O  O \n",
            " O  O  O  O  O  O  O  O  O  O  O  O  O  O  O  O  O  O  O  O  O \n",
            " O  O  O  O  O  X  O  O  O  O  O  O  X  O  O  O  O  O  O  O  O \n",
            " O  O  O  O  O  O  X  O  O  O  O  O  O  X  O  O  O  O  O  O  O \n",
            " O  O  O  O  O  O  O  O  O  O  O  X  O  O  O  O  O  O  O  O  O \n",
            " O  O  X  O  X  O  X  O  O  O  X  X  O  O  O  O  X  O  O  O  O \n",
            " O  O  O  O  O  O  O  O  O  O  O  X  O  X  O  O  O  O  O  O  O \n",
            " O  O  O  O  O  O  O  O  O  O  X  O  X  O  T  O  O  O  O  O  O \n",
            " O  O  O  O  O  O  O  O  O  O  O  O  O  O  O  O  O  O  O  O  O \n",
            " O  O  O  O  O  O  O  O  O  O  O  O  O  O  O  O  O  O  O  O  F \n",
            "\n",
            "World 3: \n",
            " O  O  O  O  T \n",
            " O  X  O  X  O \n",
            " O  O  O  O  O \n",
            " O  O  X  O  O \n",
            " T  O  O  O  F \n",
            "\n",
            "World 3: \n",
            " O  O  O  O  O  O  O  O  O  O \n",
            " O  O  O  X  X  O  O  O  T  O \n",
            " O  O  O  O  O  O  O  O  X  O \n",
            " O  O  O  O  O  O  O  O  O  O \n",
            " O  O  O  O  X  O  O  O  O  O \n",
            " O  O  X  O  O  X  O  O  O  O \n",
            " O  O  O  O  X  O  O  O  O  O \n",
            " O  O  O  O  X  X  O  O  O  O \n",
            " O  T  O  O  O  O  O  O  O  O \n",
            " O  O  O  O  O  O  O  O  O  F \n",
            "\n",
            "World 3: \n",
            " O  O  O  O  O  O  O  O  O  O  O  O  O  O  O  O  O  O  O  O  O \n",
            " O  O  O  O  O  O  O  O  O  O  O  O  O  O  O  O  O  O  O  O  O \n",
            " O  X  O  O  X  O  X  O  O  O  O  O  X  O  O  O  X  O  T  O  O \n",
            " O  O  O  O  O  X  O  O  O  O  O  O  O  O  X  O  O  X  O  O  O \n",
            " O  O  O  O  O  O  O  O  O  O  O  O  O  O  O  O  O  O  O  O  O \n",
            " O  O  O  O  O  O  O  O  X  O  O  O  O  O  O  O  O  O  O  O  O \n",
            " O  O  O  O  O  O  O  O  O  O  O  O  O  O  O  O  O  X  O  O  O \n",
            " O  O  O  X  O  X  O  O  O  O  O  O  O  O  O  X  O  O  O  O  O \n",
            " O  O  O  O  O  O  X  O  O  O  O  O  O  O  O  O  O  O  X  O  O \n",
            " O  O  O  X  X  O  X  X  X  O  O  O  O  O  X  O  O  O  O  O  O \n",
            " O  X  O  O  O  X  X  O  O  O  O  O  X  O  X  O  O  X  X  O  O \n",
            " O  O  O  O  O  O  O  O  O  O  O  O  O  X  O  O  O  O  O  O  O \n",
            " O  O  X  O  X  O  X  O  O  O  O  O  O  O  O  O  O  O  O  O  O \n",
            " O  O  O  X  O  O  X  O  O  O  O  O  O  O  O  O  O  O  O  O  O \n",
            " O  O  O  O  O  O  X  O  O  O  O  O  X  O  O  O  O  O  O  O  O \n",
            " O  O  O  O  O  O  X  X  O  O  X  O  O  O  O  O  O  O  O  O  O \n",
            " O  O  X  O  O  O  O  O  O  O  O  O  O  O  O  O  O  O  X  O  O \n",
            " O  O  O  O  O  O  O  O  X  O  O  X  O  O  O  O  O  O  O  O  O \n",
            " O  O  T  O  O  O  O  O  O  O  O  O  O  O  X  O  O  X  O  O  O \n",
            " O  O  O  O  O  O  O  O  O  O  O  O  O  O  O  O  O  O  O  O  O \n",
            " O  O  O  O  O  O  O  O  O  O  O  O  O  O  O  O  O  O  O  O  F \n",
            "\n",
            "World 4: \n",
            " O  X  O  X  O  O  O  O  O  X  O  O  O  O  O  X  X  X  O  X  O \n",
            " O  X  O  X  X  X  X  X  O  X  X  X  X  X  O  O  O  X  O  X  O \n",
            " O  X  O  O  O  O  O  O  O  X  O  O  O  X  O  X  X  X  O  X  O \n",
            " O  X  O  X  O  X  O  X  O  X  O  X  O  O  O  O  X  O  O  X  O \n",
            " O  O  O  X  O  X  O  X  X  X  X  X  X  X  X  O  X  O  X  X  O \n",
            " X  X  X  X  O  X  O  O  O  X  O  O  O  O  O  O  X  O  O  O  O \n",
            " O  O  O  O  O  X  X  X  O  X  X  X  X  X  X  O  X  X  O  X  O \n",
            " X  X  X  X  O  X  O  X  O  X  O  O  O  O  O  O  O  O  O  X  O \n",
            " O  O  O  X  O  O  O  X  X  X  O  O  X  X  X  X  X  X  X  X  O \n",
            " O  X  O  X  O  X  O  X  O  O  O  X  X  O  O  O  O  O  O  X  X \n",
            " O  X  O  X  O  X  X  X  O  X  O  X  O  O  X  X  X  X  O  O  O \n",
            " O  X  O  X  O  X  O  O  O  X  O  X  O  X  X  O  O  X  X  X  O \n",
            " O  X  O  O  O  X  X  O  X  X  O  X  O  X  O  O  O  O  O  X  O \n",
            " O  X  X  X  X  X  O  O  X  O  O  O  O  O  O  X  X  X  O  X  O \n",
            " O  O  O  O  X  O  O  X  X  O  X  O  X  X  O  X  O  O  O  X  O \n",
            " X  X  X  O  O  O  X  X  O  O  X  O  O  X  X  X  O  X  X  X  X \n",
            " O  O  X  X  O  X  X  X  X  X  X  X  O  O  O  X  O  X  O  O  O \n",
            " X  O  O  X  O  X  O  O  O  X  O  O  O  X  X  X  O  X  O  X  O \n",
            " X  X  O  O  O  X  X  X  O  X  X  X  O  O  O  X  O  O  O  X  O \n",
            " O  X  X  O  X  X  O  O  O  O  O  X  O  X  X  X  X  X  X  X  O \n",
            " O  O  O  O  O  O  O  X  X  X  O  X  O  O  O  O  O  O  O  X  F \n",
            "\n"
          ],
          "name": "stdout"
        }
      ]
    },
    {
      "cell_type": "markdown",
      "metadata": {
        "id": "wPMJpcDviIiw"
      },
      "source": [
        "## Funciones globales\n",
        "\n",
        "Implementamos a continuación el esqueleto de nuestras funciones de *value-learning*. La idea general es que tras el bucle de entrenamiento hacemos testing de nuestra política, y si con la política actual (determinista, sin considerar acciones aleatorias de exploración) se resuelve el problema, consideramos que ha convergido y detenemos el entrenamiento.\n",
        "\n",
        "Sin embargo, como en algunos agentes (el 3 y el 4) estamos interesados en ver si se puede encontrar el camino más corto, tras alcanzar la convergencia consideramos unos cuantos episodios extra de optimización, donde se intenta ver si prosiguiendo con el entrenamiento se consigue disminuir la longitud del camino encontrado."
      ]
    },
    {
      "cell_type": "code",
      "metadata": {
        "id": "GKKCw5jFiv92"
      },
      "source": [
        "INITIAL_STATE = (0, 0)\n",
        "ACTIONS = [(-1, 0), (1, 0), (0, -1), (0, 1)]\n",
        "SEED = 2021"
      ],
      "execution_count": 9,
      "outputs": []
    },
    {
      "cell_type": "code",
      "metadata": {
        "id": "HxIsgfPQLCjG"
      },
      "source": [
        "from IPython.display import clear_output\n",
        "import time\n",
        "\n",
        "def choose_action_egreedy(Q, S, rng, epsilon, actions):\n",
        "    if rng.random() < epsilon:\n",
        "        # Choose a random action\n",
        "        return rng.choice(len(actions))\n",
        "    else:\n",
        "        # Randomly choose a maximal action\n",
        "        actions_value = Q[S[0], S[1], :]\n",
        "        return rng.choice(\n",
        "            np.where(actions_value == np.max(actions_value))[0])\n",
        "\n",
        "\n",
        "def build_policy(world, Q):\n",
        "    policy = np.zeros(world.size, dtype = np.int8)\n",
        "    for i in range(world.size[0]):\n",
        "        for j in range(world.size[1]):\n",
        "            policy[i, j] = np.argmax(Q[i, j, :])\n",
        "    return policy\n",
        "\n",
        "\n",
        "def test_policy(policy, world, agent, actions):\n",
        "    \"\"\"Test a policy. Return wether the agent reaches the goal,\n",
        "       in how many steps (-1 if not), and the accumulated reward.\"\"\"\n",
        "    state = agent.state\n",
        "    accum_R = 0\n",
        "\n",
        "    # If it doesn't reach the goal in HxW steps, it is cycling\n",
        "    for step in range(world.size[0]*world.size[1]):\n",
        "        if world.is_goal(state):\n",
        "            return True, step, accum_R\n",
        "\n",
        "        action_idx = policy[state[0], state[1]]\n",
        "        action = actions[action_idx]\n",
        "        state, R = agent.checkAction(state, action)\n",
        "        accum_R += R\n",
        "\n",
        "    return False, -1, accum_R\n",
        "\n",
        "\n",
        "def optimization_episode(Q, episode, world, agent, actions, \n",
        "                         alpha, epsilon, gamma, decay,\n",
        "                         decay_interval, rng, step_funct, \n",
        "                         verbose, max_steps):\n",
        "    # Initialize state\n",
        "    S = agent.state\n",
        "\n",
        "    # Choose action based on Q(S,-)\n",
        "    A_idx = choose_action_egreedy(Q, S, rng, epsilon, actions)\n",
        "    A = actions[A_idx]\n",
        "\n",
        "    # Loop until reaching a terminal state\n",
        "    for step in range(max_steps):\n",
        "        if agent.is_terminal(S):\n",
        "            break\n",
        "\n",
        "        # Observe next state and choose next action accordingly \n",
        "        nextState, R = agent.checkAction(S, A)\n",
        "        nextAction_idx = choose_action_egreedy(\n",
        "            Q, nextState, rng, epsilon, actions)\n",
        "        nextAction = actions[nextAction_idx]\n",
        "\n",
        "        # Update Q\n",
        "        Q[S[0], S[1], A_idx] = step_funct(Q, R, S, alpha, gamma, \n",
        "                                          nextState, nextAction_idx, \n",
        "                                          A_idx)\n",
        "            \n",
        "        # Advance step\n",
        "        S = nextState\n",
        "        A = nextAction\n",
        "        A_idx = nextAction_idx\n",
        " \n",
        "    # Epsilon decay\n",
        "    if episode % decay_interval == 0 and epsilon > 0.001:\n",
        "        epsilon *= decay\n",
        "\n",
        "    # Policy test\n",
        "    policy = build_policy(world, Q)\n",
        "    \n",
        "    if verbose:\n",
        "        clear_output()\n",
        "        print(f\"Episode {episode + 1}\")\n",
        "        printPolicy(world, policy)\n",
        "        time.sleep(1)\n",
        "\n",
        "    converged, path_length, reward = \\\n",
        "        test_policy(policy, world, agent, actions)\n",
        "\n",
        "    return converged, path_length, reward\n",
        "\n",
        "\n",
        "def value_learning(world, agent, actions, alpha, epsilon, \n",
        "                   gamma, decay, decay_rate, n_episodes, \n",
        "                   seed, optimize_steps, step_funct, \n",
        "                   verbose, max_steps):\n",
        "    if decay < 1.0:\n",
        "        decay_interval = int(n_episodes/decay_rate)\n",
        "    else:\n",
        "        decay_interval = n_episodes\n",
        "\n",
        "    # Initialization\n",
        "    Q = np.zeros((*world.size, len(actions)))  # H x W x |A|\n",
        "    rng = np.random.default_rng(seed)\n",
        "    converged = False\n",
        "    total_R = []\n",
        "    paths = []\n",
        "\n",
        "    # Loop through episodes\n",
        "    for episode in range(n_episodes):\n",
        "        converged, path_length, reward = \\\n",
        "            optimization_episode(Q, episode, world, agent, actions, \n",
        "                                 alpha, epsilon, gamma,\n",
        "                                 decay, decay_interval,\n",
        "                                 rng, step_funct, verbose, max_steps)\n",
        "        paths.append(path_length)\n",
        "        total_R.append(reward)\n",
        "        \n",
        "        if converged:\n",
        "            print(f\"Converged in {episode + 1} episodes. \"\n",
        "                  f\"Path length: {path_length}\")\n",
        "            save_Q = Q.copy()\n",
        "            best_path_length = path_length\n",
        "            break\n",
        "\n",
        "    episodes = episode + 1\n",
        "\n",
        "    if converged:\n",
        "        for opt_episode in range(optimize_steps):\n",
        "            converged_opt, path_length_opt, _ = \\\n",
        "                optimization_episode(Q, episode, world, agent, actions, \n",
        "                                     alpha, epsilon, gamma, \n",
        "                                     decay, decay_interval, rng,\n",
        "                                     step_funct, False, max_steps)\n",
        "\n",
        "            if converged_opt and path_length_opt < best_path_length:\n",
        "                save_Q = Q.copy()\n",
        "                best_path_length = path_length_opt\n",
        "                episodes = episode + opt_episode + 2\n",
        "                print(f\"Improved path length: {best_path_length} \"\n",
        "                      f\"({episodes} episodes in total)\")\n",
        "\n",
        "        Q = save_Q\n",
        "    else:\n",
        "        print(f\"Did not converge after {episodes} episodes\")\n",
        "        best_path_length = -1\n",
        "    \n",
        "    return Q, episodes, converged, best_path_length, paths, total_R\n",
        "\n",
        "\n",
        "def policy(world, agent=None, alpha=0.1, epsilon=0.2, gamma=1.0, \n",
        "           decay=1.0, decay_rate=10, n_episodes=500, optimize_steps=100,\n",
        "           step_funct = None, verbose=False, max_steps=1000):\n",
        "    if agent == 2:\n",
        "        agent = Agent2(world, INITIAL_STATE)\n",
        "    elif agent == 3:\n",
        "        agent = Agent3(world, INITIAL_STATE)\n",
        "    elif agent == 4:\n",
        "        agent = Agent4(world, INITIAL_STATE)\n",
        "    else:\n",
        "        agent = Agent(world, INITIAL_STATE)\n",
        "\n",
        "    # Learn value function Q\n",
        "    Q, episodes, converged, path_length, paths, total_R = \\\n",
        "        value_learning(world, agent, ACTIONS, alpha, \n",
        "                       epsilon, gamma, decay, decay_rate,\n",
        "                       n_episodes, SEED, optimize_steps, \n",
        "                       step_funct, verbose, max_steps)\n",
        "\n",
        "    # Compute policy based on Q\n",
        "    policy = build_policy(world, Q)\n",
        "\n",
        "    return policy, Q, episodes, converged, paths, total_R, path_length"
      ],
      "execution_count": 10,
      "outputs": []
    },
    {
      "cell_type": "markdown",
      "metadata": {
        "id": "RBuT8CQk17QE"
      },
      "source": [
        "## SARSA:\n",
        "\n",
        "*SARSA* (State-Action-Reward-State-Action) es un método basado en el valor que permite resolver problemas de aprendizaje por refuerzo. Al igual que el resto de métodos basados en el valor, *SARSA* calcula de forma iterativa la función de valor $Q(S,A)$ y, a partir de ella, determina la política óptima $\\pi$.\n",
        "\n",
        "*SARSA* recibe su nombre de las cinco variables implicadas en su función de actualización: el estado actual ($S_t$), la acción actual ($A_t$), el refuerzo actual ($R_t$), el siguiente estado ($S_{t+1}$) y la siguiente acción ($A_{t+1}$). Esta función de actualización tiene la siguiente forma:\n",
        "\n",
        "\\begin{equation}\n",
        "Q(S_t,A_t) \\leftarrow Q(S_t,A_t) + \\alpha [R_t + \\gamma Q(S_{t+1}, A_{t+1}) - Q(S_t,A_t)]\n",
        "\\end{equation}\n",
        "\n",
        "Nota: $\\alpha$ es la longitud del episodio y $\\gamma$ el factor de descuento.\n",
        "\n",
        "El algoritmo *SARSA* sigue el siguiente esquema: \n",
        "\n",
        "1.   Inicializar $Q(S,A)$ para todos los estados y acciones \n",
        "2.   **Bucle** (repetir $3-9$ hasta la convergencia):\n",
        "3.   Inicializar $S_t$\n",
        "4.   Elegir $A_t$ en $S_t$ siguiendo la política derivada de $Q(S,A)$\n",
        "5.   **Bucle** (repetir $6-9$ hasta que $S_t$ sea terminal):\n",
        "6.   Tomar la acción $A_t$ en $S_t$ y observar $R_t$ y $S_{t+1}$\n",
        "7.   Elegir $A_{t+1}$ en $S_{t+1}$ siguiendo la política derivada de $Q(S,A)$\n",
        "8.   Actualizar el valor $Q(S_t, A_t)$ con la función de actualización\n",
        "9.   Tomar $S_{t+1}$ y $A_{t+1}$ como los nuevos $S_t$ y $A_t$\n",
        "\n",
        "El algoritmo *SARSA* utiliza un parámetro $\\epsilon \\in (0, 1)$ para buscar un equilibrio entre exploración y explotación. A la hora de elegir $A_t$ en $S_t$, si un número aleatorio es menor que $\\epsilon$, el algoritmo tomará una acción aleatoria; mientras que si ese número aleatorio es mayor que $\\epsilon$, el algoritmo tomará la mejor acción conocida.\n",
        "\n",
        "## Ejercicio 1:\n",
        "\n",
        "Implementad el algoritmo SARSA para el agente y entorno definidos anteriormente.\n",
        "\n",
        "Dado el esqueleto de arriba, solo tenemos que implementar la función de actualización de Q según SARSA, que sería el parámetro `step_funct` de la función de entrenamiento."
      ]
    },
    {
      "cell_type": "code",
      "metadata": {
        "id": "Q-ECAlEPiRAq"
      },
      "source": [
        "def SARSA_optimization(Q, R, S, alpha, gamma, nextState, nextAction_idx, A_idx):\n",
        "    return (Q[S[0], S[1], A_idx] \n",
        "            + alpha*(R + gamma*Q[nextState[0], nextState[1], nextAction_idx] \n",
        "            - Q[S[0], S[1], A_idx]))"
      ],
      "execution_count": 11,
      "outputs": []
    },
    {
      "cell_type": "markdown",
      "metadata": {
        "id": "F5l-DgcE3AMM"
      },
      "source": [
        "A continuación hacemos pruebas en todos los mapas con los diferentes agentes considerados. Hacemos una serie de consideraciones generales:\n",
        "\n",
        "- A la hora de visualizar las políticas, pintamos los obstáculos con '#', la meta con '@', y los túneles de color azul.\n",
        "- Para los mapas pequeños hemos activado el modo \"interactivo\" con `verbose=True`, de forma que se puede ver cómo se actualiza la política episodio a episodio si se ejecuta.\n",
        "- En los mapas grandes aumentamos el número máximo de pasos por episodio, para dejar que el agente haga un recorrido más largo en cada episodio."
      ]
    },
    {
      "cell_type": "markdown",
      "metadata": {
        "id": "-81cRu8CJuLa"
      },
      "source": [
        "### Pruebas con la configuración original"
      ]
    },
    {
      "cell_type": "markdown",
      "metadata": {
        "id": "Mj4ToFYuRfzK"
      },
      "source": [
        "#### Mapa 1"
      ]
    },
    {
      "cell_type": "code",
      "metadata": {
        "colab": {
          "base_uri": "https://localhost:8080/"
        },
        "id": "KPiOGoGEAoUv",
        "outputId": "ff6799fb-a7eb-49a2-aa56-feb09ff34b2a"
      },
      "source": [
        "policy_w1p, Q, episodes, converged, paths, total_R, path_length = policy(\n",
        "    w1p, alpha=0.1, epsilon=0.0, n_episodes=100,\n",
        "    optimize_steps=10, step_funct = SARSA_optimization,\n",
        "    verbose = True\n",
        ")"
      ],
      "execution_count": 87,
      "outputs": [
        {
          "output_type": "stream",
          "text": [
            "Episode 32\n",
            "\u001b[0m v \u001b[0m # \u001b[0m > \u001b[0m > \u001b[0m v \n",
            "\u001b[0m v \u001b[0m # \u001b[0m ^ \u001b[0m # \u001b[0m v \n",
            "\u001b[0m v \u001b[0m # \u001b[0m ^ \u001b[0m # \u001b[0m v \n",
            "\u001b[0m v \u001b[0m # \u001b[0m ^ \u001b[0m # \u001b[0m v \n",
            "\u001b[0m > \u001b[0m > \u001b[0m ^ \u001b[0m # \u001b[0m @ \n",
            "\n",
            "Converged in 32 episodes. Path length: 16\n"
          ],
          "name": "stdout"
        }
      ]
    },
    {
      "cell_type": "code",
      "metadata": {
        "colab": {
          "base_uri": "https://localhost:8080/"
        },
        "id": "_oIe8mMuLPaU",
        "outputId": "aa342927-7f84-435f-c93a-7db7e282b649"
      },
      "source": [
        "policy_w1m, Q, episodes, converged, paths, total_R, path_length = policy(\n",
        "    w1m, alpha=0.1, epsilon=0.0, n_episodes=5000, \n",
        "    step_funct = SARSA_optimization\n",
        ")\n",
        "printPolicy(w1m, policy_w1m)"
      ],
      "execution_count": 59,
      "outputs": [
        {
          "output_type": "stream",
          "text": [
            "Converged in 180 episodes. Path length: 48\n",
            "\u001b[0m v \u001b[0m # \u001b[0m > \u001b[0m > \u001b[0m v \u001b[0m # \u001b[0m > \u001b[0m > \u001b[0m v \n",
            "\u001b[0m v \u001b[0m # \u001b[0m ^ \u001b[0m # \u001b[0m v \u001b[0m # \u001b[0m ^ \u001b[0m # \u001b[0m v \n",
            "\u001b[0m v \u001b[0m # \u001b[0m ^ \u001b[0m # \u001b[0m v \u001b[0m # \u001b[0m ^ \u001b[0m # \u001b[0m v \n",
            "\u001b[0m v \u001b[0m # \u001b[0m ^ \u001b[0m # \u001b[0m v \u001b[0m # \u001b[0m ^ \u001b[0m # \u001b[0m v \n",
            "\u001b[0m v \u001b[0m # \u001b[0m ^ \u001b[0m # \u001b[0m v \u001b[0m # \u001b[0m ^ \u001b[0m # \u001b[0m v \n",
            "\u001b[0m v \u001b[0m # \u001b[0m ^ \u001b[0m # \u001b[0m v \u001b[0m # \u001b[0m ^ \u001b[0m # \u001b[0m v \n",
            "\u001b[0m v \u001b[0m # \u001b[0m ^ \u001b[0m # \u001b[0m v \u001b[0m # \u001b[0m ^ \u001b[0m # \u001b[0m v \n",
            "\u001b[0m v \u001b[0m # \u001b[0m ^ \u001b[0m # \u001b[0m v \u001b[0m # \u001b[0m ^ \u001b[0m # \u001b[0m v \n",
            "\u001b[0m > \u001b[0m > \u001b[0m ^ \u001b[0m # \u001b[0m > \u001b[0m > \u001b[0m ^ \u001b[0m # \u001b[0m @ \n",
            "\n"
          ],
          "name": "stdout"
        }
      ]
    },
    {
      "cell_type": "code",
      "metadata": {
        "colab": {
          "base_uri": "https://localhost:8080/"
        },
        "id": "e8t9lfAyn4ZK",
        "outputId": "6c90814e-ce0e-42f3-e642-b1eb2e6be16d"
      },
      "source": [
        "policy_w1g, Q, episodes, converged, paths, total_R, path_length = policy(\n",
        "    w1g, alpha=0.1, epsilon=0.01,\n",
        "    n_episodes=50000, step_funct = SARSA_optimization\n",
        ")\n",
        "printPolicy(w1g, policy_w1g)"
      ],
      "execution_count": 60,
      "outputs": [
        {
          "output_type": "stream",
          "text": [
            "Converged in 27657 episodes. Path length: 240\n",
            "\u001b[0m v \u001b[0m # \u001b[0m > \u001b[0m > \u001b[0m v \u001b[0m # \u001b[0m > \u001b[0m > \u001b[0m v \u001b[0m # \u001b[0m > \u001b[0m > \u001b[0m v \u001b[0m # \u001b[0m > \u001b[0m > \u001b[0m v \u001b[0m # \u001b[0m > \u001b[0m > \u001b[0m v \n",
            "\u001b[0m v \u001b[0m # \u001b[0m ^ \u001b[0m # \u001b[0m v \u001b[0m # \u001b[0m ^ \u001b[0m # \u001b[0m v \u001b[0m # \u001b[0m ^ \u001b[0m # \u001b[0m v \u001b[0m # \u001b[0m ^ \u001b[0m # \u001b[0m v \u001b[0m # \u001b[0m ^ \u001b[0m # \u001b[0m v \n",
            "\u001b[0m v \u001b[0m # \u001b[0m ^ \u001b[0m # \u001b[0m v \u001b[0m # \u001b[0m ^ \u001b[0m # \u001b[0m v \u001b[0m # \u001b[0m ^ \u001b[0m # \u001b[0m v \u001b[0m # \u001b[0m ^ \u001b[0m # \u001b[0m v \u001b[0m # \u001b[0m ^ \u001b[0m # \u001b[0m v \n",
            "\u001b[0m v \u001b[0m # \u001b[0m ^ \u001b[0m # \u001b[0m v \u001b[0m # \u001b[0m ^ \u001b[0m # \u001b[0m v \u001b[0m # \u001b[0m ^ \u001b[0m # \u001b[0m v \u001b[0m # \u001b[0m ^ \u001b[0m # \u001b[0m v \u001b[0m # \u001b[0m ^ \u001b[0m # \u001b[0m v \n",
            "\u001b[0m v \u001b[0m # \u001b[0m ^ \u001b[0m # \u001b[0m v \u001b[0m # \u001b[0m ^ \u001b[0m # \u001b[0m v \u001b[0m # \u001b[0m ^ \u001b[0m # \u001b[0m v \u001b[0m # \u001b[0m ^ \u001b[0m # \u001b[0m v \u001b[0m # \u001b[0m ^ \u001b[0m # \u001b[0m v \n",
            "\u001b[0m v \u001b[0m # \u001b[0m ^ \u001b[0m # \u001b[0m v \u001b[0m # \u001b[0m ^ \u001b[0m # \u001b[0m v \u001b[0m # \u001b[0m ^ \u001b[0m # \u001b[0m v \u001b[0m # \u001b[0m ^ \u001b[0m # \u001b[0m v \u001b[0m # \u001b[0m ^ \u001b[0m # \u001b[0m v \n",
            "\u001b[0m v \u001b[0m # \u001b[0m ^ \u001b[0m # \u001b[0m v \u001b[0m # \u001b[0m ^ \u001b[0m # \u001b[0m v \u001b[0m # \u001b[0m ^ \u001b[0m # \u001b[0m v \u001b[0m # \u001b[0m ^ \u001b[0m # \u001b[0m v \u001b[0m # \u001b[0m ^ \u001b[0m # \u001b[0m v \n",
            "\u001b[0m v \u001b[0m # \u001b[0m ^ \u001b[0m # \u001b[0m v \u001b[0m # \u001b[0m ^ \u001b[0m # \u001b[0m v \u001b[0m # \u001b[0m ^ \u001b[0m # \u001b[0m v \u001b[0m # \u001b[0m ^ \u001b[0m # \u001b[0m v \u001b[0m # \u001b[0m ^ \u001b[0m # \u001b[0m v \n",
            "\u001b[0m v \u001b[0m # \u001b[0m ^ \u001b[0m # \u001b[0m v \u001b[0m # \u001b[0m ^ \u001b[0m # \u001b[0m v \u001b[0m # \u001b[0m ^ \u001b[0m # \u001b[0m v \u001b[0m # \u001b[0m ^ \u001b[0m # \u001b[0m v \u001b[0m # \u001b[0m ^ \u001b[0m # \u001b[0m v \n",
            "\u001b[0m v \u001b[0m # \u001b[0m ^ \u001b[0m # \u001b[0m v \u001b[0m # \u001b[0m ^ \u001b[0m # \u001b[0m v \u001b[0m # \u001b[0m ^ \u001b[0m # \u001b[0m v \u001b[0m # \u001b[0m ^ \u001b[0m # \u001b[0m v \u001b[0m # \u001b[0m ^ \u001b[0m # \u001b[0m v \n",
            "\u001b[0m v \u001b[0m # \u001b[0m ^ \u001b[0m # \u001b[0m v \u001b[0m # \u001b[0m ^ \u001b[0m # \u001b[0m v \u001b[0m # \u001b[0m ^ \u001b[0m # \u001b[0m v \u001b[0m # \u001b[0m ^ \u001b[0m # \u001b[0m v \u001b[0m # \u001b[0m ^ \u001b[0m # \u001b[0m v \n",
            "\u001b[0m v \u001b[0m # \u001b[0m ^ \u001b[0m # \u001b[0m v \u001b[0m # \u001b[0m ^ \u001b[0m # \u001b[0m v \u001b[0m # \u001b[0m ^ \u001b[0m # \u001b[0m v \u001b[0m # \u001b[0m ^ \u001b[0m # \u001b[0m v \u001b[0m # \u001b[0m ^ \u001b[0m # \u001b[0m v \n",
            "\u001b[0m v \u001b[0m # \u001b[0m ^ \u001b[0m # \u001b[0m v \u001b[0m # \u001b[0m ^ \u001b[0m # \u001b[0m v \u001b[0m # \u001b[0m ^ \u001b[0m # \u001b[0m v \u001b[0m # \u001b[0m ^ \u001b[0m # \u001b[0m v \u001b[0m # \u001b[0m ^ \u001b[0m # \u001b[0m v \n",
            "\u001b[0m v \u001b[0m # \u001b[0m ^ \u001b[0m # \u001b[0m v \u001b[0m # \u001b[0m ^ \u001b[0m # \u001b[0m v \u001b[0m # \u001b[0m ^ \u001b[0m # \u001b[0m v \u001b[0m # \u001b[0m ^ \u001b[0m # \u001b[0m v \u001b[0m # \u001b[0m ^ \u001b[0m # \u001b[0m v \n",
            "\u001b[0m v \u001b[0m # \u001b[0m ^ \u001b[0m # \u001b[0m v \u001b[0m # \u001b[0m ^ \u001b[0m # \u001b[0m v \u001b[0m # \u001b[0m ^ \u001b[0m # \u001b[0m v \u001b[0m # \u001b[0m ^ \u001b[0m # \u001b[0m v \u001b[0m # \u001b[0m ^ \u001b[0m # \u001b[0m v \n",
            "\u001b[0m v \u001b[0m # \u001b[0m ^ \u001b[0m # \u001b[0m v \u001b[0m # \u001b[0m ^ \u001b[0m # \u001b[0m v \u001b[0m # \u001b[0m ^ \u001b[0m # \u001b[0m v \u001b[0m # \u001b[0m ^ \u001b[0m # \u001b[0m v \u001b[0m # \u001b[0m ^ \u001b[0m # \u001b[0m v \n",
            "\u001b[0m v \u001b[0m # \u001b[0m ^ \u001b[0m # \u001b[0m v \u001b[0m # \u001b[0m ^ \u001b[0m # \u001b[0m v \u001b[0m # \u001b[0m ^ \u001b[0m # \u001b[0m v \u001b[0m # \u001b[0m ^ \u001b[0m # \u001b[0m v \u001b[0m # \u001b[0m ^ \u001b[0m # \u001b[0m v \n",
            "\u001b[0m v \u001b[0m # \u001b[0m ^ \u001b[0m # \u001b[0m v \u001b[0m # \u001b[0m ^ \u001b[0m # \u001b[0m v \u001b[0m # \u001b[0m ^ \u001b[0m # \u001b[0m v \u001b[0m # \u001b[0m ^ \u001b[0m # \u001b[0m v \u001b[0m # \u001b[0m ^ \u001b[0m # \u001b[0m v \n",
            "\u001b[0m v \u001b[0m # \u001b[0m ^ \u001b[0m # \u001b[0m v \u001b[0m # \u001b[0m ^ \u001b[0m # \u001b[0m v \u001b[0m # \u001b[0m ^ \u001b[0m # \u001b[0m v \u001b[0m # \u001b[0m ^ \u001b[0m # \u001b[0m v \u001b[0m # \u001b[0m ^ \u001b[0m # \u001b[0m v \n",
            "\u001b[0m v \u001b[0m # \u001b[0m ^ \u001b[0m # \u001b[0m v \u001b[0m # \u001b[0m ^ \u001b[0m # \u001b[0m v \u001b[0m # \u001b[0m ^ \u001b[0m # \u001b[0m v \u001b[0m # \u001b[0m ^ \u001b[0m # \u001b[0m v \u001b[0m # \u001b[0m ^ \u001b[0m # \u001b[0m v \n",
            "\u001b[0m > \u001b[0m > \u001b[0m ^ \u001b[0m # \u001b[0m > \u001b[0m > \u001b[0m ^ \u001b[0m # \u001b[0m > \u001b[0m > \u001b[0m ^ \u001b[0m # \u001b[0m > \u001b[0m > \u001b[0m ^ \u001b[0m # \u001b[0m > \u001b[0m > \u001b[0m ^ \u001b[0m # \u001b[0m @ \n",
            "\n"
          ],
          "name": "stdout"
        }
      ]
    },
    {
      "cell_type": "markdown",
      "metadata": {
        "id": "71YHEXQtSujG"
      },
      "source": [
        "#### Mapa 2"
      ]
    },
    {
      "cell_type": "code",
      "metadata": {
        "colab": {
          "base_uri": "https://localhost:8080/"
        },
        "id": "i5OzWrZfTOK2",
        "outputId": "cc31c831-ab80-479c-a36f-7b36b739c5d5"
      },
      "source": [
        "policy_w2p, Q, episodes, converged, paths, total_R, path_length = policy(\n",
        "    w2p, alpha=0.1, epsilon=0.0, n_episodes=100,\n",
        "    step_funct = SARSA_optimization, verbose=True\n",
        ")"
      ],
      "execution_count": 99,
      "outputs": [
        {
          "output_type": "stream",
          "text": [
            "Episode 8\n",
            "\u001b[0m v \u001b[0m ^ \u001b[0m ^ \u001b[0m ^ \u001b[0m ^ \n",
            "\u001b[0m v \u001b[0m ^ \u001b[0m ^ \u001b[0m ^ \u001b[0m ^ \n",
            "\u001b[94m ^ \u001b[0m ^ \u001b[0m v \u001b[0m # \u001b[0m ^ \n",
            "\u001b[0m ^ \u001b[0m ^ \u001b[0m > \u001b[0m v \u001b[0m ^ \n",
            "\u001b[0m ^ \u001b[0m ^ \u001b[94m > \u001b[0m > \u001b[0m @ \n",
            "\n",
            "Converged in 8 episodes. Path length: 4\n"
          ],
          "name": "stdout"
        }
      ]
    },
    {
      "cell_type": "code",
      "metadata": {
        "colab": {
          "base_uri": "https://localhost:8080/"
        },
        "id": "zRNXwNhiZCEj",
        "outputId": "44bfb1a1-a10b-49f4-eb3f-d46be351f14e"
      },
      "source": [
        "policy_w2m, Q, episodes, converged, paths, total_R, path_length = policy(\n",
        "    w2m, alpha=0.1, epsilon=0.0, n_episodes=100, \n",
        "    step_funct = SARSA_optimization\n",
        ")\n",
        "printPolicy(w2m, policy_w2m)"
      ],
      "execution_count": 62,
      "outputs": [
        {
          "output_type": "stream",
          "text": [
            "Converged in 52 episodes. Path length: 8\n",
            "\u001b[0m v \u001b[0m ^ \u001b[0m ^ \u001b[0m ^ \u001b[0m ^ \u001b[0m ^ \u001b[0m ^ \u001b[0m ^ \u001b[0m ^ \u001b[0m ^ \n",
            "\u001b[0m v \u001b[0m ^ \u001b[0m ^ \u001b[0m ^ \u001b[0m ^ \u001b[0m ^ \u001b[0m ^ \u001b[0m ^ \u001b[0m ^ \u001b[0m ^ \n",
            "\u001b[0m v \u001b[0m # \u001b[0m ^ \u001b[0m ^ \u001b[0m # \u001b[0m ^ \u001b[0m ^ \u001b[0m ^ \u001b[0m # \u001b[0m ^ \n",
            "\u001b[0m > \u001b[94m v \u001b[0m # \u001b[0m ^ \u001b[0m v \u001b[0m ^ \u001b[0m ^ \u001b[0m ^ \u001b[0m v \u001b[0m ^ \n",
            "\u001b[0m ^ \u001b[0m ^ \u001b[0m v \u001b[0m ^ \u001b[0m ^ \u001b[0m # \u001b[0m ^ \u001b[0m ^ \u001b[0m ^ \u001b[0m ^ \n",
            "\u001b[0m ^ \u001b[0m ^ \u001b[0m ^ \u001b[0m ^ \u001b[0m ^ \u001b[0m v \u001b[0m # \u001b[0m ^ \u001b[0m ^ \u001b[0m ^ \n",
            "\u001b[0m ^ \u001b[0m # \u001b[0m ^ \u001b[0m ^ \u001b[0m ^ \u001b[0m ^ \u001b[0m v \u001b[0m ^ \u001b[0m # \u001b[0m ^ \n",
            "\u001b[0m ^ \u001b[0m v \u001b[0m # \u001b[0m ^ \u001b[0m ^ \u001b[0m ^ \u001b[0m ^ \u001b[0m > \u001b[0m v \u001b[0m v \n",
            "\u001b[0m ^ \u001b[0m ^ \u001b[0m v \u001b[0m ^ \u001b[0m ^ \u001b[0m ^ \u001b[94m v \u001b[0m # \u001b[0m > \u001b[0m v \n",
            "\u001b[0m ^ \u001b[0m ^ \u001b[0m ^ \u001b[0m ^ \u001b[0m ^ \u001b[0m ^ \u001b[0m > \u001b[0m > \u001b[0m > \u001b[0m @ \n",
            "\n"
          ],
          "name": "stdout"
        }
      ]
    },
    {
      "cell_type": "code",
      "metadata": {
        "colab": {
          "base_uri": "https://localhost:8080/"
        },
        "id": "X7mGzdYcaJiD",
        "outputId": "aa8aa093-aa51-40ca-c008-d4c46a999f5c"
      },
      "source": [
        "policy_w2g, Q, episodes, converged, paths, total_R, path_length = policy(\n",
        "    w2g, alpha=0.1, epsilon=0.0, n_episodes=1000, \n",
        "    step_funct = SARSA_optimization\n",
        ")\n",
        "printPolicy(w2g, policy_w2g)"
      ],
      "execution_count": 63,
      "outputs": [
        {
          "output_type": "stream",
          "text": [
            "Converged in 134 episodes. Path length: 16\n",
            "\u001b[0m v \u001b[0m ^ \u001b[0m ^ \u001b[0m ^ \u001b[0m ^ \u001b[0m ^ \u001b[0m ^ \u001b[0m ^ \u001b[0m ^ \u001b[0m ^ \u001b[0m ^ \u001b[0m ^ \u001b[0m ^ \u001b[0m ^ \u001b[0m ^ \u001b[0m ^ \u001b[0m ^ \u001b[0m ^ \u001b[0m ^ \u001b[0m ^ \u001b[0m ^ \n",
            "\u001b[0m > \u001b[0m v \u001b[0m # \u001b[0m ^ \u001b[0m ^ \u001b[0m ^ \u001b[0m ^ \u001b[0m ^ \u001b[0m ^ \u001b[0m ^ \u001b[0m ^ \u001b[0m ^ \u001b[0m ^ \u001b[0m ^ \u001b[0m # \u001b[0m # \u001b[0m # \u001b[0m ^ \u001b[0m ^ \u001b[0m ^ \u001b[0m ^ \n",
            "\u001b[0m > \u001b[0m v \u001b[0m v \u001b[0m ^ \u001b[0m # \u001b[0m ^ \u001b[0m ^ \u001b[0m ^ \u001b[0m ^ \u001b[0m ^ \u001b[0m ^ \u001b[0m ^ \u001b[0m # \u001b[0m # \u001b[0m v \u001b[0m ^ \u001b[0m # \u001b[0m # \u001b[0m # \u001b[0m ^ \u001b[0m ^ \n",
            "\u001b[0m ^ \u001b[0m v \u001b[0m ^ \u001b[0m ^ \u001b[0m < \u001b[0m # \u001b[0m # \u001b[0m ^ \u001b[0m ^ \u001b[0m ^ \u001b[0m # \u001b[0m ^ \u001b[0m v \u001b[0m v \u001b[0m ^ \u001b[0m ^ \u001b[0m ^ \u001b[0m # \u001b[0m ^ \u001b[0m ^ \u001b[0m ^ \n",
            "\u001b[0m ^ \u001b[0m v \u001b[0m ^ \u001b[0m ^ \u001b[0m # \u001b[0m v \u001b[0m # \u001b[0m # \u001b[0m ^ \u001b[0m ^ \u001b[0m v \u001b[0m # \u001b[0m ^ \u001b[0m ^ \u001b[0m # \u001b[0m ^ \u001b[0m # \u001b[0m ^ \u001b[0m ^ \u001b[0m ^ \u001b[0m ^ \n",
            "\u001b[0m ^ \u001b[0m > \u001b[0m v \u001b[0m ^ \u001b[0m v \u001b[0m ^ \u001b[0m v \u001b[0m v \u001b[0m # \u001b[0m ^ \u001b[0m ^ \u001b[0m v \u001b[0m ^ \u001b[0m ^ \u001b[0m # \u001b[0m ^ \u001b[0m ^ \u001b[0m ^ \u001b[0m ^ \u001b[0m ^ \u001b[0m ^ \n",
            "\u001b[0m ^ \u001b[0m # \u001b[94m ^ \u001b[0m ^ \u001b[0m ^ \u001b[0m ^ \u001b[0m ^ \u001b[0m ^ \u001b[0m v \u001b[0m ^ \u001b[0m # \u001b[0m ^ \u001b[0m ^ \u001b[0m ^ \u001b[0m v \u001b[0m ^ \u001b[0m ^ \u001b[0m ^ \u001b[0m ^ \u001b[0m ^ \u001b[0m ^ \n",
            "\u001b[0m ^ \u001b[0m v \u001b[0m ^ \u001b[0m ^ \u001b[0m ^ \u001b[0m ^ \u001b[0m ^ \u001b[0m ^ \u001b[0m ^ \u001b[0m ^ \u001b[0m v \u001b[0m ^ \u001b[0m ^ \u001b[0m # \u001b[0m ^ \u001b[0m ^ \u001b[0m ^ \u001b[0m ^ \u001b[0m ^ \u001b[0m ^ \u001b[0m ^ \n",
            "\u001b[0m ^ \u001b[0m ^ \u001b[0m ^ \u001b[0m # \u001b[0m # \u001b[0m ^ \u001b[0m ^ \u001b[0m ^ \u001b[0m ^ \u001b[0m ^ \u001b[0m ^ \u001b[0m # \u001b[0m ^ \u001b[0m ^ \u001b[0m ^ \u001b[0m ^ \u001b[0m ^ \u001b[0m ^ \u001b[0m ^ \u001b[0m ^ \u001b[0m ^ \n",
            "\u001b[0m ^ \u001b[0m ^ \u001b[0m ^ \u001b[0m v \u001b[0m v \u001b[0m ^ \u001b[0m ^ \u001b[0m ^ \u001b[0m ^ \u001b[0m # \u001b[0m # \u001b[0m ^ \u001b[0m ^ \u001b[0m ^ \u001b[0m # \u001b[0m ^ \u001b[0m ^ \u001b[0m ^ \u001b[0m ^ \u001b[0m ^ \u001b[0m ^ \n",
            "\u001b[0m ^ \u001b[0m ^ \u001b[0m ^ \u001b[0m ^ \u001b[0m ^ \u001b[0m ^ \u001b[0m # \u001b[0m ^ \u001b[0m ^ \u001b[0m v \u001b[0m # \u001b[0m ^ \u001b[0m ^ \u001b[0m ^ \u001b[0m # \u001b[0m ^ \u001b[0m # \u001b[0m ^ \u001b[0m ^ \u001b[0m ^ \u001b[0m ^ \n",
            "\u001b[0m ^ \u001b[0m # \u001b[0m ^ \u001b[0m ^ \u001b[0m ^ \u001b[0m ^ \u001b[0m < \u001b[0m ^ \u001b[0m ^ \u001b[0m ^ \u001b[0m ^ \u001b[0m ^ \u001b[0m ^ \u001b[0m ^ \u001b[0m # \u001b[0m ^ \u001b[0m ^ \u001b[0m ^ \u001b[0m ^ \u001b[0m ^ \u001b[0m ^ \n",
            "\u001b[0m ^ \u001b[0m v \u001b[0m # \u001b[0m ^ \u001b[0m ^ \u001b[0m # \u001b[0m # \u001b[0m ^ \u001b[0m ^ \u001b[0m ^ \u001b[0m ^ \u001b[0m ^ \u001b[0m ^ \u001b[0m ^ \u001b[0m v \u001b[0m ^ \u001b[0m ^ \u001b[0m ^ \u001b[0m ^ \u001b[0m ^ \u001b[0m ^ \n",
            "\u001b[0m ^ \u001b[0m ^ \u001b[0m ^ \u001b[0m ^ \u001b[0m ^ \u001b[0m v \u001b[0m ^ \u001b[0m ^ \u001b[0m ^ \u001b[0m ^ \u001b[0m # \u001b[0m ^ \u001b[0m ^ \u001b[0m ^ \u001b[0m ^ \u001b[0m ^ \u001b[0m ^ \u001b[0m ^ \u001b[0m ^ \u001b[0m ^ \u001b[0m ^ \n",
            "\u001b[0m ^ \u001b[0m ^ \u001b[0m ^ \u001b[0m ^ \u001b[0m ^ \u001b[0m ^ \u001b[0m ^ \u001b[0m ^ \u001b[0m ^ \u001b[0m ^ \u001b[0m ^ \u001b[0m ^ \u001b[0m ^ \u001b[0m # \u001b[0m ^ \u001b[0m ^ \u001b[0m ^ \u001b[0m ^ \u001b[0m ^ \u001b[0m ^ \u001b[0m ^ \n",
            "\u001b[0m ^ \u001b[0m ^ \u001b[0m ^ \u001b[0m ^ \u001b[0m ^ \u001b[0m ^ \u001b[0m ^ \u001b[0m ^ \u001b[0m ^ \u001b[0m ^ \u001b[0m ^ \u001b[0m ^ \u001b[0m ^ \u001b[0m v \u001b[0m ^ \u001b[0m ^ \u001b[0m # \u001b[0m ^ \u001b[0m ^ \u001b[0m ^ \u001b[0m ^ \n",
            "\u001b[0m ^ \u001b[0m ^ \u001b[0m ^ \u001b[0m ^ \u001b[0m ^ \u001b[0m ^ \u001b[0m ^ \u001b[0m ^ \u001b[0m ^ \u001b[0m ^ \u001b[0m ^ \u001b[0m ^ \u001b[0m # \u001b[0m ^ \u001b[0m ^ \u001b[0m ^ \u001b[0m # \u001b[0m ^ \u001b[0m ^ \u001b[0m ^ \u001b[0m ^ \n",
            "\u001b[0m ^ \u001b[0m ^ \u001b[0m ^ \u001b[0m ^ \u001b[0m ^ \u001b[0m ^ \u001b[0m # \u001b[0m ^ \u001b[0m ^ \u001b[0m ^ \u001b[0m ^ \u001b[0m ^ \u001b[0m v \u001b[0m ^ \u001b[0m ^ \u001b[0m ^ \u001b[0m v \u001b[0m ^ \u001b[0m ^ \u001b[0m ^ \u001b[0m ^ \n",
            "\u001b[0m ^ \u001b[0m ^ \u001b[0m ^ \u001b[0m ^ \u001b[0m ^ \u001b[0m ^ \u001b[0m # \u001b[0m ^ \u001b[0m # \u001b[0m ^ \u001b[0m ^ \u001b[0m ^ \u001b[0m ^ \u001b[0m ^ \u001b[94m > \u001b[0m v \u001b[0m v \u001b[0m # \u001b[0m v \u001b[0m ^ \u001b[0m ^ \n",
            "\u001b[0m ^ \u001b[0m ^ \u001b[0m ^ \u001b[0m ^ \u001b[0m ^ \u001b[0m ^ \u001b[0m v \u001b[0m ^ \u001b[0m ^ \u001b[0m ^ \u001b[0m ^ \u001b[0m ^ \u001b[0m ^ \u001b[0m ^ \u001b[0m ^ \u001b[0m > \u001b[0m v \u001b[0m > \u001b[0m v \u001b[0m ^ \u001b[0m ^ \n",
            "\u001b[0m ^ \u001b[0m ^ \u001b[0m ^ \u001b[0m ^ \u001b[0m ^ \u001b[0m ^ \u001b[0m ^ \u001b[0m ^ \u001b[0m ^ \u001b[0m ^ \u001b[0m ^ \u001b[0m ^ \u001b[0m ^ \u001b[0m ^ \u001b[0m ^ \u001b[0m > \u001b[0m > \u001b[0m > \u001b[0m > \u001b[0m > \u001b[0m @ \n",
            "\n"
          ],
          "name": "stdout"
        }
      ]
    },
    {
      "cell_type": "markdown",
      "metadata": {
        "id": "xTTHlP2TT0Cy"
      },
      "source": [
        "#### Mapa 3"
      ]
    },
    {
      "cell_type": "code",
      "metadata": {
        "colab": {
          "base_uri": "https://localhost:8080/"
        },
        "id": "a3_59vJ3T5fg",
        "outputId": "49e4835f-be9f-4890-e907-46569242b16c"
      },
      "source": [
        "policy_w3p, Q, episodes, converged, paths, total_R, path_length = policy(\n",
        "    w3p, alpha=0.1, epsilon=0.0, n_episodes=100, \n",
        "    step_funct = SARSA_optimization, verbose=True\n",
        ")"
      ],
      "execution_count": 100,
      "outputs": [
        {
          "output_type": "stream",
          "text": [
            "Episode 18\n",
            "\u001b[0m v \u001b[0m ^ \u001b[0m ^ \u001b[0m ^ \u001b[94m v \n",
            "\u001b[0m v \u001b[0m # \u001b[0m ^ \u001b[0m ^ \u001b[0m v \n",
            "\u001b[0m v \u001b[0m < \u001b[0m ^ \u001b[0m # \u001b[0m v \n",
            "\u001b[0m v \u001b[0m # \u001b[0m ^ \u001b[0m ^ \u001b[0m v \n",
            "\u001b[94m ^ \u001b[0m ^ \u001b[0m ^ \u001b[0m ^ \u001b[0m @ \n",
            "\n",
            "Converged in 18 episodes. Path length: 8\n"
          ],
          "name": "stdout"
        }
      ]
    },
    {
      "cell_type": "code",
      "metadata": {
        "colab": {
          "base_uri": "https://localhost:8080/"
        },
        "id": "XaMiOat8T9Rp",
        "outputId": "bf148567-6043-4442-e1df-80e1df59ffc4"
      },
      "source": [
        "policy_w3m, Q, episodes, converged, paths, total_R, path_length = policy(\n",
        "    w3m, alpha=0.1, epsilon=0.0, n_episodes=100, \n",
        "    step_funct = SARSA_optimization\n",
        ")\n",
        "printPolicy(w3m, policy_w3m)"
      ],
      "execution_count": 68,
      "outputs": [
        {
          "output_type": "stream",
          "text": [
            "Converged in 73 episodes. Path length: 20\n",
            "\u001b[0m v \u001b[0m ^ \u001b[0m > \u001b[0m v \u001b[0m ^ \u001b[0m ^ \u001b[0m ^ \u001b[0m ^ \u001b[0m ^ \u001b[0m ^ \n",
            "\u001b[0m v \u001b[0m ^ \u001b[0m ^ \u001b[0m > \u001b[0m v \u001b[0m ^ \u001b[0m ^ \u001b[0m ^ \u001b[94m ^ \u001b[0m ^ \n",
            "\u001b[0m > \u001b[0m > \u001b[0m > \u001b[0m ^ \u001b[0m > \u001b[0m v \u001b[0m # \u001b[0m v \u001b[0m ^ \u001b[0m ^ \n",
            "\u001b[0m ^ \u001b[0m ^ \u001b[0m ^ \u001b[0m ^ \u001b[0m # \u001b[0m > \u001b[0m > \u001b[0m v \u001b[0m # \u001b[0m ^ \n",
            "\u001b[0m ^ \u001b[0m ^ \u001b[0m ^ \u001b[0m # \u001b[0m > \u001b[0m ^ \u001b[0m > \u001b[0m v \u001b[0m # \u001b[0m ^ \n",
            "\u001b[0m ^ \u001b[0m ^ \u001b[0m ^ \u001b[0m v \u001b[0m # \u001b[0m ^ \u001b[0m ^ \u001b[0m > \u001b[0m v \u001b[0m < \n",
            "\u001b[0m ^ \u001b[0m ^ \u001b[0m # \u001b[0m ^ \u001b[0m < \u001b[0m # \u001b[0m v \u001b[0m ^ \u001b[0m v \u001b[0m ^ \n",
            "\u001b[0m ^ \u001b[0m ^ \u001b[0m v \u001b[0m ^ \u001b[0m # \u001b[0m v \u001b[0m v \u001b[0m ^ \u001b[0m v \u001b[0m ^ \n",
            "\u001b[0m ^ \u001b[94m ^ \u001b[0m ^ \u001b[0m # \u001b[0m v \u001b[0m ^ \u001b[0m > \u001b[0m > \u001b[0m > \u001b[0m v \n",
            "\u001b[0m ^ \u001b[0m ^ \u001b[0m ^ \u001b[0m > \u001b[0m > \u001b[0m > \u001b[0m > \u001b[0m > \u001b[0m > \u001b[0m @ \n",
            "\n"
          ],
          "name": "stdout"
        }
      ]
    },
    {
      "cell_type": "code",
      "metadata": {
        "colab": {
          "base_uri": "https://localhost:8080/"
        },
        "id": "bH2R94sqUHK_",
        "outputId": "e11fd6c6-b33b-4a85-b311-b34b47ee0c9d"
      },
      "source": [
        "policy_w3g, Q, episodes, converged, paths, total_R, path_length = policy(\n",
        "    w3g, alpha=0.1, epsilon=0.0, n_episodes=1000, \n",
        "    step_funct = SARSA_optimization\n",
        ")\n",
        "printPolicy(w3g, policy_w3g)"
      ],
      "execution_count": 71,
      "outputs": [
        {
          "output_type": "stream",
          "text": [
            "Converged in 366 episodes. Path length: 40\n",
            "\u001b[0m v \u001b[0m ^ \u001b[0m ^ \u001b[0m ^ \u001b[0m ^ \u001b[0m ^ \u001b[0m ^ \u001b[0m ^ \u001b[0m ^ \u001b[0m ^ \u001b[0m ^ \u001b[0m ^ \u001b[0m ^ \u001b[0m ^ \u001b[0m ^ \u001b[0m ^ \u001b[0m ^ \u001b[0m ^ \u001b[0m ^ \u001b[0m ^ \u001b[0m ^ \n",
            "\u001b[0m > \u001b[0m v \u001b[0m ^ \u001b[0m ^ \u001b[0m ^ \u001b[0m ^ \u001b[0m v \u001b[0m ^ \u001b[0m ^ \u001b[0m ^ \u001b[0m ^ \u001b[0m ^ \u001b[0m ^ \u001b[0m ^ \u001b[0m ^ \u001b[0m ^ \u001b[0m # \u001b[0m # \u001b[0m ^ \u001b[0m ^ \u001b[0m ^ \n",
            "\u001b[0m > \u001b[0m v \u001b[0m ^ \u001b[0m v \u001b[0m ^ \u001b[0m ^ \u001b[0m v \u001b[0m ^ \u001b[0m ^ \u001b[0m # \u001b[0m ^ \u001b[0m ^ \u001b[0m ^ \u001b[0m ^ \u001b[0m ^ \u001b[0m # \u001b[0m v \u001b[0m < \u001b[94m ^ \u001b[0m ^ \u001b[0m ^ \n",
            "\u001b[0m ^ \u001b[0m v \u001b[0m v \u001b[0m < \u001b[0m v \u001b[0m > \u001b[0m v \u001b[0m ^ \u001b[0m ^ \u001b[0m # \u001b[0m # \u001b[0m ^ \u001b[0m # \u001b[0m ^ \u001b[0m # \u001b[0m v \u001b[0m ^ \u001b[0m # \u001b[0m ^ \u001b[0m ^ \u001b[0m ^ \n",
            "\u001b[0m ^ \u001b[0m > \u001b[0m > \u001b[0m > \u001b[0m > \u001b[0m > \u001b[0m > \u001b[0m v \u001b[0m v \u001b[0m v \u001b[0m v \u001b[0m # \u001b[0m v \u001b[0m ^ \u001b[0m v \u001b[0m ^ \u001b[0m ^ \u001b[0m # \u001b[0m ^ \u001b[0m ^ \u001b[0m ^ \n",
            "\u001b[0m ^ \u001b[0m # \u001b[0m ^ \u001b[0m ^ \u001b[0m ^ \u001b[0m ^ \u001b[0m ^ \u001b[0m > \u001b[0m > \u001b[0m > \u001b[0m v \u001b[0m # \u001b[0m ^ \u001b[0m # \u001b[0m ^ \u001b[0m ^ \u001b[0m ^ \u001b[0m v \u001b[0m ^ \u001b[0m ^ \u001b[0m ^ \n",
            "\u001b[0m ^ \u001b[0m v \u001b[0m ^ \u001b[0m ^ \u001b[0m # \u001b[0m ^ \u001b[0m ^ \u001b[0m # \u001b[0m ^ \u001b[0m v \u001b[0m v \u001b[0m v \u001b[0m ^ \u001b[0m v \u001b[0m ^ \u001b[0m # \u001b[0m ^ \u001b[0m ^ \u001b[0m ^ \u001b[0m ^ \u001b[0m ^ \n",
            "\u001b[0m ^ \u001b[0m ^ \u001b[0m ^ \u001b[0m ^ \u001b[0m v \u001b[0m ^ \u001b[0m # \u001b[0m v \u001b[0m ^ \u001b[0m > \u001b[0m > \u001b[0m v \u001b[0m # \u001b[0m ^ \u001b[0m ^ \u001b[0m v \u001b[0m ^ \u001b[0m ^ \u001b[0m v \u001b[0m < \u001b[0m ^ \n",
            "\u001b[0m ^ \u001b[0m ^ \u001b[0m ^ \u001b[0m ^ \u001b[0m ^ \u001b[0m ^ \u001b[0m < \u001b[0m ^ \u001b[0m ^ \u001b[0m ^ \u001b[0m # \u001b[0m v \u001b[0m # \u001b[0m ^ \u001b[0m ^ \u001b[0m ^ \u001b[0m ^ \u001b[0m # \u001b[0m v \u001b[0m ^ \u001b[0m ^ \n",
            "\u001b[0m ^ \u001b[0m ^ \u001b[0m ^ \u001b[0m ^ \u001b[0m # \u001b[0m ^ \u001b[0m # \u001b[0m > \u001b[0m v \u001b[0m # \u001b[0m v \u001b[0m v \u001b[0m v \u001b[0m # \u001b[0m # \u001b[0m # \u001b[0m ^ \u001b[0m < \u001b[0m > \u001b[0m > \u001b[0m v \n",
            "\u001b[0m ^ \u001b[0m ^ \u001b[0m ^ \u001b[0m ^ \u001b[0m v \u001b[0m > \u001b[0m > \u001b[0m > \u001b[0m > \u001b[0m > \u001b[0m > \u001b[0m v \u001b[0m ^ \u001b[0m v \u001b[0m < \u001b[0m v \u001b[0m ^ \u001b[0m # \u001b[0m ^ \u001b[0m ^ \u001b[0m v \n",
            "\u001b[0m ^ \u001b[0m ^ \u001b[0m ^ \u001b[0m ^ \u001b[0m ^ \u001b[0m ^ \u001b[0m ^ \u001b[0m ^ \u001b[0m > \u001b[0m ^ \u001b[0m # \u001b[0m v \u001b[0m < \u001b[0m ^ \u001b[0m # \u001b[0m ^ \u001b[0m ^ \u001b[0m v \u001b[0m ^ \u001b[0m ^ \u001b[0m v \n",
            "\u001b[0m ^ \u001b[0m ^ \u001b[0m ^ \u001b[0m ^ \u001b[0m ^ \u001b[0m ^ \u001b[0m # \u001b[0m ^ \u001b[0m ^ \u001b[0m ^ \u001b[0m v \u001b[0m v \u001b[0m # \u001b[0m v \u001b[0m v \u001b[0m # \u001b[0m ^ \u001b[0m ^ \u001b[0m # \u001b[0m ^ \u001b[0m v \n",
            "\u001b[0m ^ \u001b[0m ^ \u001b[0m ^ \u001b[0m # \u001b[0m # \u001b[0m ^ \u001b[0m # \u001b[0m ^ \u001b[0m ^ \u001b[0m > \u001b[0m > \u001b[0m v \u001b[0m > \u001b[0m v \u001b[0m v \u001b[0m < \u001b[0m ^ \u001b[0m ^ \u001b[0m v \u001b[0m > \u001b[0m v \n",
            "\u001b[0m ^ \u001b[0m ^ \u001b[0m ^ \u001b[0m v \u001b[0m # \u001b[0m # \u001b[0m > \u001b[0m ^ \u001b[0m ^ \u001b[0m ^ \u001b[0m # \u001b[0m v \u001b[0m ^ \u001b[0m > \u001b[0m v \u001b[0m ^ \u001b[0m ^ \u001b[0m ^ \u001b[0m v \u001b[0m ^ \u001b[0m v \n",
            "\u001b[0m ^ \u001b[0m ^ \u001b[0m ^ \u001b[0m ^ \u001b[0m v \u001b[0m v \u001b[0m # \u001b[0m ^ \u001b[0m ^ \u001b[0m ^ \u001b[0m > \u001b[0m > \u001b[0m > \u001b[0m > \u001b[0m v \u001b[0m ^ \u001b[0m # \u001b[0m ^ \u001b[0m v \u001b[0m v \u001b[0m v \n",
            "\u001b[0m ^ \u001b[0m ^ \u001b[0m ^ \u001b[0m ^ \u001b[0m ^ \u001b[0m ^ \u001b[0m < \u001b[0m ^ \u001b[0m ^ \u001b[0m # \u001b[0m ^ \u001b[0m ^ \u001b[0m ^ \u001b[0m ^ \u001b[0m > \u001b[0m v \u001b[0m v \u001b[0m ^ \u001b[0m > \u001b[0m > \u001b[0m v \n",
            "\u001b[0m ^ \u001b[0m ^ \u001b[0m ^ \u001b[0m ^ \u001b[0m ^ \u001b[0m ^ \u001b[0m # \u001b[0m ^ \u001b[0m ^ \u001b[0m v \u001b[0m ^ \u001b[0m ^ \u001b[0m ^ \u001b[0m ^ \u001b[0m > \u001b[0m > \u001b[0m > \u001b[0m > \u001b[0m > \u001b[0m > \u001b[0m v \n",
            "\u001b[0m ^ \u001b[0m ^ \u001b[94m ^ \u001b[0m ^ \u001b[0m ^ \u001b[0m # \u001b[0m v \u001b[0m ^ \u001b[0m ^ \u001b[0m ^ \u001b[0m ^ \u001b[0m > \u001b[0m v \u001b[0m ^ \u001b[0m ^ \u001b[0m # \u001b[0m ^ \u001b[0m # \u001b[0m ^ \u001b[0m v \u001b[0m v \n",
            "\u001b[0m ^ \u001b[0m ^ \u001b[0m ^ \u001b[0m ^ \u001b[0m ^ \u001b[0m v \u001b[0m ^ \u001b[0m > \u001b[0m v \u001b[0m ^ \u001b[0m ^ \u001b[0m ^ \u001b[0m v \u001b[0m ^ \u001b[0m ^ \u001b[0m v \u001b[0m > \u001b[0m v \u001b[0m > \u001b[0m v \u001b[0m v \n",
            "\u001b[0m ^ \u001b[0m ^ \u001b[0m ^ \u001b[0m ^ \u001b[0m ^ \u001b[0m ^ \u001b[0m ^ \u001b[0m ^ \u001b[0m > \u001b[0m > \u001b[0m > \u001b[0m > \u001b[0m > \u001b[0m > \u001b[0m > \u001b[0m > \u001b[0m > \u001b[0m > \u001b[0m > \u001b[0m > \u001b[0m @ \n",
            "\n"
          ],
          "name": "stdout"
        }
      ]
    },
    {
      "cell_type": "markdown",
      "metadata": {
        "id": "wt3fwRG1YOZG"
      },
      "source": [
        "#### Mapa 4"
      ]
    },
    {
      "cell_type": "code",
      "metadata": {
        "colab": {
          "base_uri": "https://localhost:8080/"
        },
        "id": "HXxFcmcTYQd-",
        "outputId": "7f6218cb-910c-4a69-ff05-268f542d5948"
      },
      "source": [
        "policy_w4, Q, episodes, converged, paths, total_R, path_length = policy(\n",
        "    w4, alpha=0.1, epsilon=0.01, n_episodes=10000, \n",
        "    step_funct=SARSA_optimization\n",
        ")\n",
        "printPolicy(w4, policy_w4)"
      ],
      "execution_count": 73,
      "outputs": [
        {
          "output_type": "stream",
          "text": [
            "Converged in 4819 episodes. Path length: 82\n",
            "\u001b[0m v \u001b[0m # \u001b[0m v \u001b[0m # \u001b[0m > \u001b[0m > \u001b[0m > \u001b[0m < \u001b[0m v \u001b[0m # \u001b[0m ^ \u001b[0m ^ \u001b[0m ^ \u001b[0m ^ \u001b[0m ^ \u001b[0m # \u001b[0m # \u001b[0m # \u001b[0m ^ \u001b[0m # \u001b[0m v \n",
            "\u001b[0m v \u001b[0m # \u001b[0m v \u001b[0m # \u001b[0m # \u001b[0m # \u001b[0m # \u001b[0m # \u001b[0m v \u001b[0m # \u001b[0m # \u001b[0m # \u001b[0m # \u001b[0m # \u001b[0m ^ \u001b[0m > \u001b[0m ^ \u001b[0m # \u001b[0m v \u001b[0m # \u001b[0m ^ \n",
            "\u001b[0m v \u001b[0m # \u001b[0m > \u001b[0m > \u001b[0m v \u001b[0m < \u001b[0m < \u001b[0m < \u001b[0m < \u001b[0m # \u001b[0m ^ \u001b[0m < \u001b[0m v \u001b[0m # \u001b[0m ^ \u001b[0m # \u001b[0m # \u001b[0m # \u001b[0m v \u001b[0m # \u001b[0m ^ \n",
            "\u001b[0m v \u001b[0m # \u001b[0m ^ \u001b[0m # \u001b[0m v \u001b[0m # \u001b[0m v \u001b[0m # \u001b[0m ^ \u001b[0m # \u001b[0m ^ \u001b[0m # \u001b[0m ^ \u001b[0m < \u001b[0m ^ \u001b[0m < \u001b[0m # \u001b[0m v \u001b[0m < \u001b[0m # \u001b[0m ^ \n",
            "\u001b[0m > \u001b[0m > \u001b[0m ^ \u001b[0m # \u001b[0m v \u001b[0m # \u001b[0m v \u001b[0m # \u001b[0m # \u001b[0m # \u001b[0m # \u001b[0m # \u001b[0m # \u001b[0m # \u001b[0m # \u001b[0m v \u001b[0m # \u001b[0m v \u001b[0m # \u001b[0m # \u001b[0m v \n",
            "\u001b[0m # \u001b[0m # \u001b[0m # \u001b[0m # \u001b[0m v \u001b[0m # \u001b[0m > \u001b[0m > \u001b[0m v \u001b[0m # \u001b[0m > \u001b[0m > \u001b[0m > \u001b[0m > \u001b[0m < \u001b[0m < \u001b[0m # \u001b[0m > \u001b[0m > \u001b[0m > \u001b[0m < \n",
            "\u001b[0m > \u001b[0m > \u001b[0m > \u001b[0m > \u001b[0m v \u001b[0m # \u001b[0m # \u001b[0m # \u001b[0m ^ \u001b[0m # \u001b[0m # \u001b[0m # \u001b[0m # \u001b[0m # \u001b[0m # \u001b[0m ^ \u001b[0m # \u001b[0m # \u001b[0m v \u001b[0m # \u001b[0m ^ \n",
            "\u001b[0m # \u001b[0m # \u001b[0m # \u001b[0m # \u001b[0m v \u001b[0m # \u001b[0m v \u001b[0m # \u001b[0m ^ \u001b[0m # \u001b[0m > \u001b[0m v \u001b[0m < \u001b[0m < \u001b[0m < \u001b[0m < \u001b[0m < \u001b[0m < \u001b[0m < \u001b[0m # \u001b[0m v \n",
            "\u001b[0m v \u001b[0m < \u001b[0m < \u001b[0m # \u001b[0m v \u001b[0m < \u001b[0m < \u001b[0m # \u001b[0m # \u001b[0m # \u001b[0m v \u001b[0m < \u001b[0m # \u001b[0m # \u001b[0m # \u001b[0m # \u001b[0m # \u001b[0m # \u001b[0m # \u001b[0m # \u001b[0m ^ \n",
            "\u001b[0m v \u001b[0m # \u001b[0m ^ \u001b[0m # \u001b[0m v \u001b[0m # \u001b[0m ^ \u001b[0m # \u001b[0m > \u001b[0m > \u001b[0m v \u001b[0m # \u001b[0m # \u001b[0m > \u001b[0m > \u001b[0m > \u001b[0m > \u001b[0m > \u001b[0m v \u001b[0m # \u001b[0m # \n",
            "\u001b[0m v \u001b[0m # \u001b[0m ^ \u001b[0m # \u001b[0m v \u001b[0m # \u001b[0m # \u001b[0m # \u001b[0m ^ \u001b[0m # \u001b[0m v \u001b[0m # \u001b[0m > \u001b[0m ^ \u001b[0m # \u001b[0m # \u001b[0m # \u001b[0m # \u001b[0m > \u001b[0m > \u001b[0m v \n",
            "\u001b[0m v \u001b[0m # \u001b[0m ^ \u001b[0m # \u001b[0m v \u001b[0m # \u001b[0m > \u001b[0m > \u001b[0m ^ \u001b[0m # \u001b[0m v \u001b[0m # \u001b[0m ^ \u001b[0m # \u001b[0m # \u001b[0m > \u001b[0m v \u001b[0m # \u001b[0m # \u001b[0m # \u001b[0m > \n",
            "\u001b[0m v \u001b[0m # \u001b[0m ^ \u001b[0m < \u001b[0m < \u001b[0m # \u001b[0m # \u001b[0m ^ \u001b[0m # \u001b[0m # \u001b[0m v \u001b[0m # \u001b[0m v \u001b[0m # \u001b[0m > \u001b[0m > \u001b[0m > \u001b[0m > \u001b[0m v \u001b[0m # \u001b[0m ^ \n",
            "\u001b[0m v \u001b[0m # \u001b[0m # \u001b[0m # \u001b[0m # \u001b[0m # \u001b[0m > \u001b[0m ^ \u001b[0m # \u001b[0m v \u001b[0m > \u001b[0m > \u001b[0m > \u001b[0m > \u001b[0m ^ \u001b[0m # \u001b[0m # \u001b[0m # \u001b[0m v \u001b[0m # \u001b[0m ^ \n",
            "\u001b[0m > \u001b[0m > \u001b[0m > \u001b[0m v \u001b[0m # \u001b[0m > \u001b[0m ^ \u001b[0m # \u001b[0m # \u001b[0m v \u001b[0m # \u001b[0m ^ \u001b[0m # \u001b[0m # \u001b[0m ^ \u001b[0m # \u001b[0m v \u001b[0m < \u001b[0m < \u001b[0m # \u001b[0m ^ \n",
            "\u001b[0m # \u001b[0m # \u001b[0m # \u001b[0m > \u001b[0m > \u001b[0m ^ \u001b[0m # \u001b[0m # \u001b[0m > \u001b[0m < \u001b[0m # \u001b[0m ^ \u001b[0m < \u001b[0m # \u001b[0m # \u001b[0m # \u001b[0m v \u001b[0m # \u001b[0m # \u001b[0m # \u001b[0m # \n",
            "\u001b[0m > \u001b[0m v \u001b[0m # \u001b[0m # \u001b[0m v \u001b[0m # \u001b[0m # \u001b[0m # \u001b[0m # \u001b[0m # \u001b[0m # \u001b[0m # \u001b[0m ^ \u001b[0m < \u001b[0m < \u001b[0m # \u001b[0m v \u001b[0m # \u001b[0m > \u001b[0m > \u001b[0m v \n",
            "\u001b[0m # \u001b[0m > \u001b[0m v \u001b[0m # \u001b[0m v \u001b[0m # \u001b[0m > \u001b[0m > \u001b[0m v \u001b[0m # \u001b[0m > \u001b[0m > \u001b[0m ^ \u001b[0m # \u001b[0m # \u001b[0m # \u001b[0m v \u001b[0m # \u001b[0m ^ \u001b[0m # \u001b[0m v \n",
            "\u001b[0m # \u001b[0m # \u001b[0m > \u001b[0m v \u001b[0m < \u001b[0m # \u001b[0m # \u001b[0m # \u001b[0m v \u001b[0m # \u001b[0m # \u001b[0m # \u001b[0m ^ \u001b[0m > \u001b[0m < \u001b[0m # \u001b[0m > \u001b[0m > \u001b[0m ^ \u001b[0m # \u001b[0m v \n",
            "\u001b[0m v \u001b[0m # \u001b[0m # \u001b[0m v \u001b[0m # \u001b[0m # \u001b[0m v \u001b[0m < \u001b[0m < \u001b[0m < \u001b[0m v \u001b[0m # \u001b[0m ^ \u001b[0m # \u001b[0m # \u001b[0m # \u001b[0m # \u001b[0m # \u001b[0m # \u001b[0m # \u001b[0m v \n",
            "\u001b[0m v \u001b[0m < \u001b[0m > \u001b[0m < \u001b[0m < \u001b[0m < \u001b[0m < \u001b[0m # \u001b[0m # \u001b[0m # \u001b[0m ^ \u001b[0m # \u001b[0m ^ \u001b[0m < \u001b[0m < \u001b[0m < \u001b[0m < \u001b[0m < \u001b[0m < \u001b[0m # \u001b[0m @ \n",
            "\n"
          ],
          "name": "stdout"
        }
      ]
    },
    {
      "cell_type": "markdown",
      "metadata": {
        "id": "eedqX4KRbAFX"
      },
      "source": [
        "### Pruebas cambiando el comportamiento en obstáculos"
      ]
    },
    {
      "cell_type": "markdown",
      "metadata": {
        "id": "MGi7chi5bAFp"
      },
      "source": [
        "#### Mapa 1"
      ]
    },
    {
      "cell_type": "code",
      "metadata": {
        "colab": {
          "base_uri": "https://localhost:8080/"
        },
        "id": "P99qLFg4bAFr",
        "outputId": "6eb67d74-a3a2-440f-8b89-0d7940e1bd32"
      },
      "source": [
        "policy_w1p, Q, episodes, converged, paths, total_R, path_length = policy(\n",
        "    w1p, alpha=0.1, epsilon=0.0, n_episodes=100, agent=2,\n",
        "    optimize_steps=10, step_funct = SARSA_optimization,\n",
        "    verbose=True\n",
        ")"
      ],
      "execution_count": 101,
      "outputs": [
        {
          "output_type": "stream",
          "text": [
            "Episode 16\n",
            "\u001b[0m v \u001b[0m # \u001b[0m > \u001b[0m > \u001b[0m v \n",
            "\u001b[0m v \u001b[0m # \u001b[0m ^ \u001b[0m # \u001b[0m v \n",
            "\u001b[0m v \u001b[0m # \u001b[0m ^ \u001b[0m # \u001b[0m v \n",
            "\u001b[0m v \u001b[0m # \u001b[0m ^ \u001b[0m # \u001b[0m v \n",
            "\u001b[0m > \u001b[0m > \u001b[0m ^ \u001b[0m # \u001b[0m @ \n",
            "\n",
            "Converged in 16 episodes. Path length: 16\n"
          ],
          "name": "stdout"
        }
      ]
    },
    {
      "cell_type": "code",
      "metadata": {
        "colab": {
          "base_uri": "https://localhost:8080/"
        },
        "id": "WLANl9HEbAFv",
        "outputId": "a66df01c-2b13-4d01-f244-cbd4b78ae31c"
      },
      "source": [
        "policy_w1m, Q, episodes, converged, paths, total_R, path_length = policy(\n",
        "    w1m, alpha=0.1, epsilon=0.0, n_episodes=5000, agent=2, \n",
        "    step_funct = SARSA_optimization\n",
        ")\n",
        "printPolicy(w1m, policy_w1m)"
      ],
      "execution_count": 75,
      "outputs": [
        {
          "output_type": "stream",
          "text": [
            "Converged in 119 episodes. Path length: 48\n",
            "\u001b[0m v \u001b[0m # \u001b[0m > \u001b[0m > \u001b[0m v \u001b[0m # \u001b[0m > \u001b[0m > \u001b[0m v \n",
            "\u001b[0m v \u001b[0m # \u001b[0m ^ \u001b[0m # \u001b[0m v \u001b[0m # \u001b[0m ^ \u001b[0m # \u001b[0m v \n",
            "\u001b[0m v \u001b[0m # \u001b[0m ^ \u001b[0m # \u001b[0m v \u001b[0m # \u001b[0m ^ \u001b[0m # \u001b[0m v \n",
            "\u001b[0m v \u001b[0m # \u001b[0m ^ \u001b[0m # \u001b[0m v \u001b[0m # \u001b[0m ^ \u001b[0m # \u001b[0m v \n",
            "\u001b[0m v \u001b[0m # \u001b[0m ^ \u001b[0m # \u001b[0m v \u001b[0m # \u001b[0m ^ \u001b[0m # \u001b[0m v \n",
            "\u001b[0m v \u001b[0m # \u001b[0m ^ \u001b[0m # \u001b[0m v \u001b[0m # \u001b[0m ^ \u001b[0m # \u001b[0m v \n",
            "\u001b[0m v \u001b[0m # \u001b[0m ^ \u001b[0m # \u001b[0m v \u001b[0m # \u001b[0m ^ \u001b[0m # \u001b[0m v \n",
            "\u001b[0m v \u001b[0m # \u001b[0m ^ \u001b[0m # \u001b[0m v \u001b[0m # \u001b[0m ^ \u001b[0m # \u001b[0m v \n",
            "\u001b[0m > \u001b[0m > \u001b[0m ^ \u001b[0m # \u001b[0m > \u001b[0m > \u001b[0m ^ \u001b[0m # \u001b[0m @ \n",
            "\n"
          ],
          "name": "stdout"
        }
      ]
    },
    {
      "cell_type": "code",
      "metadata": {
        "colab": {
          "base_uri": "https://localhost:8080/"
        },
        "id": "0Zn3XpwGbAFx",
        "outputId": "674d277e-1d26-40f1-e055-35382798ceb8"
      },
      "source": [
        "policy_w1g, Q, episodes, converged, paths, total_R, path_length = policy(\n",
        "    w1g, alpha=0.2, epsilon=0.1, agent=2, decay=0.5, max_steps=10000,\n",
        "    n_episodes=50000, step_funct = SARSA_optimization\n",
        ")\n",
        "printPolicy(w1g, policy_w1g)"
      ],
      "execution_count": 86,
      "outputs": [
        {
          "output_type": "stream",
          "text": [
            "Converged in 435 episodes. Path length: 240\n",
            "\u001b[0m v \u001b[0m # \u001b[0m > \u001b[0m > \u001b[0m v \u001b[0m # \u001b[0m > \u001b[0m > \u001b[0m v \u001b[0m # \u001b[0m > \u001b[0m > \u001b[0m v \u001b[0m # \u001b[0m > \u001b[0m > \u001b[0m v \u001b[0m # \u001b[0m > \u001b[0m > \u001b[0m v \n",
            "\u001b[0m v \u001b[0m # \u001b[0m ^ \u001b[0m # \u001b[0m v \u001b[0m # \u001b[0m ^ \u001b[0m # \u001b[0m v \u001b[0m # \u001b[0m ^ \u001b[0m # \u001b[0m v \u001b[0m # \u001b[0m ^ \u001b[0m # \u001b[0m v \u001b[0m # \u001b[0m ^ \u001b[0m # \u001b[0m v \n",
            "\u001b[0m v \u001b[0m # \u001b[0m ^ \u001b[0m # \u001b[0m v \u001b[0m # \u001b[0m ^ \u001b[0m # \u001b[0m v \u001b[0m # \u001b[0m ^ \u001b[0m # \u001b[0m v \u001b[0m # \u001b[0m ^ \u001b[0m # \u001b[0m v \u001b[0m # \u001b[0m ^ \u001b[0m # \u001b[0m v \n",
            "\u001b[0m v \u001b[0m # \u001b[0m ^ \u001b[0m # \u001b[0m v \u001b[0m # \u001b[0m ^ \u001b[0m # \u001b[0m v \u001b[0m # \u001b[0m ^ \u001b[0m # \u001b[0m v \u001b[0m # \u001b[0m ^ \u001b[0m # \u001b[0m v \u001b[0m # \u001b[0m ^ \u001b[0m # \u001b[0m v \n",
            "\u001b[0m v \u001b[0m # \u001b[0m ^ \u001b[0m # \u001b[0m v \u001b[0m # \u001b[0m ^ \u001b[0m # \u001b[0m v \u001b[0m # \u001b[0m ^ \u001b[0m # \u001b[0m v \u001b[0m # \u001b[0m ^ \u001b[0m # \u001b[0m v \u001b[0m # \u001b[0m ^ \u001b[0m # \u001b[0m v \n",
            "\u001b[0m v \u001b[0m # \u001b[0m ^ \u001b[0m # \u001b[0m v \u001b[0m # \u001b[0m ^ \u001b[0m # \u001b[0m v \u001b[0m # \u001b[0m ^ \u001b[0m # \u001b[0m v \u001b[0m # \u001b[0m ^ \u001b[0m # \u001b[0m v \u001b[0m # \u001b[0m ^ \u001b[0m # \u001b[0m v \n",
            "\u001b[0m v \u001b[0m # \u001b[0m ^ \u001b[0m # \u001b[0m v \u001b[0m # \u001b[0m ^ \u001b[0m # \u001b[0m v \u001b[0m # \u001b[0m ^ \u001b[0m # \u001b[0m v \u001b[0m # \u001b[0m ^ \u001b[0m # \u001b[0m v \u001b[0m # \u001b[0m ^ \u001b[0m # \u001b[0m v \n",
            "\u001b[0m v \u001b[0m # \u001b[0m ^ \u001b[0m # \u001b[0m v \u001b[0m # \u001b[0m ^ \u001b[0m # \u001b[0m v \u001b[0m # \u001b[0m ^ \u001b[0m # \u001b[0m v \u001b[0m # \u001b[0m ^ \u001b[0m # \u001b[0m v \u001b[0m # \u001b[0m ^ \u001b[0m # \u001b[0m v \n",
            "\u001b[0m v \u001b[0m # \u001b[0m ^ \u001b[0m # \u001b[0m v \u001b[0m # \u001b[0m ^ \u001b[0m # \u001b[0m v \u001b[0m # \u001b[0m ^ \u001b[0m # \u001b[0m v \u001b[0m # \u001b[0m ^ \u001b[0m # \u001b[0m v \u001b[0m # \u001b[0m ^ \u001b[0m # \u001b[0m v \n",
            "\u001b[0m v \u001b[0m # \u001b[0m ^ \u001b[0m # \u001b[0m v \u001b[0m # \u001b[0m ^ \u001b[0m # \u001b[0m v \u001b[0m # \u001b[0m ^ \u001b[0m # \u001b[0m v \u001b[0m # \u001b[0m ^ \u001b[0m # \u001b[0m v \u001b[0m # \u001b[0m ^ \u001b[0m # \u001b[0m v \n",
            "\u001b[0m v \u001b[0m # \u001b[0m ^ \u001b[0m # \u001b[0m v \u001b[0m # \u001b[0m ^ \u001b[0m # \u001b[0m v \u001b[0m # \u001b[0m ^ \u001b[0m # \u001b[0m v \u001b[0m # \u001b[0m ^ \u001b[0m # \u001b[0m v \u001b[0m # \u001b[0m ^ \u001b[0m # \u001b[0m v \n",
            "\u001b[0m v \u001b[0m # \u001b[0m ^ \u001b[0m # \u001b[0m v \u001b[0m # \u001b[0m ^ \u001b[0m # \u001b[0m v \u001b[0m # \u001b[0m ^ \u001b[0m # \u001b[0m v \u001b[0m # \u001b[0m ^ \u001b[0m # \u001b[0m v \u001b[0m # \u001b[0m ^ \u001b[0m # \u001b[0m v \n",
            "\u001b[0m v \u001b[0m # \u001b[0m ^ \u001b[0m # \u001b[0m v \u001b[0m # \u001b[0m ^ \u001b[0m # \u001b[0m v \u001b[0m # \u001b[0m ^ \u001b[0m # \u001b[0m v \u001b[0m # \u001b[0m ^ \u001b[0m # \u001b[0m v \u001b[0m # \u001b[0m ^ \u001b[0m # \u001b[0m v \n",
            "\u001b[0m v \u001b[0m # \u001b[0m ^ \u001b[0m # \u001b[0m v \u001b[0m # \u001b[0m ^ \u001b[0m # \u001b[0m v \u001b[0m # \u001b[0m ^ \u001b[0m # \u001b[0m v \u001b[0m # \u001b[0m ^ \u001b[0m # \u001b[0m v \u001b[0m # \u001b[0m ^ \u001b[0m # \u001b[0m v \n",
            "\u001b[0m v \u001b[0m # \u001b[0m ^ \u001b[0m # \u001b[0m v \u001b[0m # \u001b[0m ^ \u001b[0m # \u001b[0m v \u001b[0m # \u001b[0m ^ \u001b[0m # \u001b[0m v \u001b[0m # \u001b[0m ^ \u001b[0m # \u001b[0m v \u001b[0m # \u001b[0m ^ \u001b[0m # \u001b[0m v \n",
            "\u001b[0m v \u001b[0m # \u001b[0m ^ \u001b[0m # \u001b[0m v \u001b[0m # \u001b[0m ^ \u001b[0m # \u001b[0m v \u001b[0m # \u001b[0m ^ \u001b[0m # \u001b[0m v \u001b[0m # \u001b[0m ^ \u001b[0m # \u001b[0m v \u001b[0m # \u001b[0m ^ \u001b[0m # \u001b[0m v \n",
            "\u001b[0m v \u001b[0m # \u001b[0m ^ \u001b[0m # \u001b[0m v \u001b[0m # \u001b[0m ^ \u001b[0m # \u001b[0m v \u001b[0m # \u001b[0m ^ \u001b[0m # \u001b[0m v \u001b[0m # \u001b[0m ^ \u001b[0m # \u001b[0m v \u001b[0m # \u001b[0m ^ \u001b[0m # \u001b[0m v \n",
            "\u001b[0m v \u001b[0m # \u001b[0m ^ \u001b[0m # \u001b[0m v \u001b[0m # \u001b[0m ^ \u001b[0m # \u001b[0m v \u001b[0m # \u001b[0m ^ \u001b[0m # \u001b[0m v \u001b[0m # \u001b[0m ^ \u001b[0m # \u001b[0m v \u001b[0m # \u001b[0m ^ \u001b[0m # \u001b[0m v \n",
            "\u001b[0m v \u001b[0m # \u001b[0m ^ \u001b[0m # \u001b[0m v \u001b[0m # \u001b[0m ^ \u001b[0m # \u001b[0m v \u001b[0m # \u001b[0m ^ \u001b[0m # \u001b[0m v \u001b[0m # \u001b[0m ^ \u001b[0m # \u001b[0m v \u001b[0m # \u001b[0m ^ \u001b[0m # \u001b[0m v \n",
            "\u001b[0m v \u001b[0m # \u001b[0m ^ \u001b[0m # \u001b[0m v \u001b[0m # \u001b[0m ^ \u001b[0m # \u001b[0m v \u001b[0m # \u001b[0m ^ \u001b[0m # \u001b[0m v \u001b[0m # \u001b[0m ^ \u001b[0m # \u001b[0m v \u001b[0m # \u001b[0m ^ \u001b[0m # \u001b[0m v \n",
            "\u001b[0m > \u001b[0m > \u001b[0m ^ \u001b[0m # \u001b[0m > \u001b[0m > \u001b[0m ^ \u001b[0m # \u001b[0m > \u001b[0m > \u001b[0m ^ \u001b[0m # \u001b[0m > \u001b[0m > \u001b[0m ^ \u001b[0m # \u001b[0m > \u001b[0m > \u001b[0m ^ \u001b[0m # \u001b[0m @ \n",
            "\n"
          ],
          "name": "stdout"
        }
      ]
    },
    {
      "cell_type": "markdown",
      "metadata": {
        "id": "n5d6xeFzbAFy"
      },
      "source": [
        "#### Mapa 2"
      ]
    },
    {
      "cell_type": "code",
      "metadata": {
        "colab": {
          "base_uri": "https://localhost:8080/"
        },
        "id": "dS46UsLTbAF0",
        "outputId": "426a3cab-9c11-4be8-afb9-11a632cdfe1a"
      },
      "source": [
        "policy_w2p, Q, episodes, converged, paths, total_R, path_length = policy(\n",
        "    w2p, alpha=0.1, epsilon=0.0, n_episodes=100, agent=2,\n",
        "    step_funct = SARSA_optimization, verbose=True\n",
        ")"
      ],
      "execution_count": 103,
      "outputs": [
        {
          "output_type": "stream",
          "text": [
            "Episode 7\n",
            "\u001b[0m v \u001b[0m ^ \u001b[0m ^ \u001b[0m ^ \u001b[0m ^ \n",
            "\u001b[0m v \u001b[0m ^ \u001b[0m ^ \u001b[0m ^ \u001b[0m ^ \n",
            "\u001b[94m ^ \u001b[0m ^ \u001b[0m v \u001b[0m # \u001b[0m ^ \n",
            "\u001b[0m ^ \u001b[0m ^ \u001b[0m > \u001b[0m v \u001b[0m ^ \n",
            "\u001b[0m ^ \u001b[0m ^ \u001b[94m > \u001b[0m > \u001b[0m @ \n",
            "\n",
            "Converged in 7 episodes. Path length: 4\n"
          ],
          "name": "stdout"
        }
      ]
    },
    {
      "cell_type": "code",
      "metadata": {
        "colab": {
          "base_uri": "https://localhost:8080/"
        },
        "id": "ekyDzHKebAF1",
        "outputId": "fc7e219c-99f3-40f6-bcf1-e88103cc8091"
      },
      "source": [
        "policy_w2m, Q, episodes, converged, paths, total_R, path_length = policy(\n",
        "    w2m, alpha=0.1, epsilon=0.0, n_episodes=100, agent=2,\n",
        "    step_funct = SARSA_optimization\n",
        ")\n",
        "printPolicy(w2m, policy_w2m)"
      ],
      "execution_count": 104,
      "outputs": [
        {
          "output_type": "stream",
          "text": [
            "Converged in 10 episodes. Path length: 8\n",
            "\u001b[0m v \u001b[0m ^ \u001b[0m ^ \u001b[0m ^ \u001b[0m ^ \u001b[0m ^ \u001b[0m ^ \u001b[0m ^ \u001b[0m ^ \u001b[0m ^ \n",
            "\u001b[0m v \u001b[0m # \u001b[0m # \u001b[0m ^ \u001b[0m # \u001b[0m ^ \u001b[0m ^ \u001b[0m ^ \u001b[0m ^ \u001b[0m ^ \n",
            "\u001b[0m > \u001b[0m v \u001b[0m < \u001b[0m ^ \u001b[0m # \u001b[0m ^ \u001b[0m ^ \u001b[0m ^ \u001b[0m ^ \u001b[0m ^ \n",
            "\u001b[0m ^ \u001b[94m ^ \u001b[0m ^ \u001b[0m ^ \u001b[0m < \u001b[0m ^ \u001b[0m ^ \u001b[0m ^ \u001b[0m ^ \u001b[0m ^ \n",
            "\u001b[0m ^ \u001b[0m ^ \u001b[0m # \u001b[0m ^ \u001b[0m # \u001b[0m ^ \u001b[0m ^ \u001b[0m ^ \u001b[0m ^ \u001b[0m ^ \n",
            "\u001b[0m ^ \u001b[0m ^ \u001b[0m # \u001b[0m ^ \u001b[0m ^ \u001b[0m ^ \u001b[0m ^ \u001b[0m ^ \u001b[0m # \u001b[0m ^ \n",
            "\u001b[0m ^ \u001b[0m ^ \u001b[0m v \u001b[0m ^ \u001b[0m ^ \u001b[0m ^ \u001b[0m ^ \u001b[0m # \u001b[0m ^ \u001b[0m ^ \n",
            "\u001b[0m ^ \u001b[0m ^ \u001b[0m ^ \u001b[0m ^ \u001b[0m ^ \u001b[0m ^ \u001b[0m # \u001b[0m v \u001b[0m ^ \u001b[0m ^ \n",
            "\u001b[0m ^ \u001b[0m ^ \u001b[0m ^ \u001b[0m ^ \u001b[0m ^ \u001b[0m ^ \u001b[94m > \u001b[0m v \u001b[0m ^ \u001b[0m ^ \n",
            "\u001b[0m ^ \u001b[0m ^ \u001b[0m ^ \u001b[0m ^ \u001b[0m ^ \u001b[0m ^ \u001b[0m ^ \u001b[0m > \u001b[0m > \u001b[0m @ \n",
            "\n"
          ],
          "name": "stdout"
        }
      ]
    },
    {
      "cell_type": "code",
      "metadata": {
        "colab": {
          "base_uri": "https://localhost:8080/"
        },
        "id": "TIbRQv-kbAF3",
        "outputId": "a6be009e-ee8a-48f9-a8c6-4b2f4277d53b"
      },
      "source": [
        "policy_w2g, Q, episodes, converged, paths, total_R, path_length = policy(\n",
        "    w2g, alpha=0.1, epsilon=0.0, n_episodes=1000, agent=2,\n",
        "    step_funct = SARSA_optimization\n",
        ")\n",
        "printPolicy(w2g, policy_w2g)"
      ],
      "execution_count": 105,
      "outputs": [
        {
          "output_type": "stream",
          "text": [
            "Converged in 39 episodes. Path length: 18\n",
            "\u001b[0m v \u001b[0m v \u001b[0m ^ \u001b[0m ^ \u001b[0m ^ \u001b[0m ^ \u001b[0m ^ \u001b[0m ^ \u001b[0m ^ \u001b[0m ^ \u001b[0m ^ \u001b[0m ^ \u001b[0m ^ \u001b[0m ^ \u001b[0m ^ \u001b[0m ^ \u001b[0m ^ \u001b[0m ^ \u001b[0m ^ \u001b[0m ^ \u001b[0m ^ \n",
            "\u001b[0m > \u001b[0m v \u001b[0m ^ \u001b[0m ^ \u001b[0m ^ \u001b[0m ^ \u001b[0m ^ \u001b[0m ^ \u001b[0m ^ \u001b[0m ^ \u001b[0m ^ \u001b[0m ^ \u001b[0m ^ \u001b[0m ^ \u001b[0m ^ \u001b[0m ^ \u001b[0m # \u001b[0m ^ \u001b[0m ^ \u001b[0m ^ \u001b[0m ^ \n",
            "\u001b[0m > \u001b[0m v \u001b[0m ^ \u001b[0m ^ \u001b[0m ^ \u001b[0m ^ \u001b[0m ^ \u001b[0m ^ \u001b[0m ^ \u001b[0m ^ \u001b[0m ^ \u001b[0m ^ \u001b[0m ^ \u001b[0m ^ \u001b[0m # \u001b[0m ^ \u001b[0m v \u001b[0m ^ \u001b[0m ^ \u001b[0m ^ \u001b[0m ^ \n",
            "\u001b[0m ^ \u001b[0m v \u001b[0m ^ \u001b[0m ^ \u001b[0m ^ \u001b[0m ^ \u001b[0m ^ \u001b[0m ^ \u001b[0m ^ \u001b[0m ^ \u001b[0m ^ \u001b[0m ^ \u001b[0m ^ \u001b[0m ^ \u001b[0m v \u001b[0m ^ \u001b[0m ^ \u001b[0m ^ \u001b[0m ^ \u001b[0m ^ \u001b[0m ^ \n",
            "\u001b[0m ^ \u001b[0m v \u001b[0m > \u001b[0m v \u001b[0m ^ \u001b[0m ^ \u001b[0m ^ \u001b[0m # \u001b[0m ^ \u001b[0m ^ \u001b[0m ^ \u001b[0m ^ \u001b[0m ^ \u001b[0m # \u001b[0m ^ \u001b[0m ^ \u001b[0m ^ \u001b[0m ^ \u001b[0m ^ \u001b[0m ^ \u001b[0m ^ \n",
            "\u001b[0m ^ \u001b[0m > \u001b[0m v \u001b[0m < \u001b[0m # \u001b[0m ^ \u001b[0m ^ \u001b[0m v \u001b[0m ^ \u001b[0m ^ \u001b[0m # \u001b[0m ^ \u001b[0m ^ \u001b[0m # \u001b[0m ^ \u001b[0m ^ \u001b[0m ^ \u001b[0m # \u001b[0m ^ \u001b[0m ^ \u001b[0m ^ \n",
            "\u001b[0m ^ \u001b[0m > \u001b[94m ^ \u001b[0m # \u001b[0m v \u001b[0m ^ \u001b[0m ^ \u001b[0m ^ \u001b[0m ^ \u001b[0m ^ \u001b[0m v \u001b[0m ^ \u001b[0m ^ \u001b[0m < \u001b[0m ^ \u001b[0m ^ \u001b[0m # \u001b[0m v \u001b[0m ^ \u001b[0m ^ \u001b[0m ^ \n",
            "\u001b[0m ^ \u001b[0m # \u001b[0m ^ \u001b[0m # \u001b[0m ^ \u001b[0m ^ \u001b[0m # \u001b[0m ^ \u001b[0m ^ \u001b[0m ^ \u001b[0m ^ \u001b[0m # \u001b[0m ^ \u001b[0m # \u001b[0m ^ \u001b[0m ^ \u001b[0m v \u001b[0m ^ \u001b[0m ^ \u001b[0m ^ \u001b[0m ^ \n",
            "\u001b[0m ^ \u001b[0m v \u001b[0m ^ \u001b[0m v \u001b[0m # \u001b[0m ^ \u001b[0m v \u001b[0m # \u001b[0m ^ \u001b[0m ^ \u001b[0m # \u001b[0m v \u001b[0m ^ \u001b[0m # \u001b[0m # \u001b[0m ^ \u001b[0m ^ \u001b[0m ^ \u001b[0m ^ \u001b[0m ^ \u001b[0m ^ \n",
            "\u001b[0m ^ \u001b[0m ^ \u001b[0m ^ \u001b[0m ^ \u001b[0m # \u001b[0m ^ \u001b[0m ^ \u001b[0m v \u001b[0m ^ \u001b[0m ^ \u001b[0m < \u001b[0m ^ \u001b[0m ^ \u001b[0m v \u001b[0m v \u001b[0m ^ \u001b[0m ^ \u001b[0m # \u001b[0m ^ \u001b[0m ^ \u001b[0m ^ \n",
            "\u001b[0m ^ \u001b[0m ^ \u001b[0m ^ \u001b[0m ^ \u001b[0m < \u001b[0m ^ \u001b[0m # \u001b[0m ^ \u001b[0m ^ \u001b[0m ^ \u001b[0m # \u001b[0m ^ \u001b[0m # \u001b[0m ^ \u001b[0m ^ \u001b[0m ^ \u001b[0m ^ \u001b[0m v \u001b[0m ^ \u001b[0m ^ \u001b[0m ^ \n",
            "\u001b[0m ^ \u001b[0m ^ \u001b[0m ^ \u001b[0m ^ \u001b[0m # \u001b[0m ^ \u001b[0m v \u001b[0m # \u001b[0m # \u001b[0m ^ \u001b[0m v \u001b[0m ^ \u001b[0m v \u001b[0m # \u001b[0m ^ \u001b[0m ^ \u001b[0m ^ \u001b[0m ^ \u001b[0m ^ \u001b[0m ^ \u001b[0m ^ \n",
            "\u001b[0m ^ \u001b[0m ^ \u001b[0m ^ \u001b[0m ^ \u001b[0m v \u001b[0m # \u001b[0m ^ \u001b[0m v \u001b[0m v \u001b[0m ^ \u001b[0m ^ \u001b[0m ^ \u001b[0m ^ \u001b[0m v \u001b[0m ^ \u001b[0m # \u001b[0m ^ \u001b[0m ^ \u001b[0m ^ \u001b[0m ^ \u001b[0m ^ \n",
            "\u001b[0m ^ \u001b[0m ^ \u001b[0m ^ \u001b[0m # \u001b[0m ^ \u001b[0m v \u001b[0m ^ \u001b[0m ^ \u001b[0m ^ \u001b[0m ^ \u001b[0m ^ \u001b[0m ^ \u001b[0m ^ \u001b[0m ^ \u001b[0m ^ \u001b[0m v \u001b[0m ^ \u001b[0m ^ \u001b[0m ^ \u001b[0m ^ \u001b[0m ^ \n",
            "\u001b[0m ^ \u001b[0m # \u001b[0m ^ \u001b[0m v \u001b[0m ^ \u001b[0m ^ \u001b[0m ^ \u001b[0m ^ \u001b[0m ^ \u001b[0m ^ \u001b[0m # \u001b[0m ^ \u001b[0m ^ \u001b[0m ^ \u001b[0m ^ \u001b[0m ^ \u001b[0m ^ \u001b[0m ^ \u001b[0m ^ \u001b[0m ^ \u001b[0m ^ \n",
            "\u001b[0m ^ \u001b[0m v \u001b[0m ^ \u001b[0m ^ \u001b[0m ^ \u001b[0m ^ \u001b[0m # \u001b[0m ^ \u001b[0m # \u001b[0m ^ \u001b[0m # \u001b[0m ^ \u001b[0m ^ \u001b[0m ^ \u001b[0m # \u001b[0m # \u001b[0m ^ \u001b[0m ^ \u001b[0m ^ \u001b[0m ^ \u001b[0m ^ \n",
            "\u001b[0m ^ \u001b[0m ^ \u001b[0m # \u001b[0m # \u001b[0m ^ \u001b[0m ^ \u001b[0m v \u001b[0m ^ \u001b[0m v \u001b[0m ^ \u001b[0m v \u001b[0m ^ \u001b[0m ^ \u001b[0m ^ \u001b[0m # \u001b[0m v \u001b[0m # \u001b[0m ^ \u001b[0m ^ \u001b[0m ^ \u001b[0m ^ \n",
            "\u001b[0m ^ \u001b[0m ^ \u001b[0m v \u001b[0m v \u001b[0m ^ \u001b[0m ^ \u001b[0m ^ \u001b[0m ^ \u001b[0m ^ \u001b[0m # \u001b[0m ^ \u001b[0m ^ \u001b[0m ^ \u001b[0m ^ \u001b[0m v \u001b[0m ^ \u001b[0m v \u001b[0m ^ \u001b[0m ^ \u001b[0m ^ \u001b[0m ^ \n",
            "\u001b[0m ^ \u001b[0m ^ \u001b[0m ^ \u001b[0m ^ \u001b[0m ^ \u001b[0m ^ \u001b[0m ^ \u001b[0m ^ \u001b[0m ^ \u001b[0m v \u001b[0m ^ \u001b[0m # \u001b[0m ^ \u001b[0m ^ \u001b[94m v \u001b[0m ^ \u001b[0m ^ \u001b[0m ^ \u001b[0m ^ \u001b[0m ^ \u001b[0m ^ \n",
            "\u001b[0m ^ \u001b[0m ^ \u001b[0m ^ \u001b[0m ^ \u001b[0m ^ \u001b[0m ^ \u001b[0m ^ \u001b[0m ^ \u001b[0m ^ \u001b[0m ^ \u001b[0m ^ \u001b[0m v \u001b[0m ^ \u001b[0m ^ \u001b[0m v \u001b[0m ^ \u001b[0m > \u001b[0m v \u001b[0m ^ \u001b[0m ^ \u001b[0m ^ \n",
            "\u001b[0m ^ \u001b[0m ^ \u001b[0m ^ \u001b[0m ^ \u001b[0m ^ \u001b[0m ^ \u001b[0m ^ \u001b[0m ^ \u001b[0m ^ \u001b[0m ^ \u001b[0m ^ \u001b[0m ^ \u001b[0m ^ \u001b[0m > \u001b[0m > \u001b[0m > \u001b[0m ^ \u001b[0m > \u001b[0m > \u001b[0m > \u001b[0m @ \n",
            "\n"
          ],
          "name": "stdout"
        }
      ]
    },
    {
      "cell_type": "markdown",
      "metadata": {
        "id": "1LDg4zRxbAF4"
      },
      "source": [
        "#### Mapa 3"
      ]
    },
    {
      "cell_type": "code",
      "metadata": {
        "colab": {
          "base_uri": "https://localhost:8080/"
        },
        "id": "-yvczTlcbAF5",
        "outputId": "833f31e0-496e-4bf7-93db-80ac521127c7"
      },
      "source": [
        "policy_w3p, Q, episodes, converged, paths, total_R, path_length = policy(\n",
        "    w3p, alpha=0.1, epsilon=0.0, n_episodes=100, agent=2,\n",
        "    step_funct = SARSA_optimization, verbose=True\n",
        ")"
      ],
      "execution_count": 106,
      "outputs": [
        {
          "output_type": "stream",
          "text": [
            "Episode 10\n",
            "\u001b[0m v \u001b[0m ^ \u001b[0m ^ \u001b[0m ^ \u001b[94m v \n",
            "\u001b[0m v \u001b[0m # \u001b[0m ^ \u001b[0m ^ \u001b[0m v \n",
            "\u001b[0m v \u001b[0m < \u001b[0m ^ \u001b[0m # \u001b[0m v \n",
            "\u001b[0m v \u001b[0m # \u001b[0m ^ \u001b[0m > \u001b[0m v \n",
            "\u001b[94m ^ \u001b[0m v \u001b[0m ^ \u001b[0m ^ \u001b[0m @ \n",
            "\n",
            "Converged in 10 episodes. Path length: 8\n"
          ],
          "name": "stdout"
        }
      ]
    },
    {
      "cell_type": "code",
      "metadata": {
        "colab": {
          "base_uri": "https://localhost:8080/"
        },
        "id": "aygEw3G5bAF6",
        "outputId": "7c3f6538-7ed6-4b95-e860-010d520daa4a"
      },
      "source": [
        "policy_w3m, Q, episodes, converged, paths, total_R, path_length = policy(\n",
        "    w3m, alpha=0.1, epsilon=0.0, n_episodes=100, agent=2,\n",
        "    step_funct = SARSA_optimization\n",
        ")\n",
        "printPolicy(w3m, policy_w3m)"
      ],
      "execution_count": 107,
      "outputs": [
        {
          "output_type": "stream",
          "text": [
            "Converged in 39 episodes. Path length: 18\n",
            "\u001b[0m v \u001b[0m ^ \u001b[0m ^ \u001b[0m ^ \u001b[0m ^ \u001b[0m ^ \u001b[0m ^ \u001b[0m ^ \u001b[0m ^ \u001b[0m ^ \n",
            "\u001b[0m v \u001b[0m v \u001b[0m ^ \u001b[0m ^ \u001b[0m ^ \u001b[0m ^ \u001b[0m ^ \u001b[0m > \u001b[94m ^ \u001b[0m ^ \n",
            "\u001b[0m > \u001b[0m v \u001b[0m > \u001b[0m v \u001b[0m # \u001b[0m ^ \u001b[0m ^ \u001b[0m ^ \u001b[0m ^ \u001b[0m ^ \n",
            "\u001b[0m ^ \u001b[0m > \u001b[0m > \u001b[0m > \u001b[0m v \u001b[0m v \u001b[0m ^ \u001b[0m ^ \u001b[0m ^ \u001b[0m ^ \n",
            "\u001b[0m ^ \u001b[0m ^ \u001b[0m # \u001b[0m > \u001b[0m > \u001b[0m v \u001b[0m # \u001b[0m ^ \u001b[0m ^ \u001b[0m ^ \n",
            "\u001b[0m ^ \u001b[0m ^ \u001b[0m # \u001b[0m ^ \u001b[0m ^ \u001b[0m v \u001b[0m # \u001b[0m # \u001b[0m ^ \u001b[0m ^ \n",
            "\u001b[0m ^ \u001b[0m v \u001b[0m v \u001b[0m v \u001b[0m ^ \u001b[0m > \u001b[0m > \u001b[0m v \u001b[0m ^ \u001b[0m ^ \n",
            "\u001b[0m > \u001b[0m > \u001b[0m > \u001b[0m > \u001b[0m > \u001b[0m > \u001b[0m > \u001b[0m > \u001b[0m v \u001b[0m < \n",
            "\u001b[0m ^ \u001b[94m > \u001b[0m > \u001b[0m > \u001b[0m ^ \u001b[0m ^ \u001b[0m ^ \u001b[0m # \u001b[0m v \u001b[0m ^ \n",
            "\u001b[0m ^ \u001b[0m ^ \u001b[0m ^ \u001b[0m ^ \u001b[0m ^ \u001b[0m ^ \u001b[0m ^ \u001b[0m > \u001b[0m > \u001b[0m @ \n",
            "\n"
          ],
          "name": "stdout"
        }
      ]
    },
    {
      "cell_type": "code",
      "metadata": {
        "colab": {
          "base_uri": "https://localhost:8080/"
        },
        "id": "OUJkh66tbAF7",
        "outputId": "e7a6767e-e287-4ed1-a9e8-ada714c38bda"
      },
      "source": [
        "policy_w3g, Q, episodes, converged, paths, total_R, path_length = policy(\n",
        "    w3g, alpha=0.1, epsilon=0.0, n_episodes=1000, agent=2,\n",
        "    step_funct = SARSA_optimization\n",
        ")\n",
        "printPolicy(w3g, policy_w3g)"
      ],
      "execution_count": 108,
      "outputs": [
        {
          "output_type": "stream",
          "text": [
            "Converged in 201 episodes. Path length: 44\n",
            "\u001b[0m > \u001b[0m > \u001b[0m v \u001b[0m ^ \u001b[0m v \u001b[0m ^ \u001b[0m v \u001b[0m ^ \u001b[0m ^ \u001b[0m ^ \u001b[0m ^ \u001b[0m ^ \u001b[0m ^ \u001b[0m ^ \u001b[0m ^ \u001b[0m ^ \u001b[0m ^ \u001b[0m ^ \u001b[0m ^ \u001b[0m ^ \u001b[0m ^ \n",
            "\u001b[0m ^ \u001b[0m ^ \u001b[0m > \u001b[0m > \u001b[0m > \u001b[0m > \u001b[0m v \u001b[0m ^ \u001b[0m ^ \u001b[0m ^ \u001b[0m ^ \u001b[0m ^ \u001b[0m ^ \u001b[0m ^ \u001b[0m ^ \u001b[0m ^ \u001b[0m ^ \u001b[0m ^ \u001b[0m ^ \u001b[0m ^ \u001b[0m ^ \n",
            "\u001b[0m ^ \u001b[0m > \u001b[0m ^ \u001b[0m # \u001b[0m ^ \u001b[0m ^ \u001b[0m v \u001b[0m ^ \u001b[0m # \u001b[0m ^ \u001b[0m # \u001b[0m # \u001b[0m ^ \u001b[0m ^ \u001b[0m ^ \u001b[0m ^ \u001b[0m ^ \u001b[0m ^ \u001b[94m ^ \u001b[0m ^ \u001b[0m ^ \n",
            "\u001b[0m ^ \u001b[0m # \u001b[0m ^ \u001b[0m v \u001b[0m v \u001b[0m < \u001b[0m v \u001b[0m ^ \u001b[0m # \u001b[0m ^ \u001b[0m v \u001b[0m v \u001b[0m ^ \u001b[0m ^ \u001b[0m ^ \u001b[0m # \u001b[0m ^ \u001b[0m ^ \u001b[0m ^ \u001b[0m ^ \u001b[0m ^ \n",
            "\u001b[0m ^ \u001b[0m # \u001b[0m ^ \u001b[0m ^ \u001b[0m > \u001b[0m > \u001b[0m v \u001b[0m ^ \u001b[0m # \u001b[0m ^ \u001b[0m ^ \u001b[0m ^ \u001b[0m ^ \u001b[0m ^ \u001b[0m # \u001b[0m v \u001b[0m ^ \u001b[0m ^ \u001b[0m ^ \u001b[0m ^ \u001b[0m ^ \n",
            "\u001b[0m ^ \u001b[0m # \u001b[0m ^ \u001b[0m > \u001b[0m v \u001b[0m v \u001b[0m < \u001b[0m ^ \u001b[0m < \u001b[0m ^ \u001b[0m ^ \u001b[0m ^ \u001b[0m ^ \u001b[0m # \u001b[0m v \u001b[0m ^ \u001b[0m ^ \u001b[0m ^ \u001b[0m ^ \u001b[0m ^ \u001b[0m ^ \n",
            "\u001b[0m ^ \u001b[0m # \u001b[0m ^ \u001b[0m ^ \u001b[0m > \u001b[0m v \u001b[0m ^ \u001b[0m ^ \u001b[0m # \u001b[0m ^ \u001b[0m ^ \u001b[0m ^ \u001b[0m # \u001b[0m v \u001b[0m ^ \u001b[0m ^ \u001b[0m ^ \u001b[0m ^ \u001b[0m ^ \u001b[0m ^ \u001b[0m ^ \n",
            "\u001b[0m ^ \u001b[0m v \u001b[0m ^ \u001b[0m ^ \u001b[0m > \u001b[0m v \u001b[0m ^ \u001b[0m # \u001b[0m # \u001b[0m ^ \u001b[0m ^ \u001b[0m ^ \u001b[0m # \u001b[0m ^ \u001b[0m ^ \u001b[0m ^ \u001b[0m ^ \u001b[0m ^ \u001b[0m ^ \u001b[0m ^ \u001b[0m ^ \n",
            "\u001b[0m ^ \u001b[0m ^ \u001b[0m ^ \u001b[0m ^ \u001b[0m ^ \u001b[0m v \u001b[0m ^ \u001b[0m < \u001b[0m v \u001b[0m ^ \u001b[0m ^ \u001b[0m ^ \u001b[0m v \u001b[0m ^ \u001b[0m # \u001b[0m # \u001b[0m ^ \u001b[0m ^ \u001b[0m ^ \u001b[0m ^ \u001b[0m ^ \n",
            "\u001b[0m ^ \u001b[0m ^ \u001b[0m ^ \u001b[0m ^ \u001b[0m > \u001b[0m > \u001b[0m v \u001b[0m # \u001b[0m ^ \u001b[0m ^ \u001b[0m ^ \u001b[0m # \u001b[0m ^ \u001b[0m ^ \u001b[0m v \u001b[0m # \u001b[0m ^ \u001b[0m ^ \u001b[0m ^ \u001b[0m ^ \u001b[0m ^ \n",
            "\u001b[0m ^ \u001b[0m ^ \u001b[0m ^ \u001b[0m ^ \u001b[0m ^ \u001b[0m # \u001b[0m v \u001b[0m v \u001b[0m ^ \u001b[0m ^ \u001b[0m ^ \u001b[0m v \u001b[0m ^ \u001b[0m ^ \u001b[0m ^ \u001b[0m v \u001b[0m v \u001b[0m # \u001b[0m ^ \u001b[0m v \u001b[0m < \n",
            "\u001b[0m ^ \u001b[0m ^ \u001b[0m # \u001b[0m ^ \u001b[0m ^ \u001b[0m v \u001b[0m v \u001b[0m v \u001b[0m v \u001b[0m ^ \u001b[0m v \u001b[0m < \u001b[0m ^ \u001b[0m # \u001b[0m ^ \u001b[0m > \u001b[0m > \u001b[0m > \u001b[0m v \u001b[0m < \u001b[0m ^ \n",
            "\u001b[0m ^ \u001b[0m # \u001b[0m # \u001b[0m # \u001b[0m ^ \u001b[0m ^ \u001b[0m v \u001b[0m v \u001b[0m < \u001b[0m ^ \u001b[0m v \u001b[0m ^ \u001b[0m ^ \u001b[0m v \u001b[0m ^ \u001b[0m ^ \u001b[0m ^ \u001b[0m > \u001b[0m > \u001b[0m v \u001b[0m v \n",
            "\u001b[0m ^ \u001b[0m v \u001b[0m v \u001b[0m # \u001b[0m ^ \u001b[0m > \u001b[0m > \u001b[0m v \u001b[0m ^ \u001b[0m ^ \u001b[0m v \u001b[0m ^ \u001b[0m ^ \u001b[0m ^ \u001b[0m ^ \u001b[0m ^ \u001b[0m ^ \u001b[0m ^ \u001b[0m ^ \u001b[0m v \u001b[0m < \n",
            "\u001b[0m ^ \u001b[0m ^ \u001b[0m ^ \u001b[0m v \u001b[0m ^ \u001b[0m ^ \u001b[0m ^ \u001b[0m v \u001b[0m # \u001b[0m ^ \u001b[0m v \u001b[0m < \u001b[0m ^ \u001b[0m # \u001b[0m ^ \u001b[0m ^ \u001b[0m ^ \u001b[0m ^ \u001b[0m ^ \u001b[0m v \u001b[0m ^ \n",
            "\u001b[0m ^ \u001b[0m ^ \u001b[0m ^ \u001b[0m v \u001b[0m ^ \u001b[0m ^ \u001b[0m > \u001b[0m > \u001b[0m > \u001b[0m > \u001b[0m v \u001b[0m < \u001b[0m ^ \u001b[0m # \u001b[0m # \u001b[0m ^ \u001b[0m ^ \u001b[0m ^ \u001b[0m > \u001b[0m > \u001b[0m v \n",
            "\u001b[0m ^ \u001b[0m > \u001b[0m > \u001b[0m v \u001b[0m # \u001b[0m ^ \u001b[0m ^ \u001b[0m v \u001b[0m v \u001b[0m > \u001b[0m v \u001b[0m < \u001b[0m ^ \u001b[0m < \u001b[0m v \u001b[0m # \u001b[0m ^ \u001b[0m ^ \u001b[0m ^ \u001b[0m ^ \u001b[0m v \n",
            "\u001b[0m ^ \u001b[0m # \u001b[0m ^ \u001b[0m > \u001b[0m v \u001b[0m ^ \u001b[0m # \u001b[0m v \u001b[0m < \u001b[0m v \u001b[0m > \u001b[0m v \u001b[0m < \u001b[0m # \u001b[0m v \u001b[0m < \u001b[0m ^ \u001b[0m v \u001b[0m > \u001b[0m v \u001b[0m v \n",
            "\u001b[0m ^ \u001b[0m v \u001b[94m > \u001b[0m ^ \u001b[0m > \u001b[0m > \u001b[0m > \u001b[0m > \u001b[0m > \u001b[0m > \u001b[0m > \u001b[0m v \u001b[0m < \u001b[0m v \u001b[0m v \u001b[0m # \u001b[0m > \u001b[0m v \u001b[0m > \u001b[0m v \u001b[0m v \n",
            "\u001b[0m ^ \u001b[0m ^ \u001b[0m ^ \u001b[0m > \u001b[0m ^ \u001b[0m ^ \u001b[0m ^ \u001b[0m ^ \u001b[0m ^ \u001b[0m ^ \u001b[0m ^ \u001b[0m > \u001b[0m > \u001b[0m > \u001b[0m > \u001b[0m > \u001b[0m ^ \u001b[0m > \u001b[0m > \u001b[0m > \u001b[0m v \n",
            "\u001b[0m ^ \u001b[0m ^ \u001b[0m ^ \u001b[0m ^ \u001b[0m ^ \u001b[0m ^ \u001b[0m ^ \u001b[0m ^ \u001b[0m ^ \u001b[0m ^ \u001b[0m ^ \u001b[0m ^ \u001b[0m ^ \u001b[0m ^ \u001b[0m ^ \u001b[0m ^ \u001b[0m ^ \u001b[0m ^ \u001b[0m > \u001b[0m ^ \u001b[0m @ \n",
            "\n"
          ],
          "name": "stdout"
        }
      ]
    },
    {
      "cell_type": "markdown",
      "metadata": {
        "id": "MjJK_g88bAF8"
      },
      "source": [
        "#### Mapa 4"
      ]
    },
    {
      "cell_type": "code",
      "metadata": {
        "colab": {
          "base_uri": "https://localhost:8080/"
        },
        "id": "twPLD7hTbAF8",
        "outputId": "6d3233a4-62ef-4dae-9179-4094f106eb2d"
      },
      "source": [
        "policy_w4, Q, episodes, converged, paths, total_R, path_length = policy(\n",
        "    w4, alpha=0.1, epsilon=0.2, decay=0.8, n_episodes=10000, agent=2,\n",
        "    step_funct=SARSA_optimization\n",
        ")\n",
        "printPolicy(w4, policy_w4)"
      ],
      "execution_count": 112,
      "outputs": [
        {
          "output_type": "stream",
          "text": [
            "Converged in 377 episodes. Path length: 84\n",
            "\u001b[0m v \u001b[0m # \u001b[0m v \u001b[0m # \u001b[0m > \u001b[0m > \u001b[0m > \u001b[0m < \u001b[0m v \u001b[0m # \u001b[0m > \u001b[0m > \u001b[0m > \u001b[0m > \u001b[0m v \u001b[0m # \u001b[0m # \u001b[0m # \u001b[0m ^ \u001b[0m # \u001b[0m v \n",
            "\u001b[0m v \u001b[0m # \u001b[0m v \u001b[0m # \u001b[0m # \u001b[0m # \u001b[0m # \u001b[0m # \u001b[0m v \u001b[0m # \u001b[0m # \u001b[0m # \u001b[0m # \u001b[0m # \u001b[0m v \u001b[0m < \u001b[0m < \u001b[0m # \u001b[0m v \u001b[0m # \u001b[0m v \n",
            "\u001b[0m v \u001b[0m # \u001b[0m > \u001b[0m > \u001b[0m v \u001b[0m < \u001b[0m < \u001b[0m < \u001b[0m < \u001b[0m # \u001b[0m > \u001b[0m > \u001b[0m v \u001b[0m # \u001b[0m v \u001b[0m # \u001b[0m # \u001b[0m # \u001b[0m v \u001b[0m # \u001b[0m v \n",
            "\u001b[0m v \u001b[0m # \u001b[0m ^ \u001b[0m # \u001b[0m v \u001b[0m # \u001b[0m ^ \u001b[0m # \u001b[0m ^ \u001b[0m # \u001b[0m ^ \u001b[0m # \u001b[0m > \u001b[0m > \u001b[0m > \u001b[0m v \u001b[0m # \u001b[0m v \u001b[0m < \u001b[0m # \u001b[0m ^ \n",
            "\u001b[0m > \u001b[0m > \u001b[0m ^ \u001b[0m # \u001b[0m v \u001b[0m # \u001b[0m ^ \u001b[0m # \u001b[0m # \u001b[0m # \u001b[0m # \u001b[0m # \u001b[0m # \u001b[0m # \u001b[0m # \u001b[0m ^ \u001b[0m # \u001b[0m v \u001b[0m # \u001b[0m # \u001b[0m v \n",
            "\u001b[0m # \u001b[0m # \u001b[0m # \u001b[0m # \u001b[0m v \u001b[0m # \u001b[0m > \u001b[0m < \u001b[0m < \u001b[0m # \u001b[0m > \u001b[0m < \u001b[0m > \u001b[0m > \u001b[0m > \u001b[0m v \u001b[0m # \u001b[0m > \u001b[0m > \u001b[0m > \u001b[0m v \n",
            "\u001b[0m > \u001b[0m > \u001b[0m > \u001b[0m > \u001b[0m v \u001b[0m # \u001b[0m # \u001b[0m # \u001b[0m ^ \u001b[0m # \u001b[0m # \u001b[0m # \u001b[0m # \u001b[0m # \u001b[0m # \u001b[0m v \u001b[0m # \u001b[0m # \u001b[0m ^ \u001b[0m # \u001b[0m ^ \n",
            "\u001b[0m # \u001b[0m # \u001b[0m # \u001b[0m # \u001b[0m v \u001b[0m # \u001b[0m v \u001b[0m # \u001b[0m ^ \u001b[0m # \u001b[0m v \u001b[0m v \u001b[0m > \u001b[0m > \u001b[0m > \u001b[0m > \u001b[0m > \u001b[0m > \u001b[0m ^ \u001b[0m # \u001b[0m ^ \n",
            "\u001b[0m v \u001b[0m < \u001b[0m < \u001b[0m # \u001b[0m v \u001b[0m < \u001b[0m < \u001b[0m # \u001b[0m # \u001b[0m # \u001b[0m > \u001b[0m < \u001b[0m # \u001b[0m # \u001b[0m # \u001b[0m # \u001b[0m # \u001b[0m # \u001b[0m # \u001b[0m # \u001b[0m ^ \n",
            "\u001b[0m v \u001b[0m # \u001b[0m ^ \u001b[0m # \u001b[0m v \u001b[0m # \u001b[0m ^ \u001b[0m # \u001b[0m > \u001b[0m > \u001b[0m v \u001b[0m # \u001b[0m # \u001b[0m v \u001b[0m < \u001b[0m < \u001b[0m < \u001b[0m > \u001b[0m < \u001b[0m # \u001b[0m # \n",
            "\u001b[0m v \u001b[0m # \u001b[0m ^ \u001b[0m # \u001b[0m v \u001b[0m # \u001b[0m # \u001b[0m # \u001b[0m ^ \u001b[0m # \u001b[0m v \u001b[0m # \u001b[0m v \u001b[0m ^ \u001b[0m # \u001b[0m # \u001b[0m # \u001b[0m # \u001b[0m ^ \u001b[0m > \u001b[0m < \n",
            "\u001b[0m v \u001b[0m # \u001b[0m ^ \u001b[0m # \u001b[0m v \u001b[0m # \u001b[0m > \u001b[0m > \u001b[0m ^ \u001b[0m # \u001b[0m v \u001b[0m # \u001b[0m v \u001b[0m # \u001b[0m # \u001b[0m > \u001b[0m v \u001b[0m # \u001b[0m # \u001b[0m # \u001b[0m > \n",
            "\u001b[0m v \u001b[0m # \u001b[0m ^ \u001b[0m < \u001b[0m < \u001b[0m # \u001b[0m # \u001b[0m ^ \u001b[0m # \u001b[0m # \u001b[0m v \u001b[0m # \u001b[0m v \u001b[0m # \u001b[0m > \u001b[0m ^ \u001b[0m > \u001b[0m > \u001b[0m v \u001b[0m # \u001b[0m ^ \n",
            "\u001b[0m v \u001b[0m # \u001b[0m # \u001b[0m # \u001b[0m # \u001b[0m # \u001b[0m > \u001b[0m ^ \u001b[0m # \u001b[0m > \u001b[0m > \u001b[0m > \u001b[0m > \u001b[0m > \u001b[0m ^ \u001b[0m # \u001b[0m # \u001b[0m # \u001b[0m v \u001b[0m # \u001b[0m ^ \n",
            "\u001b[0m > \u001b[0m > \u001b[0m > \u001b[0m v \u001b[0m # \u001b[0m > \u001b[0m ^ \u001b[0m # \u001b[0m # \u001b[0m ^ \u001b[0m # \u001b[0m ^ \u001b[0m # \u001b[0m # \u001b[0m ^ \u001b[0m # \u001b[0m v \u001b[0m < \u001b[0m < \u001b[0m # \u001b[0m ^ \n",
            "\u001b[0m # \u001b[0m # \u001b[0m # \u001b[0m > \u001b[0m > \u001b[0m ^ \u001b[0m # \u001b[0m # \u001b[0m > \u001b[0m ^ \u001b[0m # \u001b[0m > \u001b[0m < \u001b[0m # \u001b[0m # \u001b[0m # \u001b[0m v \u001b[0m # \u001b[0m # \u001b[0m # \u001b[0m # \n",
            "\u001b[0m > \u001b[0m v \u001b[0m # \u001b[0m # \u001b[0m ^ \u001b[0m # \u001b[0m # \u001b[0m # \u001b[0m # \u001b[0m # \u001b[0m # \u001b[0m # \u001b[0m ^ \u001b[0m < \u001b[0m < \u001b[0m # \u001b[0m v \u001b[0m # \u001b[0m > \u001b[0m > \u001b[0m v \n",
            "\u001b[0m # \u001b[0m > \u001b[0m v \u001b[0m # \u001b[0m ^ \u001b[0m # \u001b[0m > \u001b[0m < \u001b[0m v \u001b[0m # \u001b[0m > \u001b[0m > \u001b[0m ^ \u001b[0m # \u001b[0m # \u001b[0m # \u001b[0m v \u001b[0m # \u001b[0m ^ \u001b[0m # \u001b[0m v \n",
            "\u001b[0m # \u001b[0m # \u001b[0m > \u001b[0m > \u001b[0m ^ \u001b[0m # \u001b[0m # \u001b[0m # \u001b[0m ^ \u001b[0m # \u001b[0m # \u001b[0m # \u001b[0m ^ \u001b[0m < \u001b[0m < \u001b[0m # \u001b[0m > \u001b[0m > \u001b[0m ^ \u001b[0m # \u001b[0m v \n",
            "\u001b[0m v \u001b[0m # \u001b[0m # \u001b[0m ^ \u001b[0m # \u001b[0m # \u001b[0m v \u001b[0m < \u001b[0m < \u001b[0m < \u001b[0m v \u001b[0m # \u001b[0m v \u001b[0m # \u001b[0m # \u001b[0m # \u001b[0m # \u001b[0m # \u001b[0m # \u001b[0m # \u001b[0m v \n",
            "\u001b[0m v \u001b[0m < \u001b[0m > \u001b[0m < \u001b[0m < \u001b[0m > \u001b[0m < \u001b[0m # \u001b[0m # \u001b[0m # \u001b[0m v \u001b[0m # \u001b[0m ^ \u001b[0m < \u001b[0m < \u001b[0m < \u001b[0m < \u001b[0m < \u001b[0m < \u001b[0m # \u001b[0m @ \n",
            "\n"
          ],
          "name": "stdout"
        }
      ]
    },
    {
      "cell_type": "markdown",
      "metadata": {
        "id": "VI_YWgJx5T6R"
      },
      "source": [
        "### Pruebas cambiando los refuerzos del agente"
      ]
    },
    {
      "cell_type": "markdown",
      "metadata": {
        "id": "KuEce-xG5T6U"
      },
      "source": [
        "#### Mapa 1"
      ]
    },
    {
      "cell_type": "code",
      "metadata": {
        "colab": {
          "base_uri": "https://localhost:8080/"
        },
        "id": "VE8CtsFM5T6X",
        "outputId": "484ce4c0-5224-4e24-9082-def3d243e1db"
      },
      "source": [
        "policy_w1p, Q, episodes, converged, paths, total_R, path_length = policy(\n",
        "    w1p, alpha=0.5, epsilon=0.1, decay=0.8, n_episodes=100, agent=3,\n",
        "    optimize_steps=10, step_funct = SARSA_optimization,\n",
        "    verbose=True\n",
        ")"
      ],
      "execution_count": 131,
      "outputs": [
        {
          "output_type": "stream",
          "text": [
            "Episode 41\n",
            "\u001b[0m v \u001b[0m # \u001b[0m > \u001b[0m > \u001b[0m v \n",
            "\u001b[0m v \u001b[0m # \u001b[0m ^ \u001b[0m # \u001b[0m v \n",
            "\u001b[0m v \u001b[0m # \u001b[0m ^ \u001b[0m # \u001b[0m v \n",
            "\u001b[0m v \u001b[0m # \u001b[0m ^ \u001b[0m # \u001b[0m v \n",
            "\u001b[0m > \u001b[0m > \u001b[0m ^ \u001b[0m # \u001b[0m @ \n",
            "\n",
            "Converged in 41 episodes. Path length: 16\n"
          ],
          "name": "stdout"
        }
      ]
    },
    {
      "cell_type": "code",
      "metadata": {
        "colab": {
          "base_uri": "https://localhost:8080/"
        },
        "id": "M8AkuMfM5T6f",
        "outputId": "b858af16-61e9-4909-da7d-9363d0bb868a"
      },
      "source": [
        "policy_w1m, Q, episodes, converged, paths, total_R, path_length = policy(\n",
        "    w1m, alpha=0.1, epsilon=0.4, decay=0.9, gamma=0.8, n_episodes=10000, agent=3, \n",
        "    max_steps=2000, step_funct = SARSA_optimization\n",
        ")\n",
        "printPolicy(w1m, policy_w1m)"
      ],
      "execution_count": 255,
      "outputs": [
        {
          "output_type": "stream",
          "text": [
            "Did not converge after 10000 episodes\n",
            "\u001b[0m ^ \u001b[0m # \u001b[0m ^ \u001b[0m > \u001b[0m ^ \u001b[0m # \u001b[0m ^ \u001b[0m ^ \u001b[0m ^ \n",
            "\u001b[0m v \u001b[0m # \u001b[0m ^ \u001b[0m # \u001b[0m ^ \u001b[0m # \u001b[0m ^ \u001b[0m # \u001b[0m ^ \n",
            "\u001b[0m v \u001b[0m # \u001b[0m v \u001b[0m # \u001b[0m ^ \u001b[0m # \u001b[0m ^ \u001b[0m # \u001b[0m ^ \n",
            "\u001b[0m ^ \u001b[0m # \u001b[0m ^ \u001b[0m # \u001b[0m ^ \u001b[0m # \u001b[0m ^ \u001b[0m # \u001b[0m ^ \n",
            "\u001b[0m v \u001b[0m # \u001b[0m ^ \u001b[0m # \u001b[0m ^ \u001b[0m # \u001b[0m ^ \u001b[0m # \u001b[0m ^ \n",
            "\u001b[0m v \u001b[0m # \u001b[0m ^ \u001b[0m # \u001b[0m ^ \u001b[0m # \u001b[0m ^ \u001b[0m # \u001b[0m ^ \n",
            "\u001b[0m v \u001b[0m # \u001b[0m ^ \u001b[0m # \u001b[0m ^ \u001b[0m # \u001b[0m ^ \u001b[0m # \u001b[0m ^ \n",
            "\u001b[0m v \u001b[0m # \u001b[0m ^ \u001b[0m # \u001b[0m ^ \u001b[0m # \u001b[0m ^ \u001b[0m # \u001b[0m ^ \n",
            "\u001b[0m v \u001b[0m < \u001b[0m < \u001b[0m # \u001b[0m ^ \u001b[0m ^ \u001b[0m ^ \u001b[0m # \u001b[0m @ \n",
            "\n"
          ],
          "name": "stdout"
        }
      ]
    },
    {
      "cell_type": "code",
      "metadata": {
        "colab": {
          "base_uri": "https://localhost:8080/"
        },
        "id": "sWCA_EBt5T6i",
        "outputId": "952ac90f-d1c1-4814-8360-43bc2e929c8a"
      },
      "source": [
        "policy_w1g, Q, episodes, converged, paths, total_R, path_length = policy(\n",
        "    w1g, alpha=0.2, epsilon=0.1, agent=3, decay=0.8, max_steps=10000,\n",
        "    n_episodes=50000, step_funct = SARSA_optimization\n",
        ")\n",
        "printPolicy(w1g, policy_w1g)"
      ],
      "execution_count": 140,
      "outputs": [
        {
          "output_type": "stream",
          "text": [
            "Did not converge after 50000 episodes\n",
            "\u001b[0m > \u001b[0m # \u001b[0m ^ \u001b[0m ^ \u001b[0m ^ \u001b[0m # \u001b[0m ^ \u001b[0m ^ \u001b[0m ^ \u001b[0m # \u001b[0m ^ \u001b[0m ^ \u001b[0m ^ \u001b[0m # \u001b[0m ^ \u001b[0m ^ \u001b[0m ^ \u001b[0m # \u001b[0m ^ \u001b[0m ^ \u001b[0m ^ \n",
            "\u001b[0m > \u001b[0m # \u001b[0m ^ \u001b[0m # \u001b[0m ^ \u001b[0m # \u001b[0m ^ \u001b[0m # \u001b[0m ^ \u001b[0m # \u001b[0m ^ \u001b[0m # \u001b[0m ^ \u001b[0m # \u001b[0m ^ \u001b[0m # \u001b[0m ^ \u001b[0m # \u001b[0m ^ \u001b[0m # \u001b[0m ^ \n",
            "\u001b[0m > \u001b[0m # \u001b[0m ^ \u001b[0m # \u001b[0m ^ \u001b[0m # \u001b[0m ^ \u001b[0m # \u001b[0m ^ \u001b[0m # \u001b[0m ^ \u001b[0m # \u001b[0m ^ \u001b[0m # \u001b[0m ^ \u001b[0m # \u001b[0m ^ \u001b[0m # \u001b[0m ^ \u001b[0m # \u001b[0m ^ \n",
            "\u001b[0m < \u001b[0m # \u001b[0m ^ \u001b[0m # \u001b[0m ^ \u001b[0m # \u001b[0m ^ \u001b[0m # \u001b[0m ^ \u001b[0m # \u001b[0m ^ \u001b[0m # \u001b[0m ^ \u001b[0m # \u001b[0m ^ \u001b[0m # \u001b[0m ^ \u001b[0m # \u001b[0m ^ \u001b[0m # \u001b[0m ^ \n",
            "\u001b[0m v \u001b[0m # \u001b[0m ^ \u001b[0m # \u001b[0m ^ \u001b[0m # \u001b[0m ^ \u001b[0m # \u001b[0m ^ \u001b[0m # \u001b[0m ^ \u001b[0m # \u001b[0m ^ \u001b[0m # \u001b[0m ^ \u001b[0m # \u001b[0m ^ \u001b[0m # \u001b[0m ^ \u001b[0m # \u001b[0m ^ \n",
            "\u001b[0m v \u001b[0m # \u001b[0m ^ \u001b[0m # \u001b[0m ^ \u001b[0m # \u001b[0m ^ \u001b[0m # \u001b[0m ^ \u001b[0m # \u001b[0m ^ \u001b[0m # \u001b[0m ^ \u001b[0m # \u001b[0m ^ \u001b[0m # \u001b[0m ^ \u001b[0m # \u001b[0m ^ \u001b[0m # \u001b[0m ^ \n",
            "\u001b[0m v \u001b[0m # \u001b[0m ^ \u001b[0m # \u001b[0m ^ \u001b[0m # \u001b[0m ^ \u001b[0m # \u001b[0m ^ \u001b[0m # \u001b[0m ^ \u001b[0m # \u001b[0m ^ \u001b[0m # \u001b[0m ^ \u001b[0m # \u001b[0m ^ \u001b[0m # \u001b[0m ^ \u001b[0m # \u001b[0m ^ \n",
            "\u001b[0m v \u001b[0m # \u001b[0m ^ \u001b[0m # \u001b[0m ^ \u001b[0m # \u001b[0m ^ \u001b[0m # \u001b[0m ^ \u001b[0m # \u001b[0m ^ \u001b[0m # \u001b[0m ^ \u001b[0m # \u001b[0m ^ \u001b[0m # \u001b[0m ^ \u001b[0m # \u001b[0m ^ \u001b[0m # \u001b[0m ^ \n",
            "\u001b[0m v \u001b[0m # \u001b[0m ^ \u001b[0m # \u001b[0m ^ \u001b[0m # \u001b[0m ^ \u001b[0m # \u001b[0m ^ \u001b[0m # \u001b[0m ^ \u001b[0m # \u001b[0m ^ \u001b[0m # \u001b[0m ^ \u001b[0m # \u001b[0m ^ \u001b[0m # \u001b[0m ^ \u001b[0m # \u001b[0m ^ \n",
            "\u001b[0m v \u001b[0m # \u001b[0m ^ \u001b[0m # \u001b[0m ^ \u001b[0m # \u001b[0m ^ \u001b[0m # \u001b[0m ^ \u001b[0m # \u001b[0m ^ \u001b[0m # \u001b[0m ^ \u001b[0m # \u001b[0m ^ \u001b[0m # \u001b[0m ^ \u001b[0m # \u001b[0m ^ \u001b[0m # \u001b[0m ^ \n",
            "\u001b[0m v \u001b[0m # \u001b[0m ^ \u001b[0m # \u001b[0m ^ \u001b[0m # \u001b[0m ^ \u001b[0m # \u001b[0m ^ \u001b[0m # \u001b[0m ^ \u001b[0m # \u001b[0m ^ \u001b[0m # \u001b[0m ^ \u001b[0m # \u001b[0m ^ \u001b[0m # \u001b[0m ^ \u001b[0m # \u001b[0m ^ \n",
            "\u001b[0m v \u001b[0m # \u001b[0m ^ \u001b[0m # \u001b[0m ^ \u001b[0m # \u001b[0m ^ \u001b[0m # \u001b[0m ^ \u001b[0m # \u001b[0m ^ \u001b[0m # \u001b[0m ^ \u001b[0m # \u001b[0m ^ \u001b[0m # \u001b[0m ^ \u001b[0m # \u001b[0m ^ \u001b[0m # \u001b[0m ^ \n",
            "\u001b[0m < \u001b[0m # \u001b[0m ^ \u001b[0m # \u001b[0m ^ \u001b[0m # \u001b[0m ^ \u001b[0m # \u001b[0m ^ \u001b[0m # \u001b[0m ^ \u001b[0m # \u001b[0m ^ \u001b[0m # \u001b[0m ^ \u001b[0m # \u001b[0m ^ \u001b[0m # \u001b[0m ^ \u001b[0m # \u001b[0m ^ \n",
            "\u001b[0m ^ \u001b[0m # \u001b[0m v \u001b[0m # \u001b[0m ^ \u001b[0m # \u001b[0m ^ \u001b[0m # \u001b[0m ^ \u001b[0m # \u001b[0m ^ \u001b[0m # \u001b[0m ^ \u001b[0m # \u001b[0m ^ \u001b[0m # \u001b[0m ^ \u001b[0m # \u001b[0m ^ \u001b[0m # \u001b[0m ^ \n",
            "\u001b[0m v \u001b[0m # \u001b[0m ^ \u001b[0m # \u001b[0m ^ \u001b[0m # \u001b[0m ^ \u001b[0m # \u001b[0m ^ \u001b[0m # \u001b[0m ^ \u001b[0m # \u001b[0m ^ \u001b[0m # \u001b[0m ^ \u001b[0m # \u001b[0m ^ \u001b[0m # \u001b[0m ^ \u001b[0m # \u001b[0m ^ \n",
            "\u001b[0m v \u001b[0m # \u001b[0m ^ \u001b[0m # \u001b[0m ^ \u001b[0m # \u001b[0m ^ \u001b[0m # \u001b[0m ^ \u001b[0m # \u001b[0m ^ \u001b[0m # \u001b[0m ^ \u001b[0m # \u001b[0m ^ \u001b[0m # \u001b[0m ^ \u001b[0m # \u001b[0m ^ \u001b[0m # \u001b[0m ^ \n",
            "\u001b[0m v \u001b[0m # \u001b[0m ^ \u001b[0m # \u001b[0m ^ \u001b[0m # \u001b[0m ^ \u001b[0m # \u001b[0m ^ \u001b[0m # \u001b[0m ^ \u001b[0m # \u001b[0m ^ \u001b[0m # \u001b[0m ^ \u001b[0m # \u001b[0m ^ \u001b[0m # \u001b[0m ^ \u001b[0m # \u001b[0m ^ \n",
            "\u001b[0m v \u001b[0m # \u001b[0m ^ \u001b[0m # \u001b[0m ^ \u001b[0m # \u001b[0m ^ \u001b[0m # \u001b[0m ^ \u001b[0m # \u001b[0m ^ \u001b[0m # \u001b[0m ^ \u001b[0m # \u001b[0m ^ \u001b[0m # \u001b[0m ^ \u001b[0m # \u001b[0m ^ \u001b[0m # \u001b[0m ^ \n",
            "\u001b[0m v \u001b[0m # \u001b[0m ^ \u001b[0m # \u001b[0m ^ \u001b[0m # \u001b[0m ^ \u001b[0m # \u001b[0m ^ \u001b[0m # \u001b[0m ^ \u001b[0m # \u001b[0m ^ \u001b[0m # \u001b[0m ^ \u001b[0m # \u001b[0m ^ \u001b[0m # \u001b[0m ^ \u001b[0m # \u001b[0m ^ \n",
            "\u001b[0m v \u001b[0m # \u001b[0m ^ \u001b[0m # \u001b[0m ^ \u001b[0m # \u001b[0m ^ \u001b[0m # \u001b[0m ^ \u001b[0m # \u001b[0m ^ \u001b[0m # \u001b[0m ^ \u001b[0m # \u001b[0m ^ \u001b[0m # \u001b[0m ^ \u001b[0m # \u001b[0m ^ \u001b[0m # \u001b[0m ^ \n",
            "\u001b[0m > \u001b[0m < \u001b[0m ^ \u001b[0m # \u001b[0m ^ \u001b[0m ^ \u001b[0m ^ \u001b[0m # \u001b[0m ^ \u001b[0m ^ \u001b[0m ^ \u001b[0m # \u001b[0m ^ \u001b[0m ^ \u001b[0m ^ \u001b[0m # \u001b[0m ^ \u001b[0m ^ \u001b[0m ^ \u001b[0m # \u001b[0m @ \n",
            "\n"
          ],
          "name": "stdout"
        }
      ]
    },
    {
      "cell_type": "markdown",
      "metadata": {
        "id": "gFjtsbTt5T6j"
      },
      "source": [
        "#### Mapa 2"
      ]
    },
    {
      "cell_type": "code",
      "metadata": {
        "colab": {
          "base_uri": "https://localhost:8080/"
        },
        "id": "ZoklfJu35T6k",
        "outputId": "d00a57d8-4abf-42cf-df3f-f6247d6a95c5"
      },
      "source": [
        "policy_w2p, Q, episodes, converged, paths, total_R, path_length = policy(\n",
        "    w2p, alpha=0.1, epsilon=0.0, n_episodes=100, agent=3,\n",
        "    step_funct = SARSA_optimization, verbose=True\n",
        ")"
      ],
      "execution_count": 142,
      "outputs": [
        {
          "output_type": "stream",
          "text": [
            "Episode 16\n",
            "\u001b[0m v \u001b[0m v \u001b[0m < \u001b[0m > \u001b[0m < \n",
            "\u001b[0m v \u001b[0m > \u001b[0m ^ \u001b[0m > \u001b[0m ^ \n",
            "\u001b[94m < \u001b[0m < \u001b[0m ^ \u001b[0m # \u001b[0m ^ \n",
            "\u001b[0m ^ \u001b[0m v \u001b[0m < \u001b[0m v \u001b[0m v \n",
            "\u001b[0m < \u001b[0m ^ \u001b[94m > \u001b[0m > \u001b[0m @ \n",
            "\n",
            "Converged in 16 episodes. Path length: 4\n"
          ],
          "name": "stdout"
        }
      ]
    },
    {
      "cell_type": "code",
      "metadata": {
        "colab": {
          "base_uri": "https://localhost:8080/"
        },
        "id": "gPY-M1785T6n",
        "outputId": "0a4dc29a-249e-4145-c859-04e0325edbd7"
      },
      "source": [
        "policy_w2m, Q, episodes, converged, paths, total_R, path_length = policy(\n",
        "    w2m, alpha=0.1, epsilon=0.0, n_episodes=100, agent=3,\n",
        "    step_funct = SARSA_optimization\n",
        ")\n",
        "printPolicy(w2m, policy_w2m)"
      ],
      "execution_count": 143,
      "outputs": [
        {
          "output_type": "stream",
          "text": [
            "Converged in 54 episodes. Path length: 8\n",
            "\u001b[0m v \u001b[0m > \u001b[0m > \u001b[0m v \u001b[0m < \u001b[0m > \u001b[0m ^ \u001b[0m < \u001b[0m v \u001b[0m < \n",
            "\u001b[0m v \u001b[0m # \u001b[0m # \u001b[0m v \u001b[0m # \u001b[0m ^ \u001b[0m ^ \u001b[0m ^ \u001b[0m > \u001b[0m v \n",
            "\u001b[0m v \u001b[0m < \u001b[0m < \u001b[0m ^ \u001b[0m # \u001b[0m v \u001b[0m < \u001b[0m ^ \u001b[0m v \u001b[0m ^ \n",
            "\u001b[0m > \u001b[94m ^ \u001b[0m > \u001b[0m ^ \u001b[0m < \u001b[0m > \u001b[0m ^ \u001b[0m < \u001b[0m < \u001b[0m > \n",
            "\u001b[0m < \u001b[0m ^ \u001b[0m # \u001b[0m v \u001b[0m # \u001b[0m v \u001b[0m > \u001b[0m ^ \u001b[0m < \u001b[0m < \n",
            "\u001b[0m < \u001b[0m < \u001b[0m # \u001b[0m ^ \u001b[0m v \u001b[0m > \u001b[0m ^ \u001b[0m ^ \u001b[0m # \u001b[0m > \n",
            "\u001b[0m v \u001b[0m > \u001b[0m > \u001b[0m < \u001b[0m < \u001b[0m v \u001b[0m ^ \u001b[0m # \u001b[0m v \u001b[0m > \n",
            "\u001b[0m ^ \u001b[0m v \u001b[0m > \u001b[0m ^ \u001b[0m ^ \u001b[0m v \u001b[0m # \u001b[0m > \u001b[0m ^ \u001b[0m v \n",
            "\u001b[0m > \u001b[0m v \u001b[0m v \u001b[0m < \u001b[0m ^ \u001b[0m < \u001b[94m v \u001b[0m v \u001b[0m v \u001b[0m v \n",
            "\u001b[0m < \u001b[0m < \u001b[0m v \u001b[0m v \u001b[0m v \u001b[0m ^ \u001b[0m > \u001b[0m > \u001b[0m > \u001b[0m @ \n",
            "\n"
          ],
          "name": "stdout"
        }
      ]
    },
    {
      "cell_type": "code",
      "metadata": {
        "colab": {
          "base_uri": "https://localhost:8080/"
        },
        "id": "GYt4yfog5T6o",
        "outputId": "456009af-cb19-4d3e-86d5-63e2bc923b35"
      },
      "source": [
        "policy_w2g, Q, episodes, converged, paths, total_R, path_length = policy(\n",
        "    w2g, alpha=0.1, epsilon=0.0, n_episodes=1000, agent=3,\n",
        "    step_funct = SARSA_optimization\n",
        ")\n",
        "printPolicy(w2g, policy_w2g)"
      ],
      "execution_count": 144,
      "outputs": [
        {
          "output_type": "stream",
          "text": [
            "Converged in 345 episodes. Path length: 16\n",
            "\u001b[0m > \u001b[0m v \u001b[0m > \u001b[0m v \u001b[0m < \u001b[0m > \u001b[0m > \u001b[0m v \u001b[0m v \u001b[0m < \u001b[0m v \u001b[0m v \u001b[0m > \u001b[0m v \u001b[0m > \u001b[0m ^ \u001b[0m > \u001b[0m < \u001b[0m v \u001b[0m < \u001b[0m > \n",
            "\u001b[0m v \u001b[0m v \u001b[0m > \u001b[0m v \u001b[0m > \u001b[0m v \u001b[0m > \u001b[0m ^ \u001b[0m v \u001b[0m v \u001b[0m < \u001b[0m < \u001b[0m v \u001b[0m v \u001b[0m > \u001b[0m ^ \u001b[0m # \u001b[0m ^ \u001b[0m < \u001b[0m v \u001b[0m v \n",
            "\u001b[0m > \u001b[0m > \u001b[0m v \u001b[0m v \u001b[0m ^ \u001b[0m ^ \u001b[0m < \u001b[0m < \u001b[0m > \u001b[0m > \u001b[0m ^ \u001b[0m < \u001b[0m > \u001b[0m v \u001b[0m # \u001b[0m v \u001b[0m > \u001b[0m ^ \u001b[0m ^ \u001b[0m ^ \u001b[0m < \n",
            "\u001b[0m ^ \u001b[0m < \u001b[0m v \u001b[0m v \u001b[0m v \u001b[0m > \u001b[0m ^ \u001b[0m ^ \u001b[0m v \u001b[0m v \u001b[0m v \u001b[0m < \u001b[0m < \u001b[0m < \u001b[0m > \u001b[0m v \u001b[0m ^ \u001b[0m > \u001b[0m ^ \u001b[0m > \u001b[0m > \n",
            "\u001b[0m v \u001b[0m > \u001b[0m v \u001b[0m < \u001b[0m ^ \u001b[0m < \u001b[0m ^ \u001b[0m # \u001b[0m > \u001b[0m < \u001b[0m > \u001b[0m < \u001b[0m v \u001b[0m # \u001b[0m v \u001b[0m > \u001b[0m v \u001b[0m < \u001b[0m v \u001b[0m ^ \u001b[0m v \n",
            "\u001b[0m v \u001b[0m > \u001b[0m v \u001b[0m < \u001b[0m # \u001b[0m v \u001b[0m > \u001b[0m v \u001b[0m > \u001b[0m < \u001b[0m # \u001b[0m v \u001b[0m ^ \u001b[0m # \u001b[0m > \u001b[0m v \u001b[0m v \u001b[0m # \u001b[0m ^ \u001b[0m ^ \u001b[0m < \n",
            "\u001b[0m v \u001b[0m ^ \u001b[94m ^ \u001b[0m # \u001b[0m > \u001b[0m v \u001b[0m > \u001b[0m v \u001b[0m ^ \u001b[0m v \u001b[0m v \u001b[0m < \u001b[0m v \u001b[0m > \u001b[0m < \u001b[0m v \u001b[0m # \u001b[0m > \u001b[0m v \u001b[0m < \u001b[0m v \n",
            "\u001b[0m ^ \u001b[0m # \u001b[0m v \u001b[0m # \u001b[0m > \u001b[0m v \u001b[0m # \u001b[0m ^ \u001b[0m < \u001b[0m v \u001b[0m < \u001b[0m # \u001b[0m v \u001b[0m # \u001b[0m ^ \u001b[0m ^ \u001b[0m < \u001b[0m < \u001b[0m > \u001b[0m ^ \u001b[0m < \n",
            "\u001b[0m > \u001b[0m < \u001b[0m v \u001b[0m v \u001b[0m # \u001b[0m ^ \u001b[0m v \u001b[0m # \u001b[0m ^ \u001b[0m < \u001b[0m # \u001b[0m v \u001b[0m < \u001b[0m # \u001b[0m # \u001b[0m v \u001b[0m v \u001b[0m < \u001b[0m ^ \u001b[0m > \u001b[0m < \n",
            "\u001b[0m < \u001b[0m > \u001b[0m v \u001b[0m v \u001b[0m # \u001b[0m v \u001b[0m < \u001b[0m v \u001b[0m < \u001b[0m ^ \u001b[0m > \u001b[0m > \u001b[0m > \u001b[0m v \u001b[0m v \u001b[0m < \u001b[0m < \u001b[0m # \u001b[0m > \u001b[0m v \u001b[0m ^ \n",
            "\u001b[0m v \u001b[0m v \u001b[0m ^ \u001b[0m > \u001b[0m > \u001b[0m < \u001b[0m # \u001b[0m ^ \u001b[0m ^ \u001b[0m < \u001b[0m # \u001b[0m < \u001b[0m # \u001b[0m > \u001b[0m > \u001b[0m > \u001b[0m v \u001b[0m > \u001b[0m v \u001b[0m ^ \u001b[0m ^ \n",
            "\u001b[0m ^ \u001b[0m v \u001b[0m < \u001b[0m ^ \u001b[0m # \u001b[0m < \u001b[0m ^ \u001b[0m # \u001b[0m # \u001b[0m > \u001b[0m v \u001b[0m > \u001b[0m < \u001b[0m # \u001b[0m ^ \u001b[0m > \u001b[0m > \u001b[0m > \u001b[0m v \u001b[0m < \u001b[0m < \n",
            "\u001b[0m v \u001b[0m > \u001b[0m < \u001b[0m > \u001b[0m ^ \u001b[0m # \u001b[0m > \u001b[0m < \u001b[0m ^ \u001b[0m v \u001b[0m v \u001b[0m > \u001b[0m v \u001b[0m > \u001b[0m ^ \u001b[0m # \u001b[0m ^ \u001b[0m > \u001b[0m > \u001b[0m < \u001b[0m < \n",
            "\u001b[0m > \u001b[0m ^ \u001b[0m < \u001b[0m # \u001b[0m < \u001b[0m < \u001b[0m > \u001b[0m v \u001b[0m v \u001b[0m < \u001b[0m > \u001b[0m < \u001b[0m < \u001b[0m ^ \u001b[0m > \u001b[0m v \u001b[0m > \u001b[0m ^ \u001b[0m ^ \u001b[0m v \u001b[0m ^ \n",
            "\u001b[0m v \u001b[0m # \u001b[0m > \u001b[0m ^ \u001b[0m v \u001b[0m > \u001b[0m < \u001b[0m v \u001b[0m ^ \u001b[0m > \u001b[0m # \u001b[0m v \u001b[0m < \u001b[0m < \u001b[0m < \u001b[0m ^ \u001b[0m < \u001b[0m v \u001b[0m ^ \u001b[0m v \u001b[0m > \n",
            "\u001b[0m > \u001b[0m v \u001b[0m v \u001b[0m v \u001b[0m v \u001b[0m v \u001b[0m # \u001b[0m v \u001b[0m # \u001b[0m < \u001b[0m # \u001b[0m > \u001b[0m < \u001b[0m > \u001b[0m # \u001b[0m # \u001b[0m > \u001b[0m > \u001b[0m ^ \u001b[0m < \u001b[0m ^ \n",
            "\u001b[0m > \u001b[0m v \u001b[0m # \u001b[0m # \u001b[0m v \u001b[0m < \u001b[0m v \u001b[0m v \u001b[0m v \u001b[0m v \u001b[0m ^ \u001b[0m < \u001b[0m ^ \u001b[0m ^ \u001b[0m # \u001b[0m < \u001b[0m # \u001b[0m > \u001b[0m > \u001b[0m v \u001b[0m v \n",
            "\u001b[0m > \u001b[0m < \u001b[0m < \u001b[0m v \u001b[0m > \u001b[0m ^ \u001b[0m > \u001b[0m < \u001b[0m ^ \u001b[0m # \u001b[0m v \u001b[0m > \u001b[0m > \u001b[0m > \u001b[0m > \u001b[0m > \u001b[0m v \u001b[0m > \u001b[0m > \u001b[0m v \u001b[0m < \n",
            "\u001b[0m < \u001b[0m > \u001b[0m v \u001b[0m ^ \u001b[0m v \u001b[0m < \u001b[0m ^ \u001b[0m > \u001b[0m > \u001b[0m < \u001b[0m < \u001b[0m # \u001b[0m ^ \u001b[0m ^ \u001b[94m > \u001b[0m > \u001b[0m v \u001b[0m > \u001b[0m > \u001b[0m v \u001b[0m v \n",
            "\u001b[0m < \u001b[0m > \u001b[0m v \u001b[0m ^ \u001b[0m < \u001b[0m v \u001b[0m v \u001b[0m < \u001b[0m ^ \u001b[0m ^ \u001b[0m ^ \u001b[0m > \u001b[0m < \u001b[0m > \u001b[0m > \u001b[0m > \u001b[0m v \u001b[0m v \u001b[0m > \u001b[0m v \u001b[0m v \n",
            "\u001b[0m ^ \u001b[0m ^ \u001b[0m > \u001b[0m ^ \u001b[0m ^ \u001b[0m ^ \u001b[0m > \u001b[0m > \u001b[0m > \u001b[0m ^ \u001b[0m v \u001b[0m ^ \u001b[0m v \u001b[0m ^ \u001b[0m > \u001b[0m > \u001b[0m > \u001b[0m > \u001b[0m > \u001b[0m > \u001b[0m @ \n",
            "\n"
          ],
          "name": "stdout"
        }
      ]
    },
    {
      "cell_type": "markdown",
      "metadata": {
        "id": "InZDltPg5T6r"
      },
      "source": [
        "#### Mapa 3"
      ]
    },
    {
      "cell_type": "code",
      "metadata": {
        "colab": {
          "base_uri": "https://localhost:8080/"
        },
        "id": "d7XxDnXe5T6s",
        "outputId": "7581bfbb-cbb5-4eb0-adaf-62a5c91305f2"
      },
      "source": [
        "policy_w3p, Q, episodes, converged, paths, total_R, path_length = policy(\n",
        "    w3p, alpha=0.1, epsilon=0.01, n_episodes=100, agent=3,\n",
        "    step_funct = SARSA_optimization, verbose=True\n",
        ")\n",
        "printPolicy(w3p, policy_w3p)"
      ],
      "execution_count": 158,
      "outputs": [
        {
          "output_type": "stream",
          "text": [
            "Episode 29\n",
            "\u001b[0m v \u001b[0m < \u001b[0m > \u001b[0m > \u001b[94m < \n",
            "\u001b[0m v \u001b[0m # \u001b[0m > \u001b[0m ^ \u001b[0m v \n",
            "\u001b[0m > \u001b[0m > \u001b[0m ^ \u001b[0m # \u001b[0m v \n",
            "\u001b[0m < \u001b[0m # \u001b[0m v \u001b[0m v \u001b[0m v \n",
            "\u001b[94m > \u001b[0m > \u001b[0m > \u001b[0m > \u001b[0m @ \n",
            "\n",
            "Converged in 29 episodes. Path length: 12\n",
            "Improved path length: 8 (40 episodes in total)\n",
            "\u001b[0m > \u001b[0m > \u001b[0m v \u001b[0m v \u001b[94m ^ \n",
            "\u001b[0m v \u001b[0m # \u001b[0m > \u001b[0m > \u001b[0m v \n",
            "\u001b[0m ^ \u001b[0m > \u001b[0m v \u001b[0m # \u001b[0m v \n",
            "\u001b[0m v \u001b[0m # \u001b[0m v \u001b[0m v \u001b[0m v \n",
            "\u001b[94m > \u001b[0m > \u001b[0m > \u001b[0m > \u001b[0m @ \n",
            "\n"
          ],
          "name": "stdout"
        }
      ]
    },
    {
      "cell_type": "code",
      "metadata": {
        "colab": {
          "base_uri": "https://localhost:8080/"
        },
        "id": "Huj0icQe5T6s",
        "outputId": "c1b1e65d-0406-44ea-800b-30429bfeef3b"
      },
      "source": [
        "policy_w3m, Q, episodes, converged, paths, total_R, path_length = policy(\n",
        "    w3m, alpha=0.1, epsilon=0.0, n_episodes=1000, agent=3,\n",
        "    step_funct = SARSA_optimization\n",
        ")\n",
        "printPolicy(w3m, policy_w3m)"
      ],
      "execution_count": 165,
      "outputs": [
        {
          "output_type": "stream",
          "text": [
            "Converged in 153 episodes. Path length: 22\n",
            "Improved path length: 20 (235 episodes in total)\n",
            "Improved path length: 18 (245 episodes in total)\n",
            "\u001b[0m v \u001b[0m > \u001b[0m < \u001b[0m > \u001b[0m v \u001b[0m > \u001b[0m > \u001b[0m v \u001b[0m v \u001b[0m > \n",
            "\u001b[0m v \u001b[0m v \u001b[0m > \u001b[0m v \u001b[0m > \u001b[0m v \u001b[0m v \u001b[0m > \u001b[94m v \u001b[0m v \n",
            "\u001b[0m > \u001b[0m > \u001b[0m v \u001b[0m ^ \u001b[0m # \u001b[0m ^ \u001b[0m > \u001b[0m > \u001b[0m > \u001b[0m v \n",
            "\u001b[0m v \u001b[0m v \u001b[0m > \u001b[0m > \u001b[0m v \u001b[0m > \u001b[0m > \u001b[0m > \u001b[0m > \u001b[0m v \n",
            "\u001b[0m ^ \u001b[0m < \u001b[0m # \u001b[0m v \u001b[0m v \u001b[0m ^ \u001b[0m # \u001b[0m > \u001b[0m > \u001b[0m v \n",
            "\u001b[0m v \u001b[0m v \u001b[0m # \u001b[0m ^ \u001b[0m > \u001b[0m v \u001b[0m # \u001b[0m # \u001b[0m > \u001b[0m v \n",
            "\u001b[0m > \u001b[0m > \u001b[0m v \u001b[0m > \u001b[0m > \u001b[0m > \u001b[0m v \u001b[0m > \u001b[0m > \u001b[0m v \n",
            "\u001b[0m < \u001b[0m v \u001b[0m ^ \u001b[0m > \u001b[0m > \u001b[0m > \u001b[0m > \u001b[0m > \u001b[0m > \u001b[0m v \n",
            "\u001b[0m ^ \u001b[94m v \u001b[0m v \u001b[0m v \u001b[0m v \u001b[0m v \u001b[0m v \u001b[0m # \u001b[0m v \u001b[0m v \n",
            "\u001b[0m v \u001b[0m v \u001b[0m > \u001b[0m > \u001b[0m > \u001b[0m > \u001b[0m > \u001b[0m > \u001b[0m > \u001b[0m @ \n",
            "\n"
          ],
          "name": "stdout"
        }
      ]
    },
    {
      "cell_type": "code",
      "metadata": {
        "colab": {
          "base_uri": "https://localhost:8080/"
        },
        "id": "5fGhs7up5T6t",
        "outputId": "0c4464b5-a0ff-4570-c752-e99b6f95ed43"
      },
      "source": [
        "policy_w3g, Q, episodes, converged, paths, total_R, path_length = policy(\n",
        "    w3g, alpha=0.1, epsilon=0.1, decay=0.8, n_episodes=10000,\n",
        "    max_steps=5000, agent=3, step_funct = SARSA_optimization\n",
        ")\n",
        "printPolicy(w3g, policy_w3g)"
      ],
      "execution_count": 174,
      "outputs": [
        {
          "output_type": "stream",
          "text": [
            "Converged in 1817 episodes. Path length: 42\n",
            "\u001b[0m > \u001b[0m > \u001b[0m v \u001b[0m > \u001b[0m > \u001b[0m > \u001b[0m < \u001b[0m < \u001b[0m > \u001b[0m > \u001b[0m ^ \u001b[0m v \u001b[0m v \u001b[0m v \u001b[0m > \u001b[0m > \u001b[0m > \u001b[0m > \u001b[0m v \u001b[0m < \u001b[0m > \n",
            "\u001b[0m v \u001b[0m > \u001b[0m > \u001b[0m > \u001b[0m v \u001b[0m > \u001b[0m > \u001b[0m < \u001b[0m < \u001b[0m > \u001b[0m ^ \u001b[0m ^ \u001b[0m > \u001b[0m ^ \u001b[0m > \u001b[0m > \u001b[0m < \u001b[0m ^ \u001b[0m v \u001b[0m < \u001b[0m > \n",
            "\u001b[0m < \u001b[0m > \u001b[0m v \u001b[0m # \u001b[0m v \u001b[0m < \u001b[0m v \u001b[0m ^ \u001b[0m # \u001b[0m v \u001b[0m # \u001b[0m # \u001b[0m v \u001b[0m > \u001b[0m > \u001b[0m < \u001b[0m ^ \u001b[0m v \u001b[94m v \u001b[0m > \u001b[0m > \n",
            "\u001b[0m v \u001b[0m # \u001b[0m v \u001b[0m v \u001b[0m > \u001b[0m > \u001b[0m v \u001b[0m v \u001b[0m # \u001b[0m > \u001b[0m v \u001b[0m > \u001b[0m ^ \u001b[0m > \u001b[0m ^ \u001b[0m # \u001b[0m v \u001b[0m > \u001b[0m v \u001b[0m > \u001b[0m ^ \n",
            "\u001b[0m v \u001b[0m # \u001b[0m ^ \u001b[0m > \u001b[0m < \u001b[0m < \u001b[0m v \u001b[0m v \u001b[0m # \u001b[0m > \u001b[0m ^ \u001b[0m > \u001b[0m < \u001b[0m ^ \u001b[0m # \u001b[0m v \u001b[0m < \u001b[0m v \u001b[0m > \u001b[0m v \u001b[0m v \n",
            "\u001b[0m ^ \u001b[0m # \u001b[0m v \u001b[0m v \u001b[0m < \u001b[0m v \u001b[0m v \u001b[0m > \u001b[0m > \u001b[0m > \u001b[0m > \u001b[0m v \u001b[0m > \u001b[0m # \u001b[0m > \u001b[0m v \u001b[0m v \u001b[0m ^ \u001b[0m v \u001b[0m v \u001b[0m < \n",
            "\u001b[0m < \u001b[0m # \u001b[0m v \u001b[0m v \u001b[0m > \u001b[0m v \u001b[0m > \u001b[0m ^ \u001b[0m # \u001b[0m > \u001b[0m v \u001b[0m v \u001b[0m # \u001b[0m v \u001b[0m < \u001b[0m < \u001b[0m > \u001b[0m ^ \u001b[0m ^ \u001b[0m > \u001b[0m v \n",
            "\u001b[0m v \u001b[0m > \u001b[0m > \u001b[0m v \u001b[0m > \u001b[0m v \u001b[0m v \u001b[0m # \u001b[0m # \u001b[0m v \u001b[0m v \u001b[0m v \u001b[0m # \u001b[0m > \u001b[0m < \u001b[0m < \u001b[0m > \u001b[0m v \u001b[0m v \u001b[0m < \u001b[0m v \n",
            "\u001b[0m v \u001b[0m v \u001b[0m v \u001b[0m < \u001b[0m v \u001b[0m < \u001b[0m > \u001b[0m > \u001b[0m > \u001b[0m > \u001b[0m > \u001b[0m > \u001b[0m v \u001b[0m v \u001b[0m # \u001b[0m # \u001b[0m v \u001b[0m > \u001b[0m ^ \u001b[0m < \u001b[0m v \n",
            "\u001b[0m < \u001b[0m > \u001b[0m > \u001b[0m ^ \u001b[0m v \u001b[0m ^ \u001b[0m v \u001b[0m # \u001b[0m v \u001b[0m v \u001b[0m v \u001b[0m # \u001b[0m > \u001b[0m v \u001b[0m v \u001b[0m # \u001b[0m > \u001b[0m > \u001b[0m v \u001b[0m > \u001b[0m v \n",
            "\u001b[0m ^ \u001b[0m ^ \u001b[0m > \u001b[0m > \u001b[0m v \u001b[0m # \u001b[0m > \u001b[0m v \u001b[0m < \u001b[0m > \u001b[0m < \u001b[0m v \u001b[0m ^ \u001b[0m > \u001b[0m v \u001b[0m < \u001b[0m ^ \u001b[0m # \u001b[0m v \u001b[0m v \u001b[0m v \n",
            "\u001b[0m > \u001b[0m < \u001b[0m # \u001b[0m ^ \u001b[0m ^ \u001b[0m < \u001b[0m ^ \u001b[0m > \u001b[0m v \u001b[0m < \u001b[0m v \u001b[0m > \u001b[0m v \u001b[0m # \u001b[0m v \u001b[0m < \u001b[0m > \u001b[0m v \u001b[0m v \u001b[0m > \u001b[0m v \n",
            "\u001b[0m v \u001b[0m # \u001b[0m # \u001b[0m # \u001b[0m ^ \u001b[0m ^ \u001b[0m v \u001b[0m ^ \u001b[0m > \u001b[0m v \u001b[0m > \u001b[0m v \u001b[0m > \u001b[0m v \u001b[0m v \u001b[0m v \u001b[0m v \u001b[0m v \u001b[0m v \u001b[0m > \u001b[0m v \n",
            "\u001b[0m > \u001b[0m < \u001b[0m v \u001b[0m # \u001b[0m > \u001b[0m > \u001b[0m < \u001b[0m v \u001b[0m ^ \u001b[0m v \u001b[0m ^ \u001b[0m v \u001b[0m v \u001b[0m > \u001b[0m > \u001b[0m > \u001b[0m > \u001b[0m v \u001b[0m v \u001b[0m > \u001b[0m v \n",
            "\u001b[0m > \u001b[0m v \u001b[0m v \u001b[0m v \u001b[0m < \u001b[0m < \u001b[0m > \u001b[0m < \u001b[0m # \u001b[0m > \u001b[0m > \u001b[0m ^ \u001b[0m v \u001b[0m # \u001b[0m > \u001b[0m > \u001b[0m > \u001b[0m > \u001b[0m v \u001b[0m > \u001b[0m v \n",
            "\u001b[0m > \u001b[0m ^ \u001b[0m < \u001b[0m < \u001b[0m > \u001b[0m > \u001b[0m > \u001b[0m v \u001b[0m > \u001b[0m < \u001b[0m ^ \u001b[0m v \u001b[0m v \u001b[0m # \u001b[0m # \u001b[0m > \u001b[0m > \u001b[0m > \u001b[0m > \u001b[0m v \u001b[0m v \n",
            "\u001b[0m v \u001b[0m > \u001b[0m v \u001b[0m ^ \u001b[0m # \u001b[0m > \u001b[0m ^ \u001b[0m v \u001b[0m > \u001b[0m < \u001b[0m v \u001b[0m < \u001b[0m v \u001b[0m > \u001b[0m v \u001b[0m # \u001b[0m > \u001b[0m > \u001b[0m > \u001b[0m v \u001b[0m v \n",
            "\u001b[0m < \u001b[0m # \u001b[0m > \u001b[0m ^ \u001b[0m < \u001b[0m ^ \u001b[0m # \u001b[0m ^ \u001b[0m v \u001b[0m < \u001b[0m v \u001b[0m > \u001b[0m v \u001b[0m # \u001b[0m v \u001b[0m > \u001b[0m v \u001b[0m v \u001b[0m v \u001b[0m > \u001b[0m v \n",
            "\u001b[0m > \u001b[0m > \u001b[94m v \u001b[0m ^ \u001b[0m < \u001b[0m > \u001b[0m > \u001b[0m ^ \u001b[0m > \u001b[0m > \u001b[0m > \u001b[0m > \u001b[0m v \u001b[0m > \u001b[0m v \u001b[0m # \u001b[0m > \u001b[0m > \u001b[0m > \u001b[0m > \u001b[0m v \n",
            "\u001b[0m v \u001b[0m v \u001b[0m ^ \u001b[0m v \u001b[0m < \u001b[0m > \u001b[0m > \u001b[0m ^ \u001b[0m v \u001b[0m > \u001b[0m v \u001b[0m v \u001b[0m > \u001b[0m v \u001b[0m v \u001b[0m v \u001b[0m v \u001b[0m > \u001b[0m > \u001b[0m > \u001b[0m v \n",
            "\u001b[0m ^ \u001b[0m > \u001b[0m v \u001b[0m v \u001b[0m ^ \u001b[0m ^ \u001b[0m > \u001b[0m > \u001b[0m > \u001b[0m > \u001b[0m > \u001b[0m > \u001b[0m > \u001b[0m > \u001b[0m > \u001b[0m > \u001b[0m > \u001b[0m > \u001b[0m > \u001b[0m > \u001b[0m @ \n",
            "\n"
          ],
          "name": "stdout"
        }
      ]
    },
    {
      "cell_type": "markdown",
      "metadata": {
        "id": "_5TFv4yC5T6t"
      },
      "source": [
        "#### Mapa 4"
      ]
    },
    {
      "cell_type": "code",
      "metadata": {
        "colab": {
          "base_uri": "https://localhost:8080/"
        },
        "id": "Rrg4twd75T6u",
        "outputId": "1aaece50-f1f3-4fd5-8d6a-d99121f2d7ef"
      },
      "source": [
        "policy_w4, Q, episodes, converged, paths, total_R, path_length = policy(\n",
        "    w4, alpha=0.1, epsilon=0.2, decay=0.7, n_episodes=50000, agent=3,\n",
        "    gamma=0.9, max_steps=5000, step_funct=SARSA_optimization\n",
        ")\n",
        "printPolicy(w4, policy_w4)"
      ],
      "execution_count": 250,
      "outputs": [
        {
          "output_type": "stream",
          "text": [
            "Did not converge after 50000 episodes\n",
            "\u001b[0m v \u001b[0m # \u001b[0m ^ \u001b[0m # \u001b[0m > \u001b[0m ^ \u001b[0m < \u001b[0m > \u001b[0m < \u001b[0m # \u001b[0m ^ \u001b[0m ^ \u001b[0m ^ \u001b[0m ^ \u001b[0m ^ \u001b[0m # \u001b[0m # \u001b[0m # \u001b[0m ^ \u001b[0m # \u001b[0m ^ \n",
            "\u001b[0m v \u001b[0m # \u001b[0m ^ \u001b[0m # \u001b[0m # \u001b[0m # \u001b[0m # \u001b[0m # \u001b[0m ^ \u001b[0m # \u001b[0m # \u001b[0m # \u001b[0m # \u001b[0m # \u001b[0m ^ \u001b[0m ^ \u001b[0m ^ \u001b[0m # \u001b[0m ^ \u001b[0m # \u001b[0m ^ \n",
            "\u001b[0m < \u001b[0m # \u001b[0m v \u001b[0m > \u001b[0m > \u001b[0m > \u001b[0m > \u001b[0m > \u001b[0m ^ \u001b[0m # \u001b[0m ^ \u001b[0m ^ \u001b[0m ^ \u001b[0m # \u001b[0m ^ \u001b[0m # \u001b[0m # \u001b[0m # \u001b[0m ^ \u001b[0m # \u001b[0m ^ \n",
            "\u001b[0m ^ \u001b[0m # \u001b[0m ^ \u001b[0m # \u001b[0m v \u001b[0m # \u001b[0m ^ \u001b[0m # \u001b[0m ^ \u001b[0m # \u001b[0m ^ \u001b[0m # \u001b[0m ^ \u001b[0m ^ \u001b[0m ^ \u001b[0m ^ \u001b[0m # \u001b[0m ^ \u001b[0m ^ \u001b[0m # \u001b[0m ^ \n",
            "\u001b[0m ^ \u001b[0m > \u001b[0m ^ \u001b[0m # \u001b[0m v \u001b[0m # \u001b[0m v \u001b[0m # \u001b[0m # \u001b[0m # \u001b[0m # \u001b[0m # \u001b[0m # \u001b[0m # \u001b[0m # \u001b[0m ^ \u001b[0m # \u001b[0m ^ \u001b[0m # \u001b[0m # \u001b[0m ^ \n",
            "\u001b[0m # \u001b[0m # \u001b[0m # \u001b[0m # \u001b[0m v \u001b[0m # \u001b[0m > \u001b[0m > \u001b[0m v \u001b[0m # \u001b[0m ^ \u001b[0m ^ \u001b[0m ^ \u001b[0m ^ \u001b[0m ^ \u001b[0m ^ \u001b[0m # \u001b[0m ^ \u001b[0m ^ \u001b[0m ^ \u001b[0m ^ \n",
            "\u001b[0m < \u001b[0m < \u001b[0m < \u001b[0m < \u001b[0m < \u001b[0m # \u001b[0m # \u001b[0m # \u001b[0m v \u001b[0m # \u001b[0m # \u001b[0m # \u001b[0m # \u001b[0m # \u001b[0m # \u001b[0m ^ \u001b[0m # \u001b[0m # \u001b[0m ^ \u001b[0m # \u001b[0m ^ \n",
            "\u001b[0m # \u001b[0m # \u001b[0m # \u001b[0m # \u001b[0m v \u001b[0m # \u001b[0m v \u001b[0m # \u001b[0m ^ \u001b[0m # \u001b[0m ^ \u001b[0m ^ \u001b[0m ^ \u001b[0m ^ \u001b[0m ^ \u001b[0m ^ \u001b[0m ^ \u001b[0m ^ \u001b[0m ^ \u001b[0m # \u001b[0m ^ \n",
            "\u001b[0m v \u001b[0m < \u001b[0m < \u001b[0m # \u001b[0m > \u001b[0m > \u001b[0m < \u001b[0m # \u001b[0m # \u001b[0m # \u001b[0m ^ \u001b[0m ^ \u001b[0m # \u001b[0m # \u001b[0m # \u001b[0m # \u001b[0m # \u001b[0m # \u001b[0m # \u001b[0m # \u001b[0m ^ \n",
            "\u001b[0m ^ \u001b[0m # \u001b[0m ^ \u001b[0m # \u001b[0m v \u001b[0m # \u001b[0m ^ \u001b[0m # \u001b[0m ^ \u001b[0m ^ \u001b[0m ^ \u001b[0m # \u001b[0m # \u001b[0m ^ \u001b[0m ^ \u001b[0m ^ \u001b[0m ^ \u001b[0m ^ \u001b[0m ^ \u001b[0m # \u001b[0m # \n",
            "\u001b[0m v \u001b[0m # \u001b[0m ^ \u001b[0m # \u001b[0m v \u001b[0m # \u001b[0m # \u001b[0m # \u001b[0m ^ \u001b[0m # \u001b[0m ^ \u001b[0m # \u001b[0m ^ \u001b[0m ^ \u001b[0m # \u001b[0m # \u001b[0m # \u001b[0m # \u001b[0m ^ \u001b[0m ^ \u001b[0m ^ \n",
            "\u001b[0m ^ \u001b[0m # \u001b[0m ^ \u001b[0m # \u001b[0m v \u001b[0m # \u001b[0m ^ \u001b[0m ^ \u001b[0m ^ \u001b[0m # \u001b[0m ^ \u001b[0m # \u001b[0m ^ \u001b[0m # \u001b[0m # \u001b[0m ^ \u001b[0m ^ \u001b[0m # \u001b[0m # \u001b[0m # \u001b[0m ^ \n",
            "\u001b[0m ^ \u001b[0m # \u001b[0m ^ \u001b[0m < \u001b[0m < \u001b[0m # \u001b[0m # \u001b[0m ^ \u001b[0m # \u001b[0m # \u001b[0m ^ \u001b[0m # \u001b[0m ^ \u001b[0m # \u001b[0m ^ \u001b[0m ^ \u001b[0m ^ \u001b[0m ^ \u001b[0m ^ \u001b[0m # \u001b[0m ^ \n",
            "\u001b[0m ^ \u001b[0m # \u001b[0m # \u001b[0m # \u001b[0m # \u001b[0m # \u001b[0m ^ \u001b[0m ^ \u001b[0m # \u001b[0m ^ \u001b[0m ^ \u001b[0m ^ \u001b[0m ^ \u001b[0m ^ \u001b[0m ^ \u001b[0m # \u001b[0m # \u001b[0m # \u001b[0m ^ \u001b[0m # \u001b[0m ^ \n",
            "\u001b[0m ^ \u001b[0m ^ \u001b[0m ^ \u001b[0m ^ \u001b[0m # \u001b[0m ^ \u001b[0m ^ \u001b[0m # \u001b[0m # \u001b[0m ^ \u001b[0m # \u001b[0m ^ \u001b[0m # \u001b[0m # \u001b[0m ^ \u001b[0m # \u001b[0m ^ \u001b[0m ^ \u001b[0m ^ \u001b[0m # \u001b[0m ^ \n",
            "\u001b[0m # \u001b[0m # \u001b[0m # \u001b[0m ^ \u001b[0m ^ \u001b[0m ^ \u001b[0m # \u001b[0m # \u001b[0m ^ \u001b[0m ^ \u001b[0m # \u001b[0m ^ \u001b[0m ^ \u001b[0m # \u001b[0m # \u001b[0m # \u001b[0m ^ \u001b[0m # \u001b[0m # \u001b[0m # \u001b[0m # \n",
            "\u001b[0m ^ \u001b[0m ^ \u001b[0m # \u001b[0m # \u001b[0m ^ \u001b[0m # \u001b[0m # \u001b[0m # \u001b[0m # \u001b[0m # \u001b[0m # \u001b[0m # \u001b[0m ^ \u001b[0m ^ \u001b[0m ^ \u001b[0m # \u001b[0m ^ \u001b[0m # \u001b[0m ^ \u001b[0m ^ \u001b[0m ^ \n",
            "\u001b[0m # \u001b[0m ^ \u001b[0m ^ \u001b[0m # \u001b[0m ^ \u001b[0m # \u001b[0m ^ \u001b[0m ^ \u001b[0m ^ \u001b[0m # \u001b[0m ^ \u001b[0m ^ \u001b[0m ^ \u001b[0m # \u001b[0m # \u001b[0m # \u001b[0m ^ \u001b[0m # \u001b[0m ^ \u001b[0m # \u001b[0m ^ \n",
            "\u001b[0m # \u001b[0m # \u001b[0m ^ \u001b[0m ^ \u001b[0m ^ \u001b[0m # \u001b[0m # \u001b[0m # \u001b[0m ^ \u001b[0m # \u001b[0m # \u001b[0m # \u001b[0m ^ \u001b[0m ^ \u001b[0m ^ \u001b[0m # \u001b[0m ^ \u001b[0m ^ \u001b[0m ^ \u001b[0m # \u001b[0m ^ \n",
            "\u001b[0m ^ \u001b[0m # \u001b[0m # \u001b[0m ^ \u001b[0m # \u001b[0m # \u001b[0m ^ \u001b[0m ^ \u001b[0m ^ \u001b[0m ^ \u001b[0m ^ \u001b[0m # \u001b[0m ^ \u001b[0m # \u001b[0m # \u001b[0m # \u001b[0m # \u001b[0m # \u001b[0m # \u001b[0m # \u001b[0m ^ \n",
            "\u001b[0m ^ \u001b[0m ^ \u001b[0m ^ \u001b[0m ^ \u001b[0m ^ \u001b[0m ^ \u001b[0m ^ \u001b[0m # \u001b[0m # \u001b[0m # \u001b[0m ^ \u001b[0m # \u001b[0m ^ \u001b[0m ^ \u001b[0m ^ \u001b[0m ^ \u001b[0m ^ \u001b[0m ^ \u001b[0m ^ \u001b[0m # \u001b[0m @ \n",
            "\n"
          ],
          "name": "stdout"
        }
      ]
    },
    {
      "cell_type": "markdown",
      "metadata": {
        "id": "1yeq2CLgHnnl"
      },
      "source": [
        "### Pruebas con ambos cambios"
      ]
    },
    {
      "cell_type": "markdown",
      "metadata": {
        "id": "jPyBHOP2Hnns"
      },
      "source": [
        "#### Mapa 1"
      ]
    },
    {
      "cell_type": "code",
      "metadata": {
        "colab": {
          "base_uri": "https://localhost:8080/"
        },
        "id": "78s0W_hMHnnv",
        "outputId": "ea122e36-4f70-4d59-d3ec-1c160106b76b"
      },
      "source": [
        "policy_w1p, Q, episodes, converged, paths, total_R, path_length = policy(\n",
        "    w1p, alpha=0.5, epsilon=0.1, decay=0.8, n_episodes=100, agent=4,\n",
        "    optimize_steps=10, step_funct = SARSA_optimization,\n",
        "    verbose=True\n",
        ")"
      ],
      "execution_count": 181,
      "outputs": [
        {
          "output_type": "stream",
          "text": [
            "Episode 6\n",
            "\u001b[0m v \u001b[0m # \u001b[0m > \u001b[0m > \u001b[0m v \n",
            "\u001b[0m v \u001b[0m # \u001b[0m ^ \u001b[0m # \u001b[0m v \n",
            "\u001b[0m v \u001b[0m # \u001b[0m ^ \u001b[0m # \u001b[0m v \n",
            "\u001b[0m v \u001b[0m # \u001b[0m ^ \u001b[0m # \u001b[0m v \n",
            "\u001b[0m > \u001b[0m > \u001b[0m ^ \u001b[0m # \u001b[0m @ \n",
            "\n",
            "Converged in 6 episodes. Path length: 16\n"
          ],
          "name": "stdout"
        }
      ]
    },
    {
      "cell_type": "code",
      "metadata": {
        "colab": {
          "base_uri": "https://localhost:8080/"
        },
        "id": "xOtRUyNnHnn2",
        "outputId": "a79d4c25-a0d4-4dd5-dd1c-06f10f07b810"
      },
      "source": [
        "policy_w1m, Q, episodes, converged, paths, total_R, path_length = policy(\n",
        "    w1m, alpha=0.2, epsilon=0.1, decay=0.8, n_episodes=10000, agent=4, \n",
        "    max_steps=5000, step_funct = SARSA_optimization\n",
        ")\n",
        "printPolicy(w1m, policy_w1m)"
      ],
      "execution_count": 182,
      "outputs": [
        {
          "output_type": "stream",
          "text": [
            "Converged in 138 episodes. Path length: 48\n",
            "\u001b[0m v \u001b[0m # \u001b[0m > \u001b[0m > \u001b[0m v \u001b[0m # \u001b[0m > \u001b[0m > \u001b[0m v \n",
            "\u001b[0m v \u001b[0m # \u001b[0m ^ \u001b[0m # \u001b[0m v \u001b[0m # \u001b[0m ^ \u001b[0m # \u001b[0m v \n",
            "\u001b[0m v \u001b[0m # \u001b[0m ^ \u001b[0m # \u001b[0m v \u001b[0m # \u001b[0m ^ \u001b[0m # \u001b[0m v \n",
            "\u001b[0m v \u001b[0m # \u001b[0m ^ \u001b[0m # \u001b[0m v \u001b[0m # \u001b[0m ^ \u001b[0m # \u001b[0m v \n",
            "\u001b[0m v \u001b[0m # \u001b[0m ^ \u001b[0m # \u001b[0m v \u001b[0m # \u001b[0m ^ \u001b[0m # \u001b[0m v \n",
            "\u001b[0m v \u001b[0m # \u001b[0m ^ \u001b[0m # \u001b[0m v \u001b[0m # \u001b[0m ^ \u001b[0m # \u001b[0m v \n",
            "\u001b[0m v \u001b[0m # \u001b[0m ^ \u001b[0m # \u001b[0m v \u001b[0m # \u001b[0m ^ \u001b[0m # \u001b[0m v \n",
            "\u001b[0m v \u001b[0m # \u001b[0m ^ \u001b[0m # \u001b[0m v \u001b[0m # \u001b[0m ^ \u001b[0m # \u001b[0m v \n",
            "\u001b[0m > \u001b[0m > \u001b[0m ^ \u001b[0m # \u001b[0m > \u001b[0m > \u001b[0m ^ \u001b[0m # \u001b[0m @ \n",
            "\n"
          ],
          "name": "stdout"
        }
      ]
    },
    {
      "cell_type": "code",
      "metadata": {
        "colab": {
          "base_uri": "https://localhost:8080/"
        },
        "id": "4Z1bDhnuHnn5",
        "outputId": "77e1a528-91dc-438b-f7ed-0a919e0e4df4"
      },
      "source": [
        "policy_w1g, Q, episodes, converged, paths, total_R, path_length = policy(\n",
        "    w1g, alpha=0.1, epsilon=0.01, agent=4, decay=0.8, max_steps=10000,\n",
        "    n_episodes=50000, step_funct = SARSA_optimization\n",
        ")\n",
        "printPolicy(w1g, policy_w1g)"
      ],
      "execution_count": 185,
      "outputs": [
        {
          "output_type": "stream",
          "text": [
            "Converged in 1839 episodes. Path length: 240\n",
            "\u001b[0m v \u001b[0m # \u001b[0m > \u001b[0m > \u001b[0m v \u001b[0m # \u001b[0m > \u001b[0m > \u001b[0m v \u001b[0m # \u001b[0m > \u001b[0m > \u001b[0m v \u001b[0m # \u001b[0m > \u001b[0m > \u001b[0m v \u001b[0m # \u001b[0m > \u001b[0m > \u001b[0m v \n",
            "\u001b[0m v \u001b[0m # \u001b[0m ^ \u001b[0m # \u001b[0m v \u001b[0m # \u001b[0m ^ \u001b[0m # \u001b[0m v \u001b[0m # \u001b[0m ^ \u001b[0m # \u001b[0m v \u001b[0m # \u001b[0m ^ \u001b[0m # \u001b[0m v \u001b[0m # \u001b[0m ^ \u001b[0m # \u001b[0m v \n",
            "\u001b[0m v \u001b[0m # \u001b[0m ^ \u001b[0m # \u001b[0m v \u001b[0m # \u001b[0m ^ \u001b[0m # \u001b[0m v \u001b[0m # \u001b[0m ^ \u001b[0m # \u001b[0m v \u001b[0m # \u001b[0m ^ \u001b[0m # \u001b[0m v \u001b[0m # \u001b[0m ^ \u001b[0m # \u001b[0m v \n",
            "\u001b[0m v \u001b[0m # \u001b[0m ^ \u001b[0m # \u001b[0m v \u001b[0m # \u001b[0m ^ \u001b[0m # \u001b[0m v \u001b[0m # \u001b[0m ^ \u001b[0m # \u001b[0m v \u001b[0m # \u001b[0m ^ \u001b[0m # \u001b[0m v \u001b[0m # \u001b[0m ^ \u001b[0m # \u001b[0m v \n",
            "\u001b[0m v \u001b[0m # \u001b[0m ^ \u001b[0m # \u001b[0m v \u001b[0m # \u001b[0m ^ \u001b[0m # \u001b[0m v \u001b[0m # \u001b[0m ^ \u001b[0m # \u001b[0m v \u001b[0m # \u001b[0m ^ \u001b[0m # \u001b[0m v \u001b[0m # \u001b[0m ^ \u001b[0m # \u001b[0m v \n",
            "\u001b[0m v \u001b[0m # \u001b[0m ^ \u001b[0m # \u001b[0m v \u001b[0m # \u001b[0m ^ \u001b[0m # \u001b[0m v \u001b[0m # \u001b[0m ^ \u001b[0m # \u001b[0m v \u001b[0m # \u001b[0m ^ \u001b[0m # \u001b[0m v \u001b[0m # \u001b[0m ^ \u001b[0m # \u001b[0m v \n",
            "\u001b[0m v \u001b[0m # \u001b[0m ^ \u001b[0m # \u001b[0m v \u001b[0m # \u001b[0m ^ \u001b[0m # \u001b[0m v \u001b[0m # \u001b[0m ^ \u001b[0m # \u001b[0m v \u001b[0m # \u001b[0m ^ \u001b[0m # \u001b[0m v \u001b[0m # \u001b[0m ^ \u001b[0m # \u001b[0m v \n",
            "\u001b[0m v \u001b[0m # \u001b[0m ^ \u001b[0m # \u001b[0m v \u001b[0m # \u001b[0m ^ \u001b[0m # \u001b[0m v \u001b[0m # \u001b[0m ^ \u001b[0m # \u001b[0m v \u001b[0m # \u001b[0m ^ \u001b[0m # \u001b[0m v \u001b[0m # \u001b[0m ^ \u001b[0m # \u001b[0m v \n",
            "\u001b[0m v \u001b[0m # \u001b[0m ^ \u001b[0m # \u001b[0m v \u001b[0m # \u001b[0m ^ \u001b[0m # \u001b[0m v \u001b[0m # \u001b[0m ^ \u001b[0m # \u001b[0m v \u001b[0m # \u001b[0m ^ \u001b[0m # \u001b[0m v \u001b[0m # \u001b[0m ^ \u001b[0m # \u001b[0m v \n",
            "\u001b[0m v \u001b[0m # \u001b[0m ^ \u001b[0m # \u001b[0m v \u001b[0m # \u001b[0m ^ \u001b[0m # \u001b[0m v \u001b[0m # \u001b[0m ^ \u001b[0m # \u001b[0m v \u001b[0m # \u001b[0m ^ \u001b[0m # \u001b[0m v \u001b[0m # \u001b[0m ^ \u001b[0m # \u001b[0m v \n",
            "\u001b[0m v \u001b[0m # \u001b[0m ^ \u001b[0m # \u001b[0m v \u001b[0m # \u001b[0m ^ \u001b[0m # \u001b[0m v \u001b[0m # \u001b[0m ^ \u001b[0m # \u001b[0m v \u001b[0m # \u001b[0m ^ \u001b[0m # \u001b[0m v \u001b[0m # \u001b[0m ^ \u001b[0m # \u001b[0m v \n",
            "\u001b[0m v \u001b[0m # \u001b[0m ^ \u001b[0m # \u001b[0m v \u001b[0m # \u001b[0m ^ \u001b[0m # \u001b[0m v \u001b[0m # \u001b[0m ^ \u001b[0m # \u001b[0m v \u001b[0m # \u001b[0m ^ \u001b[0m # \u001b[0m v \u001b[0m # \u001b[0m ^ \u001b[0m # \u001b[0m v \n",
            "\u001b[0m v \u001b[0m # \u001b[0m ^ \u001b[0m # \u001b[0m v \u001b[0m # \u001b[0m ^ \u001b[0m # \u001b[0m v \u001b[0m # \u001b[0m ^ \u001b[0m # \u001b[0m v \u001b[0m # \u001b[0m ^ \u001b[0m # \u001b[0m v \u001b[0m # \u001b[0m ^ \u001b[0m # \u001b[0m v \n",
            "\u001b[0m v \u001b[0m # \u001b[0m ^ \u001b[0m # \u001b[0m v \u001b[0m # \u001b[0m ^ \u001b[0m # \u001b[0m v \u001b[0m # \u001b[0m ^ \u001b[0m # \u001b[0m v \u001b[0m # \u001b[0m ^ \u001b[0m # \u001b[0m v \u001b[0m # \u001b[0m ^ \u001b[0m # \u001b[0m v \n",
            "\u001b[0m v \u001b[0m # \u001b[0m ^ \u001b[0m # \u001b[0m v \u001b[0m # \u001b[0m ^ \u001b[0m # \u001b[0m v \u001b[0m # \u001b[0m ^ \u001b[0m # \u001b[0m v \u001b[0m # \u001b[0m ^ \u001b[0m # \u001b[0m v \u001b[0m # \u001b[0m ^ \u001b[0m # \u001b[0m v \n",
            "\u001b[0m v \u001b[0m # \u001b[0m ^ \u001b[0m # \u001b[0m v \u001b[0m # \u001b[0m ^ \u001b[0m # \u001b[0m v \u001b[0m # \u001b[0m ^ \u001b[0m # \u001b[0m v \u001b[0m # \u001b[0m ^ \u001b[0m # \u001b[0m v \u001b[0m # \u001b[0m ^ \u001b[0m # \u001b[0m v \n",
            "\u001b[0m v \u001b[0m # \u001b[0m ^ \u001b[0m # \u001b[0m v \u001b[0m # \u001b[0m ^ \u001b[0m # \u001b[0m v \u001b[0m # \u001b[0m ^ \u001b[0m # \u001b[0m v \u001b[0m # \u001b[0m ^ \u001b[0m # \u001b[0m v \u001b[0m # \u001b[0m ^ \u001b[0m # \u001b[0m v \n",
            "\u001b[0m v \u001b[0m # \u001b[0m ^ \u001b[0m # \u001b[0m v \u001b[0m # \u001b[0m ^ \u001b[0m # \u001b[0m v \u001b[0m # \u001b[0m ^ \u001b[0m # \u001b[0m v \u001b[0m # \u001b[0m ^ \u001b[0m # \u001b[0m v \u001b[0m # \u001b[0m ^ \u001b[0m # \u001b[0m v \n",
            "\u001b[0m v \u001b[0m # \u001b[0m ^ \u001b[0m # \u001b[0m v \u001b[0m # \u001b[0m ^ \u001b[0m # \u001b[0m v \u001b[0m # \u001b[0m ^ \u001b[0m # \u001b[0m v \u001b[0m # \u001b[0m ^ \u001b[0m # \u001b[0m v \u001b[0m # \u001b[0m ^ \u001b[0m # \u001b[0m v \n",
            "\u001b[0m v \u001b[0m # \u001b[0m ^ \u001b[0m # \u001b[0m v \u001b[0m # \u001b[0m ^ \u001b[0m # \u001b[0m v \u001b[0m # \u001b[0m ^ \u001b[0m # \u001b[0m v \u001b[0m # \u001b[0m ^ \u001b[0m # \u001b[0m v \u001b[0m # \u001b[0m ^ \u001b[0m # \u001b[0m v \n",
            "\u001b[0m > \u001b[0m > \u001b[0m ^ \u001b[0m # \u001b[0m > \u001b[0m > \u001b[0m ^ \u001b[0m # \u001b[0m > \u001b[0m > \u001b[0m ^ \u001b[0m # \u001b[0m > \u001b[0m > \u001b[0m ^ \u001b[0m # \u001b[0m > \u001b[0m > \u001b[0m ^ \u001b[0m # \u001b[0m @ \n",
            "\n"
          ],
          "name": "stdout"
        }
      ]
    },
    {
      "cell_type": "markdown",
      "metadata": {
        "id": "2aDF-W0WHnn7"
      },
      "source": [
        "#### Mapa 2"
      ]
    },
    {
      "cell_type": "code",
      "metadata": {
        "colab": {
          "base_uri": "https://localhost:8080/"
        },
        "id": "hx0FSSSuHnn7",
        "outputId": "31790b85-1ab1-436c-bce6-42aa5ff87de7"
      },
      "source": [
        "policy_w2p, Q, episodes, converged, paths, total_R, path_length = policy(\n",
        "    w2p, alpha=0.1, epsilon=0.0, n_episodes=100, agent=4,\n",
        "    step_funct = SARSA_optimization, verbose=True\n",
        ")\n",
        "printPolicy(w2p, policy_w2p)"
      ],
      "execution_count": 190,
      "outputs": [
        {
          "output_type": "stream",
          "text": [
            "Episode 4\n",
            "\u001b[0m v \u001b[0m ^ \u001b[0m v \u001b[0m ^ \u001b[0m ^ \n",
            "\u001b[0m > \u001b[0m v \u001b[0m ^ \u001b[0m ^ \u001b[0m ^ \n",
            "\u001b[94m ^ \u001b[0m < \u001b[0m < \u001b[0m # \u001b[0m v \n",
            "\u001b[0m ^ \u001b[0m > \u001b[0m ^ \u001b[0m ^ \u001b[0m v \n",
            "\u001b[0m < \u001b[0m ^ \u001b[94m > \u001b[0m > \u001b[0m @ \n",
            "\n",
            "Converged in 4 episodes. Path length: 6\n",
            "Improved path length: 4 (13 episodes in total)\n",
            "\u001b[0m v \u001b[0m < \u001b[0m > \u001b[0m ^ \u001b[0m > \n",
            "\u001b[0m v \u001b[0m v \u001b[0m > \u001b[0m < \u001b[0m ^ \n",
            "\u001b[94m < \u001b[0m v \u001b[0m ^ \u001b[0m # \u001b[0m v \n",
            "\u001b[0m ^ \u001b[0m > \u001b[0m ^ \u001b[0m v \u001b[0m v \n",
            "\u001b[0m < \u001b[0m ^ \u001b[94m > \u001b[0m > \u001b[0m @ \n",
            "\n"
          ],
          "name": "stdout"
        }
      ]
    },
    {
      "cell_type": "code",
      "metadata": {
        "colab": {
          "base_uri": "https://localhost:8080/"
        },
        "id": "VTpKTl_pHnn-",
        "outputId": "25865047-c134-4359-85e8-5cf6ab0ed44a"
      },
      "source": [
        "policy_w2m, Q, episodes, converged, paths, total_R, path_length = policy(\n",
        "    w2m, alpha=0.1, epsilon=0.0, n_episodes=100, agent=4,\n",
        "    step_funct = SARSA_optimization\n",
        ")\n",
        "printPolicy(w2m, policy_w2m)"
      ],
      "execution_count": 187,
      "outputs": [
        {
          "output_type": "stream",
          "text": [
            "Converged in 44 episodes. Path length: 8\n",
            "\u001b[0m v \u001b[0m < \u001b[0m ^ \u001b[0m ^ \u001b[0m < \u001b[0m < \u001b[0m > \u001b[0m v \u001b[0m ^ \u001b[0m > \n",
            "\u001b[0m v \u001b[0m # \u001b[0m # \u001b[0m v \u001b[0m # \u001b[0m ^ \u001b[0m > \u001b[0m v \u001b[0m ^ \u001b[0m ^ \n",
            "\u001b[0m v \u001b[0m v \u001b[0m < \u001b[0m ^ \u001b[0m # \u001b[0m ^ \u001b[0m < \u001b[0m > \u001b[0m > \u001b[0m ^ \n",
            "\u001b[0m > \u001b[94m v \u001b[0m < \u001b[0m > \u001b[0m < \u001b[0m v \u001b[0m ^ \u001b[0m v \u001b[0m > \u001b[0m v \n",
            "\u001b[0m > \u001b[0m < \u001b[0m # \u001b[0m ^ \u001b[0m # \u001b[0m v \u001b[0m < \u001b[0m ^ \u001b[0m ^ \u001b[0m ^ \n",
            "\u001b[0m > \u001b[0m v \u001b[0m # \u001b[0m ^ \u001b[0m < \u001b[0m > \u001b[0m < \u001b[0m < \u001b[0m # \u001b[0m ^ \n",
            "\u001b[0m v \u001b[0m v \u001b[0m < \u001b[0m v \u001b[0m v \u001b[0m < \u001b[0m < \u001b[0m # \u001b[0m v \u001b[0m v \n",
            "\u001b[0m ^ \u001b[0m ^ \u001b[0m < \u001b[0m v \u001b[0m ^ \u001b[0m ^ \u001b[0m # \u001b[0m > \u001b[0m v \u001b[0m v \n",
            "\u001b[0m > \u001b[0m ^ \u001b[0m < \u001b[0m < \u001b[0m > \u001b[0m v \u001b[94m > \u001b[0m > \u001b[0m > \u001b[0m v \n",
            "\u001b[0m > \u001b[0m ^ \u001b[0m < \u001b[0m < \u001b[0m < \u001b[0m ^ \u001b[0m > \u001b[0m > \u001b[0m > \u001b[0m @ \n",
            "\n"
          ],
          "name": "stdout"
        }
      ]
    },
    {
      "cell_type": "code",
      "metadata": {
        "colab": {
          "base_uri": "https://localhost:8080/"
        },
        "id": "DJl119W7Hnn_",
        "outputId": "137e1160-cf21-40a5-84d9-cbd46cc35881"
      },
      "source": [
        "policy_w2g, Q, episodes, converged, paths, total_R, path_length = policy(\n",
        "    w2g, alpha=0.1, epsilon=0.0, n_episodes=1000, agent=4,\n",
        "    step_funct = SARSA_optimization\n",
        ")\n",
        "printPolicy(w2g, policy_w2g)"
      ],
      "execution_count": 188,
      "outputs": [
        {
          "output_type": "stream",
          "text": [
            "Converged in 166 episodes. Path length: 16\n",
            "\u001b[0m v \u001b[0m > \u001b[0m > \u001b[0m v \u001b[0m v \u001b[0m < \u001b[0m ^ \u001b[0m ^ \u001b[0m v \u001b[0m < \u001b[0m v \u001b[0m v \u001b[0m v \u001b[0m v \u001b[0m v \u001b[0m < \u001b[0m < \u001b[0m < \u001b[0m ^ \u001b[0m > \u001b[0m ^ \n",
            "\u001b[0m v \u001b[0m > \u001b[0m v \u001b[0m < \u001b[0m < \u001b[0m > \u001b[0m ^ \u001b[0m > \u001b[0m ^ \u001b[0m ^ \u001b[0m < \u001b[0m < \u001b[0m ^ \u001b[0m > \u001b[0m > \u001b[0m v \u001b[0m # \u001b[0m v \u001b[0m < \u001b[0m ^ \u001b[0m ^ \n",
            "\u001b[0m v \u001b[0m > \u001b[0m > \u001b[0m ^ \u001b[0m ^ \u001b[0m > \u001b[0m > \u001b[0m v \u001b[0m < \u001b[0m v \u001b[0m < \u001b[0m > \u001b[0m > \u001b[0m v \u001b[0m # \u001b[0m v \u001b[0m < \u001b[0m < \u001b[0m > \u001b[0m < \u001b[0m < \n",
            "\u001b[0m > \u001b[0m > \u001b[0m v \u001b[0m > \u001b[0m v \u001b[0m < \u001b[0m < \u001b[0m < \u001b[0m v \u001b[0m ^ \u001b[0m v \u001b[0m < \u001b[0m ^ \u001b[0m > \u001b[0m > \u001b[0m < \u001b[0m < \u001b[0m < \u001b[0m > \u001b[0m ^ \u001b[0m < \n",
            "\u001b[0m ^ \u001b[0m > \u001b[0m v \u001b[0m < \u001b[0m < \u001b[0m < \u001b[0m v \u001b[0m # \u001b[0m v \u001b[0m ^ \u001b[0m > \u001b[0m > \u001b[0m ^ \u001b[0m # \u001b[0m > \u001b[0m ^ \u001b[0m ^ \u001b[0m ^ \u001b[0m > \u001b[0m ^ \u001b[0m ^ \n",
            "\u001b[0m v \u001b[0m > \u001b[0m v \u001b[0m < \u001b[0m # \u001b[0m v \u001b[0m > \u001b[0m v \u001b[0m v \u001b[0m < \u001b[0m # \u001b[0m > \u001b[0m ^ \u001b[0m # \u001b[0m ^ \u001b[0m v \u001b[0m < \u001b[0m # \u001b[0m v \u001b[0m < \u001b[0m ^ \n",
            "\u001b[0m > \u001b[0m > \u001b[94m v \u001b[0m # \u001b[0m v \u001b[0m v \u001b[0m ^ \u001b[0m > \u001b[0m v \u001b[0m ^ \u001b[0m v \u001b[0m ^ \u001b[0m v \u001b[0m > \u001b[0m v \u001b[0m < \u001b[0m # \u001b[0m v \u001b[0m < \u001b[0m ^ \u001b[0m ^ \n",
            "\u001b[0m ^ \u001b[0m # \u001b[0m ^ \u001b[0m # \u001b[0m ^ \u001b[0m v \u001b[0m # \u001b[0m > \u001b[0m > \u001b[0m ^ \u001b[0m ^ \u001b[0m # \u001b[0m ^ \u001b[0m # \u001b[0m ^ \u001b[0m > \u001b[0m < \u001b[0m v \u001b[0m ^ \u001b[0m ^ \u001b[0m ^ \n",
            "\u001b[0m v \u001b[0m < \u001b[0m v \u001b[0m v \u001b[0m # \u001b[0m > \u001b[0m < \u001b[0m # \u001b[0m > \u001b[0m ^ \u001b[0m # \u001b[0m > \u001b[0m ^ \u001b[0m # \u001b[0m # \u001b[0m ^ \u001b[0m v \u001b[0m > \u001b[0m ^ \u001b[0m v \u001b[0m ^ \n",
            "\u001b[0m < \u001b[0m > \u001b[0m ^ \u001b[0m < \u001b[0m # \u001b[0m v \u001b[0m ^ \u001b[0m v \u001b[0m < \u001b[0m ^ \u001b[0m < \u001b[0m v \u001b[0m ^ \u001b[0m v \u001b[0m v \u001b[0m v \u001b[0m < \u001b[0m # \u001b[0m ^ \u001b[0m > \u001b[0m ^ \n",
            "\u001b[0m ^ \u001b[0m < \u001b[0m < \u001b[0m ^ \u001b[0m < \u001b[0m v \u001b[0m # \u001b[0m > \u001b[0m > \u001b[0m ^ \u001b[0m # \u001b[0m v \u001b[0m # \u001b[0m ^ \u001b[0m v \u001b[0m < \u001b[0m ^ \u001b[0m > \u001b[0m v \u001b[0m v \u001b[0m < \n",
            "\u001b[0m < \u001b[0m v \u001b[0m ^ \u001b[0m < \u001b[0m # \u001b[0m > \u001b[0m v \u001b[0m # \u001b[0m # \u001b[0m v \u001b[0m < \u001b[0m > \u001b[0m v \u001b[0m # \u001b[0m > \u001b[0m < \u001b[0m > \u001b[0m ^ \u001b[0m < \u001b[0m < \u001b[0m ^ \n",
            "\u001b[0m v \u001b[0m > \u001b[0m v \u001b[0m < \u001b[0m v \u001b[0m # \u001b[0m v \u001b[0m > \u001b[0m > \u001b[0m > \u001b[0m v \u001b[0m < \u001b[0m < \u001b[0m > \u001b[0m v \u001b[0m # \u001b[0m v \u001b[0m ^ \u001b[0m < \u001b[0m > \u001b[0m < \n",
            "\u001b[0m v \u001b[0m ^ \u001b[0m v \u001b[0m # \u001b[0m v \u001b[0m < \u001b[0m v \u001b[0m v \u001b[0m > \u001b[0m < \u001b[0m > \u001b[0m v \u001b[0m < \u001b[0m ^ \u001b[0m ^ \u001b[0m v \u001b[0m v \u001b[0m > \u001b[0m ^ \u001b[0m > \u001b[0m v \n",
            "\u001b[0m ^ \u001b[0m # \u001b[0m ^ \u001b[0m v \u001b[0m > \u001b[0m ^ \u001b[0m < \u001b[0m > \u001b[0m > \u001b[0m v \u001b[0m # \u001b[0m > \u001b[0m < \u001b[0m ^ \u001b[0m < \u001b[0m ^ \u001b[0m < \u001b[0m v \u001b[0m ^ \u001b[0m > \u001b[0m ^ \n",
            "\u001b[0m ^ \u001b[0m v \u001b[0m > \u001b[0m > \u001b[0m v \u001b[0m ^ \u001b[0m # \u001b[0m ^ \u001b[0m # \u001b[0m ^ \u001b[0m # \u001b[0m > \u001b[0m v \u001b[0m v \u001b[0m # \u001b[0m # \u001b[0m > \u001b[0m < \u001b[0m > \u001b[0m v \u001b[0m v \n",
            "\u001b[0m < \u001b[0m < \u001b[0m # \u001b[0m # \u001b[0m > \u001b[0m > \u001b[0m > \u001b[0m < \u001b[0m > \u001b[0m ^ \u001b[0m > \u001b[0m > \u001b[0m ^ \u001b[0m v \u001b[0m # \u001b[0m v \u001b[0m # \u001b[0m v \u001b[0m > \u001b[0m v \u001b[0m v \n",
            "\u001b[0m v \u001b[0m > \u001b[0m v \u001b[0m > \u001b[0m < \u001b[0m < \u001b[0m > \u001b[0m > \u001b[0m < \u001b[0m # \u001b[0m > \u001b[0m < \u001b[0m > \u001b[0m ^ \u001b[0m > \u001b[0m < \u001b[0m > \u001b[0m v \u001b[0m > \u001b[0m v \u001b[0m v \n",
            "\u001b[0m ^ \u001b[0m ^ \u001b[0m v \u001b[0m > \u001b[0m v \u001b[0m < \u001b[0m v \u001b[0m < \u001b[0m < \u001b[0m > \u001b[0m v \u001b[0m # \u001b[0m v \u001b[0m v \u001b[94m > \u001b[0m v \u001b[0m v \u001b[0m v \u001b[0m > \u001b[0m v \u001b[0m v \n",
            "\u001b[0m > \u001b[0m v \u001b[0m < \u001b[0m < \u001b[0m < \u001b[0m < \u001b[0m < \u001b[0m v \u001b[0m < \u001b[0m v \u001b[0m < \u001b[0m v \u001b[0m > \u001b[0m ^ \u001b[0m > \u001b[0m v \u001b[0m v \u001b[0m v \u001b[0m > \u001b[0m v \u001b[0m v \n",
            "\u001b[0m < \u001b[0m > \u001b[0m ^ \u001b[0m ^ \u001b[0m > \u001b[0m ^ \u001b[0m v \u001b[0m > \u001b[0m ^ \u001b[0m v \u001b[0m ^ \u001b[0m < \u001b[0m v \u001b[0m > \u001b[0m > \u001b[0m > \u001b[0m > \u001b[0m > \u001b[0m > \u001b[0m > \u001b[0m @ \n",
            "\n"
          ],
          "name": "stdout"
        }
      ]
    },
    {
      "cell_type": "markdown",
      "metadata": {
        "id": "7xbmdBhEHnoB"
      },
      "source": [
        "#### Mapa 3"
      ]
    },
    {
      "cell_type": "code",
      "metadata": {
        "colab": {
          "base_uri": "https://localhost:8080/"
        },
        "id": "hSvIf6h3HnoE",
        "outputId": "38ed05b5-9bfd-4c97-f4cb-8483aa521f49"
      },
      "source": [
        "policy_w3p, Q, episodes, converged, paths, total_R, path_length = policy(\n",
        "    w3p, alpha=0.1, epsilon=0.01, n_episodes=100, agent=4,\n",
        "    step_funct = SARSA_optimization, verbose=True\n",
        ")"
      ],
      "execution_count": 191,
      "outputs": [
        {
          "output_type": "stream",
          "text": [
            "Episode 21\n",
            "\u001b[0m v \u001b[0m ^ \u001b[0m > \u001b[0m > \u001b[94m v \n",
            "\u001b[0m v \u001b[0m # \u001b[0m v \u001b[0m ^ \u001b[0m v \n",
            "\u001b[0m v \u001b[0m < \u001b[0m ^ \u001b[0m # \u001b[0m v \n",
            "\u001b[0m v \u001b[0m # \u001b[0m v \u001b[0m v \u001b[0m v \n",
            "\u001b[94m ^ \u001b[0m > \u001b[0m > \u001b[0m > \u001b[0m @ \n",
            "\n",
            "Converged in 21 episodes. Path length: 8\n"
          ],
          "name": "stdout"
        }
      ]
    },
    {
      "cell_type": "code",
      "metadata": {
        "colab": {
          "base_uri": "https://localhost:8080/"
        },
        "id": "669pg_W2HnoF",
        "outputId": "a7c9a2fa-27d5-48f2-d9b7-4413992b9ef7"
      },
      "source": [
        "policy_w3m, Q, episodes, converged, paths, total_R, path_length = policy(\n",
        "    w3m, alpha=0.1, epsilon=0.0, n_episodes=1000, agent=4,\n",
        "    step_funct = SARSA_optimization\n",
        ")\n",
        "printPolicy(w3m, policy_w3m)"
      ],
      "execution_count": 192,
      "outputs": [
        {
          "output_type": "stream",
          "text": [
            "Converged in 140 episodes. Path length: 18\n",
            "\u001b[0m v \u001b[0m > \u001b[0m > \u001b[0m < \u001b[0m ^ \u001b[0m > \u001b[0m v \u001b[0m ^ \u001b[0m < \u001b[0m > \n",
            "\u001b[0m v \u001b[0m v \u001b[0m v \u001b[0m > \u001b[0m < \u001b[0m ^ \u001b[0m < \u001b[0m ^ \u001b[94m > \u001b[0m < \n",
            "\u001b[0m > \u001b[0m v \u001b[0m > \u001b[0m < \u001b[0m # \u001b[0m > \u001b[0m > \u001b[0m > \u001b[0m < \u001b[0m v \n",
            "\u001b[0m < \u001b[0m v \u001b[0m > \u001b[0m v \u001b[0m v \u001b[0m v \u001b[0m > \u001b[0m > \u001b[0m v \u001b[0m v \n",
            "\u001b[0m v \u001b[0m v \u001b[0m # \u001b[0m v \u001b[0m < \u001b[0m v \u001b[0m # \u001b[0m > \u001b[0m > \u001b[0m v \n",
            "\u001b[0m ^ \u001b[0m v \u001b[0m # \u001b[0m > \u001b[0m ^ \u001b[0m < \u001b[0m # \u001b[0m # \u001b[0m > \u001b[0m v \n",
            "\u001b[0m v \u001b[0m > \u001b[0m > \u001b[0m v \u001b[0m v \u001b[0m > \u001b[0m v \u001b[0m > \u001b[0m > \u001b[0m v \n",
            "\u001b[0m > \u001b[0m ^ \u001b[0m ^ \u001b[0m > \u001b[0m > \u001b[0m > \u001b[0m > \u001b[0m > \u001b[0m > \u001b[0m v \n",
            "\u001b[0m ^ \u001b[94m < \u001b[0m v \u001b[0m > \u001b[0m v \u001b[0m > \u001b[0m v \u001b[0m # \u001b[0m v \u001b[0m v \n",
            "\u001b[0m v \u001b[0m < \u001b[0m > \u001b[0m > \u001b[0m > \u001b[0m > \u001b[0m > \u001b[0m > \u001b[0m > \u001b[0m @ \n",
            "\n"
          ],
          "name": "stdout"
        }
      ]
    },
    {
      "cell_type": "code",
      "metadata": {
        "colab": {
          "base_uri": "https://localhost:8080/"
        },
        "id": "FlzGPcF5HnoG",
        "outputId": "97ffe133-cfce-4998-dc74-96701f55e225"
      },
      "source": [
        "policy_w3g, Q, episodes, converged, paths, total_R, path_length = policy(\n",
        "    w3g, alpha=0.1, epsilon=0.1, decay=0.8, n_episodes=10000,\n",
        "    max_steps=5000, agent=4, step_funct = SARSA_optimization\n",
        ")\n",
        "printPolicy(w3g, policy_w3g)"
      ],
      "execution_count": 193,
      "outputs": [
        {
          "output_type": "stream",
          "text": [
            "Converged in 1121 episodes. Path length: 40\n",
            "\u001b[0m > \u001b[0m v \u001b[0m > \u001b[0m > \u001b[0m > \u001b[0m > \u001b[0m > \u001b[0m > \u001b[0m ^ \u001b[0m v \u001b[0m ^ \u001b[0m v \u001b[0m > \u001b[0m > \u001b[0m > \u001b[0m ^ \u001b[0m > \u001b[0m > \u001b[0m ^ \u001b[0m > \u001b[0m ^ \n",
            "\u001b[0m v \u001b[0m v \u001b[0m v \u001b[0m < \u001b[0m > \u001b[0m v \u001b[0m > \u001b[0m ^ \u001b[0m > \u001b[0m < \u001b[0m > \u001b[0m > \u001b[0m < \u001b[0m < \u001b[0m ^ \u001b[0m > \u001b[0m < \u001b[0m v \u001b[0m ^ \u001b[0m ^ \u001b[0m v \n",
            "\u001b[0m v \u001b[0m > \u001b[0m v \u001b[0m # \u001b[0m > \u001b[0m < \u001b[0m v \u001b[0m v \u001b[0m # \u001b[0m ^ \u001b[0m # \u001b[0m # \u001b[0m > \u001b[0m > \u001b[0m > \u001b[0m ^ \u001b[0m v \u001b[0m v \u001b[94m < \u001b[0m ^ \u001b[0m v \n",
            "\u001b[0m v \u001b[0m # \u001b[0m v \u001b[0m < \u001b[0m v \u001b[0m ^ \u001b[0m > \u001b[0m < \u001b[0m # \u001b[0m ^ \u001b[0m < \u001b[0m > \u001b[0m > \u001b[0m ^ \u001b[0m ^ \u001b[0m # \u001b[0m v \u001b[0m > \u001b[0m v \u001b[0m v \u001b[0m ^ \n",
            "\u001b[0m v \u001b[0m # \u001b[0m > \u001b[0m > \u001b[0m > \u001b[0m v \u001b[0m ^ \u001b[0m v \u001b[0m # \u001b[0m > \u001b[0m > \u001b[0m > \u001b[0m ^ \u001b[0m ^ \u001b[0m # \u001b[0m v \u001b[0m > \u001b[0m v \u001b[0m v \u001b[0m v \u001b[0m < \n",
            "\u001b[0m v \u001b[0m # \u001b[0m ^ \u001b[0m v \u001b[0m > \u001b[0m v \u001b[0m > \u001b[0m > \u001b[0m > \u001b[0m v \u001b[0m v \u001b[0m ^ \u001b[0m ^ \u001b[0m # \u001b[0m v \u001b[0m v \u001b[0m ^ \u001b[0m v \u001b[0m v \u001b[0m > \u001b[0m v \n",
            "\u001b[0m ^ \u001b[0m # \u001b[0m ^ \u001b[0m < \u001b[0m > \u001b[0m v \u001b[0m < \u001b[0m < \u001b[0m # \u001b[0m > \u001b[0m < \u001b[0m v \u001b[0m # \u001b[0m v \u001b[0m > \u001b[0m < \u001b[0m > \u001b[0m < \u001b[0m v \u001b[0m v \u001b[0m v \n",
            "\u001b[0m < \u001b[0m < \u001b[0m < \u001b[0m ^ \u001b[0m v \u001b[0m v \u001b[0m v \u001b[0m # \u001b[0m # \u001b[0m > \u001b[0m v \u001b[0m v \u001b[0m # \u001b[0m v \u001b[0m ^ \u001b[0m > \u001b[0m v \u001b[0m v \u001b[0m v \u001b[0m v \u001b[0m v \n",
            "\u001b[0m ^ \u001b[0m v \u001b[0m < \u001b[0m v \u001b[0m > \u001b[0m v \u001b[0m v \u001b[0m < \u001b[0m < \u001b[0m < \u001b[0m > \u001b[0m > \u001b[0m > \u001b[0m v \u001b[0m # \u001b[0m # \u001b[0m v \u001b[0m > \u001b[0m v \u001b[0m v \u001b[0m v \n",
            "\u001b[0m v \u001b[0m v \u001b[0m v \u001b[0m > \u001b[0m > \u001b[0m > \u001b[0m v \u001b[0m # \u001b[0m > \u001b[0m < \u001b[0m ^ \u001b[0m # \u001b[0m > \u001b[0m v \u001b[0m v \u001b[0m # \u001b[0m > \u001b[0m > \u001b[0m > \u001b[0m v \u001b[0m v \n",
            "\u001b[0m v \u001b[0m < \u001b[0m > \u001b[0m v \u001b[0m v \u001b[0m # \u001b[0m v \u001b[0m > \u001b[0m > \u001b[0m v \u001b[0m v \u001b[0m v \u001b[0m > \u001b[0m > \u001b[0m v \u001b[0m v \u001b[0m v \u001b[0m # \u001b[0m > \u001b[0m v \u001b[0m v \n",
            "\u001b[0m ^ \u001b[0m ^ \u001b[0m # \u001b[0m ^ \u001b[0m v \u001b[0m < \u001b[0m > \u001b[0m > \u001b[0m > \u001b[0m > \u001b[0m v \u001b[0m < \u001b[0m v \u001b[0m # \u001b[0m v \u001b[0m v \u001b[0m v \u001b[0m > \u001b[0m v \u001b[0m v \u001b[0m v \n",
            "\u001b[0m v \u001b[0m # \u001b[0m # \u001b[0m # \u001b[0m v \u001b[0m v \u001b[0m > \u001b[0m v \u001b[0m v \u001b[0m < \u001b[0m > \u001b[0m > \u001b[0m v \u001b[0m v \u001b[0m v \u001b[0m v \u001b[0m v \u001b[0m v \u001b[0m > \u001b[0m v \u001b[0m v \n",
            "\u001b[0m > \u001b[0m < \u001b[0m v \u001b[0m # \u001b[0m v \u001b[0m > \u001b[0m v \u001b[0m ^ \u001b[0m > \u001b[0m < \u001b[0m > \u001b[0m > \u001b[0m > \u001b[0m > \u001b[0m > \u001b[0m > \u001b[0m v \u001b[0m v \u001b[0m > \u001b[0m v \u001b[0m v \n",
            "\u001b[0m v \u001b[0m v \u001b[0m v \u001b[0m < \u001b[0m > \u001b[0m > \u001b[0m v \u001b[0m v \u001b[0m # \u001b[0m v \u001b[0m v \u001b[0m v \u001b[0m < \u001b[0m # \u001b[0m > \u001b[0m > \u001b[0m > \u001b[0m > \u001b[0m > \u001b[0m > \u001b[0m v \n",
            "\u001b[0m ^ \u001b[0m ^ \u001b[0m < \u001b[0m > \u001b[0m ^ \u001b[0m v \u001b[0m v \u001b[0m v \u001b[0m v \u001b[0m > \u001b[0m > \u001b[0m v \u001b[0m v \u001b[0m # \u001b[0m # \u001b[0m > \u001b[0m v \u001b[0m > \u001b[0m > \u001b[0m > \u001b[0m v \n",
            "\u001b[0m v \u001b[0m > \u001b[0m > \u001b[0m v \u001b[0m # \u001b[0m > \u001b[0m > \u001b[0m > \u001b[0m > \u001b[0m v \u001b[0m v \u001b[0m v \u001b[0m v \u001b[0m > \u001b[0m v \u001b[0m # \u001b[0m v \u001b[0m v \u001b[0m v \u001b[0m > \u001b[0m v \n",
            "\u001b[0m v \u001b[0m # \u001b[0m v \u001b[0m > \u001b[0m < \u001b[0m < \u001b[0m # \u001b[0m > \u001b[0m v \u001b[0m > \u001b[0m v \u001b[0m v \u001b[0m v \u001b[0m # \u001b[0m v \u001b[0m > \u001b[0m v \u001b[0m > \u001b[0m v \u001b[0m v \u001b[0m v \n",
            "\u001b[0m ^ \u001b[0m v \u001b[94m ^ \u001b[0m v \u001b[0m > \u001b[0m > \u001b[0m > \u001b[0m > \u001b[0m > \u001b[0m v \u001b[0m v \u001b[0m v \u001b[0m v \u001b[0m v \u001b[0m v \u001b[0m # \u001b[0m v \u001b[0m > \u001b[0m v \u001b[0m > \u001b[0m v \n",
            "\u001b[0m > \u001b[0m < \u001b[0m < \u001b[0m < \u001b[0m > \u001b[0m > \u001b[0m > \u001b[0m > \u001b[0m > \u001b[0m > \u001b[0m > \u001b[0m > \u001b[0m > \u001b[0m > \u001b[0m > \u001b[0m > \u001b[0m > \u001b[0m > \u001b[0m > \u001b[0m > \u001b[0m v \n",
            "\u001b[0m ^ \u001b[0m < \u001b[0m ^ \u001b[0m > \u001b[0m ^ \u001b[0m > \u001b[0m > \u001b[0m ^ \u001b[0m > \u001b[0m > \u001b[0m ^ \u001b[0m > \u001b[0m ^ \u001b[0m ^ \u001b[0m ^ \u001b[0m ^ \u001b[0m ^ \u001b[0m ^ \u001b[0m > \u001b[0m > \u001b[0m @ \n",
            "\n"
          ],
          "name": "stdout"
        }
      ]
    },
    {
      "cell_type": "markdown",
      "metadata": {
        "id": "DB3Td4ESHnoH"
      },
      "source": [
        "#### Mapa 4"
      ]
    },
    {
      "cell_type": "code",
      "metadata": {
        "colab": {
          "base_uri": "https://localhost:8080/"
        },
        "id": "3a-mYQ_5HnoH",
        "outputId": "1f858c22-9a4a-4913-acdf-7bf4c3cad5d5"
      },
      "source": [
        "policy_w4, Q, episodes, converged, paths, total_R, path_length = policy(\n",
        "    w4, alpha=0.2, epsilon=0.1, decay=0.8, n_episodes=50000, agent=4,\n",
        "    max_steps=5000, step_funct=SARSA_optimization\n",
        ")\n",
        "printPolicy(w4, policy_w4)"
      ],
      "execution_count": 194,
      "outputs": [
        {
          "output_type": "stream",
          "text": [
            "Converged in 248 episodes. Path length: 82\n",
            "\u001b[0m v \u001b[0m # \u001b[0m v \u001b[0m # \u001b[0m ^ \u001b[0m ^ \u001b[0m < \u001b[0m > \u001b[0m v \u001b[0m # \u001b[0m > \u001b[0m > \u001b[0m < \u001b[0m < \u001b[0m ^ \u001b[0m # \u001b[0m # \u001b[0m # \u001b[0m v \u001b[0m # \u001b[0m ^ \n",
            "\u001b[0m v \u001b[0m # \u001b[0m v \u001b[0m # \u001b[0m # \u001b[0m # \u001b[0m # \u001b[0m # \u001b[0m v \u001b[0m # \u001b[0m # \u001b[0m # \u001b[0m # \u001b[0m # \u001b[0m ^ \u001b[0m > \u001b[0m < \u001b[0m # \u001b[0m ^ \u001b[0m # \u001b[0m ^ \n",
            "\u001b[0m v \u001b[0m # \u001b[0m > \u001b[0m > \u001b[0m v \u001b[0m > \u001b[0m v \u001b[0m > \u001b[0m ^ \u001b[0m # \u001b[0m v \u001b[0m > \u001b[0m v \u001b[0m # \u001b[0m ^ \u001b[0m # \u001b[0m # \u001b[0m # \u001b[0m v \u001b[0m # \u001b[0m v \n",
            "\u001b[0m v \u001b[0m # \u001b[0m ^ \u001b[0m # \u001b[0m v \u001b[0m # \u001b[0m ^ \u001b[0m # \u001b[0m ^ \u001b[0m # \u001b[0m ^ \u001b[0m # \u001b[0m ^ \u001b[0m < \u001b[0m ^ \u001b[0m < \u001b[0m # \u001b[0m v \u001b[0m < \u001b[0m # \u001b[0m v \n",
            "\u001b[0m > \u001b[0m > \u001b[0m ^ \u001b[0m # \u001b[0m v \u001b[0m # \u001b[0m v \u001b[0m # \u001b[0m # \u001b[0m # \u001b[0m # \u001b[0m # \u001b[0m # \u001b[0m # \u001b[0m # \u001b[0m ^ \u001b[0m # \u001b[0m v \u001b[0m # \u001b[0m # \u001b[0m ^ \n",
            "\u001b[0m # \u001b[0m # \u001b[0m # \u001b[0m # \u001b[0m v \u001b[0m # \u001b[0m > \u001b[0m < \u001b[0m v \u001b[0m # \u001b[0m > \u001b[0m > \u001b[0m > \u001b[0m < \u001b[0m > \u001b[0m ^ \u001b[0m # \u001b[0m ^ \u001b[0m > \u001b[0m > \u001b[0m < \n",
            "\u001b[0m > \u001b[0m < \u001b[0m < \u001b[0m < \u001b[0m v \u001b[0m # \u001b[0m # \u001b[0m # \u001b[0m ^ \u001b[0m # \u001b[0m # \u001b[0m # \u001b[0m # \u001b[0m # \u001b[0m # \u001b[0m v \u001b[0m # \u001b[0m # \u001b[0m ^ \u001b[0m # \u001b[0m ^ \n",
            "\u001b[0m # \u001b[0m # \u001b[0m # \u001b[0m # \u001b[0m v \u001b[0m # \u001b[0m v \u001b[0m # \u001b[0m ^ \u001b[0m # \u001b[0m v \u001b[0m > \u001b[0m > \u001b[0m > \u001b[0m > \u001b[0m > \u001b[0m < \u001b[0m > \u001b[0m ^ \u001b[0m # \u001b[0m v \n",
            "\u001b[0m v \u001b[0m < \u001b[0m < \u001b[0m # \u001b[0m v \u001b[0m > \u001b[0m ^ \u001b[0m # \u001b[0m # \u001b[0m # \u001b[0m v \u001b[0m ^ \u001b[0m # \u001b[0m # \u001b[0m # \u001b[0m # \u001b[0m # \u001b[0m # \u001b[0m # \u001b[0m # \u001b[0m > \n",
            "\u001b[0m v \u001b[0m # \u001b[0m ^ \u001b[0m # \u001b[0m v \u001b[0m # \u001b[0m ^ \u001b[0m # \u001b[0m > \u001b[0m > \u001b[0m v \u001b[0m # \u001b[0m # \u001b[0m > \u001b[0m > \u001b[0m < \u001b[0m > \u001b[0m > \u001b[0m v \u001b[0m # \u001b[0m # \n",
            "\u001b[0m v \u001b[0m # \u001b[0m ^ \u001b[0m # \u001b[0m v \u001b[0m # \u001b[0m # \u001b[0m # \u001b[0m ^ \u001b[0m # \u001b[0m v \u001b[0m # \u001b[0m > \u001b[0m ^ \u001b[0m # \u001b[0m # \u001b[0m # \u001b[0m # \u001b[0m ^ \u001b[0m < \u001b[0m v \n",
            "\u001b[0m v \u001b[0m # \u001b[0m ^ \u001b[0m # \u001b[0m v \u001b[0m # \u001b[0m > \u001b[0m > \u001b[0m ^ \u001b[0m # \u001b[0m v \u001b[0m # \u001b[0m ^ \u001b[0m # \u001b[0m # \u001b[0m v \u001b[0m v \u001b[0m # \u001b[0m # \u001b[0m # \u001b[0m v \n",
            "\u001b[0m v \u001b[0m # \u001b[0m ^ \u001b[0m < \u001b[0m < \u001b[0m # \u001b[0m # \u001b[0m ^ \u001b[0m # \u001b[0m # \u001b[0m v \u001b[0m # \u001b[0m ^ \u001b[0m # \u001b[0m > \u001b[0m > \u001b[0m > \u001b[0m > \u001b[0m v \u001b[0m # \u001b[0m > \n",
            "\u001b[0m v \u001b[0m # \u001b[0m # \u001b[0m # \u001b[0m # \u001b[0m # \u001b[0m > \u001b[0m ^ \u001b[0m # \u001b[0m v \u001b[0m > \u001b[0m > \u001b[0m > \u001b[0m > \u001b[0m ^ \u001b[0m # \u001b[0m # \u001b[0m # \u001b[0m v \u001b[0m # \u001b[0m ^ \n",
            "\u001b[0m > \u001b[0m > \u001b[0m > \u001b[0m v \u001b[0m # \u001b[0m > \u001b[0m ^ \u001b[0m # \u001b[0m # \u001b[0m ^ \u001b[0m # \u001b[0m v \u001b[0m # \u001b[0m # \u001b[0m v \u001b[0m # \u001b[0m v \u001b[0m < \u001b[0m < \u001b[0m # \u001b[0m > \n",
            "\u001b[0m # \u001b[0m # \u001b[0m # \u001b[0m > \u001b[0m > \u001b[0m ^ \u001b[0m # \u001b[0m # \u001b[0m > \u001b[0m < \u001b[0m # \u001b[0m > \u001b[0m < \u001b[0m # \u001b[0m # \u001b[0m # \u001b[0m v \u001b[0m # \u001b[0m # \u001b[0m # \u001b[0m # \n",
            "\u001b[0m < \u001b[0m v \u001b[0m # \u001b[0m # \u001b[0m ^ \u001b[0m # \u001b[0m # \u001b[0m # \u001b[0m # \u001b[0m # \u001b[0m # \u001b[0m # \u001b[0m v \u001b[0m < \u001b[0m < \u001b[0m # \u001b[0m v \u001b[0m # \u001b[0m > \u001b[0m > \u001b[0m v \n",
            "\u001b[0m # \u001b[0m > \u001b[0m < \u001b[0m # \u001b[0m ^ \u001b[0m # \u001b[0m > \u001b[0m < \u001b[0m v \u001b[0m # \u001b[0m > \u001b[0m > \u001b[0m < \u001b[0m # \u001b[0m # \u001b[0m # \u001b[0m v \u001b[0m # \u001b[0m ^ \u001b[0m # \u001b[0m v \n",
            "\u001b[0m # \u001b[0m # \u001b[0m ^ \u001b[0m > \u001b[0m < \u001b[0m # \u001b[0m # \u001b[0m # \u001b[0m ^ \u001b[0m # \u001b[0m # \u001b[0m # \u001b[0m v \u001b[0m < \u001b[0m < \u001b[0m # \u001b[0m > \u001b[0m > \u001b[0m ^ \u001b[0m # \u001b[0m v \n",
            "\u001b[0m v \u001b[0m # \u001b[0m # \u001b[0m v \u001b[0m # \u001b[0m # \u001b[0m > \u001b[0m < \u001b[0m > \u001b[0m < \u001b[0m < \u001b[0m # \u001b[0m v \u001b[0m # \u001b[0m # \u001b[0m # \u001b[0m # \u001b[0m # \u001b[0m # \u001b[0m # \u001b[0m v \n",
            "\u001b[0m v \u001b[0m > \u001b[0m < \u001b[0m < \u001b[0m < \u001b[0m > \u001b[0m v \u001b[0m # \u001b[0m # \u001b[0m # \u001b[0m v \u001b[0m # \u001b[0m ^ \u001b[0m > \u001b[0m v \u001b[0m < \u001b[0m > \u001b[0m < \u001b[0m v \u001b[0m # \u001b[0m @ \n",
            "\n"
          ],
          "name": "stdout"
        }
      ]
    },
    {
      "cell_type": "markdown",
      "metadata": {
        "id": "N-aKUuoX_Ut-"
      },
      "source": [
        "## Q-Learning:\n",
        "\n",
        "*Q-Learning* es el método más conocido para resolver problemas de aprendizaje por refuerzo mediante un esquema basado en el valor. Este algoritmo recibe su nombre directamente de $Q(S,A)$, la función de valor que va actualizando a lo largo de su ejecución. *Q-Learning* es muy parecido a *SARSA*, pero tiene una función de actualización diferente:\n",
        "\n",
        "\\begin{equation}\n",
        "Q(S_t,A_t) \\leftarrow Q(S_t,A_t) + \\alpha [R_t + \\gamma \\max_a{Q(S_{t+1}}, a) - Q(S_t,A_t)]\n",
        "\\end{equation}\n",
        "\n",
        "En este caso, la acción $A_{t+1}$ en $S_{t+1}$ se toma buscando el máximo valor, en lugar de poder elegir entre exploración o explotación.\n",
        "\n",
        "El algoritmo *Q-Learning* sigue el siguiente esquema: \n",
        "\n",
        "1.   Inicializar $Q(S,A)$ para todos los estados y acciones \n",
        "2.   **Bucle** (repetir $3-8$ hasta la convergencia):\n",
        "3.   Inicializar $S_t$\n",
        "4.   **Bucle** (repetir $6-8$ hasta que $S_t$ sea terminal):\n",
        "5.   Elegir $A_t$ en $S_t$ siguiendo la política derivada de $Q(S,A)$\n",
        "6.   Tomar la acción $A_t$ en $S_t$ y observar $R_t$ y $S_{t+1}$\n",
        "7.   Actualizar el valor $Q(S_t, A_t)$ con la función de actualización\n",
        "8.   Tomar $S_{t+1}$ como el nuevo $S_t$\n",
        "\n",
        "## Ejercicio 2:\n",
        "Implementad el algoritmo Q-Learning para el agente y entorno definidos anteriormente.\n",
        "\n",
        "Implementamos únicamente la función de actualización de $Q$, que es lo único que cambia con respecto a SARSA.\n"
      ]
    },
    {
      "cell_type": "code",
      "metadata": {
        "id": "KgdGqN3pCDeK"
      },
      "source": [
        "def Q_learning_optimization(Q, R, S, alpha, gamma, nextState, nextAction_idx, A_idx):\n",
        "    # nextAction_idx is unused, but we leave it there for compatibility with SARSA\n",
        "    max_act = np.max(Q[nextState[0], nextState[1], :])\n",
        "    return (Q[S[0], S[1], A_idx] \n",
        "            + alpha*(R + gamma*max_act - Q[S[0], S[1], A_idx]))"
      ],
      "execution_count": 12,
      "outputs": []
    },
    {
      "cell_type": "markdown",
      "metadata": {
        "id": "TOb74tNzs6SC"
      },
      "source": [
        "De nuevo, hacemos pruebas con todos los agentes en todos los mapas."
      ]
    },
    {
      "cell_type": "markdown",
      "metadata": {
        "id": "z0GVgsx3MF69"
      },
      "source": [
        "### Pruebas con la configuración original"
      ]
    },
    {
      "cell_type": "markdown",
      "metadata": {
        "id": "qrcsl3yiMF7B"
      },
      "source": [
        "#### Mapa 1"
      ]
    },
    {
      "cell_type": "code",
      "metadata": {
        "colab": {
          "base_uri": "https://localhost:8080/"
        },
        "id": "uJBsZpvgMF7E",
        "outputId": "2b14ead3-3dcd-4704-ad04-3bfd71c4c000"
      },
      "source": [
        "policy_w1p, Q, episodes, converged, paths, total_R, path_length = policy(\n",
        "    w1p, alpha=0.1, epsilon=0.0, n_episodes=100,\n",
        "    optimize_steps=10, step_funct = Q_learning_optimization,\n",
        "    verbose = True\n",
        ")"
      ],
      "execution_count": 198,
      "outputs": [
        {
          "output_type": "stream",
          "text": [
            "Episode 32\n",
            "\u001b[0m v \u001b[0m # \u001b[0m > \u001b[0m > \u001b[0m v \n",
            "\u001b[0m v \u001b[0m # \u001b[0m ^ \u001b[0m # \u001b[0m v \n",
            "\u001b[0m v \u001b[0m # \u001b[0m ^ \u001b[0m # \u001b[0m v \n",
            "\u001b[0m v \u001b[0m # \u001b[0m ^ \u001b[0m # \u001b[0m v \n",
            "\u001b[0m > \u001b[0m > \u001b[0m ^ \u001b[0m # \u001b[0m @ \n",
            "\n",
            "Converged in 32 episodes. Path length: 16\n"
          ],
          "name": "stdout"
        }
      ]
    },
    {
      "cell_type": "code",
      "metadata": {
        "colab": {
          "base_uri": "https://localhost:8080/"
        },
        "id": "qjk87nmMMF7H",
        "outputId": "bb31325b-416f-40d5-bcbf-99ede00fd77d"
      },
      "source": [
        "policy_w1m, Q, episodes, converged, paths, total_R, path_length = policy(\n",
        "    w1m, alpha=0.1, epsilon=0.0, n_episodes=5000, \n",
        "    step_funct = Q_learning_optimization\n",
        ")\n",
        "printPolicy(w1m, policy_w1m)"
      ],
      "execution_count": 199,
      "outputs": [
        {
          "output_type": "stream",
          "text": [
            "Converged in 180 episodes. Path length: 48\n",
            "\u001b[0m v \u001b[0m # \u001b[0m > \u001b[0m > \u001b[0m v \u001b[0m # \u001b[0m > \u001b[0m > \u001b[0m v \n",
            "\u001b[0m v \u001b[0m # \u001b[0m ^ \u001b[0m # \u001b[0m v \u001b[0m # \u001b[0m ^ \u001b[0m # \u001b[0m v \n",
            "\u001b[0m v \u001b[0m # \u001b[0m ^ \u001b[0m # \u001b[0m v \u001b[0m # \u001b[0m ^ \u001b[0m # \u001b[0m v \n",
            "\u001b[0m v \u001b[0m # \u001b[0m ^ \u001b[0m # \u001b[0m v \u001b[0m # \u001b[0m ^ \u001b[0m # \u001b[0m v \n",
            "\u001b[0m v \u001b[0m # \u001b[0m ^ \u001b[0m # \u001b[0m v \u001b[0m # \u001b[0m ^ \u001b[0m # \u001b[0m v \n",
            "\u001b[0m v \u001b[0m # \u001b[0m ^ \u001b[0m # \u001b[0m v \u001b[0m # \u001b[0m ^ \u001b[0m # \u001b[0m v \n",
            "\u001b[0m v \u001b[0m # \u001b[0m ^ \u001b[0m # \u001b[0m v \u001b[0m # \u001b[0m ^ \u001b[0m # \u001b[0m v \n",
            "\u001b[0m v \u001b[0m # \u001b[0m ^ \u001b[0m # \u001b[0m v \u001b[0m # \u001b[0m ^ \u001b[0m # \u001b[0m v \n",
            "\u001b[0m > \u001b[0m > \u001b[0m ^ \u001b[0m # \u001b[0m > \u001b[0m > \u001b[0m ^ \u001b[0m # \u001b[0m @ \n",
            "\n"
          ],
          "name": "stdout"
        }
      ]
    },
    {
      "cell_type": "code",
      "metadata": {
        "colab": {
          "base_uri": "https://localhost:8080/"
        },
        "id": "gZZmvmHpMF7M",
        "outputId": "e6c01106-5032-4186-fcf0-b9180b6f2d9e"
      },
      "source": [
        "policy_w1g, Q, episodes, converged, paths, total_R, path_length = policy(\n",
        "    w1g, alpha=0.1, epsilon=0.1, decay=0.9, max_steps=10000,\n",
        "    n_episodes=50000, step_funct = Q_learning_optimization\n",
        ")\n",
        "printPolicy(w1g, policy_w1g)"
      ],
      "execution_count": 214,
      "outputs": [
        {
          "output_type": "stream",
          "text": [
            "Did not converge after 50000 episodes\n",
            "\u001b[0m ^ \u001b[0m # \u001b[0m ^ \u001b[0m ^ \u001b[0m ^ \u001b[0m # \u001b[0m ^ \u001b[0m ^ \u001b[0m ^ \u001b[0m # \u001b[0m ^ \u001b[0m ^ \u001b[0m ^ \u001b[0m # \u001b[0m ^ \u001b[0m ^ \u001b[0m ^ \u001b[0m # \u001b[0m ^ \u001b[0m ^ \u001b[0m ^ \n",
            "\u001b[0m ^ \u001b[0m # \u001b[0m ^ \u001b[0m # \u001b[0m ^ \u001b[0m # \u001b[0m ^ \u001b[0m # \u001b[0m ^ \u001b[0m # \u001b[0m ^ \u001b[0m # \u001b[0m ^ \u001b[0m # \u001b[0m ^ \u001b[0m # \u001b[0m ^ \u001b[0m # \u001b[0m ^ \u001b[0m # \u001b[0m ^ \n",
            "\u001b[0m ^ \u001b[0m # \u001b[0m ^ \u001b[0m # \u001b[0m ^ \u001b[0m # \u001b[0m ^ \u001b[0m # \u001b[0m ^ \u001b[0m # \u001b[0m ^ \u001b[0m # \u001b[0m ^ \u001b[0m # \u001b[0m ^ \u001b[0m # \u001b[0m ^ \u001b[0m # \u001b[0m ^ \u001b[0m # \u001b[0m ^ \n",
            "\u001b[0m ^ \u001b[0m # \u001b[0m ^ \u001b[0m # \u001b[0m ^ \u001b[0m # \u001b[0m ^ \u001b[0m # \u001b[0m ^ \u001b[0m # \u001b[0m ^ \u001b[0m # \u001b[0m ^ \u001b[0m # \u001b[0m ^ \u001b[0m # \u001b[0m ^ \u001b[0m # \u001b[0m ^ \u001b[0m # \u001b[0m ^ \n",
            "\u001b[0m ^ \u001b[0m # \u001b[0m ^ \u001b[0m # \u001b[0m ^ \u001b[0m # \u001b[0m ^ \u001b[0m # \u001b[0m ^ \u001b[0m # \u001b[0m ^ \u001b[0m # \u001b[0m ^ \u001b[0m # \u001b[0m ^ \u001b[0m # \u001b[0m ^ \u001b[0m # \u001b[0m ^ \u001b[0m # \u001b[0m ^ \n",
            "\u001b[0m ^ \u001b[0m # \u001b[0m ^ \u001b[0m # \u001b[0m ^ \u001b[0m # \u001b[0m ^ \u001b[0m # \u001b[0m ^ \u001b[0m # \u001b[0m ^ \u001b[0m # \u001b[0m ^ \u001b[0m # \u001b[0m ^ \u001b[0m # \u001b[0m ^ \u001b[0m # \u001b[0m ^ \u001b[0m # \u001b[0m ^ \n",
            "\u001b[0m ^ \u001b[0m # \u001b[0m ^ \u001b[0m # \u001b[0m ^ \u001b[0m # \u001b[0m ^ \u001b[0m # \u001b[0m ^ \u001b[0m # \u001b[0m ^ \u001b[0m # \u001b[0m ^ \u001b[0m # \u001b[0m ^ \u001b[0m # \u001b[0m ^ \u001b[0m # \u001b[0m ^ \u001b[0m # \u001b[0m ^ \n",
            "\u001b[0m ^ \u001b[0m # \u001b[0m ^ \u001b[0m # \u001b[0m ^ \u001b[0m # \u001b[0m ^ \u001b[0m # \u001b[0m ^ \u001b[0m # \u001b[0m ^ \u001b[0m # \u001b[0m ^ \u001b[0m # \u001b[0m ^ \u001b[0m # \u001b[0m ^ \u001b[0m # \u001b[0m ^ \u001b[0m # \u001b[0m ^ \n",
            "\u001b[0m ^ \u001b[0m # \u001b[0m ^ \u001b[0m # \u001b[0m ^ \u001b[0m # \u001b[0m ^ \u001b[0m # \u001b[0m ^ \u001b[0m # \u001b[0m ^ \u001b[0m # \u001b[0m ^ \u001b[0m # \u001b[0m ^ \u001b[0m # \u001b[0m ^ \u001b[0m # \u001b[0m ^ \u001b[0m # \u001b[0m ^ \n",
            "\u001b[0m ^ \u001b[0m # \u001b[0m ^ \u001b[0m # \u001b[0m ^ \u001b[0m # \u001b[0m ^ \u001b[0m # \u001b[0m ^ \u001b[0m # \u001b[0m ^ \u001b[0m # \u001b[0m ^ \u001b[0m # \u001b[0m ^ \u001b[0m # \u001b[0m ^ \u001b[0m # \u001b[0m ^ \u001b[0m # \u001b[0m ^ \n",
            "\u001b[0m ^ \u001b[0m # \u001b[0m ^ \u001b[0m # \u001b[0m ^ \u001b[0m # \u001b[0m ^ \u001b[0m # \u001b[0m ^ \u001b[0m # \u001b[0m ^ \u001b[0m # \u001b[0m ^ \u001b[0m # \u001b[0m ^ \u001b[0m # \u001b[0m ^ \u001b[0m # \u001b[0m ^ \u001b[0m # \u001b[0m ^ \n",
            "\u001b[0m ^ \u001b[0m # \u001b[0m ^ \u001b[0m # \u001b[0m ^ \u001b[0m # \u001b[0m ^ \u001b[0m # \u001b[0m ^ \u001b[0m # \u001b[0m ^ \u001b[0m # \u001b[0m ^ \u001b[0m # \u001b[0m ^ \u001b[0m # \u001b[0m ^ \u001b[0m # \u001b[0m ^ \u001b[0m # \u001b[0m ^ \n",
            "\u001b[0m ^ \u001b[0m # \u001b[0m ^ \u001b[0m # \u001b[0m ^ \u001b[0m # \u001b[0m ^ \u001b[0m # \u001b[0m ^ \u001b[0m # \u001b[0m ^ \u001b[0m # \u001b[0m ^ \u001b[0m # \u001b[0m ^ \u001b[0m # \u001b[0m ^ \u001b[0m # \u001b[0m ^ \u001b[0m # \u001b[0m ^ \n",
            "\u001b[0m ^ \u001b[0m # \u001b[0m ^ \u001b[0m # \u001b[0m ^ \u001b[0m # \u001b[0m ^ \u001b[0m # \u001b[0m ^ \u001b[0m # \u001b[0m ^ \u001b[0m # \u001b[0m ^ \u001b[0m # \u001b[0m ^ \u001b[0m # \u001b[0m ^ \u001b[0m # \u001b[0m ^ \u001b[0m # \u001b[0m ^ \n",
            "\u001b[0m ^ \u001b[0m # \u001b[0m ^ \u001b[0m # \u001b[0m ^ \u001b[0m # \u001b[0m ^ \u001b[0m # \u001b[0m ^ \u001b[0m # \u001b[0m ^ \u001b[0m # \u001b[0m ^ \u001b[0m # \u001b[0m ^ \u001b[0m # \u001b[0m ^ \u001b[0m # \u001b[0m ^ \u001b[0m # \u001b[0m ^ \n",
            "\u001b[0m ^ \u001b[0m # \u001b[0m ^ \u001b[0m # \u001b[0m ^ \u001b[0m # \u001b[0m ^ \u001b[0m # \u001b[0m ^ \u001b[0m # \u001b[0m ^ \u001b[0m # \u001b[0m ^ \u001b[0m # \u001b[0m ^ \u001b[0m # \u001b[0m ^ \u001b[0m # \u001b[0m ^ \u001b[0m # \u001b[0m ^ \n",
            "\u001b[0m ^ \u001b[0m # \u001b[0m ^ \u001b[0m # \u001b[0m ^ \u001b[0m # \u001b[0m ^ \u001b[0m # \u001b[0m ^ \u001b[0m # \u001b[0m ^ \u001b[0m # \u001b[0m ^ \u001b[0m # \u001b[0m ^ \u001b[0m # \u001b[0m ^ \u001b[0m # \u001b[0m ^ \u001b[0m # \u001b[0m ^ \n",
            "\u001b[0m ^ \u001b[0m # \u001b[0m ^ \u001b[0m # \u001b[0m ^ \u001b[0m # \u001b[0m ^ \u001b[0m # \u001b[0m ^ \u001b[0m # \u001b[0m ^ \u001b[0m # \u001b[0m ^ \u001b[0m # \u001b[0m ^ \u001b[0m # \u001b[0m ^ \u001b[0m # \u001b[0m ^ \u001b[0m # \u001b[0m ^ \n",
            "\u001b[0m ^ \u001b[0m # \u001b[0m ^ \u001b[0m # \u001b[0m ^ \u001b[0m # \u001b[0m ^ \u001b[0m # \u001b[0m ^ \u001b[0m # \u001b[0m ^ \u001b[0m # \u001b[0m ^ \u001b[0m # \u001b[0m ^ \u001b[0m # \u001b[0m ^ \u001b[0m # \u001b[0m ^ \u001b[0m # \u001b[0m ^ \n",
            "\u001b[0m ^ \u001b[0m # \u001b[0m ^ \u001b[0m # \u001b[0m ^ \u001b[0m # \u001b[0m ^ \u001b[0m # \u001b[0m ^ \u001b[0m # \u001b[0m ^ \u001b[0m # \u001b[0m ^ \u001b[0m # \u001b[0m ^ \u001b[0m # \u001b[0m ^ \u001b[0m # \u001b[0m ^ \u001b[0m # \u001b[0m ^ \n",
            "\u001b[0m ^ \u001b[0m v \u001b[0m ^ \u001b[0m # \u001b[0m ^ \u001b[0m ^ \u001b[0m ^ \u001b[0m # \u001b[0m ^ \u001b[0m ^ \u001b[0m ^ \u001b[0m # \u001b[0m ^ \u001b[0m ^ \u001b[0m ^ \u001b[0m # \u001b[0m ^ \u001b[0m ^ \u001b[0m ^ \u001b[0m # \u001b[0m @ \n",
            "\n"
          ],
          "name": "stdout"
        }
      ]
    },
    {
      "cell_type": "markdown",
      "metadata": {
        "id": "LinpUSE-MF7O"
      },
      "source": [
        "#### Mapa 2"
      ]
    },
    {
      "cell_type": "code",
      "metadata": {
        "colab": {
          "base_uri": "https://localhost:8080/"
        },
        "id": "zLykh-HgMF7Q",
        "outputId": "b5df8570-dd4d-41a9-fdad-5ba00c98e83a"
      },
      "source": [
        "policy_w2p, Q, episodes, converged, paths, total_R, path_length = policy(\n",
        "    w2p, alpha=0.1, epsilon=0.0, n_episodes=100,\n",
        "    step_funct = Q_learning_optimization, verbose=True\n",
        ")"
      ],
      "execution_count": 206,
      "outputs": [
        {
          "output_type": "stream",
          "text": [
            "Episode 8\n",
            "\u001b[0m v \u001b[0m ^ \u001b[0m ^ \u001b[0m ^ \u001b[0m ^ \n",
            "\u001b[0m v \u001b[0m ^ \u001b[0m ^ \u001b[0m ^ \u001b[0m ^ \n",
            "\u001b[94m ^ \u001b[0m ^ \u001b[0m v \u001b[0m # \u001b[0m ^ \n",
            "\u001b[0m ^ \u001b[0m ^ \u001b[0m > \u001b[0m v \u001b[0m ^ \n",
            "\u001b[0m ^ \u001b[0m ^ \u001b[94m > \u001b[0m > \u001b[0m @ \n",
            "\n",
            "Converged in 8 episodes. Path length: 4\n"
          ],
          "name": "stdout"
        }
      ]
    },
    {
      "cell_type": "code",
      "metadata": {
        "colab": {
          "base_uri": "https://localhost:8080/"
        },
        "id": "8HpNByPGMF7T",
        "outputId": "f1dcb569-c6a1-4aeb-86ee-2cf17e021401"
      },
      "source": [
        "policy_w2m, Q, episodes, converged, paths, total_R, path_length = policy(\n",
        "    w2m, alpha=0.1, epsilon=0.0, n_episodes=100, \n",
        "    step_funct = Q_learning_optimization\n",
        ")\n",
        "printPolicy(w2m, policy_w2m)"
      ],
      "execution_count": 207,
      "outputs": [
        {
          "output_type": "stream",
          "text": [
            "Converged in 31 episodes. Path length: 8\n",
            "\u001b[0m v \u001b[0m ^ \u001b[0m ^ \u001b[0m ^ \u001b[0m ^ \u001b[0m ^ \u001b[0m ^ \u001b[0m ^ \u001b[0m ^ \u001b[0m ^ \n",
            "\u001b[0m v \u001b[0m # \u001b[0m # \u001b[0m ^ \u001b[0m # \u001b[0m ^ \u001b[0m ^ \u001b[0m ^ \u001b[0m ^ \u001b[0m ^ \n",
            "\u001b[0m v \u001b[0m v \u001b[0m < \u001b[0m ^ \u001b[0m # \u001b[0m ^ \u001b[0m ^ \u001b[0m ^ \u001b[0m ^ \u001b[0m ^ \n",
            "\u001b[0m > \u001b[94m ^ \u001b[0m ^ \u001b[0m ^ \u001b[0m v \u001b[0m ^ \u001b[0m ^ \u001b[0m ^ \u001b[0m ^ \u001b[0m ^ \n",
            "\u001b[0m ^ \u001b[0m ^ \u001b[0m # \u001b[0m ^ \u001b[0m # \u001b[0m ^ \u001b[0m ^ \u001b[0m ^ \u001b[0m ^ \u001b[0m ^ \n",
            "\u001b[0m ^ \u001b[0m ^ \u001b[0m # \u001b[0m ^ \u001b[0m ^ \u001b[0m ^ \u001b[0m ^ \u001b[0m ^ \u001b[0m # \u001b[0m ^ \n",
            "\u001b[0m ^ \u001b[0m ^ \u001b[0m v \u001b[0m ^ \u001b[0m ^ \u001b[0m ^ \u001b[0m ^ \u001b[0m # \u001b[0m ^ \u001b[0m ^ \n",
            "\u001b[0m ^ \u001b[0m ^ \u001b[0m ^ \u001b[0m ^ \u001b[0m ^ \u001b[0m ^ \u001b[0m # \u001b[0m ^ \u001b[0m ^ \u001b[0m ^ \n",
            "\u001b[0m ^ \u001b[0m ^ \u001b[0m ^ \u001b[0m ^ \u001b[0m ^ \u001b[0m ^ \u001b[94m > \u001b[0m v \u001b[0m v \u001b[0m ^ \n",
            "\u001b[0m ^ \u001b[0m ^ \u001b[0m ^ \u001b[0m ^ \u001b[0m ^ \u001b[0m ^ \u001b[0m ^ \u001b[0m > \u001b[0m > \u001b[0m @ \n",
            "\n"
          ],
          "name": "stdout"
        }
      ]
    },
    {
      "cell_type": "code",
      "metadata": {
        "colab": {
          "base_uri": "https://localhost:8080/"
        },
        "id": "Qtc7KkVeMF7V",
        "outputId": "75ea6681-a73d-4613-dc3a-a87d2c5eaaaa"
      },
      "source": [
        "policy_w2g, Q, episodes, converged, paths, total_R, path_length = policy(\n",
        "    w2g, alpha=0.1, epsilon=0.0, n_episodes=1000, \n",
        "    step_funct = Q_learning_optimization\n",
        ")\n",
        "printPolicy(w2g, policy_w2g)"
      ],
      "execution_count": 208,
      "outputs": [
        {
          "output_type": "stream",
          "text": [
            "Converged in 110 episodes. Path length: 18\n",
            "\u001b[0m v \u001b[0m v \u001b[0m ^ \u001b[0m ^ \u001b[0m ^ \u001b[0m ^ \u001b[0m ^ \u001b[0m ^ \u001b[0m ^ \u001b[0m ^ \u001b[0m ^ \u001b[0m ^ \u001b[0m ^ \u001b[0m ^ \u001b[0m ^ \u001b[0m ^ \u001b[0m ^ \u001b[0m ^ \u001b[0m ^ \u001b[0m ^ \u001b[0m ^ \n",
            "\u001b[0m v \u001b[0m < \u001b[0m ^ \u001b[0m ^ \u001b[0m ^ \u001b[0m ^ \u001b[0m ^ \u001b[0m ^ \u001b[0m ^ \u001b[0m ^ \u001b[0m ^ \u001b[0m ^ \u001b[0m ^ \u001b[0m ^ \u001b[0m ^ \u001b[0m ^ \u001b[0m # \u001b[0m ^ \u001b[0m ^ \u001b[0m ^ \u001b[0m ^ \n",
            "\u001b[0m v \u001b[0m ^ \u001b[0m v \u001b[0m ^ \u001b[0m ^ \u001b[0m ^ \u001b[0m ^ \u001b[0m ^ \u001b[0m ^ \u001b[0m ^ \u001b[0m ^ \u001b[0m ^ \u001b[0m ^ \u001b[0m ^ \u001b[0m # \u001b[0m ^ \u001b[0m v \u001b[0m ^ \u001b[0m ^ \u001b[0m ^ \u001b[0m ^ \n",
            "\u001b[0m > \u001b[0m > \u001b[0m v \u001b[0m ^ \u001b[0m ^ \u001b[0m ^ \u001b[0m ^ \u001b[0m ^ \u001b[0m ^ \u001b[0m ^ \u001b[0m ^ \u001b[0m ^ \u001b[0m ^ \u001b[0m ^ \u001b[0m ^ \u001b[0m ^ \u001b[0m ^ \u001b[0m ^ \u001b[0m ^ \u001b[0m ^ \u001b[0m ^ \n",
            "\u001b[0m ^ \u001b[0m v \u001b[0m v \u001b[0m < \u001b[0m ^ \u001b[0m ^ \u001b[0m ^ \u001b[0m # \u001b[0m ^ \u001b[0m ^ \u001b[0m ^ \u001b[0m ^ \u001b[0m ^ \u001b[0m # \u001b[0m ^ \u001b[0m ^ \u001b[0m ^ \u001b[0m ^ \u001b[0m ^ \u001b[0m ^ \u001b[0m ^ \n",
            "\u001b[0m > \u001b[0m > \u001b[0m v \u001b[0m ^ \u001b[0m # \u001b[0m ^ \u001b[0m ^ \u001b[0m v \u001b[0m ^ \u001b[0m ^ \u001b[0m # \u001b[0m ^ \u001b[0m ^ \u001b[0m # \u001b[0m ^ \u001b[0m ^ \u001b[0m ^ \u001b[0m # \u001b[0m ^ \u001b[0m ^ \u001b[0m ^ \n",
            "\u001b[0m ^ \u001b[0m ^ \u001b[94m ^ \u001b[0m # \u001b[0m v \u001b[0m ^ \u001b[0m ^ \u001b[0m ^ \u001b[0m ^ \u001b[0m ^ \u001b[0m v \u001b[0m ^ \u001b[0m ^ \u001b[0m ^ \u001b[0m ^ \u001b[0m ^ \u001b[0m # \u001b[0m ^ \u001b[0m ^ \u001b[0m ^ \u001b[0m ^ \n",
            "\u001b[0m ^ \u001b[0m # \u001b[0m ^ \u001b[0m # \u001b[0m ^ \u001b[0m ^ \u001b[0m # \u001b[0m ^ \u001b[0m ^ \u001b[0m ^ \u001b[0m ^ \u001b[0m # \u001b[0m ^ \u001b[0m # \u001b[0m ^ \u001b[0m ^ \u001b[0m ^ \u001b[0m ^ \u001b[0m ^ \u001b[0m ^ \u001b[0m ^ \n",
            "\u001b[0m ^ \u001b[0m v \u001b[0m ^ \u001b[0m v \u001b[0m # \u001b[0m ^ \u001b[0m v \u001b[0m # \u001b[0m ^ \u001b[0m ^ \u001b[0m # \u001b[0m ^ \u001b[0m ^ \u001b[0m # \u001b[0m # \u001b[0m ^ \u001b[0m ^ \u001b[0m ^ \u001b[0m ^ \u001b[0m ^ \u001b[0m ^ \n",
            "\u001b[0m ^ \u001b[0m ^ \u001b[0m ^ \u001b[0m ^ \u001b[0m # \u001b[0m ^ \u001b[0m ^ \u001b[0m ^ \u001b[0m ^ \u001b[0m ^ \u001b[0m ^ \u001b[0m ^ \u001b[0m ^ \u001b[0m ^ \u001b[0m ^ \u001b[0m ^ \u001b[0m ^ \u001b[0m # \u001b[0m ^ \u001b[0m ^ \u001b[0m ^ \n",
            "\u001b[0m ^ \u001b[0m ^ \u001b[0m ^ \u001b[0m ^ \u001b[0m ^ \u001b[0m ^ \u001b[0m # \u001b[0m ^ \u001b[0m ^ \u001b[0m ^ \u001b[0m # \u001b[0m ^ \u001b[0m # \u001b[0m ^ \u001b[0m ^ \u001b[0m ^ \u001b[0m ^ \u001b[0m ^ \u001b[0m ^ \u001b[0m ^ \u001b[0m ^ \n",
            "\u001b[0m ^ \u001b[0m ^ \u001b[0m ^ \u001b[0m ^ \u001b[0m # \u001b[0m ^ \u001b[0m ^ \u001b[0m # \u001b[0m # \u001b[0m ^ \u001b[0m ^ \u001b[0m ^ \u001b[0m ^ \u001b[0m # \u001b[0m ^ \u001b[0m ^ \u001b[0m ^ \u001b[0m ^ \u001b[0m ^ \u001b[0m ^ \u001b[0m ^ \n",
            "\u001b[0m ^ \u001b[0m ^ \u001b[0m ^ \u001b[0m ^ \u001b[0m v \u001b[0m # \u001b[0m ^ \u001b[0m ^ \u001b[0m ^ \u001b[0m ^ \u001b[0m ^ \u001b[0m ^ \u001b[0m ^ \u001b[0m v \u001b[0m ^ \u001b[0m # \u001b[0m ^ \u001b[0m ^ \u001b[0m ^ \u001b[0m ^ \u001b[0m ^ \n",
            "\u001b[0m ^ \u001b[0m ^ \u001b[0m ^ \u001b[0m # \u001b[0m ^ \u001b[0m ^ \u001b[0m ^ \u001b[0m ^ \u001b[0m ^ \u001b[0m ^ \u001b[0m ^ \u001b[0m ^ \u001b[0m ^ \u001b[0m ^ \u001b[0m ^ \u001b[0m ^ \u001b[0m ^ \u001b[0m ^ \u001b[0m ^ \u001b[0m ^ \u001b[0m ^ \n",
            "\u001b[0m ^ \u001b[0m # \u001b[0m ^ \u001b[0m ^ \u001b[0m ^ \u001b[0m ^ \u001b[0m ^ \u001b[0m ^ \u001b[0m ^ \u001b[0m ^ \u001b[0m # \u001b[0m ^ \u001b[0m ^ \u001b[0m ^ \u001b[0m ^ \u001b[0m ^ \u001b[0m ^ \u001b[0m ^ \u001b[0m ^ \u001b[0m ^ \u001b[0m ^ \n",
            "\u001b[0m ^ \u001b[0m v \u001b[0m ^ \u001b[0m ^ \u001b[0m ^ \u001b[0m ^ \u001b[0m # \u001b[0m ^ \u001b[0m # \u001b[0m ^ \u001b[0m # \u001b[0m ^ \u001b[0m ^ \u001b[0m ^ \u001b[0m # \u001b[0m # \u001b[0m ^ \u001b[0m ^ \u001b[0m ^ \u001b[0m ^ \u001b[0m ^ \n",
            "\u001b[0m ^ \u001b[0m ^ \u001b[0m # \u001b[0m # \u001b[0m ^ \u001b[0m ^ \u001b[0m ^ \u001b[0m ^ \u001b[0m ^ \u001b[0m ^ \u001b[0m v \u001b[0m ^ \u001b[0m ^ \u001b[0m ^ \u001b[0m # \u001b[0m v \u001b[0m # \u001b[0m ^ \u001b[0m ^ \u001b[0m ^ \u001b[0m ^ \n",
            "\u001b[0m ^ \u001b[0m ^ \u001b[0m ^ \u001b[0m ^ \u001b[0m ^ \u001b[0m ^ \u001b[0m ^ \u001b[0m ^ \u001b[0m ^ \u001b[0m # \u001b[0m ^ \u001b[0m ^ \u001b[0m ^ \u001b[0m ^ \u001b[0m > \u001b[0m > \u001b[0m > \u001b[0m > \u001b[0m v \u001b[0m ^ \u001b[0m ^ \n",
            "\u001b[0m ^ \u001b[0m ^ \u001b[0m ^ \u001b[0m ^ \u001b[0m ^ \u001b[0m ^ \u001b[0m ^ \u001b[0m ^ \u001b[0m ^ \u001b[0m v \u001b[0m ^ \u001b[0m # \u001b[0m ^ \u001b[0m ^ \u001b[94m ^ \u001b[0m ^ \u001b[0m ^ \u001b[0m ^ \u001b[0m > \u001b[0m v \u001b[0m ^ \n",
            "\u001b[0m ^ \u001b[0m ^ \u001b[0m ^ \u001b[0m ^ \u001b[0m ^ \u001b[0m ^ \u001b[0m ^ \u001b[0m ^ \u001b[0m ^ \u001b[0m ^ \u001b[0m ^ \u001b[0m ^ \u001b[0m ^ \u001b[0m ^ \u001b[0m ^ \u001b[0m ^ \u001b[0m v \u001b[0m ^ \u001b[0m v \u001b[0m v \u001b[0m ^ \n",
            "\u001b[0m ^ \u001b[0m ^ \u001b[0m ^ \u001b[0m ^ \u001b[0m ^ \u001b[0m ^ \u001b[0m ^ \u001b[0m ^ \u001b[0m ^ \u001b[0m ^ \u001b[0m ^ \u001b[0m ^ \u001b[0m ^ \u001b[0m ^ \u001b[0m > \u001b[0m > \u001b[0m > \u001b[0m > \u001b[0m > \u001b[0m > \u001b[0m @ \n",
            "\n"
          ],
          "name": "stdout"
        }
      ]
    },
    {
      "cell_type": "markdown",
      "metadata": {
        "id": "6UZ-PSLjMF7X"
      },
      "source": [
        "#### Mapa 3"
      ]
    },
    {
      "cell_type": "code",
      "metadata": {
        "colab": {
          "base_uri": "https://localhost:8080/"
        },
        "id": "sPggavRYMF7Z",
        "outputId": "adb580cc-27d0-451d-c3e3-5be49dcf4918"
      },
      "source": [
        "policy_w3p, Q, episodes, converged, paths, total_R, path_length = policy(\n",
        "    w3p, alpha=0.1, epsilon=0.0, n_episodes=100, \n",
        "    step_funct = Q_learning_optimization, verbose=True\n",
        ")"
      ],
      "execution_count": 209,
      "outputs": [
        {
          "output_type": "stream",
          "text": [
            "Episode 18\n",
            "\u001b[0m v \u001b[0m ^ \u001b[0m ^ \u001b[0m ^ \u001b[94m v \n",
            "\u001b[0m v \u001b[0m # \u001b[0m ^ \u001b[0m ^ \u001b[0m v \n",
            "\u001b[0m v \u001b[0m < \u001b[0m ^ \u001b[0m # \u001b[0m v \n",
            "\u001b[0m v \u001b[0m # \u001b[0m ^ \u001b[0m ^ \u001b[0m v \n",
            "\u001b[94m ^ \u001b[0m ^ \u001b[0m ^ \u001b[0m ^ \u001b[0m @ \n",
            "\n",
            "Converged in 18 episodes. Path length: 8\n"
          ],
          "name": "stdout"
        }
      ]
    },
    {
      "cell_type": "code",
      "metadata": {
        "colab": {
          "base_uri": "https://localhost:8080/"
        },
        "id": "huXPlga5MF7b",
        "outputId": "42cc9c68-d396-445e-c2eb-aa6aded3cf1f"
      },
      "source": [
        "policy_w3m, Q, episodes, converged, paths, total_R, path_length = policy(\n",
        "    w3m, alpha=0.1, epsilon=0.0, n_episodes=100, \n",
        "    step_funct = Q_learning_optimization\n",
        ")\n",
        "printPolicy(w3m, policy_w3m)"
      ],
      "execution_count": 210,
      "outputs": [
        {
          "output_type": "stream",
          "text": [
            "Converged in 50 episodes. Path length: 18\n",
            "\u001b[0m > \u001b[0m > \u001b[0m > \u001b[0m > \u001b[0m > \u001b[0m > \u001b[0m > \u001b[0m > \u001b[0m v \u001b[0m ^ \n",
            "\u001b[0m ^ \u001b[0m ^ \u001b[0m ^ \u001b[0m ^ \u001b[0m ^ \u001b[0m ^ \u001b[0m ^ \u001b[0m ^ \u001b[94m ^ \u001b[0m < \n",
            "\u001b[0m ^ \u001b[0m ^ \u001b[0m ^ \u001b[0m ^ \u001b[0m # \u001b[0m ^ \u001b[0m ^ \u001b[0m ^ \u001b[0m ^ \u001b[0m ^ \n",
            "\u001b[0m ^ \u001b[0m ^ \u001b[0m ^ \u001b[0m ^ \u001b[0m v \u001b[0m ^ \u001b[0m ^ \u001b[0m ^ \u001b[0m ^ \u001b[0m ^ \n",
            "\u001b[0m ^ \u001b[0m ^ \u001b[0m # \u001b[0m ^ \u001b[0m ^ \u001b[0m ^ \u001b[0m # \u001b[0m ^ \u001b[0m ^ \u001b[0m ^ \n",
            "\u001b[0m ^ \u001b[0m ^ \u001b[0m # \u001b[0m ^ \u001b[0m ^ \u001b[0m v \u001b[0m # \u001b[0m # \u001b[0m ^ \u001b[0m ^ \n",
            "\u001b[0m ^ \u001b[0m ^ \u001b[0m v \u001b[0m ^ \u001b[0m ^ \u001b[0m v \u001b[0m v \u001b[0m v \u001b[0m ^ \u001b[0m ^ \n",
            "\u001b[0m ^ \u001b[0m > \u001b[0m v \u001b[0m v \u001b[0m < \u001b[0m v \u001b[0m ^ \u001b[0m ^ \u001b[0m ^ \u001b[0m ^ \n",
            "\u001b[0m ^ \u001b[94m > \u001b[0m > \u001b[0m > \u001b[0m > \u001b[0m v \u001b[0m ^ \u001b[0m # \u001b[0m ^ \u001b[0m ^ \n",
            "\u001b[0m ^ \u001b[0m ^ \u001b[0m ^ \u001b[0m ^ \u001b[0m ^ \u001b[0m > \u001b[0m > \u001b[0m > \u001b[0m > \u001b[0m @ \n",
            "\n"
          ],
          "name": "stdout"
        }
      ]
    },
    {
      "cell_type": "code",
      "metadata": {
        "colab": {
          "base_uri": "https://localhost:8080/"
        },
        "id": "uF8lzkWsMF7c",
        "outputId": "295b9f5e-e7a8-45b9-9092-2e0260f84079"
      },
      "source": [
        "policy_w3g, Q, episodes, converged, paths, total_R, path_length = policy(\n",
        "    w3g, alpha=0.1, epsilon=0.0, n_episodes=1000, \n",
        "    step_funct = Q_learning_optimization\n",
        ")\n",
        "printPolicy(w3g, policy_w3g)"
      ],
      "execution_count": 211,
      "outputs": [
        {
          "output_type": "stream",
          "text": [
            "Converged in 319 episodes. Path length: 40\n",
            "\u001b[0m v \u001b[0m ^ \u001b[0m ^ \u001b[0m v \u001b[0m v \u001b[0m ^ \u001b[0m ^ \u001b[0m ^ \u001b[0m ^ \u001b[0m ^ \u001b[0m ^ \u001b[0m ^ \u001b[0m ^ \u001b[0m ^ \u001b[0m ^ \u001b[0m ^ \u001b[0m ^ \u001b[0m ^ \u001b[0m ^ \u001b[0m ^ \u001b[0m ^ \n",
            "\u001b[0m > \u001b[0m > \u001b[0m > \u001b[0m > \u001b[0m > \u001b[0m > \u001b[0m > \u001b[0m v \u001b[0m ^ \u001b[0m ^ \u001b[0m ^ \u001b[0m ^ \u001b[0m ^ \u001b[0m ^ \u001b[0m ^ \u001b[0m ^ \u001b[0m ^ \u001b[0m ^ \u001b[0m ^ \u001b[0m ^ \u001b[0m ^ \n",
            "\u001b[0m ^ \u001b[0m ^ \u001b[0m ^ \u001b[0m # \u001b[0m ^ \u001b[0m ^ \u001b[0m ^ \u001b[0m v \u001b[0m # \u001b[0m ^ \u001b[0m # \u001b[0m # \u001b[0m ^ \u001b[0m ^ \u001b[0m ^ \u001b[0m ^ \u001b[0m ^ \u001b[0m ^ \u001b[94m ^ \u001b[0m ^ \u001b[0m ^ \n",
            "\u001b[0m ^ \u001b[0m # \u001b[0m ^ \u001b[0m v \u001b[0m ^ \u001b[0m ^ \u001b[0m ^ \u001b[0m v \u001b[0m # \u001b[0m ^ \u001b[0m v \u001b[0m v \u001b[0m ^ \u001b[0m ^ \u001b[0m ^ \u001b[0m # \u001b[0m ^ \u001b[0m ^ \u001b[0m ^ \u001b[0m ^ \u001b[0m ^ \n",
            "\u001b[0m ^ \u001b[0m # \u001b[0m ^ \u001b[0m ^ \u001b[0m ^ \u001b[0m ^ \u001b[0m > \u001b[0m v \u001b[0m # \u001b[0m ^ \u001b[0m ^ \u001b[0m ^ \u001b[0m ^ \u001b[0m ^ \u001b[0m # \u001b[0m v \u001b[0m ^ \u001b[0m ^ \u001b[0m ^ \u001b[0m ^ \u001b[0m ^ \n",
            "\u001b[0m ^ \u001b[0m # \u001b[0m ^ \u001b[0m ^ \u001b[0m ^ \u001b[0m > \u001b[0m > \u001b[0m > \u001b[0m > \u001b[0m > \u001b[0m v \u001b[0m ^ \u001b[0m ^ \u001b[0m # \u001b[0m v \u001b[0m ^ \u001b[0m ^ \u001b[0m ^ \u001b[0m ^ \u001b[0m ^ \u001b[0m ^ \n",
            "\u001b[0m ^ \u001b[0m # \u001b[0m ^ \u001b[0m ^ \u001b[0m ^ \u001b[0m ^ \u001b[0m > \u001b[0m ^ \u001b[0m # \u001b[0m > \u001b[0m v \u001b[0m ^ \u001b[0m # \u001b[0m v \u001b[0m ^ \u001b[0m ^ \u001b[0m ^ \u001b[0m ^ \u001b[0m ^ \u001b[0m ^ \u001b[0m ^ \n",
            "\u001b[0m ^ \u001b[0m v \u001b[0m ^ \u001b[0m ^ \u001b[0m ^ \u001b[0m ^ \u001b[0m ^ \u001b[0m # \u001b[0m # \u001b[0m ^ \u001b[0m > \u001b[0m v \u001b[0m # \u001b[0m v \u001b[0m ^ \u001b[0m ^ \u001b[0m ^ \u001b[0m ^ \u001b[0m ^ \u001b[0m ^ \u001b[0m ^ \n",
            "\u001b[0m ^ \u001b[0m ^ \u001b[0m ^ \u001b[0m ^ \u001b[0m ^ \u001b[0m ^ \u001b[0m ^ \u001b[0m < \u001b[0m v \u001b[0m ^ \u001b[0m ^ \u001b[0m > \u001b[0m v \u001b[0m v \u001b[0m # \u001b[0m # \u001b[0m ^ \u001b[0m ^ \u001b[0m ^ \u001b[0m ^ \u001b[0m ^ \n",
            "\u001b[0m ^ \u001b[0m ^ \u001b[0m ^ \u001b[0m ^ \u001b[0m ^ \u001b[0m ^ \u001b[0m ^ \u001b[0m # \u001b[0m > \u001b[0m v \u001b[0m ^ \u001b[0m # \u001b[0m v \u001b[0m > \u001b[0m v \u001b[0m # \u001b[0m v \u001b[0m ^ \u001b[0m ^ \u001b[0m ^ \u001b[0m ^ \n",
            "\u001b[0m ^ \u001b[0m ^ \u001b[0m ^ \u001b[0m ^ \u001b[0m ^ \u001b[0m # \u001b[0m ^ \u001b[0m > \u001b[0m > \u001b[0m > \u001b[0m > \u001b[0m > \u001b[0m > \u001b[0m > \u001b[0m > \u001b[0m v \u001b[0m < \u001b[0m # \u001b[0m ^ \u001b[0m ^ \u001b[0m v \n",
            "\u001b[0m ^ \u001b[0m ^ \u001b[0m # \u001b[0m ^ \u001b[0m ^ \u001b[0m v \u001b[0m ^ \u001b[0m > \u001b[0m ^ \u001b[0m ^ \u001b[0m ^ \u001b[0m ^ \u001b[0m ^ \u001b[0m # \u001b[0m ^ \u001b[0m v \u001b[0m ^ \u001b[0m v \u001b[0m ^ \u001b[0m ^ \u001b[0m v \n",
            "\u001b[0m ^ \u001b[0m # \u001b[0m # \u001b[0m # \u001b[0m ^ \u001b[0m ^ \u001b[0m ^ \u001b[0m ^ \u001b[0m ^ \u001b[0m ^ \u001b[0m ^ \u001b[0m > \u001b[0m v \u001b[0m v \u001b[0m > \u001b[0m v \u001b[0m < \u001b[0m ^ \u001b[0m ^ \u001b[0m > \u001b[0m v \n",
            "\u001b[0m ^ \u001b[0m v \u001b[0m v \u001b[0m # \u001b[0m ^ \u001b[0m ^ \u001b[0m ^ \u001b[0m ^ \u001b[0m ^ \u001b[0m ^ \u001b[0m ^ \u001b[0m > \u001b[0m > \u001b[0m > \u001b[0m > \u001b[0m v \u001b[0m ^ \u001b[0m v \u001b[0m > \u001b[0m > \u001b[0m v \n",
            "\u001b[0m ^ \u001b[0m ^ \u001b[0m ^ \u001b[0m v \u001b[0m ^ \u001b[0m ^ \u001b[0m ^ \u001b[0m ^ \u001b[0m # \u001b[0m ^ \u001b[0m ^ \u001b[0m ^ \u001b[0m ^ \u001b[0m # \u001b[0m ^ \u001b[0m > \u001b[0m > \u001b[0m > \u001b[0m > \u001b[0m v \u001b[0m v \n",
            "\u001b[0m ^ \u001b[0m ^ \u001b[0m ^ \u001b[0m ^ \u001b[0m ^ \u001b[0m ^ \u001b[0m ^ \u001b[0m ^ \u001b[0m v \u001b[0m ^ \u001b[0m ^ \u001b[0m ^ \u001b[0m ^ \u001b[0m # \u001b[0m # \u001b[0m ^ \u001b[0m ^ \u001b[0m > \u001b[0m > \u001b[0m > \u001b[0m v \n",
            "\u001b[0m ^ \u001b[0m ^ \u001b[0m ^ \u001b[0m ^ \u001b[0m # \u001b[0m ^ \u001b[0m ^ \u001b[0m ^ \u001b[0m ^ \u001b[0m ^ \u001b[0m ^ \u001b[0m ^ \u001b[0m ^ \u001b[0m < \u001b[0m v \u001b[0m # \u001b[0m ^ \u001b[0m ^ \u001b[0m ^ \u001b[0m ^ \u001b[0m v \n",
            "\u001b[0m ^ \u001b[0m # \u001b[0m ^ \u001b[0m ^ \u001b[0m v \u001b[0m ^ \u001b[0m # \u001b[0m ^ \u001b[0m ^ \u001b[0m ^ \u001b[0m ^ \u001b[0m ^ \u001b[0m ^ \u001b[0m # \u001b[0m ^ \u001b[0m < \u001b[0m ^ \u001b[0m ^ \u001b[0m ^ \u001b[0m ^ \u001b[0m v \n",
            "\u001b[0m ^ \u001b[0m v \u001b[94m ^ \u001b[0m ^ \u001b[0m ^ \u001b[0m ^ \u001b[0m v \u001b[0m ^ \u001b[0m ^ \u001b[0m ^ \u001b[0m ^ \u001b[0m ^ \u001b[0m ^ \u001b[0m v \u001b[0m ^ \u001b[0m # \u001b[0m ^ \u001b[0m v \u001b[0m ^ \u001b[0m ^ \u001b[0m v \n",
            "\u001b[0m ^ \u001b[0m ^ \u001b[0m ^ \u001b[0m ^ \u001b[0m ^ \u001b[0m ^ \u001b[0m ^ \u001b[0m ^ \u001b[0m ^ \u001b[0m ^ \u001b[0m ^ \u001b[0m > \u001b[0m v \u001b[0m > \u001b[0m > \u001b[0m > \u001b[0m > \u001b[0m v \u001b[0m v \u001b[0m > \u001b[0m v \n",
            "\u001b[0m ^ \u001b[0m ^ \u001b[0m ^ \u001b[0m ^ \u001b[0m ^ \u001b[0m ^ \u001b[0m ^ \u001b[0m ^ \u001b[0m ^ \u001b[0m ^ \u001b[0m ^ \u001b[0m ^ \u001b[0m > \u001b[0m > \u001b[0m > \u001b[0m ^ \u001b[0m ^ \u001b[0m > \u001b[0m > \u001b[0m ^ \u001b[0m @ \n",
            "\n"
          ],
          "name": "stdout"
        }
      ]
    },
    {
      "cell_type": "markdown",
      "metadata": {
        "id": "L6Nk-HYcMF7d"
      },
      "source": [
        "#### Mapa 4"
      ]
    },
    {
      "cell_type": "code",
      "metadata": {
        "colab": {
          "base_uri": "https://localhost:8080/"
        },
        "id": "eoRDca6_MF7e",
        "outputId": "c8cb5654-9983-4658-b5fc-466569266ff8"
      },
      "source": [
        "policy_w4, Q, episodes, converged, paths, total_R, path_length = policy(\n",
        "    w4, alpha=0.2, epsilon=0.01, n_episodes=10000, max_steps=10000, \n",
        "    step_funct=Q_learning_optimization\n",
        ")\n",
        "printPolicy(w4, policy_w4)"
      ],
      "execution_count": 215,
      "outputs": [
        {
          "output_type": "stream",
          "text": [
            "Did not converge after 10000 episodes\n",
            "\u001b[0m ^ \u001b[0m # \u001b[0m ^ \u001b[0m # \u001b[0m ^ \u001b[0m ^ \u001b[0m ^ \u001b[0m ^ \u001b[0m ^ \u001b[0m # \u001b[0m ^ \u001b[0m ^ \u001b[0m ^ \u001b[0m ^ \u001b[0m ^ \u001b[0m # \u001b[0m # \u001b[0m # \u001b[0m ^ \u001b[0m # \u001b[0m ^ \n",
            "\u001b[0m ^ \u001b[0m # \u001b[0m ^ \u001b[0m # \u001b[0m # \u001b[0m # \u001b[0m # \u001b[0m # \u001b[0m ^ \u001b[0m # \u001b[0m # \u001b[0m # \u001b[0m # \u001b[0m # \u001b[0m ^ \u001b[0m ^ \u001b[0m ^ \u001b[0m # \u001b[0m ^ \u001b[0m # \u001b[0m ^ \n",
            "\u001b[0m ^ \u001b[0m # \u001b[0m ^ \u001b[0m < \u001b[0m v \u001b[0m < \u001b[0m v \u001b[0m < \u001b[0m ^ \u001b[0m # \u001b[0m ^ \u001b[0m ^ \u001b[0m ^ \u001b[0m # \u001b[0m ^ \u001b[0m # \u001b[0m # \u001b[0m # \u001b[0m ^ \u001b[0m # \u001b[0m ^ \n",
            "\u001b[0m ^ \u001b[0m # \u001b[0m ^ \u001b[0m # \u001b[0m ^ \u001b[0m # \u001b[0m ^ \u001b[0m # \u001b[0m ^ \u001b[0m # \u001b[0m ^ \u001b[0m # \u001b[0m ^ \u001b[0m ^ \u001b[0m ^ \u001b[0m ^ \u001b[0m # \u001b[0m ^ \u001b[0m ^ \u001b[0m # \u001b[0m ^ \n",
            "\u001b[0m ^ \u001b[0m < \u001b[0m ^ \u001b[0m # \u001b[0m ^ \u001b[0m # \u001b[0m ^ \u001b[0m # \u001b[0m # \u001b[0m # \u001b[0m # \u001b[0m # \u001b[0m # \u001b[0m # \u001b[0m # \u001b[0m ^ \u001b[0m # \u001b[0m ^ \u001b[0m # \u001b[0m # \u001b[0m ^ \n",
            "\u001b[0m # \u001b[0m # \u001b[0m # \u001b[0m # \u001b[0m ^ \u001b[0m # \u001b[0m ^ \u001b[0m < \u001b[0m v \u001b[0m # \u001b[0m ^ \u001b[0m ^ \u001b[0m ^ \u001b[0m ^ \u001b[0m ^ \u001b[0m ^ \u001b[0m # \u001b[0m ^ \u001b[0m ^ \u001b[0m ^ \u001b[0m ^ \n",
            "\u001b[0m < \u001b[0m < \u001b[0m < \u001b[0m < \u001b[0m ^ \u001b[0m # \u001b[0m # \u001b[0m # \u001b[0m ^ \u001b[0m # \u001b[0m # \u001b[0m # \u001b[0m # \u001b[0m # \u001b[0m # \u001b[0m ^ \u001b[0m # \u001b[0m # \u001b[0m ^ \u001b[0m # \u001b[0m ^ \n",
            "\u001b[0m # \u001b[0m # \u001b[0m # \u001b[0m # \u001b[0m ^ \u001b[0m # \u001b[0m v \u001b[0m # \u001b[0m ^ \u001b[0m # \u001b[0m v \u001b[0m v \u001b[0m ^ \u001b[0m ^ \u001b[0m ^ \u001b[0m ^ \u001b[0m ^ \u001b[0m ^ \u001b[0m ^ \u001b[0m # \u001b[0m ^ \n",
            "\u001b[0m v \u001b[0m < \u001b[0m v \u001b[0m # \u001b[0m ^ \u001b[0m < \u001b[0m ^ \u001b[0m # \u001b[0m # \u001b[0m # \u001b[0m ^ \u001b[0m ^ \u001b[0m # \u001b[0m # \u001b[0m # \u001b[0m # \u001b[0m # \u001b[0m # \u001b[0m # \u001b[0m # \u001b[0m ^ \n",
            "\u001b[0m ^ \u001b[0m # \u001b[0m ^ \u001b[0m # \u001b[0m ^ \u001b[0m # \u001b[0m ^ \u001b[0m # \u001b[0m v \u001b[0m < \u001b[0m ^ \u001b[0m # \u001b[0m # \u001b[0m ^ \u001b[0m ^ \u001b[0m ^ \u001b[0m ^ \u001b[0m ^ \u001b[0m ^ \u001b[0m # \u001b[0m # \n",
            "\u001b[0m ^ \u001b[0m # \u001b[0m ^ \u001b[0m # \u001b[0m ^ \u001b[0m # \u001b[0m # \u001b[0m # \u001b[0m ^ \u001b[0m # \u001b[0m ^ \u001b[0m # \u001b[0m ^ \u001b[0m ^ \u001b[0m # \u001b[0m # \u001b[0m # \u001b[0m # \u001b[0m ^ \u001b[0m ^ \u001b[0m ^ \n",
            "\u001b[0m ^ \u001b[0m # \u001b[0m ^ \u001b[0m # \u001b[0m ^ \u001b[0m # \u001b[0m > \u001b[0m v \u001b[0m ^ \u001b[0m # \u001b[0m ^ \u001b[0m # \u001b[0m ^ \u001b[0m # \u001b[0m # \u001b[0m ^ \u001b[0m ^ \u001b[0m # \u001b[0m # \u001b[0m # \u001b[0m ^ \n",
            "\u001b[0m ^ \u001b[0m # \u001b[0m ^ \u001b[0m < \u001b[0m ^ \u001b[0m # \u001b[0m # \u001b[0m ^ \u001b[0m # \u001b[0m # \u001b[0m ^ \u001b[0m # \u001b[0m ^ \u001b[0m # \u001b[0m ^ \u001b[0m ^ \u001b[0m ^ \u001b[0m ^ \u001b[0m ^ \u001b[0m # \u001b[0m ^ \n",
            "\u001b[0m ^ \u001b[0m # \u001b[0m # \u001b[0m # \u001b[0m # \u001b[0m # \u001b[0m v \u001b[0m ^ \u001b[0m # \u001b[0m v \u001b[0m ^ \u001b[0m ^ \u001b[0m ^ \u001b[0m ^ \u001b[0m ^ \u001b[0m # \u001b[0m # \u001b[0m # \u001b[0m ^ \u001b[0m # \u001b[0m ^ \n",
            "\u001b[0m ^ \u001b[0m < \u001b[0m < \u001b[0m v \u001b[0m # \u001b[0m v \u001b[0m ^ \u001b[0m # \u001b[0m # \u001b[0m ^ \u001b[0m # \u001b[0m ^ \u001b[0m # \u001b[0m # \u001b[0m ^ \u001b[0m # \u001b[0m ^ \u001b[0m ^ \u001b[0m ^ \u001b[0m # \u001b[0m ^ \n",
            "\u001b[0m # \u001b[0m # \u001b[0m # \u001b[0m ^ \u001b[0m v \u001b[0m ^ \u001b[0m # \u001b[0m # \u001b[0m ^ \u001b[0m ^ \u001b[0m # \u001b[0m ^ \u001b[0m ^ \u001b[0m # \u001b[0m # \u001b[0m # \u001b[0m ^ \u001b[0m # \u001b[0m # \u001b[0m # \u001b[0m # \n",
            "\u001b[0m < \u001b[0m v \u001b[0m # \u001b[0m # \u001b[0m ^ \u001b[0m # \u001b[0m # \u001b[0m # \u001b[0m # \u001b[0m # \u001b[0m # \u001b[0m # \u001b[0m ^ \u001b[0m ^ \u001b[0m ^ \u001b[0m # \u001b[0m ^ \u001b[0m # \u001b[0m ^ \u001b[0m ^ \u001b[0m ^ \n",
            "\u001b[0m # \u001b[0m ^ \u001b[0m v \u001b[0m # \u001b[0m ^ \u001b[0m # \u001b[0m > \u001b[0m < \u001b[0m v \u001b[0m # \u001b[0m ^ \u001b[0m ^ \u001b[0m ^ \u001b[0m # \u001b[0m # \u001b[0m # \u001b[0m ^ \u001b[0m # \u001b[0m ^ \u001b[0m # \u001b[0m ^ \n",
            "\u001b[0m # \u001b[0m # \u001b[0m ^ \u001b[0m v \u001b[0m ^ \u001b[0m # \u001b[0m # \u001b[0m # \u001b[0m ^ \u001b[0m # \u001b[0m # \u001b[0m # \u001b[0m ^ \u001b[0m ^ \u001b[0m ^ \u001b[0m # \u001b[0m ^ \u001b[0m ^ \u001b[0m ^ \u001b[0m # \u001b[0m ^ \n",
            "\u001b[0m v \u001b[0m # \u001b[0m # \u001b[0m ^ \u001b[0m # \u001b[0m # \u001b[0m v \u001b[0m < \u001b[0m ^ \u001b[0m < \u001b[0m v \u001b[0m # \u001b[0m ^ \u001b[0m # \u001b[0m # \u001b[0m # \u001b[0m # \u001b[0m # \u001b[0m # \u001b[0m # \u001b[0m ^ \n",
            "\u001b[0m ^ \u001b[0m v \u001b[0m v \u001b[0m ^ \u001b[0m v \u001b[0m v \u001b[0m ^ \u001b[0m # \u001b[0m # \u001b[0m # \u001b[0m ^ \u001b[0m # \u001b[0m ^ \u001b[0m ^ \u001b[0m ^ \u001b[0m ^ \u001b[0m ^ \u001b[0m ^ \u001b[0m ^ \u001b[0m # \u001b[0m @ \n",
            "\n"
          ],
          "name": "stdout"
        }
      ]
    },
    {
      "cell_type": "markdown",
      "metadata": {
        "id": "bvrY48ApYTJs"
      },
      "source": [
        "### Pruebas cambiando el comportamiento en obstáculos"
      ]
    },
    {
      "cell_type": "markdown",
      "metadata": {
        "id": "mpInZLc9YTJw"
      },
      "source": [
        "#### Mapa 1"
      ]
    },
    {
      "cell_type": "code",
      "metadata": {
        "colab": {
          "base_uri": "https://localhost:8080/"
        },
        "id": "5r7Z-WyhYTJz",
        "outputId": "ea5e4026-dc64-40ea-92de-bebf7764144e"
      },
      "source": [
        "policy_w1p, Q, episodes, converged, paths, total_R, path_length = policy(\n",
        "    w1p, alpha=0.1, epsilon=0.0, n_episodes=100, agent=2,\n",
        "    optimize_steps=10, step_funct = Q_learning_optimization,\n",
        "    verbose=True\n",
        ")"
      ],
      "execution_count": 216,
      "outputs": [
        {
          "output_type": "stream",
          "text": [
            "Episode 16\n",
            "\u001b[0m v \u001b[0m # \u001b[0m > \u001b[0m > \u001b[0m v \n",
            "\u001b[0m v \u001b[0m # \u001b[0m ^ \u001b[0m # \u001b[0m v \n",
            "\u001b[0m v \u001b[0m # \u001b[0m ^ \u001b[0m # \u001b[0m v \n",
            "\u001b[0m v \u001b[0m # \u001b[0m ^ \u001b[0m # \u001b[0m v \n",
            "\u001b[0m > \u001b[0m > \u001b[0m ^ \u001b[0m # \u001b[0m @ \n",
            "\n",
            "Converged in 16 episodes. Path length: 16\n"
          ],
          "name": "stdout"
        }
      ]
    },
    {
      "cell_type": "code",
      "metadata": {
        "colab": {
          "base_uri": "https://localhost:8080/"
        },
        "id": "PLmLgAfuYTJ3",
        "outputId": "12c17357-d535-44d2-822c-4e26bbd48a52"
      },
      "source": [
        "policy_w1m, Q, episodes, converged, paths, total_R, path_length = policy(\n",
        "    w1m, alpha=0.1, epsilon=0.0, n_episodes=5000, agent=2, \n",
        "    step_funct = Q_learning_optimization\n",
        ")\n",
        "printPolicy(w1m, policy_w1m)"
      ],
      "execution_count": 217,
      "outputs": [
        {
          "output_type": "stream",
          "text": [
            "Converged in 119 episodes. Path length: 48\n",
            "\u001b[0m v \u001b[0m # \u001b[0m > \u001b[0m > \u001b[0m v \u001b[0m # \u001b[0m > \u001b[0m > \u001b[0m v \n",
            "\u001b[0m v \u001b[0m # \u001b[0m ^ \u001b[0m # \u001b[0m v \u001b[0m # \u001b[0m ^ \u001b[0m # \u001b[0m v \n",
            "\u001b[0m v \u001b[0m # \u001b[0m ^ \u001b[0m # \u001b[0m v \u001b[0m # \u001b[0m ^ \u001b[0m # \u001b[0m v \n",
            "\u001b[0m v \u001b[0m # \u001b[0m ^ \u001b[0m # \u001b[0m v \u001b[0m # \u001b[0m ^ \u001b[0m # \u001b[0m v \n",
            "\u001b[0m v \u001b[0m # \u001b[0m ^ \u001b[0m # \u001b[0m v \u001b[0m # \u001b[0m ^ \u001b[0m # \u001b[0m v \n",
            "\u001b[0m v \u001b[0m # \u001b[0m ^ \u001b[0m # \u001b[0m v \u001b[0m # \u001b[0m ^ \u001b[0m # \u001b[0m v \n",
            "\u001b[0m v \u001b[0m # \u001b[0m ^ \u001b[0m # \u001b[0m v \u001b[0m # \u001b[0m ^ \u001b[0m # \u001b[0m v \n",
            "\u001b[0m v \u001b[0m # \u001b[0m ^ \u001b[0m # \u001b[0m v \u001b[0m # \u001b[0m ^ \u001b[0m # \u001b[0m v \n",
            "\u001b[0m > \u001b[0m > \u001b[0m ^ \u001b[0m # \u001b[0m > \u001b[0m > \u001b[0m ^ \u001b[0m # \u001b[0m @ \n",
            "\n"
          ],
          "name": "stdout"
        }
      ]
    },
    {
      "cell_type": "code",
      "metadata": {
        "id": "f6e-08p2YTJ7"
      },
      "source": [
        "#\n",
        "# Tarda +20 min y no termina\n",
        "#\n",
        "\n",
        "policy_w1g, Q, episodes, converged, paths, total_R, path_length = policy(\n",
        "    w1g, alpha=0.1, epsilon=0.1, decay=0.9, agent=2, max_steps=5000, gamma=0.9,\n",
        "    n_episodes=20000, step_funct = Q_learning_optimization\n",
        ")\n",
        "printPolicy(w1g, policy_w1g)"
      ],
      "execution_count": null,
      "outputs": []
    },
    {
      "cell_type": "markdown",
      "metadata": {
        "id": "PUfan7uRYTJ-"
      },
      "source": [
        "#### Mapa 2"
      ]
    },
    {
      "cell_type": "code",
      "metadata": {
        "colab": {
          "base_uri": "https://localhost:8080/"
        },
        "id": "zsPJxmg8YTKC",
        "outputId": "98dd56e2-5fac-4ad8-c823-9b2eb5b0b20b"
      },
      "source": [
        "policy_w2p, Q, episodes, converged, paths, total_R, path_length = policy(\n",
        "    w2p, alpha=0.1, epsilon=0.0, n_episodes=100, agent=2,\n",
        "    step_funct = Q_learning_optimization, verbose=True\n",
        ")"
      ],
      "execution_count": 222,
      "outputs": [
        {
          "output_type": "stream",
          "text": [
            "Episode 7\n",
            "\u001b[0m v \u001b[0m ^ \u001b[0m ^ \u001b[0m ^ \u001b[0m ^ \n",
            "\u001b[0m v \u001b[0m ^ \u001b[0m ^ \u001b[0m ^ \u001b[0m ^ \n",
            "\u001b[94m ^ \u001b[0m ^ \u001b[0m v \u001b[0m # \u001b[0m ^ \n",
            "\u001b[0m ^ \u001b[0m ^ \u001b[0m > \u001b[0m v \u001b[0m ^ \n",
            "\u001b[0m ^ \u001b[0m ^ \u001b[94m > \u001b[0m > \u001b[0m @ \n",
            "\n",
            "Converged in 7 episodes. Path length: 4\n"
          ],
          "name": "stdout"
        }
      ]
    },
    {
      "cell_type": "code",
      "metadata": {
        "colab": {
          "base_uri": "https://localhost:8080/"
        },
        "id": "VcvnaeHTYTKF",
        "outputId": "1343c610-11fa-4c2b-c100-f0899f0ea783"
      },
      "source": [
        "policy_w2m, Q, episodes, converged, paths, total_R, path_length = policy(\n",
        "    w2m, alpha=0.1, epsilon=0.0, n_episodes=100, agent=2,\n",
        "    step_funct = Q_learning_optimization\n",
        ")\n",
        "printPolicy(w2m, policy_w2m)"
      ],
      "execution_count": 223,
      "outputs": [
        {
          "output_type": "stream",
          "text": [
            "Converged in 10 episodes. Path length: 8\n",
            "\u001b[0m v \u001b[0m ^ \u001b[0m ^ \u001b[0m ^ \u001b[0m ^ \u001b[0m ^ \u001b[0m ^ \u001b[0m ^ \u001b[0m ^ \u001b[0m ^ \n",
            "\u001b[0m v \u001b[0m # \u001b[0m # \u001b[0m ^ \u001b[0m # \u001b[0m ^ \u001b[0m ^ \u001b[0m ^ \u001b[0m ^ \u001b[0m ^ \n",
            "\u001b[0m > \u001b[0m v \u001b[0m < \u001b[0m ^ \u001b[0m # \u001b[0m ^ \u001b[0m ^ \u001b[0m ^ \u001b[0m ^ \u001b[0m ^ \n",
            "\u001b[0m ^ \u001b[94m ^ \u001b[0m ^ \u001b[0m ^ \u001b[0m < \u001b[0m ^ \u001b[0m ^ \u001b[0m ^ \u001b[0m ^ \u001b[0m ^ \n",
            "\u001b[0m ^ \u001b[0m ^ \u001b[0m # \u001b[0m ^ \u001b[0m # \u001b[0m ^ \u001b[0m ^ \u001b[0m ^ \u001b[0m ^ \u001b[0m ^ \n",
            "\u001b[0m ^ \u001b[0m ^ \u001b[0m # \u001b[0m ^ \u001b[0m ^ \u001b[0m ^ \u001b[0m ^ \u001b[0m ^ \u001b[0m # \u001b[0m ^ \n",
            "\u001b[0m ^ \u001b[0m ^ \u001b[0m v \u001b[0m ^ \u001b[0m ^ \u001b[0m ^ \u001b[0m ^ \u001b[0m # \u001b[0m ^ \u001b[0m ^ \n",
            "\u001b[0m ^ \u001b[0m ^ \u001b[0m ^ \u001b[0m ^ \u001b[0m ^ \u001b[0m ^ \u001b[0m # \u001b[0m v \u001b[0m ^ \u001b[0m ^ \n",
            "\u001b[0m ^ \u001b[0m ^ \u001b[0m ^ \u001b[0m ^ \u001b[0m ^ \u001b[0m ^ \u001b[94m > \u001b[0m v \u001b[0m ^ \u001b[0m ^ \n",
            "\u001b[0m ^ \u001b[0m ^ \u001b[0m ^ \u001b[0m ^ \u001b[0m ^ \u001b[0m ^ \u001b[0m ^ \u001b[0m > \u001b[0m > \u001b[0m @ \n",
            "\n"
          ],
          "name": "stdout"
        }
      ]
    },
    {
      "cell_type": "code",
      "metadata": {
        "colab": {
          "base_uri": "https://localhost:8080/"
        },
        "id": "a5szaD2-YTKH",
        "outputId": "c23cf365-3f7b-4ba4-b670-52d8261c823d"
      },
      "source": [
        "policy_w2g, Q, episodes, converged, paths, total_R, path_length = policy(\n",
        "    w2g, alpha=0.1, epsilon=0.0, n_episodes=1000, agent=2,\n",
        "    step_funct = Q_learning_optimization\n",
        ")\n",
        "printPolicy(w2g, policy_w2g)"
      ],
      "execution_count": 224,
      "outputs": [
        {
          "output_type": "stream",
          "text": [
            "Converged in 39 episodes. Path length: 18\n",
            "\u001b[0m v \u001b[0m v \u001b[0m ^ \u001b[0m ^ \u001b[0m ^ \u001b[0m ^ \u001b[0m ^ \u001b[0m ^ \u001b[0m ^ \u001b[0m ^ \u001b[0m ^ \u001b[0m ^ \u001b[0m ^ \u001b[0m ^ \u001b[0m ^ \u001b[0m ^ \u001b[0m ^ \u001b[0m ^ \u001b[0m ^ \u001b[0m ^ \u001b[0m ^ \n",
            "\u001b[0m > \u001b[0m v \u001b[0m ^ \u001b[0m ^ \u001b[0m ^ \u001b[0m ^ \u001b[0m ^ \u001b[0m ^ \u001b[0m ^ \u001b[0m ^ \u001b[0m ^ \u001b[0m ^ \u001b[0m ^ \u001b[0m ^ \u001b[0m ^ \u001b[0m ^ \u001b[0m # \u001b[0m ^ \u001b[0m ^ \u001b[0m ^ \u001b[0m ^ \n",
            "\u001b[0m > \u001b[0m v \u001b[0m ^ \u001b[0m ^ \u001b[0m ^ \u001b[0m ^ \u001b[0m ^ \u001b[0m ^ \u001b[0m ^ \u001b[0m ^ \u001b[0m ^ \u001b[0m ^ \u001b[0m ^ \u001b[0m ^ \u001b[0m # \u001b[0m ^ \u001b[0m v \u001b[0m ^ \u001b[0m ^ \u001b[0m ^ \u001b[0m ^ \n",
            "\u001b[0m ^ \u001b[0m v \u001b[0m ^ \u001b[0m ^ \u001b[0m ^ \u001b[0m ^ \u001b[0m ^ \u001b[0m ^ \u001b[0m ^ \u001b[0m ^ \u001b[0m ^ \u001b[0m ^ \u001b[0m ^ \u001b[0m ^ \u001b[0m v \u001b[0m ^ \u001b[0m ^ \u001b[0m ^ \u001b[0m ^ \u001b[0m ^ \u001b[0m ^ \n",
            "\u001b[0m ^ \u001b[0m v \u001b[0m > \u001b[0m v \u001b[0m ^ \u001b[0m ^ \u001b[0m ^ \u001b[0m # \u001b[0m ^ \u001b[0m ^ \u001b[0m ^ \u001b[0m ^ \u001b[0m ^ \u001b[0m # \u001b[0m ^ \u001b[0m ^ \u001b[0m ^ \u001b[0m ^ \u001b[0m ^ \u001b[0m ^ \u001b[0m ^ \n",
            "\u001b[0m ^ \u001b[0m > \u001b[0m v \u001b[0m < \u001b[0m # \u001b[0m ^ \u001b[0m ^ \u001b[0m v \u001b[0m ^ \u001b[0m ^ \u001b[0m # \u001b[0m ^ \u001b[0m ^ \u001b[0m # \u001b[0m ^ \u001b[0m ^ \u001b[0m ^ \u001b[0m # \u001b[0m ^ \u001b[0m ^ \u001b[0m ^ \n",
            "\u001b[0m ^ \u001b[0m > \u001b[94m ^ \u001b[0m # \u001b[0m v \u001b[0m ^ \u001b[0m ^ \u001b[0m ^ \u001b[0m ^ \u001b[0m ^ \u001b[0m v \u001b[0m ^ \u001b[0m ^ \u001b[0m < \u001b[0m ^ \u001b[0m ^ \u001b[0m # \u001b[0m v \u001b[0m ^ \u001b[0m ^ \u001b[0m ^ \n",
            "\u001b[0m ^ \u001b[0m # \u001b[0m ^ \u001b[0m # \u001b[0m ^ \u001b[0m ^ \u001b[0m # \u001b[0m ^ \u001b[0m ^ \u001b[0m ^ \u001b[0m ^ \u001b[0m # \u001b[0m ^ \u001b[0m # \u001b[0m ^ \u001b[0m ^ \u001b[0m v \u001b[0m ^ \u001b[0m ^ \u001b[0m ^ \u001b[0m ^ \n",
            "\u001b[0m ^ \u001b[0m v \u001b[0m ^ \u001b[0m v \u001b[0m # \u001b[0m ^ \u001b[0m v \u001b[0m # \u001b[0m ^ \u001b[0m ^ \u001b[0m # \u001b[0m v \u001b[0m ^ \u001b[0m # \u001b[0m # \u001b[0m ^ \u001b[0m ^ \u001b[0m ^ \u001b[0m ^ \u001b[0m ^ \u001b[0m ^ \n",
            "\u001b[0m ^ \u001b[0m ^ \u001b[0m ^ \u001b[0m ^ \u001b[0m # \u001b[0m ^ \u001b[0m ^ \u001b[0m v \u001b[0m ^ \u001b[0m ^ \u001b[0m < \u001b[0m ^ \u001b[0m ^ \u001b[0m v \u001b[0m v \u001b[0m ^ \u001b[0m ^ \u001b[0m # \u001b[0m ^ \u001b[0m ^ \u001b[0m ^ \n",
            "\u001b[0m ^ \u001b[0m ^ \u001b[0m ^ \u001b[0m ^ \u001b[0m < \u001b[0m ^ \u001b[0m # \u001b[0m ^ \u001b[0m ^ \u001b[0m ^ \u001b[0m # \u001b[0m ^ \u001b[0m # \u001b[0m ^ \u001b[0m ^ \u001b[0m ^ \u001b[0m ^ \u001b[0m v \u001b[0m ^ \u001b[0m ^ \u001b[0m ^ \n",
            "\u001b[0m ^ \u001b[0m ^ \u001b[0m ^ \u001b[0m ^ \u001b[0m # \u001b[0m ^ \u001b[0m v \u001b[0m # \u001b[0m # \u001b[0m ^ \u001b[0m v \u001b[0m ^ \u001b[0m v \u001b[0m # \u001b[0m ^ \u001b[0m ^ \u001b[0m ^ \u001b[0m ^ \u001b[0m ^ \u001b[0m ^ \u001b[0m ^ \n",
            "\u001b[0m ^ \u001b[0m ^ \u001b[0m ^ \u001b[0m ^ \u001b[0m v \u001b[0m # \u001b[0m ^ \u001b[0m v \u001b[0m v \u001b[0m ^ \u001b[0m ^ \u001b[0m ^ \u001b[0m ^ \u001b[0m v \u001b[0m ^ \u001b[0m # \u001b[0m ^ \u001b[0m ^ \u001b[0m ^ \u001b[0m ^ \u001b[0m ^ \n",
            "\u001b[0m ^ \u001b[0m ^ \u001b[0m ^ \u001b[0m # \u001b[0m ^ \u001b[0m v \u001b[0m ^ \u001b[0m ^ \u001b[0m ^ \u001b[0m ^ \u001b[0m ^ \u001b[0m ^ \u001b[0m ^ \u001b[0m ^ \u001b[0m ^ \u001b[0m v \u001b[0m ^ \u001b[0m ^ \u001b[0m ^ \u001b[0m ^ \u001b[0m ^ \n",
            "\u001b[0m ^ \u001b[0m # \u001b[0m ^ \u001b[0m v \u001b[0m ^ \u001b[0m ^ \u001b[0m ^ \u001b[0m ^ \u001b[0m ^ \u001b[0m ^ \u001b[0m # \u001b[0m ^ \u001b[0m ^ \u001b[0m ^ \u001b[0m ^ \u001b[0m ^ \u001b[0m ^ \u001b[0m ^ \u001b[0m ^ \u001b[0m ^ \u001b[0m ^ \n",
            "\u001b[0m ^ \u001b[0m v \u001b[0m ^ \u001b[0m ^ \u001b[0m ^ \u001b[0m ^ \u001b[0m # \u001b[0m ^ \u001b[0m # \u001b[0m ^ \u001b[0m # \u001b[0m ^ \u001b[0m ^ \u001b[0m ^ \u001b[0m # \u001b[0m # \u001b[0m ^ \u001b[0m ^ \u001b[0m ^ \u001b[0m ^ \u001b[0m ^ \n",
            "\u001b[0m ^ \u001b[0m ^ \u001b[0m # \u001b[0m # \u001b[0m ^ \u001b[0m ^ \u001b[0m v \u001b[0m ^ \u001b[0m v \u001b[0m ^ \u001b[0m v \u001b[0m ^ \u001b[0m ^ \u001b[0m ^ \u001b[0m # \u001b[0m v \u001b[0m # \u001b[0m ^ \u001b[0m ^ \u001b[0m ^ \u001b[0m ^ \n",
            "\u001b[0m ^ \u001b[0m ^ \u001b[0m v \u001b[0m v \u001b[0m ^ \u001b[0m ^ \u001b[0m ^ \u001b[0m ^ \u001b[0m ^ \u001b[0m # \u001b[0m ^ \u001b[0m ^ \u001b[0m ^ \u001b[0m ^ \u001b[0m v \u001b[0m ^ \u001b[0m v \u001b[0m ^ \u001b[0m ^ \u001b[0m ^ \u001b[0m ^ \n",
            "\u001b[0m ^ \u001b[0m ^ \u001b[0m ^ \u001b[0m ^ \u001b[0m ^ \u001b[0m ^ \u001b[0m ^ \u001b[0m ^ \u001b[0m ^ \u001b[0m v \u001b[0m ^ \u001b[0m # \u001b[0m ^ \u001b[0m ^ \u001b[94m v \u001b[0m ^ \u001b[0m ^ \u001b[0m ^ \u001b[0m ^ \u001b[0m ^ \u001b[0m ^ \n",
            "\u001b[0m ^ \u001b[0m ^ \u001b[0m ^ \u001b[0m ^ \u001b[0m ^ \u001b[0m ^ \u001b[0m ^ \u001b[0m ^ \u001b[0m ^ \u001b[0m ^ \u001b[0m ^ \u001b[0m v \u001b[0m ^ \u001b[0m ^ \u001b[0m v \u001b[0m ^ \u001b[0m > \u001b[0m v \u001b[0m ^ \u001b[0m ^ \u001b[0m ^ \n",
            "\u001b[0m ^ \u001b[0m ^ \u001b[0m ^ \u001b[0m ^ \u001b[0m ^ \u001b[0m ^ \u001b[0m ^ \u001b[0m ^ \u001b[0m ^ \u001b[0m ^ \u001b[0m ^ \u001b[0m ^ \u001b[0m ^ \u001b[0m > \u001b[0m > \u001b[0m > \u001b[0m ^ \u001b[0m > \u001b[0m > \u001b[0m > \u001b[0m @ \n",
            "\n"
          ],
          "name": "stdout"
        }
      ]
    },
    {
      "cell_type": "markdown",
      "metadata": {
        "id": "yIgyDeFkYTKJ"
      },
      "source": [
        "#### Mapa 3"
      ]
    },
    {
      "cell_type": "code",
      "metadata": {
        "colab": {
          "base_uri": "https://localhost:8080/"
        },
        "id": "Lv3rZeJfYTKK",
        "outputId": "ea1c4b71-2ebd-40c4-9921-38902833cf2d"
      },
      "source": [
        "policy_w3p, Q, episodes, converged, paths, total_R, path_length = policy(\n",
        "    w3p, alpha=0.1, epsilon=0.0, n_episodes=100, agent=2,\n",
        "    step_funct = Q_learning_optimization, verbose=True\n",
        ")"
      ],
      "execution_count": 225,
      "outputs": [
        {
          "output_type": "stream",
          "text": [
            "Episode 10\n",
            "\u001b[0m v \u001b[0m ^ \u001b[0m ^ \u001b[0m ^ \u001b[94m v \n",
            "\u001b[0m v \u001b[0m # \u001b[0m ^ \u001b[0m ^ \u001b[0m v \n",
            "\u001b[0m v \u001b[0m < \u001b[0m ^ \u001b[0m # \u001b[0m v \n",
            "\u001b[0m v \u001b[0m # \u001b[0m ^ \u001b[0m > \u001b[0m v \n",
            "\u001b[94m ^ \u001b[0m v \u001b[0m ^ \u001b[0m ^ \u001b[0m @ \n",
            "\n",
            "Converged in 10 episodes. Path length: 8\n"
          ],
          "name": "stdout"
        }
      ]
    },
    {
      "cell_type": "code",
      "metadata": {
        "colab": {
          "base_uri": "https://localhost:8080/"
        },
        "id": "jYZ0gjgeYTKM",
        "outputId": "36462ab4-fdec-4318-96c2-9a4986bb3664"
      },
      "source": [
        "policy_w3m, Q, episodes, converged, paths, total_R, path_length = policy(\n",
        "    w3m, alpha=0.1, epsilon=0.0, n_episodes=100, agent=2,\n",
        "    step_funct = Q_learning_optimization\n",
        ")\n",
        "printPolicy(w3m, policy_w3m)"
      ],
      "execution_count": 226,
      "outputs": [
        {
          "output_type": "stream",
          "text": [
            "Converged in 39 episodes. Path length: 18\n",
            "\u001b[0m v \u001b[0m ^ \u001b[0m ^ \u001b[0m ^ \u001b[0m ^ \u001b[0m ^ \u001b[0m ^ \u001b[0m ^ \u001b[0m ^ \u001b[0m ^ \n",
            "\u001b[0m v \u001b[0m v \u001b[0m ^ \u001b[0m ^ \u001b[0m ^ \u001b[0m ^ \u001b[0m ^ \u001b[0m > \u001b[94m ^ \u001b[0m ^ \n",
            "\u001b[0m > \u001b[0m v \u001b[0m > \u001b[0m v \u001b[0m # \u001b[0m ^ \u001b[0m ^ \u001b[0m ^ \u001b[0m ^ \u001b[0m ^ \n",
            "\u001b[0m ^ \u001b[0m > \u001b[0m > \u001b[0m > \u001b[0m v \u001b[0m v \u001b[0m ^ \u001b[0m ^ \u001b[0m ^ \u001b[0m ^ \n",
            "\u001b[0m ^ \u001b[0m ^ \u001b[0m # \u001b[0m > \u001b[0m > \u001b[0m v \u001b[0m # \u001b[0m ^ \u001b[0m ^ \u001b[0m ^ \n",
            "\u001b[0m ^ \u001b[0m ^ \u001b[0m # \u001b[0m ^ \u001b[0m ^ \u001b[0m v \u001b[0m # \u001b[0m # \u001b[0m ^ \u001b[0m ^ \n",
            "\u001b[0m ^ \u001b[0m v \u001b[0m v \u001b[0m v \u001b[0m ^ \u001b[0m > \u001b[0m > \u001b[0m v \u001b[0m ^ \u001b[0m ^ \n",
            "\u001b[0m > \u001b[0m > \u001b[0m > \u001b[0m > \u001b[0m > \u001b[0m > \u001b[0m > \u001b[0m > \u001b[0m v \u001b[0m < \n",
            "\u001b[0m ^ \u001b[94m > \u001b[0m > \u001b[0m > \u001b[0m ^ \u001b[0m ^ \u001b[0m ^ \u001b[0m # \u001b[0m v \u001b[0m ^ \n",
            "\u001b[0m ^ \u001b[0m ^ \u001b[0m ^ \u001b[0m ^ \u001b[0m ^ \u001b[0m ^ \u001b[0m ^ \u001b[0m > \u001b[0m > \u001b[0m @ \n",
            "\n"
          ],
          "name": "stdout"
        }
      ]
    },
    {
      "cell_type": "code",
      "metadata": {
        "colab": {
          "base_uri": "https://localhost:8080/"
        },
        "id": "Ba07_KFhYTKO",
        "outputId": "c1814140-614d-4238-f762-104a85ea0baa"
      },
      "source": [
        "policy_w3g, Q, episodes, converged, paths, total_R, path_length = policy(\n",
        "    w3g, alpha=0.1, epsilon=0.0, n_episodes=1000, agent=2,\n",
        "    step_funct = Q_learning_optimization\n",
        ")\n",
        "printPolicy(w3g, policy_w3g)"
      ],
      "execution_count": 227,
      "outputs": [
        {
          "output_type": "stream",
          "text": [
            "Converged in 201 episodes. Path length: 44\n",
            "\u001b[0m > \u001b[0m > \u001b[0m v \u001b[0m ^ \u001b[0m v \u001b[0m ^ \u001b[0m v \u001b[0m ^ \u001b[0m ^ \u001b[0m ^ \u001b[0m ^ \u001b[0m ^ \u001b[0m ^ \u001b[0m ^ \u001b[0m ^ \u001b[0m ^ \u001b[0m ^ \u001b[0m ^ \u001b[0m ^ \u001b[0m ^ \u001b[0m ^ \n",
            "\u001b[0m ^ \u001b[0m ^ \u001b[0m > \u001b[0m > \u001b[0m > \u001b[0m > \u001b[0m v \u001b[0m ^ \u001b[0m ^ \u001b[0m ^ \u001b[0m ^ \u001b[0m ^ \u001b[0m ^ \u001b[0m ^ \u001b[0m ^ \u001b[0m ^ \u001b[0m ^ \u001b[0m ^ \u001b[0m ^ \u001b[0m ^ \u001b[0m ^ \n",
            "\u001b[0m ^ \u001b[0m > \u001b[0m ^ \u001b[0m # \u001b[0m ^ \u001b[0m ^ \u001b[0m v \u001b[0m ^ \u001b[0m # \u001b[0m ^ \u001b[0m # \u001b[0m # \u001b[0m ^ \u001b[0m ^ \u001b[0m ^ \u001b[0m ^ \u001b[0m ^ \u001b[0m ^ \u001b[94m ^ \u001b[0m ^ \u001b[0m ^ \n",
            "\u001b[0m ^ \u001b[0m # \u001b[0m ^ \u001b[0m v \u001b[0m v \u001b[0m < \u001b[0m v \u001b[0m ^ \u001b[0m # \u001b[0m ^ \u001b[0m v \u001b[0m v \u001b[0m ^ \u001b[0m ^ \u001b[0m ^ \u001b[0m # \u001b[0m ^ \u001b[0m ^ \u001b[0m ^ \u001b[0m ^ \u001b[0m ^ \n",
            "\u001b[0m ^ \u001b[0m # \u001b[0m ^ \u001b[0m ^ \u001b[0m > \u001b[0m > \u001b[0m v \u001b[0m ^ \u001b[0m # \u001b[0m ^ \u001b[0m ^ \u001b[0m ^ \u001b[0m ^ \u001b[0m ^ \u001b[0m # \u001b[0m v \u001b[0m ^ \u001b[0m ^ \u001b[0m ^ \u001b[0m ^ \u001b[0m ^ \n",
            "\u001b[0m ^ \u001b[0m # \u001b[0m ^ \u001b[0m > \u001b[0m v \u001b[0m v \u001b[0m < \u001b[0m ^ \u001b[0m < \u001b[0m ^ \u001b[0m ^ \u001b[0m ^ \u001b[0m ^ \u001b[0m # \u001b[0m v \u001b[0m ^ \u001b[0m ^ \u001b[0m ^ \u001b[0m ^ \u001b[0m ^ \u001b[0m ^ \n",
            "\u001b[0m ^ \u001b[0m # \u001b[0m ^ \u001b[0m ^ \u001b[0m > \u001b[0m v \u001b[0m ^ \u001b[0m ^ \u001b[0m # \u001b[0m ^ \u001b[0m ^ \u001b[0m ^ \u001b[0m # \u001b[0m v \u001b[0m ^ \u001b[0m ^ \u001b[0m ^ \u001b[0m ^ \u001b[0m ^ \u001b[0m ^ \u001b[0m ^ \n",
            "\u001b[0m ^ \u001b[0m v \u001b[0m ^ \u001b[0m ^ \u001b[0m > \u001b[0m v \u001b[0m ^ \u001b[0m # \u001b[0m # \u001b[0m ^ \u001b[0m ^ \u001b[0m ^ \u001b[0m # \u001b[0m ^ \u001b[0m ^ \u001b[0m ^ \u001b[0m ^ \u001b[0m ^ \u001b[0m ^ \u001b[0m ^ \u001b[0m ^ \n",
            "\u001b[0m ^ \u001b[0m ^ \u001b[0m ^ \u001b[0m ^ \u001b[0m ^ \u001b[0m v \u001b[0m ^ \u001b[0m < \u001b[0m v \u001b[0m ^ \u001b[0m ^ \u001b[0m ^ \u001b[0m v \u001b[0m ^ \u001b[0m # \u001b[0m # \u001b[0m ^ \u001b[0m ^ \u001b[0m ^ \u001b[0m ^ \u001b[0m ^ \n",
            "\u001b[0m ^ \u001b[0m ^ \u001b[0m ^ \u001b[0m ^ \u001b[0m > \u001b[0m > \u001b[0m v \u001b[0m # \u001b[0m ^ \u001b[0m ^ \u001b[0m ^ \u001b[0m # \u001b[0m ^ \u001b[0m ^ \u001b[0m v \u001b[0m # \u001b[0m ^ \u001b[0m ^ \u001b[0m ^ \u001b[0m ^ \u001b[0m ^ \n",
            "\u001b[0m ^ \u001b[0m ^ \u001b[0m ^ \u001b[0m ^ \u001b[0m ^ \u001b[0m # \u001b[0m v \u001b[0m v \u001b[0m ^ \u001b[0m ^ \u001b[0m ^ \u001b[0m v \u001b[0m ^ \u001b[0m ^ \u001b[0m ^ \u001b[0m v \u001b[0m v \u001b[0m # \u001b[0m ^ \u001b[0m v \u001b[0m < \n",
            "\u001b[0m ^ \u001b[0m ^ \u001b[0m # \u001b[0m ^ \u001b[0m ^ \u001b[0m v \u001b[0m v \u001b[0m v \u001b[0m v \u001b[0m ^ \u001b[0m v \u001b[0m < \u001b[0m ^ \u001b[0m # \u001b[0m ^ \u001b[0m > \u001b[0m > \u001b[0m > \u001b[0m v \u001b[0m < \u001b[0m ^ \n",
            "\u001b[0m ^ \u001b[0m # \u001b[0m # \u001b[0m # \u001b[0m ^ \u001b[0m ^ \u001b[0m v \u001b[0m v \u001b[0m < \u001b[0m ^ \u001b[0m v \u001b[0m ^ \u001b[0m ^ \u001b[0m v \u001b[0m ^ \u001b[0m ^ \u001b[0m ^ \u001b[0m > \u001b[0m > \u001b[0m v \u001b[0m v \n",
            "\u001b[0m ^ \u001b[0m v \u001b[0m v \u001b[0m # \u001b[0m ^ \u001b[0m > \u001b[0m > \u001b[0m v \u001b[0m ^ \u001b[0m ^ \u001b[0m v \u001b[0m ^ \u001b[0m ^ \u001b[0m ^ \u001b[0m ^ \u001b[0m ^ \u001b[0m ^ \u001b[0m ^ \u001b[0m ^ \u001b[0m v \u001b[0m < \n",
            "\u001b[0m ^ \u001b[0m ^ \u001b[0m ^ \u001b[0m v \u001b[0m ^ \u001b[0m ^ \u001b[0m ^ \u001b[0m v \u001b[0m # \u001b[0m ^ \u001b[0m v \u001b[0m < \u001b[0m ^ \u001b[0m # \u001b[0m ^ \u001b[0m ^ \u001b[0m ^ \u001b[0m ^ \u001b[0m ^ \u001b[0m v \u001b[0m ^ \n",
            "\u001b[0m ^ \u001b[0m ^ \u001b[0m ^ \u001b[0m v \u001b[0m ^ \u001b[0m ^ \u001b[0m > \u001b[0m > \u001b[0m > \u001b[0m > \u001b[0m v \u001b[0m < \u001b[0m ^ \u001b[0m # \u001b[0m # \u001b[0m ^ \u001b[0m ^ \u001b[0m ^ \u001b[0m > \u001b[0m > \u001b[0m v \n",
            "\u001b[0m ^ \u001b[0m > \u001b[0m > \u001b[0m v \u001b[0m # \u001b[0m ^ \u001b[0m ^ \u001b[0m v \u001b[0m v \u001b[0m > \u001b[0m v \u001b[0m < \u001b[0m ^ \u001b[0m < \u001b[0m v \u001b[0m # \u001b[0m ^ \u001b[0m ^ \u001b[0m ^ \u001b[0m ^ \u001b[0m v \n",
            "\u001b[0m ^ \u001b[0m # \u001b[0m ^ \u001b[0m > \u001b[0m v \u001b[0m ^ \u001b[0m # \u001b[0m v \u001b[0m < \u001b[0m v \u001b[0m > \u001b[0m v \u001b[0m < \u001b[0m # \u001b[0m v \u001b[0m < \u001b[0m ^ \u001b[0m v \u001b[0m > \u001b[0m v \u001b[0m v \n",
            "\u001b[0m ^ \u001b[0m v \u001b[94m > \u001b[0m ^ \u001b[0m > \u001b[0m > \u001b[0m > \u001b[0m > \u001b[0m > \u001b[0m > \u001b[0m > \u001b[0m v \u001b[0m < \u001b[0m v \u001b[0m v \u001b[0m # \u001b[0m > \u001b[0m v \u001b[0m > \u001b[0m v \u001b[0m v \n",
            "\u001b[0m ^ \u001b[0m ^ \u001b[0m ^ \u001b[0m > \u001b[0m ^ \u001b[0m ^ \u001b[0m ^ \u001b[0m ^ \u001b[0m ^ \u001b[0m ^ \u001b[0m ^ \u001b[0m > \u001b[0m > \u001b[0m > \u001b[0m > \u001b[0m > \u001b[0m ^ \u001b[0m > \u001b[0m > \u001b[0m > \u001b[0m v \n",
            "\u001b[0m ^ \u001b[0m ^ \u001b[0m ^ \u001b[0m ^ \u001b[0m ^ \u001b[0m ^ \u001b[0m ^ \u001b[0m ^ \u001b[0m ^ \u001b[0m ^ \u001b[0m ^ \u001b[0m ^ \u001b[0m ^ \u001b[0m ^ \u001b[0m ^ \u001b[0m ^ \u001b[0m ^ \u001b[0m ^ \u001b[0m > \u001b[0m ^ \u001b[0m @ \n",
            "\n"
          ],
          "name": "stdout"
        }
      ]
    },
    {
      "cell_type": "markdown",
      "metadata": {
        "id": "m7_NeNiGYTKP"
      },
      "source": [
        "#### Mapa 4"
      ]
    },
    {
      "cell_type": "code",
      "metadata": {
        "colab": {
          "base_uri": "https://localhost:8080/"
        },
        "id": "27V7PWGdYTKQ",
        "outputId": "42040e50-76c2-4b1a-a46a-8d7e0a83b00c"
      },
      "source": [
        "policy_w4, Q, episodes, converged, paths, total_R, path_length = policy(\n",
        "    w4, alpha=0.1, epsilon=0.2, decay=0.8, n_episodes=10000, agent=2,\n",
        "    step_funct=Q_learning_optimization\n",
        ")\n",
        "printPolicy(w4, policy_w4)"
      ],
      "execution_count": 228,
      "outputs": [
        {
          "output_type": "stream",
          "text": [
            "Did not converge after 10000 episodes\n",
            "\u001b[0m ^ \u001b[0m # \u001b[0m ^ \u001b[0m # \u001b[0m ^ \u001b[0m ^ \u001b[0m ^ \u001b[0m ^ \u001b[0m ^ \u001b[0m # \u001b[0m ^ \u001b[0m ^ \u001b[0m ^ \u001b[0m ^ \u001b[0m ^ \u001b[0m # \u001b[0m # \u001b[0m # \u001b[0m ^ \u001b[0m # \u001b[0m ^ \n",
            "\u001b[0m ^ \u001b[0m # \u001b[0m ^ \u001b[0m # \u001b[0m # \u001b[0m # \u001b[0m # \u001b[0m # \u001b[0m ^ \u001b[0m # \u001b[0m # \u001b[0m # \u001b[0m # \u001b[0m # \u001b[0m ^ \u001b[0m < \u001b[0m < \u001b[0m # \u001b[0m ^ \u001b[0m # \u001b[0m ^ \n",
            "\u001b[0m ^ \u001b[0m # \u001b[0m ^ \u001b[0m < \u001b[0m v \u001b[0m < \u001b[0m v \u001b[0m < \u001b[0m ^ \u001b[0m # \u001b[0m v \u001b[0m < \u001b[0m v \u001b[0m # \u001b[0m ^ \u001b[0m # \u001b[0m # \u001b[0m # \u001b[0m ^ \u001b[0m # \u001b[0m ^ \n",
            "\u001b[0m ^ \u001b[0m # \u001b[0m ^ \u001b[0m # \u001b[0m ^ \u001b[0m # \u001b[0m ^ \u001b[0m # \u001b[0m ^ \u001b[0m # \u001b[0m ^ \u001b[0m # \u001b[0m ^ \u001b[0m < \u001b[0m ^ \u001b[0m v \u001b[0m # \u001b[0m v \u001b[0m ^ \u001b[0m # \u001b[0m ^ \n",
            "\u001b[0m ^ \u001b[0m < \u001b[0m ^ \u001b[0m # \u001b[0m ^ \u001b[0m # \u001b[0m ^ \u001b[0m # \u001b[0m # \u001b[0m # \u001b[0m # \u001b[0m # \u001b[0m # \u001b[0m # \u001b[0m # \u001b[0m ^ \u001b[0m # \u001b[0m ^ \u001b[0m # \u001b[0m # \u001b[0m ^ \n",
            "\u001b[0m # \u001b[0m # \u001b[0m # \u001b[0m # \u001b[0m ^ \u001b[0m # \u001b[0m ^ \u001b[0m < \u001b[0m v \u001b[0m # \u001b[0m > \u001b[0m < \u001b[0m < \u001b[0m < \u001b[0m < \u001b[0m ^ \u001b[0m # \u001b[0m ^ \u001b[0m v \u001b[0m < \u001b[0m ^ \n",
            "\u001b[0m < \u001b[0m < \u001b[0m < \u001b[0m < \u001b[0m ^ \u001b[0m # \u001b[0m # \u001b[0m # \u001b[0m ^ \u001b[0m # \u001b[0m # \u001b[0m # \u001b[0m # \u001b[0m # \u001b[0m # \u001b[0m ^ \u001b[0m # \u001b[0m # \u001b[0m ^ \u001b[0m # \u001b[0m ^ \n",
            "\u001b[0m # \u001b[0m # \u001b[0m # \u001b[0m # \u001b[0m ^ \u001b[0m # \u001b[0m v \u001b[0m # \u001b[0m ^ \u001b[0m # \u001b[0m v \u001b[0m v \u001b[0m < \u001b[0m < \u001b[0m < \u001b[0m ^ \u001b[0m < \u001b[0m < \u001b[0m ^ \u001b[0m # \u001b[0m ^ \n",
            "\u001b[0m v \u001b[0m < \u001b[0m v \u001b[0m # \u001b[0m ^ \u001b[0m < \u001b[0m ^ \u001b[0m # \u001b[0m # \u001b[0m # \u001b[0m ^ \u001b[0m ^ \u001b[0m # \u001b[0m # \u001b[0m # \u001b[0m # \u001b[0m # \u001b[0m # \u001b[0m # \u001b[0m # \u001b[0m ^ \n",
            "\u001b[0m ^ \u001b[0m # \u001b[0m ^ \u001b[0m # \u001b[0m ^ \u001b[0m # \u001b[0m ^ \u001b[0m # \u001b[0m v \u001b[0m < \u001b[0m ^ \u001b[0m # \u001b[0m # \u001b[0m v \u001b[0m < \u001b[0m < \u001b[0m < \u001b[0m < \u001b[0m v \u001b[0m # \u001b[0m # \n",
            "\u001b[0m ^ \u001b[0m # \u001b[0m ^ \u001b[0m # \u001b[0m ^ \u001b[0m # \u001b[0m # \u001b[0m # \u001b[0m ^ \u001b[0m # \u001b[0m ^ \u001b[0m # \u001b[0m v \u001b[0m ^ \u001b[0m # \u001b[0m # \u001b[0m # \u001b[0m # \u001b[0m ^ \u001b[0m < \u001b[0m v \n",
            "\u001b[0m ^ \u001b[0m # \u001b[0m ^ \u001b[0m # \u001b[0m ^ \u001b[0m # \u001b[0m > \u001b[0m v \u001b[0m ^ \u001b[0m # \u001b[0m ^ \u001b[0m # \u001b[0m ^ \u001b[0m # \u001b[0m # \u001b[0m v \u001b[0m v \u001b[0m # \u001b[0m # \u001b[0m # \u001b[0m ^ \n",
            "\u001b[0m ^ \u001b[0m # \u001b[0m ^ \u001b[0m < \u001b[0m ^ \u001b[0m # \u001b[0m # \u001b[0m ^ \u001b[0m # \u001b[0m # \u001b[0m ^ \u001b[0m # \u001b[0m ^ \u001b[0m # \u001b[0m v \u001b[0m ^ \u001b[0m ^ \u001b[0m < \u001b[0m v \u001b[0m # \u001b[0m ^ \n",
            "\u001b[0m ^ \u001b[0m # \u001b[0m # \u001b[0m # \u001b[0m # \u001b[0m # \u001b[0m v \u001b[0m ^ \u001b[0m # \u001b[0m v \u001b[0m ^ \u001b[0m v \u001b[0m ^ \u001b[0m < \u001b[0m ^ \u001b[0m # \u001b[0m # \u001b[0m # \u001b[0m ^ \u001b[0m # \u001b[0m ^ \n",
            "\u001b[0m ^ \u001b[0m < \u001b[0m < \u001b[0m v \u001b[0m # \u001b[0m v \u001b[0m ^ \u001b[0m # \u001b[0m # \u001b[0m ^ \u001b[0m # \u001b[0m ^ \u001b[0m # \u001b[0m # \u001b[0m ^ \u001b[0m # \u001b[0m v \u001b[0m < \u001b[0m ^ \u001b[0m # \u001b[0m ^ \n",
            "\u001b[0m # \u001b[0m # \u001b[0m # \u001b[0m ^ \u001b[0m v \u001b[0m ^ \u001b[0m # \u001b[0m # \u001b[0m > \u001b[0m ^ \u001b[0m # \u001b[0m ^ \u001b[0m v \u001b[0m # \u001b[0m # \u001b[0m # \u001b[0m ^ \u001b[0m # \u001b[0m # \u001b[0m # \u001b[0m # \n",
            "\u001b[0m < \u001b[0m v \u001b[0m # \u001b[0m # \u001b[0m ^ \u001b[0m # \u001b[0m # \u001b[0m # \u001b[0m # \u001b[0m # \u001b[0m # \u001b[0m # \u001b[0m ^ \u001b[0m < \u001b[0m < \u001b[0m # \u001b[0m ^ \u001b[0m # \u001b[0m v \u001b[0m < \u001b[0m v \n",
            "\u001b[0m # \u001b[0m ^ \u001b[0m v \u001b[0m # \u001b[0m ^ \u001b[0m # \u001b[0m > \u001b[0m < \u001b[0m v \u001b[0m # \u001b[0m > \u001b[0m < \u001b[0m ^ \u001b[0m # \u001b[0m # \u001b[0m # \u001b[0m ^ \u001b[0m # \u001b[0m ^ \u001b[0m # \u001b[0m ^ \n",
            "\u001b[0m # \u001b[0m # \u001b[0m ^ \u001b[0m v \u001b[0m ^ \u001b[0m # \u001b[0m # \u001b[0m # \u001b[0m ^ \u001b[0m # \u001b[0m # \u001b[0m # \u001b[0m ^ \u001b[0m < \u001b[0m < \u001b[0m # \u001b[0m ^ \u001b[0m < \u001b[0m ^ \u001b[0m # \u001b[0m v \n",
            "\u001b[0m v \u001b[0m # \u001b[0m # \u001b[0m ^ \u001b[0m # \u001b[0m # \u001b[0m v \u001b[0m < \u001b[0m ^ \u001b[0m < \u001b[0m v \u001b[0m # \u001b[0m ^ \u001b[0m # \u001b[0m # \u001b[0m # \u001b[0m # \u001b[0m # \u001b[0m # \u001b[0m # \u001b[0m v \n",
            "\u001b[0m ^ \u001b[0m v \u001b[0m v \u001b[0m ^ \u001b[0m v \u001b[0m v \u001b[0m ^ \u001b[0m # \u001b[0m # \u001b[0m # \u001b[0m ^ \u001b[0m # \u001b[0m ^ \u001b[0m v \u001b[0m v \u001b[0m v \u001b[0m v \u001b[0m v \u001b[0m v \u001b[0m # \u001b[0m @ \n",
            "\n"
          ],
          "name": "stdout"
        }
      ]
    },
    {
      "cell_type": "markdown",
      "metadata": {
        "id": "ayCcO6zUkXqB"
      },
      "source": [
        "### Pruebas cambiando los refuerzos del agente"
      ]
    },
    {
      "cell_type": "markdown",
      "metadata": {
        "id": "FoDGxXqokXqZ"
      },
      "source": [
        "#### Mapa 1"
      ]
    },
    {
      "cell_type": "code",
      "metadata": {
        "colab": {
          "base_uri": "https://localhost:8080/"
        },
        "id": "mm3eX0L-kXqb",
        "outputId": "14ad6442-f400-4faa-f76b-38395abf7a81"
      },
      "source": [
        "policy_w1p, Q, episodes, converged, paths, total_R, path_length = policy(\n",
        "    w1p, alpha=0.5, epsilon=0.1, decay=0.8, n_episodes=100, agent=3,\n",
        "    optimize_steps=10, step_funct = Q_learning_optimization,\n",
        "    verbose=True\n",
        ")"
      ],
      "execution_count": 229,
      "outputs": [
        {
          "output_type": "stream",
          "text": [
            "Episode 47\n",
            "\u001b[0m v \u001b[0m # \u001b[0m > \u001b[0m > \u001b[0m v \n",
            "\u001b[0m v \u001b[0m # \u001b[0m ^ \u001b[0m # \u001b[0m v \n",
            "\u001b[0m v \u001b[0m # \u001b[0m ^ \u001b[0m # \u001b[0m v \n",
            "\u001b[0m v \u001b[0m # \u001b[0m ^ \u001b[0m # \u001b[0m v \n",
            "\u001b[0m > \u001b[0m > \u001b[0m ^ \u001b[0m # \u001b[0m @ \n",
            "\n",
            "Converged in 47 episodes. Path length: 16\n"
          ],
          "name": "stdout"
        }
      ]
    },
    {
      "cell_type": "code",
      "metadata": {
        "colab": {
          "base_uri": "https://localhost:8080/"
        },
        "id": "el1Bg8SnkXqf",
        "outputId": "f546acf7-434e-4fdd-eb2e-a43c34c5d790"
      },
      "source": [
        "policy_w1m, Q, episodes, converged, paths, total_R, path_length = policy(\n",
        "    w1m, alpha=0.1, epsilon=0.01, n_episodes=10000, agent=3, gamma=0.9,\n",
        "    max_steps=5000, step_funct = Q_learning_optimization\n",
        ")\n",
        "printPolicy(w1m, policy_w1m)"
      ],
      "execution_count": 241,
      "outputs": [
        {
          "output_type": "stream",
          "text": [
            "Converged in 684 episodes. Path length: 48\n",
            "\u001b[0m v \u001b[0m # \u001b[0m > \u001b[0m > \u001b[0m v \u001b[0m # \u001b[0m > \u001b[0m > \u001b[0m v \n",
            "\u001b[0m v \u001b[0m # \u001b[0m ^ \u001b[0m # \u001b[0m v \u001b[0m # \u001b[0m ^ \u001b[0m # \u001b[0m v \n",
            "\u001b[0m v \u001b[0m # \u001b[0m ^ \u001b[0m # \u001b[0m v \u001b[0m # \u001b[0m ^ \u001b[0m # \u001b[0m v \n",
            "\u001b[0m v \u001b[0m # \u001b[0m ^ \u001b[0m # \u001b[0m v \u001b[0m # \u001b[0m ^ \u001b[0m # \u001b[0m v \n",
            "\u001b[0m v \u001b[0m # \u001b[0m ^ \u001b[0m # \u001b[0m v \u001b[0m # \u001b[0m ^ \u001b[0m # \u001b[0m v \n",
            "\u001b[0m v \u001b[0m # \u001b[0m ^ \u001b[0m # \u001b[0m v \u001b[0m # \u001b[0m ^ \u001b[0m # \u001b[0m v \n",
            "\u001b[0m v \u001b[0m # \u001b[0m ^ \u001b[0m # \u001b[0m v \u001b[0m # \u001b[0m ^ \u001b[0m # \u001b[0m v \n",
            "\u001b[0m v \u001b[0m # \u001b[0m ^ \u001b[0m # \u001b[0m v \u001b[0m # \u001b[0m ^ \u001b[0m # \u001b[0m v \n",
            "\u001b[0m > \u001b[0m > \u001b[0m ^ \u001b[0m # \u001b[0m > \u001b[0m > \u001b[0m ^ \u001b[0m # \u001b[0m @ \n",
            "\n"
          ],
          "name": "stdout"
        }
      ]
    },
    {
      "cell_type": "code",
      "metadata": {
        "colab": {
          "base_uri": "https://localhost:8080/"
        },
        "id": "1hSld2-7kXqg",
        "outputId": "fb6e08e4-8909-4970-ee80-dcf54de496af"
      },
      "source": [
        "policy_w1g, Q, episodes, converged, paths, total_R, path_length = policy(\n",
        "    w1g, alpha=0.2, epsilon=0.1, agent=3, decay=0.8, max_steps=10000,\n",
        "    n_episodes=50000, step_funct = Q_learning_optimization\n",
        ")\n",
        "printPolicy(w1g, policy_w1g)"
      ],
      "execution_count": 231,
      "outputs": [
        {
          "output_type": "stream",
          "text": [
            "Did not converge after 50000 episodes\n",
            "\u001b[0m > \u001b[0m # \u001b[0m ^ \u001b[0m ^ \u001b[0m ^ \u001b[0m # \u001b[0m ^ \u001b[0m ^ \u001b[0m ^ \u001b[0m # \u001b[0m ^ \u001b[0m ^ \u001b[0m ^ \u001b[0m # \u001b[0m ^ \u001b[0m ^ \u001b[0m ^ \u001b[0m # \u001b[0m ^ \u001b[0m ^ \u001b[0m ^ \n",
            "\u001b[0m > \u001b[0m # \u001b[0m ^ \u001b[0m # \u001b[0m ^ \u001b[0m # \u001b[0m ^ \u001b[0m # \u001b[0m ^ \u001b[0m # \u001b[0m ^ \u001b[0m # \u001b[0m ^ \u001b[0m # \u001b[0m ^ \u001b[0m # \u001b[0m ^ \u001b[0m # \u001b[0m ^ \u001b[0m # \u001b[0m ^ \n",
            "\u001b[0m > \u001b[0m # \u001b[0m ^ \u001b[0m # \u001b[0m ^ \u001b[0m # \u001b[0m ^ \u001b[0m # \u001b[0m ^ \u001b[0m # \u001b[0m ^ \u001b[0m # \u001b[0m ^ \u001b[0m # \u001b[0m ^ \u001b[0m # \u001b[0m ^ \u001b[0m # \u001b[0m ^ \u001b[0m # \u001b[0m ^ \n",
            "\u001b[0m < \u001b[0m # \u001b[0m ^ \u001b[0m # \u001b[0m ^ \u001b[0m # \u001b[0m ^ \u001b[0m # \u001b[0m ^ \u001b[0m # \u001b[0m ^ \u001b[0m # \u001b[0m ^ \u001b[0m # \u001b[0m ^ \u001b[0m # \u001b[0m ^ \u001b[0m # \u001b[0m ^ \u001b[0m # \u001b[0m ^ \n",
            "\u001b[0m v \u001b[0m # \u001b[0m ^ \u001b[0m # \u001b[0m ^ \u001b[0m # \u001b[0m ^ \u001b[0m # \u001b[0m ^ \u001b[0m # \u001b[0m ^ \u001b[0m # \u001b[0m ^ \u001b[0m # \u001b[0m ^ \u001b[0m # \u001b[0m ^ \u001b[0m # \u001b[0m ^ \u001b[0m # \u001b[0m ^ \n",
            "\u001b[0m v \u001b[0m # \u001b[0m v \u001b[0m # \u001b[0m ^ \u001b[0m # \u001b[0m ^ \u001b[0m # \u001b[0m ^ \u001b[0m # \u001b[0m ^ \u001b[0m # \u001b[0m ^ \u001b[0m # \u001b[0m ^ \u001b[0m # \u001b[0m ^ \u001b[0m # \u001b[0m ^ \u001b[0m # \u001b[0m ^ \n",
            "\u001b[0m v \u001b[0m # \u001b[0m < \u001b[0m # \u001b[0m ^ \u001b[0m # \u001b[0m ^ \u001b[0m # \u001b[0m ^ \u001b[0m # \u001b[0m ^ \u001b[0m # \u001b[0m ^ \u001b[0m # \u001b[0m ^ \u001b[0m # \u001b[0m ^ \u001b[0m # \u001b[0m ^ \u001b[0m # \u001b[0m ^ \n",
            "\u001b[0m v \u001b[0m # \u001b[0m ^ \u001b[0m # \u001b[0m ^ \u001b[0m # \u001b[0m ^ \u001b[0m # \u001b[0m ^ \u001b[0m # \u001b[0m ^ \u001b[0m # \u001b[0m ^ \u001b[0m # \u001b[0m ^ \u001b[0m # \u001b[0m ^ \u001b[0m # \u001b[0m ^ \u001b[0m # \u001b[0m ^ \n",
            "\u001b[0m v \u001b[0m # \u001b[0m ^ \u001b[0m # \u001b[0m ^ \u001b[0m # \u001b[0m ^ \u001b[0m # \u001b[0m ^ \u001b[0m # \u001b[0m ^ \u001b[0m # \u001b[0m ^ \u001b[0m # \u001b[0m ^ \u001b[0m # \u001b[0m ^ \u001b[0m # \u001b[0m ^ \u001b[0m # \u001b[0m ^ \n",
            "\u001b[0m v \u001b[0m # \u001b[0m ^ \u001b[0m # \u001b[0m ^ \u001b[0m # \u001b[0m ^ \u001b[0m # \u001b[0m ^ \u001b[0m # \u001b[0m ^ \u001b[0m # \u001b[0m ^ \u001b[0m # \u001b[0m ^ \u001b[0m # \u001b[0m ^ \u001b[0m # \u001b[0m ^ \u001b[0m # \u001b[0m ^ \n",
            "\u001b[0m v \u001b[0m # \u001b[0m ^ \u001b[0m # \u001b[0m ^ \u001b[0m # \u001b[0m ^ \u001b[0m # \u001b[0m ^ \u001b[0m # \u001b[0m ^ \u001b[0m # \u001b[0m ^ \u001b[0m # \u001b[0m ^ \u001b[0m # \u001b[0m ^ \u001b[0m # \u001b[0m ^ \u001b[0m # \u001b[0m ^ \n",
            "\u001b[0m v \u001b[0m # \u001b[0m ^ \u001b[0m # \u001b[0m ^ \u001b[0m # \u001b[0m ^ \u001b[0m # \u001b[0m ^ \u001b[0m # \u001b[0m ^ \u001b[0m # \u001b[0m ^ \u001b[0m # \u001b[0m ^ \u001b[0m # \u001b[0m ^ \u001b[0m # \u001b[0m ^ \u001b[0m # \u001b[0m ^ \n",
            "\u001b[0m < \u001b[0m # \u001b[0m ^ \u001b[0m # \u001b[0m ^ \u001b[0m # \u001b[0m ^ \u001b[0m # \u001b[0m ^ \u001b[0m # \u001b[0m ^ \u001b[0m # \u001b[0m ^ \u001b[0m # \u001b[0m ^ \u001b[0m # \u001b[0m ^ \u001b[0m # \u001b[0m ^ \u001b[0m # \u001b[0m ^ \n",
            "\u001b[0m v \u001b[0m # \u001b[0m v \u001b[0m # \u001b[0m ^ \u001b[0m # \u001b[0m ^ \u001b[0m # \u001b[0m ^ \u001b[0m # \u001b[0m ^ \u001b[0m # \u001b[0m ^ \u001b[0m # \u001b[0m ^ \u001b[0m # \u001b[0m ^ \u001b[0m # \u001b[0m ^ \u001b[0m # \u001b[0m ^ \n",
            "\u001b[0m v \u001b[0m # \u001b[0m v \u001b[0m # \u001b[0m ^ \u001b[0m # \u001b[0m ^ \u001b[0m # \u001b[0m ^ \u001b[0m # \u001b[0m ^ \u001b[0m # \u001b[0m ^ \u001b[0m # \u001b[0m ^ \u001b[0m # \u001b[0m ^ \u001b[0m # \u001b[0m ^ \u001b[0m # \u001b[0m ^ \n",
            "\u001b[0m v \u001b[0m # \u001b[0m ^ \u001b[0m # \u001b[0m ^ \u001b[0m # \u001b[0m ^ \u001b[0m # \u001b[0m ^ \u001b[0m # \u001b[0m ^ \u001b[0m # \u001b[0m ^ \u001b[0m # \u001b[0m ^ \u001b[0m # \u001b[0m ^ \u001b[0m # \u001b[0m ^ \u001b[0m # \u001b[0m ^ \n",
            "\u001b[0m v \u001b[0m # \u001b[0m ^ \u001b[0m # \u001b[0m ^ \u001b[0m # \u001b[0m ^ \u001b[0m # \u001b[0m ^ \u001b[0m # \u001b[0m ^ \u001b[0m # \u001b[0m ^ \u001b[0m # \u001b[0m ^ \u001b[0m # \u001b[0m ^ \u001b[0m # \u001b[0m ^ \u001b[0m # \u001b[0m ^ \n",
            "\u001b[0m v \u001b[0m # \u001b[0m ^ \u001b[0m # \u001b[0m ^ \u001b[0m # \u001b[0m ^ \u001b[0m # \u001b[0m ^ \u001b[0m # \u001b[0m ^ \u001b[0m # \u001b[0m ^ \u001b[0m # \u001b[0m ^ \u001b[0m # \u001b[0m ^ \u001b[0m # \u001b[0m ^ \u001b[0m # \u001b[0m ^ \n",
            "\u001b[0m v \u001b[0m # \u001b[0m v \u001b[0m # \u001b[0m ^ \u001b[0m # \u001b[0m ^ \u001b[0m # \u001b[0m ^ \u001b[0m # \u001b[0m ^ \u001b[0m # \u001b[0m ^ \u001b[0m # \u001b[0m ^ \u001b[0m # \u001b[0m ^ \u001b[0m # \u001b[0m ^ \u001b[0m # \u001b[0m ^ \n",
            "\u001b[0m v \u001b[0m # \u001b[0m ^ \u001b[0m # \u001b[0m ^ \u001b[0m # \u001b[0m ^ \u001b[0m # \u001b[0m ^ \u001b[0m # \u001b[0m ^ \u001b[0m # \u001b[0m ^ \u001b[0m # \u001b[0m ^ \u001b[0m # \u001b[0m ^ \u001b[0m # \u001b[0m ^ \u001b[0m # \u001b[0m ^ \n",
            "\u001b[0m v \u001b[0m > \u001b[0m ^ \u001b[0m # \u001b[0m ^ \u001b[0m ^ \u001b[0m ^ \u001b[0m # \u001b[0m ^ \u001b[0m ^ \u001b[0m ^ \u001b[0m # \u001b[0m ^ \u001b[0m ^ \u001b[0m ^ \u001b[0m # \u001b[0m ^ \u001b[0m ^ \u001b[0m ^ \u001b[0m # \u001b[0m @ \n",
            "\n"
          ],
          "name": "stdout"
        }
      ]
    },
    {
      "cell_type": "markdown",
      "metadata": {
        "id": "p-s4CK02kXqh"
      },
      "source": [
        "#### Mapa 2"
      ]
    },
    {
      "cell_type": "code",
      "metadata": {
        "colab": {
          "base_uri": "https://localhost:8080/"
        },
        "id": "vxnfBrIjkXqj",
        "outputId": "e2d55903-a43c-4d99-d523-4460112fa0b6"
      },
      "source": [
        "policy_w2p, Q, episodes, converged, paths, total_R, path_length = policy(\n",
        "    w2p, alpha=0.1, epsilon=0.0, n_episodes=100, agent=3,\n",
        "    step_funct = Q_learning_optimization, verbose=True\n",
        ")"
      ],
      "execution_count": 232,
      "outputs": [
        {
          "output_type": "stream",
          "text": [
            "Episode 16\n",
            "\u001b[0m v \u001b[0m v \u001b[0m < \u001b[0m > \u001b[0m < \n",
            "\u001b[0m v \u001b[0m > \u001b[0m ^ \u001b[0m > \u001b[0m ^ \n",
            "\u001b[94m < \u001b[0m < \u001b[0m ^ \u001b[0m # \u001b[0m ^ \n",
            "\u001b[0m ^ \u001b[0m v \u001b[0m < \u001b[0m v \u001b[0m v \n",
            "\u001b[0m < \u001b[0m ^ \u001b[94m > \u001b[0m > \u001b[0m @ \n",
            "\n",
            "Converged in 16 episodes. Path length: 4\n"
          ],
          "name": "stdout"
        }
      ]
    },
    {
      "cell_type": "code",
      "metadata": {
        "colab": {
          "base_uri": "https://localhost:8080/"
        },
        "id": "cQFeKgTnkXqk",
        "outputId": "159a7160-f0bd-4f31-ecc2-2982cd187199"
      },
      "source": [
        "policy_w2m, Q, episodes, converged, paths, total_R, path_length = policy(\n",
        "    w2m, alpha=0.1, epsilon=0.0, n_episodes=100, agent=3,\n",
        "    step_funct = Q_learning_optimization\n",
        ")\n",
        "printPolicy(w2m, policy_w2m)"
      ],
      "execution_count": 233,
      "outputs": [
        {
          "output_type": "stream",
          "text": [
            "Converged in 54 episodes. Path length: 8\n",
            "\u001b[0m v \u001b[0m > \u001b[0m > \u001b[0m v \u001b[0m < \u001b[0m > \u001b[0m ^ \u001b[0m < \u001b[0m v \u001b[0m < \n",
            "\u001b[0m v \u001b[0m # \u001b[0m # \u001b[0m v \u001b[0m # \u001b[0m ^ \u001b[0m ^ \u001b[0m ^ \u001b[0m > \u001b[0m v \n",
            "\u001b[0m v \u001b[0m < \u001b[0m < \u001b[0m ^ \u001b[0m # \u001b[0m v \u001b[0m < \u001b[0m ^ \u001b[0m v \u001b[0m ^ \n",
            "\u001b[0m > \u001b[94m ^ \u001b[0m > \u001b[0m ^ \u001b[0m < \u001b[0m > \u001b[0m ^ \u001b[0m < \u001b[0m < \u001b[0m > \n",
            "\u001b[0m < \u001b[0m ^ \u001b[0m # \u001b[0m v \u001b[0m # \u001b[0m v \u001b[0m > \u001b[0m ^ \u001b[0m < \u001b[0m < \n",
            "\u001b[0m < \u001b[0m < \u001b[0m # \u001b[0m ^ \u001b[0m v \u001b[0m > \u001b[0m ^ \u001b[0m ^ \u001b[0m # \u001b[0m > \n",
            "\u001b[0m v \u001b[0m > \u001b[0m > \u001b[0m < \u001b[0m < \u001b[0m v \u001b[0m ^ \u001b[0m # \u001b[0m v \u001b[0m > \n",
            "\u001b[0m ^ \u001b[0m v \u001b[0m > \u001b[0m ^ \u001b[0m ^ \u001b[0m v \u001b[0m # \u001b[0m > \u001b[0m ^ \u001b[0m v \n",
            "\u001b[0m > \u001b[0m v \u001b[0m v \u001b[0m < \u001b[0m ^ \u001b[0m < \u001b[94m v \u001b[0m v \u001b[0m v \u001b[0m v \n",
            "\u001b[0m < \u001b[0m < \u001b[0m v \u001b[0m v \u001b[0m v \u001b[0m ^ \u001b[0m > \u001b[0m > \u001b[0m > \u001b[0m @ \n",
            "\n"
          ],
          "name": "stdout"
        }
      ]
    },
    {
      "cell_type": "code",
      "metadata": {
        "colab": {
          "base_uri": "https://localhost:8080/"
        },
        "id": "W1e7jcPTkXql",
        "outputId": "9ef21d5c-7697-4a96-9af5-930675945112"
      },
      "source": [
        "policy_w2g, Q, episodes, converged, paths, total_R, path_length = policy(\n",
        "    w2g, alpha=0.1, epsilon=0.0, n_episodes=1000, agent=3,\n",
        "    step_funct = Q_learning_optimization\n",
        ")\n",
        "printPolicy(w2g, policy_w2g)"
      ],
      "execution_count": 234,
      "outputs": [
        {
          "output_type": "stream",
          "text": [
            "Converged in 345 episodes. Path length: 16\n",
            "\u001b[0m > \u001b[0m v \u001b[0m > \u001b[0m v \u001b[0m < \u001b[0m > \u001b[0m > \u001b[0m v \u001b[0m v \u001b[0m < \u001b[0m v \u001b[0m v \u001b[0m > \u001b[0m v \u001b[0m > \u001b[0m ^ \u001b[0m > \u001b[0m < \u001b[0m v \u001b[0m < \u001b[0m > \n",
            "\u001b[0m v \u001b[0m v \u001b[0m > \u001b[0m v \u001b[0m > \u001b[0m v \u001b[0m > \u001b[0m ^ \u001b[0m v \u001b[0m v \u001b[0m < \u001b[0m < \u001b[0m v \u001b[0m v \u001b[0m > \u001b[0m ^ \u001b[0m # \u001b[0m ^ \u001b[0m < \u001b[0m v \u001b[0m v \n",
            "\u001b[0m > \u001b[0m > \u001b[0m v \u001b[0m v \u001b[0m ^ \u001b[0m ^ \u001b[0m < \u001b[0m < \u001b[0m > \u001b[0m > \u001b[0m ^ \u001b[0m < \u001b[0m > \u001b[0m v \u001b[0m # \u001b[0m v \u001b[0m > \u001b[0m ^ \u001b[0m ^ \u001b[0m ^ \u001b[0m < \n",
            "\u001b[0m ^ \u001b[0m < \u001b[0m v \u001b[0m v \u001b[0m v \u001b[0m > \u001b[0m ^ \u001b[0m ^ \u001b[0m v \u001b[0m v \u001b[0m v \u001b[0m < \u001b[0m < \u001b[0m < \u001b[0m > \u001b[0m v \u001b[0m ^ \u001b[0m > \u001b[0m ^ \u001b[0m > \u001b[0m > \n",
            "\u001b[0m v \u001b[0m > \u001b[0m v \u001b[0m < \u001b[0m ^ \u001b[0m < \u001b[0m ^ \u001b[0m # \u001b[0m > \u001b[0m < \u001b[0m > \u001b[0m < \u001b[0m v \u001b[0m # \u001b[0m v \u001b[0m > \u001b[0m v \u001b[0m < \u001b[0m v \u001b[0m ^ \u001b[0m v \n",
            "\u001b[0m v \u001b[0m > \u001b[0m v \u001b[0m < \u001b[0m # \u001b[0m v \u001b[0m > \u001b[0m v \u001b[0m > \u001b[0m < \u001b[0m # \u001b[0m v \u001b[0m ^ \u001b[0m # \u001b[0m > \u001b[0m v \u001b[0m v \u001b[0m # \u001b[0m ^ \u001b[0m ^ \u001b[0m < \n",
            "\u001b[0m v \u001b[0m ^ \u001b[94m ^ \u001b[0m # \u001b[0m > \u001b[0m v \u001b[0m > \u001b[0m v \u001b[0m ^ \u001b[0m v \u001b[0m v \u001b[0m < \u001b[0m v \u001b[0m > \u001b[0m < \u001b[0m v \u001b[0m # \u001b[0m > \u001b[0m v \u001b[0m < \u001b[0m v \n",
            "\u001b[0m ^ \u001b[0m # \u001b[0m v \u001b[0m # \u001b[0m > \u001b[0m v \u001b[0m # \u001b[0m ^ \u001b[0m < \u001b[0m v \u001b[0m < \u001b[0m # \u001b[0m v \u001b[0m # \u001b[0m ^ \u001b[0m ^ \u001b[0m < \u001b[0m < \u001b[0m > \u001b[0m ^ \u001b[0m < \n",
            "\u001b[0m > \u001b[0m < \u001b[0m v \u001b[0m v \u001b[0m # \u001b[0m ^ \u001b[0m v \u001b[0m # \u001b[0m ^ \u001b[0m < \u001b[0m # \u001b[0m v \u001b[0m < \u001b[0m # \u001b[0m # \u001b[0m v \u001b[0m v \u001b[0m < \u001b[0m ^ \u001b[0m > \u001b[0m < \n",
            "\u001b[0m < \u001b[0m > \u001b[0m v \u001b[0m v \u001b[0m # \u001b[0m v \u001b[0m < \u001b[0m v \u001b[0m < \u001b[0m ^ \u001b[0m > \u001b[0m > \u001b[0m > \u001b[0m v \u001b[0m v \u001b[0m < \u001b[0m < \u001b[0m # \u001b[0m > \u001b[0m v \u001b[0m ^ \n",
            "\u001b[0m v \u001b[0m v \u001b[0m ^ \u001b[0m > \u001b[0m > \u001b[0m < \u001b[0m # \u001b[0m ^ \u001b[0m ^ \u001b[0m < \u001b[0m # \u001b[0m < \u001b[0m # \u001b[0m > \u001b[0m > \u001b[0m > \u001b[0m v \u001b[0m > \u001b[0m v \u001b[0m ^ \u001b[0m ^ \n",
            "\u001b[0m ^ \u001b[0m v \u001b[0m < \u001b[0m ^ \u001b[0m # \u001b[0m < \u001b[0m ^ \u001b[0m # \u001b[0m # \u001b[0m > \u001b[0m v \u001b[0m > \u001b[0m < \u001b[0m # \u001b[0m ^ \u001b[0m > \u001b[0m > \u001b[0m > \u001b[0m v \u001b[0m < \u001b[0m < \n",
            "\u001b[0m v \u001b[0m > \u001b[0m < \u001b[0m > \u001b[0m ^ \u001b[0m # \u001b[0m > \u001b[0m < \u001b[0m ^ \u001b[0m v \u001b[0m v \u001b[0m > \u001b[0m v \u001b[0m > \u001b[0m ^ \u001b[0m # \u001b[0m ^ \u001b[0m > \u001b[0m > \u001b[0m < \u001b[0m < \n",
            "\u001b[0m > \u001b[0m ^ \u001b[0m < \u001b[0m # \u001b[0m < \u001b[0m < \u001b[0m > \u001b[0m v \u001b[0m v \u001b[0m < \u001b[0m > \u001b[0m < \u001b[0m < \u001b[0m ^ \u001b[0m > \u001b[0m v \u001b[0m > \u001b[0m ^ \u001b[0m ^ \u001b[0m v \u001b[0m ^ \n",
            "\u001b[0m v \u001b[0m # \u001b[0m > \u001b[0m ^ \u001b[0m v \u001b[0m > \u001b[0m < \u001b[0m v \u001b[0m ^ \u001b[0m > \u001b[0m # \u001b[0m v \u001b[0m < \u001b[0m < \u001b[0m < \u001b[0m ^ \u001b[0m < \u001b[0m v \u001b[0m ^ \u001b[0m v \u001b[0m > \n",
            "\u001b[0m > \u001b[0m v \u001b[0m v \u001b[0m v \u001b[0m v \u001b[0m v \u001b[0m # \u001b[0m v \u001b[0m # \u001b[0m < \u001b[0m # \u001b[0m > \u001b[0m < \u001b[0m > \u001b[0m # \u001b[0m # \u001b[0m > \u001b[0m > \u001b[0m ^ \u001b[0m < \u001b[0m ^ \n",
            "\u001b[0m > \u001b[0m v \u001b[0m # \u001b[0m # \u001b[0m v \u001b[0m < \u001b[0m v \u001b[0m v \u001b[0m v \u001b[0m v \u001b[0m ^ \u001b[0m < \u001b[0m ^ \u001b[0m ^ \u001b[0m # \u001b[0m < \u001b[0m # \u001b[0m > \u001b[0m > \u001b[0m v \u001b[0m v \n",
            "\u001b[0m > \u001b[0m < \u001b[0m < \u001b[0m v \u001b[0m > \u001b[0m ^ \u001b[0m > \u001b[0m < \u001b[0m ^ \u001b[0m # \u001b[0m v \u001b[0m > \u001b[0m > \u001b[0m > \u001b[0m > \u001b[0m > \u001b[0m v \u001b[0m > \u001b[0m > \u001b[0m v \u001b[0m < \n",
            "\u001b[0m < \u001b[0m > \u001b[0m v \u001b[0m ^ \u001b[0m v \u001b[0m < \u001b[0m ^ \u001b[0m > \u001b[0m > \u001b[0m < \u001b[0m < \u001b[0m # \u001b[0m ^ \u001b[0m ^ \u001b[94m > \u001b[0m > \u001b[0m v \u001b[0m > \u001b[0m > \u001b[0m v \u001b[0m v \n",
            "\u001b[0m < \u001b[0m > \u001b[0m v \u001b[0m ^ \u001b[0m < \u001b[0m v \u001b[0m v \u001b[0m < \u001b[0m ^ \u001b[0m ^ \u001b[0m ^ \u001b[0m > \u001b[0m < \u001b[0m > \u001b[0m > \u001b[0m > \u001b[0m v \u001b[0m v \u001b[0m > \u001b[0m v \u001b[0m v \n",
            "\u001b[0m ^ \u001b[0m ^ \u001b[0m > \u001b[0m ^ \u001b[0m ^ \u001b[0m ^ \u001b[0m > \u001b[0m > \u001b[0m > \u001b[0m ^ \u001b[0m v \u001b[0m ^ \u001b[0m v \u001b[0m ^ \u001b[0m > \u001b[0m > \u001b[0m > \u001b[0m > \u001b[0m > \u001b[0m > \u001b[0m @ \n",
            "\n"
          ],
          "name": "stdout"
        }
      ]
    },
    {
      "cell_type": "markdown",
      "metadata": {
        "id": "IswhTwdmkXqm"
      },
      "source": [
        "#### Mapa 3"
      ]
    },
    {
      "cell_type": "code",
      "metadata": {
        "colab": {
          "base_uri": "https://localhost:8080/"
        },
        "id": "dwXkJ1QHkXqn",
        "outputId": "442930fa-ac80-474c-e9bd-7fdb9caa18ba"
      },
      "source": [
        "policy_w3p, Q, episodes, converged, paths, total_R, path_length = policy(\n",
        "    w3p, alpha=0.1, epsilon=0.01, n_episodes=100, agent=3,\n",
        "    step_funct = Q_learning_optimization, verbose=True\n",
        ")\n",
        "printPolicy(w3p, policy_w3p)"
      ],
      "execution_count": 235,
      "outputs": [
        {
          "output_type": "stream",
          "text": [
            "Episode 29\n",
            "\u001b[0m > \u001b[0m > \u001b[0m > \u001b[0m > \u001b[94m < \n",
            "\u001b[0m v \u001b[0m # \u001b[0m > \u001b[0m ^ \u001b[0m v \n",
            "\u001b[0m v \u001b[0m > \u001b[0m ^ \u001b[0m # \u001b[0m v \n",
            "\u001b[0m < \u001b[0m # \u001b[0m v \u001b[0m v \u001b[0m v \n",
            "\u001b[94m > \u001b[0m > \u001b[0m > \u001b[0m > \u001b[0m @ \n",
            "\n",
            "Converged in 29 episodes. Path length: 8\n",
            "\u001b[0m > \u001b[0m > \u001b[0m > \u001b[0m > \u001b[94m < \n",
            "\u001b[0m v \u001b[0m # \u001b[0m > \u001b[0m ^ \u001b[0m v \n",
            "\u001b[0m v \u001b[0m > \u001b[0m ^ \u001b[0m # \u001b[0m v \n",
            "\u001b[0m < \u001b[0m # \u001b[0m v \u001b[0m v \u001b[0m v \n",
            "\u001b[94m > \u001b[0m > \u001b[0m > \u001b[0m > \u001b[0m @ \n",
            "\n"
          ],
          "name": "stdout"
        }
      ]
    },
    {
      "cell_type": "code",
      "metadata": {
        "colab": {
          "base_uri": "https://localhost:8080/"
        },
        "id": "DI4cqXurkXqp",
        "outputId": "a42fa077-967e-4f69-8d58-f14f3808f434"
      },
      "source": [
        "policy_w3m, Q, episodes, converged, paths, total_R, path_length = policy(\n",
        "    w3m, alpha=0.1, epsilon=0.0, n_episodes=1000, agent=3,\n",
        "    step_funct = Q_learning_optimization\n",
        ")\n",
        "printPolicy(w3m, policy_w3m)"
      ],
      "execution_count": 236,
      "outputs": [
        {
          "output_type": "stream",
          "text": [
            "Converged in 153 episodes. Path length: 22\n",
            "Improved path length: 20 (235 episodes in total)\n",
            "Improved path length: 18 (245 episodes in total)\n",
            "\u001b[0m v \u001b[0m > \u001b[0m < \u001b[0m > \u001b[0m v \u001b[0m > \u001b[0m > \u001b[0m v \u001b[0m v \u001b[0m > \n",
            "\u001b[0m v \u001b[0m v \u001b[0m > \u001b[0m v \u001b[0m > \u001b[0m v \u001b[0m v \u001b[0m > \u001b[94m v \u001b[0m v \n",
            "\u001b[0m > \u001b[0m > \u001b[0m v \u001b[0m ^ \u001b[0m # \u001b[0m ^ \u001b[0m > \u001b[0m > \u001b[0m > \u001b[0m v \n",
            "\u001b[0m v \u001b[0m v \u001b[0m > \u001b[0m > \u001b[0m v \u001b[0m > \u001b[0m > \u001b[0m > \u001b[0m > \u001b[0m v \n",
            "\u001b[0m ^ \u001b[0m < \u001b[0m # \u001b[0m v \u001b[0m v \u001b[0m ^ \u001b[0m # \u001b[0m > \u001b[0m > \u001b[0m v \n",
            "\u001b[0m v \u001b[0m v \u001b[0m # \u001b[0m ^ \u001b[0m > \u001b[0m v \u001b[0m # \u001b[0m # \u001b[0m > \u001b[0m v \n",
            "\u001b[0m > \u001b[0m > \u001b[0m v \u001b[0m > \u001b[0m > \u001b[0m > \u001b[0m v \u001b[0m > \u001b[0m > \u001b[0m v \n",
            "\u001b[0m < \u001b[0m v \u001b[0m ^ \u001b[0m > \u001b[0m > \u001b[0m > \u001b[0m > \u001b[0m > \u001b[0m > \u001b[0m v \n",
            "\u001b[0m ^ \u001b[94m v \u001b[0m v \u001b[0m v \u001b[0m v \u001b[0m v \u001b[0m v \u001b[0m # \u001b[0m v \u001b[0m v \n",
            "\u001b[0m v \u001b[0m v \u001b[0m > \u001b[0m > \u001b[0m > \u001b[0m > \u001b[0m > \u001b[0m > \u001b[0m > \u001b[0m @ \n",
            "\n"
          ],
          "name": "stdout"
        }
      ]
    },
    {
      "cell_type": "code",
      "metadata": {
        "colab": {
          "base_uri": "https://localhost:8080/"
        },
        "id": "l0XIMvILkXqq",
        "outputId": "07bc5972-3f2d-43cd-fc66-d80cddf6cf04"
      },
      "source": [
        "policy_w3g, Q, episodes, converged, paths, total_R, path_length = policy(\n",
        "    w3g, alpha=0.1, epsilon=0.1, decay=0.8, n_episodes=10000,\n",
        "    max_steps=5000, agent=3, step_funct = Q_learning_optimization\n",
        ")\n",
        "printPolicy(w3g, policy_w3g)"
      ],
      "execution_count": 237,
      "outputs": [
        {
          "output_type": "stream",
          "text": [
            "Converged in 1906 episodes. Path length: 44\n",
            "\u001b[0m > \u001b[0m > \u001b[0m v \u001b[0m > \u001b[0m v \u001b[0m < \u001b[0m > \u001b[0m > \u001b[0m > \u001b[0m > \u001b[0m < \u001b[0m > \u001b[0m > \u001b[0m v \u001b[0m v \u001b[0m < \u001b[0m v \u001b[0m v \u001b[0m > \u001b[0m < \u001b[0m v \n",
            "\u001b[0m > \u001b[0m v \u001b[0m < \u001b[0m > \u001b[0m > \u001b[0m ^ \u001b[0m < \u001b[0m < \u001b[0m > \u001b[0m > \u001b[0m > \u001b[0m > \u001b[0m > \u001b[0m < \u001b[0m > \u001b[0m < \u001b[0m < \u001b[0m ^ \u001b[0m ^ \u001b[0m > \u001b[0m > \n",
            "\u001b[0m v \u001b[0m > \u001b[0m v \u001b[0m # \u001b[0m v \u001b[0m v \u001b[0m v \u001b[0m ^ \u001b[0m # \u001b[0m < \u001b[0m # \u001b[0m # \u001b[0m ^ \u001b[0m < \u001b[0m v \u001b[0m v \u001b[0m > \u001b[0m v \u001b[94m < \u001b[0m v \u001b[0m > \n",
            "\u001b[0m < \u001b[0m # \u001b[0m v \u001b[0m > \u001b[0m v \u001b[0m v \u001b[0m < \u001b[0m ^ \u001b[0m # \u001b[0m > \u001b[0m v \u001b[0m > \u001b[0m ^ \u001b[0m v \u001b[0m ^ \u001b[0m # \u001b[0m v \u001b[0m > \u001b[0m v \u001b[0m v \u001b[0m ^ \n",
            "\u001b[0m v \u001b[0m # \u001b[0m v \u001b[0m ^ \u001b[0m v \u001b[0m > \u001b[0m > \u001b[0m v \u001b[0m # \u001b[0m v \u001b[0m > \u001b[0m > \u001b[0m v \u001b[0m ^ \u001b[0m # \u001b[0m > \u001b[0m v \u001b[0m v \u001b[0m > \u001b[0m v \u001b[0m v \n",
            "\u001b[0m v \u001b[0m # \u001b[0m v \u001b[0m v \u001b[0m < \u001b[0m v \u001b[0m ^ \u001b[0m > \u001b[0m > \u001b[0m v \u001b[0m ^ \u001b[0m ^ \u001b[0m ^ \u001b[0m # \u001b[0m > \u001b[0m ^ \u001b[0m v \u001b[0m < \u001b[0m < \u001b[0m > \u001b[0m v \n",
            "\u001b[0m v \u001b[0m # \u001b[0m > \u001b[0m > \u001b[0m > \u001b[0m v \u001b[0m ^ \u001b[0m < \u001b[0m # \u001b[0m v \u001b[0m > \u001b[0m < \u001b[0m # \u001b[0m ^ \u001b[0m v \u001b[0m v \u001b[0m v \u001b[0m v \u001b[0m > \u001b[0m v \u001b[0m v \n",
            "\u001b[0m v \u001b[0m v \u001b[0m > \u001b[0m v \u001b[0m v \u001b[0m v \u001b[0m v \u001b[0m # \u001b[0m # \u001b[0m > \u001b[0m v \u001b[0m v \u001b[0m # \u001b[0m > \u001b[0m > \u001b[0m < \u001b[0m > \u001b[0m v \u001b[0m v \u001b[0m > \u001b[0m v \n",
            "\u001b[0m v \u001b[0m < \u001b[0m > \u001b[0m < \u001b[0m v \u001b[0m > \u001b[0m > \u001b[0m > \u001b[0m > \u001b[0m ^ \u001b[0m > \u001b[0m > \u001b[0m > \u001b[0m v \u001b[0m # \u001b[0m # \u001b[0m > \u001b[0m > \u001b[0m v \u001b[0m v \u001b[0m v \n",
            "\u001b[0m < \u001b[0m v \u001b[0m < \u001b[0m < \u001b[0m v \u001b[0m > \u001b[0m v \u001b[0m # \u001b[0m ^ \u001b[0m > \u001b[0m v \u001b[0m # \u001b[0m > \u001b[0m v \u001b[0m v \u001b[0m # \u001b[0m v \u001b[0m > \u001b[0m > \u001b[0m > \u001b[0m v \n",
            "\u001b[0m > \u001b[0m ^ \u001b[0m > \u001b[0m v \u001b[0m v \u001b[0m # \u001b[0m > \u001b[0m > \u001b[0m < \u001b[0m > \u001b[0m > \u001b[0m < \u001b[0m > \u001b[0m > \u001b[0m v \u001b[0m v \u001b[0m v \u001b[0m # \u001b[0m v \u001b[0m > \u001b[0m v \n",
            "\u001b[0m > \u001b[0m ^ \u001b[0m # \u001b[0m > \u001b[0m > \u001b[0m v \u001b[0m > \u001b[0m v \u001b[0m > \u001b[0m > \u001b[0m v \u001b[0m v \u001b[0m v \u001b[0m # \u001b[0m v \u001b[0m v \u001b[0m v \u001b[0m > \u001b[0m v \u001b[0m > \u001b[0m v \n",
            "\u001b[0m v \u001b[0m # \u001b[0m # \u001b[0m # \u001b[0m > \u001b[0m v \u001b[0m v \u001b[0m ^ \u001b[0m > \u001b[0m < \u001b[0m > \u001b[0m > \u001b[0m v \u001b[0m > \u001b[0m > \u001b[0m v \u001b[0m v \u001b[0m > \u001b[0m v \u001b[0m > \u001b[0m v \n",
            "\u001b[0m > \u001b[0m > \u001b[0m < \u001b[0m # \u001b[0m v \u001b[0m > \u001b[0m v \u001b[0m v \u001b[0m < \u001b[0m > \u001b[0m v \u001b[0m v \u001b[0m > \u001b[0m > \u001b[0m > \u001b[0m > \u001b[0m v \u001b[0m > \u001b[0m v \u001b[0m v \u001b[0m v \n",
            "\u001b[0m < \u001b[0m > \u001b[0m > \u001b[0m v \u001b[0m ^ \u001b[0m v \u001b[0m v \u001b[0m v \u001b[0m # \u001b[0m > \u001b[0m v \u001b[0m v \u001b[0m v \u001b[0m # \u001b[0m > \u001b[0m > \u001b[0m v \u001b[0m v \u001b[0m v \u001b[0m > \u001b[0m v \n",
            "\u001b[0m < \u001b[0m < \u001b[0m ^ \u001b[0m > \u001b[0m > \u001b[0m > \u001b[0m v \u001b[0m v \u001b[0m v \u001b[0m > \u001b[0m > \u001b[0m v \u001b[0m v \u001b[0m # \u001b[0m # \u001b[0m > \u001b[0m > \u001b[0m > \u001b[0m v \u001b[0m > \u001b[0m v \n",
            "\u001b[0m < \u001b[0m < \u001b[0m > \u001b[0m ^ \u001b[0m # \u001b[0m > \u001b[0m > \u001b[0m > \u001b[0m > \u001b[0m > \u001b[0m > \u001b[0m v \u001b[0m v \u001b[0m > \u001b[0m v \u001b[0m # \u001b[0m > \u001b[0m > \u001b[0m v \u001b[0m > \u001b[0m v \n",
            "\u001b[0m v \u001b[0m # \u001b[0m ^ \u001b[0m ^ \u001b[0m v \u001b[0m < \u001b[0m # \u001b[0m v \u001b[0m v \u001b[0m > \u001b[0m > \u001b[0m v \u001b[0m v \u001b[0m # \u001b[0m v \u001b[0m > \u001b[0m > \u001b[0m > \u001b[0m > \u001b[0m > \u001b[0m v \n",
            "\u001b[0m ^ \u001b[0m v \u001b[94m ^ \u001b[0m ^ \u001b[0m ^ \u001b[0m < \u001b[0m > \u001b[0m > \u001b[0m > \u001b[0m > \u001b[0m > \u001b[0m > \u001b[0m v \u001b[0m > \u001b[0m v \u001b[0m # \u001b[0m > \u001b[0m v \u001b[0m > \u001b[0m > \u001b[0m v \n",
            "\u001b[0m > \u001b[0m > \u001b[0m < \u001b[0m ^ \u001b[0m ^ \u001b[0m v \u001b[0m > \u001b[0m > \u001b[0m > \u001b[0m > \u001b[0m > \u001b[0m > \u001b[0m v \u001b[0m > \u001b[0m > \u001b[0m v \u001b[0m > \u001b[0m v \u001b[0m v \u001b[0m > \u001b[0m v \n",
            "\u001b[0m > \u001b[0m ^ \u001b[0m ^ \u001b[0m v \u001b[0m > \u001b[0m ^ \u001b[0m > \u001b[0m > \u001b[0m > \u001b[0m > \u001b[0m > \u001b[0m > \u001b[0m > \u001b[0m > \u001b[0m > \u001b[0m > \u001b[0m > \u001b[0m > \u001b[0m > \u001b[0m > \u001b[0m @ \n",
            "\n"
          ],
          "name": "stdout"
        }
      ]
    },
    {
      "cell_type": "markdown",
      "metadata": {
        "id": "K2Lc6YyhkXqr"
      },
      "source": [
        "#### Mapa 4"
      ]
    },
    {
      "cell_type": "code",
      "metadata": {
        "colab": {
          "base_uri": "https://localhost:8080/"
        },
        "id": "XBFT9vf0kXqr",
        "outputId": "49da412d-e29b-4744-dead-a6825f434ead"
      },
      "source": [
        "policy_w4, Q, episodes, converged, paths, total_R, path_length = policy(\n",
        "    w4, alpha=0.1, epsilon=0.2, decay=0.9, n_episodes=50000, agent=3,\n",
        "    max_steps=5000, step_funct=Q_learning_optimization\n",
        ")\n",
        "printPolicy(w4, policy_w4)"
      ],
      "execution_count": 238,
      "outputs": [
        {
          "output_type": "stream",
          "text": [
            "Did not converge after 50000 episodes\n",
            "\u001b[0m > \u001b[0m # \u001b[0m v \u001b[0m # \u001b[0m > \u001b[0m < \u001b[0m ^ \u001b[0m > \u001b[0m < \u001b[0m # \u001b[0m ^ \u001b[0m ^ \u001b[0m ^ \u001b[0m ^ \u001b[0m ^ \u001b[0m # \u001b[0m # \u001b[0m # \u001b[0m ^ \u001b[0m # \u001b[0m ^ \n",
            "\u001b[0m > \u001b[0m # \u001b[0m ^ \u001b[0m # \u001b[0m # \u001b[0m # \u001b[0m # \u001b[0m # \u001b[0m ^ \u001b[0m # \u001b[0m # \u001b[0m # \u001b[0m # \u001b[0m # \u001b[0m ^ \u001b[0m ^ \u001b[0m ^ \u001b[0m # \u001b[0m ^ \u001b[0m # \u001b[0m ^ \n",
            "\u001b[0m v \u001b[0m # \u001b[0m > \u001b[0m > \u001b[0m v \u001b[0m > \u001b[0m > \u001b[0m > \u001b[0m < \u001b[0m # \u001b[0m ^ \u001b[0m ^ \u001b[0m ^ \u001b[0m # \u001b[0m ^ \u001b[0m # \u001b[0m # \u001b[0m # \u001b[0m ^ \u001b[0m # \u001b[0m ^ \n",
            "\u001b[0m v \u001b[0m # \u001b[0m ^ \u001b[0m # \u001b[0m v \u001b[0m # \u001b[0m v \u001b[0m # \u001b[0m ^ \u001b[0m # \u001b[0m ^ \u001b[0m # \u001b[0m ^ \u001b[0m ^ \u001b[0m ^ \u001b[0m ^ \u001b[0m # \u001b[0m ^ \u001b[0m ^ \u001b[0m # \u001b[0m ^ \n",
            "\u001b[0m > \u001b[0m > \u001b[0m ^ \u001b[0m # \u001b[0m v \u001b[0m # \u001b[0m v \u001b[0m # \u001b[0m # \u001b[0m # \u001b[0m # \u001b[0m # \u001b[0m # \u001b[0m # \u001b[0m # \u001b[0m ^ \u001b[0m # \u001b[0m ^ \u001b[0m # \u001b[0m # \u001b[0m ^ \n",
            "\u001b[0m # \u001b[0m # \u001b[0m # \u001b[0m # \u001b[0m v \u001b[0m # \u001b[0m > \u001b[0m > \u001b[0m v \u001b[0m # \u001b[0m ^ \u001b[0m ^ \u001b[0m ^ \u001b[0m ^ \u001b[0m ^ \u001b[0m ^ \u001b[0m # \u001b[0m ^ \u001b[0m ^ \u001b[0m ^ \u001b[0m ^ \n",
            "\u001b[0m > \u001b[0m < \u001b[0m < \u001b[0m > \u001b[0m v \u001b[0m # \u001b[0m # \u001b[0m # \u001b[0m v \u001b[0m # \u001b[0m # \u001b[0m # \u001b[0m # \u001b[0m # \u001b[0m # \u001b[0m ^ \u001b[0m # \u001b[0m # \u001b[0m ^ \u001b[0m # \u001b[0m ^ \n",
            "\u001b[0m # \u001b[0m # \u001b[0m # \u001b[0m # \u001b[0m v \u001b[0m # \u001b[0m v \u001b[0m # \u001b[0m ^ \u001b[0m # \u001b[0m ^ \u001b[0m ^ \u001b[0m ^ \u001b[0m ^ \u001b[0m ^ \u001b[0m ^ \u001b[0m ^ \u001b[0m ^ \u001b[0m ^ \u001b[0m # \u001b[0m ^ \n",
            "\u001b[0m v \u001b[0m < \u001b[0m < \u001b[0m # \u001b[0m v \u001b[0m > \u001b[0m v \u001b[0m # \u001b[0m # \u001b[0m # \u001b[0m ^ \u001b[0m ^ \u001b[0m # \u001b[0m # \u001b[0m # \u001b[0m # \u001b[0m # \u001b[0m # \u001b[0m # \u001b[0m # \u001b[0m ^ \n",
            "\u001b[0m v \u001b[0m # \u001b[0m ^ \u001b[0m # \u001b[0m v \u001b[0m # \u001b[0m ^ \u001b[0m # \u001b[0m ^ \u001b[0m ^ \u001b[0m ^ \u001b[0m # \u001b[0m # \u001b[0m ^ \u001b[0m ^ \u001b[0m ^ \u001b[0m ^ \u001b[0m ^ \u001b[0m ^ \u001b[0m # \u001b[0m # \n",
            "\u001b[0m ^ \u001b[0m # \u001b[0m ^ \u001b[0m # \u001b[0m ^ \u001b[0m # \u001b[0m # \u001b[0m # \u001b[0m ^ \u001b[0m # \u001b[0m ^ \u001b[0m # \u001b[0m ^ \u001b[0m ^ \u001b[0m # \u001b[0m # \u001b[0m # \u001b[0m # \u001b[0m ^ \u001b[0m ^ \u001b[0m ^ \n",
            "\u001b[0m ^ \u001b[0m # \u001b[0m ^ \u001b[0m # \u001b[0m v \u001b[0m # \u001b[0m ^ \u001b[0m ^ \u001b[0m ^ \u001b[0m # \u001b[0m ^ \u001b[0m # \u001b[0m ^ \u001b[0m # \u001b[0m # \u001b[0m ^ \u001b[0m ^ \u001b[0m # \u001b[0m # \u001b[0m # \u001b[0m ^ \n",
            "\u001b[0m ^ \u001b[0m # \u001b[0m ^ \u001b[0m < \u001b[0m < \u001b[0m # \u001b[0m # \u001b[0m ^ \u001b[0m # \u001b[0m # \u001b[0m ^ \u001b[0m # \u001b[0m ^ \u001b[0m # \u001b[0m ^ \u001b[0m ^ \u001b[0m ^ \u001b[0m ^ \u001b[0m ^ \u001b[0m # \u001b[0m ^ \n",
            "\u001b[0m ^ \u001b[0m # \u001b[0m # \u001b[0m # \u001b[0m # \u001b[0m # \u001b[0m ^ \u001b[0m ^ \u001b[0m # \u001b[0m ^ \u001b[0m ^ \u001b[0m ^ \u001b[0m ^ \u001b[0m ^ \u001b[0m ^ \u001b[0m # \u001b[0m # \u001b[0m # \u001b[0m ^ \u001b[0m # \u001b[0m ^ \n",
            "\u001b[0m ^ \u001b[0m ^ \u001b[0m ^ \u001b[0m ^ \u001b[0m # \u001b[0m ^ \u001b[0m ^ \u001b[0m # \u001b[0m # \u001b[0m ^ \u001b[0m # \u001b[0m ^ \u001b[0m # \u001b[0m # \u001b[0m ^ \u001b[0m # \u001b[0m ^ \u001b[0m ^ \u001b[0m ^ \u001b[0m # \u001b[0m ^ \n",
            "\u001b[0m # \u001b[0m # \u001b[0m # \u001b[0m ^ \u001b[0m ^ \u001b[0m ^ \u001b[0m # \u001b[0m # \u001b[0m ^ \u001b[0m ^ \u001b[0m # \u001b[0m ^ \u001b[0m ^ \u001b[0m # \u001b[0m # \u001b[0m # \u001b[0m ^ \u001b[0m # \u001b[0m # \u001b[0m # \u001b[0m # \n",
            "\u001b[0m ^ \u001b[0m ^ \u001b[0m # \u001b[0m # \u001b[0m ^ \u001b[0m # \u001b[0m # \u001b[0m # \u001b[0m # \u001b[0m # \u001b[0m # \u001b[0m # \u001b[0m ^ \u001b[0m ^ \u001b[0m ^ \u001b[0m # \u001b[0m ^ \u001b[0m # \u001b[0m ^ \u001b[0m ^ \u001b[0m ^ \n",
            "\u001b[0m # \u001b[0m ^ \u001b[0m ^ \u001b[0m # \u001b[0m ^ \u001b[0m # \u001b[0m ^ \u001b[0m ^ \u001b[0m ^ \u001b[0m # \u001b[0m ^ \u001b[0m ^ \u001b[0m ^ \u001b[0m # \u001b[0m # \u001b[0m # \u001b[0m ^ \u001b[0m # \u001b[0m ^ \u001b[0m # \u001b[0m ^ \n",
            "\u001b[0m # \u001b[0m # \u001b[0m ^ \u001b[0m ^ \u001b[0m ^ \u001b[0m # \u001b[0m # \u001b[0m # \u001b[0m ^ \u001b[0m # \u001b[0m # \u001b[0m # \u001b[0m ^ \u001b[0m ^ \u001b[0m ^ \u001b[0m # \u001b[0m ^ \u001b[0m ^ \u001b[0m ^ \u001b[0m # \u001b[0m ^ \n",
            "\u001b[0m ^ \u001b[0m # \u001b[0m # \u001b[0m ^ \u001b[0m # \u001b[0m # \u001b[0m ^ \u001b[0m ^ \u001b[0m ^ \u001b[0m ^ \u001b[0m ^ \u001b[0m # \u001b[0m ^ \u001b[0m # \u001b[0m # \u001b[0m # \u001b[0m # \u001b[0m # \u001b[0m # \u001b[0m # \u001b[0m ^ \n",
            "\u001b[0m ^ \u001b[0m ^ \u001b[0m ^ \u001b[0m ^ \u001b[0m ^ \u001b[0m ^ \u001b[0m ^ \u001b[0m # \u001b[0m # \u001b[0m # \u001b[0m ^ \u001b[0m # \u001b[0m ^ \u001b[0m ^ \u001b[0m ^ \u001b[0m ^ \u001b[0m ^ \u001b[0m ^ \u001b[0m ^ \u001b[0m # \u001b[0m @ \n",
            "\n"
          ],
          "name": "stdout"
        }
      ]
    },
    {
      "cell_type": "markdown",
      "metadata": {
        "id": "nra1Uv_EnYz1"
      },
      "source": [
        "### Pruebas con ambos cambios"
      ]
    },
    {
      "cell_type": "markdown",
      "metadata": {
        "id": "bimkI_X0nYz3"
      },
      "source": [
        "#### Mapa 1"
      ]
    },
    {
      "cell_type": "code",
      "metadata": {
        "colab": {
          "base_uri": "https://localhost:8080/"
        },
        "id": "-djpPWASnYz5",
        "outputId": "91f4aaca-d07f-4613-b4bc-221cef8a6fa8"
      },
      "source": [
        "policy_w1p, Q, episodes, converged, paths, total_R, path_length = policy(\n",
        "    w1p, alpha=0.5, epsilon=0.1, decay=0.8, n_episodes=100, agent=4,\n",
        "    optimize_steps=10, step_funct = Q_learning_optimization,\n",
        "    verbose=True\n",
        ")"
      ],
      "execution_count": 242,
      "outputs": [
        {
          "output_type": "stream",
          "text": [
            "Episode 22\n",
            "\u001b[0m v \u001b[0m # \u001b[0m > \u001b[0m > \u001b[0m v \n",
            "\u001b[0m v \u001b[0m # \u001b[0m ^ \u001b[0m # \u001b[0m v \n",
            "\u001b[0m v \u001b[0m # \u001b[0m ^ \u001b[0m # \u001b[0m v \n",
            "\u001b[0m v \u001b[0m # \u001b[0m ^ \u001b[0m # \u001b[0m v \n",
            "\u001b[0m > \u001b[0m > \u001b[0m ^ \u001b[0m # \u001b[0m @ \n",
            "\n",
            "Converged in 22 episodes. Path length: 16\n"
          ],
          "name": "stdout"
        }
      ]
    },
    {
      "cell_type": "code",
      "metadata": {
        "colab": {
          "base_uri": "https://localhost:8080/"
        },
        "id": "SiHCMOH9nYz_",
        "outputId": "383592ac-7bfe-43fd-b686-35d187f46ed2"
      },
      "source": [
        "policy_w1m, Q, episodes, converged, paths, total_R, path_length = policy(\n",
        "    w1m, alpha=0.1, epsilon=0.01, n_episodes=10000, agent=4, gamma=0.9,\n",
        "    max_steps=5000, step_funct = Q_learning_optimization\n",
        ")\n",
        "printPolicy(w1m, policy_w1m)"
      ],
      "execution_count": 243,
      "outputs": [
        {
          "output_type": "stream",
          "text": [
            "Converged in 289 episodes. Path length: 48\n",
            "\u001b[0m v \u001b[0m # \u001b[0m > \u001b[0m > \u001b[0m v \u001b[0m # \u001b[0m > \u001b[0m > \u001b[0m v \n",
            "\u001b[0m v \u001b[0m # \u001b[0m ^ \u001b[0m # \u001b[0m v \u001b[0m # \u001b[0m ^ \u001b[0m # \u001b[0m v \n",
            "\u001b[0m v \u001b[0m # \u001b[0m ^ \u001b[0m # \u001b[0m v \u001b[0m # \u001b[0m ^ \u001b[0m # \u001b[0m v \n",
            "\u001b[0m v \u001b[0m # \u001b[0m ^ \u001b[0m # \u001b[0m v \u001b[0m # \u001b[0m ^ \u001b[0m # \u001b[0m v \n",
            "\u001b[0m v \u001b[0m # \u001b[0m ^ \u001b[0m # \u001b[0m v \u001b[0m # \u001b[0m ^ \u001b[0m # \u001b[0m v \n",
            "\u001b[0m v \u001b[0m # \u001b[0m ^ \u001b[0m # \u001b[0m v \u001b[0m # \u001b[0m ^ \u001b[0m # \u001b[0m v \n",
            "\u001b[0m v \u001b[0m # \u001b[0m ^ \u001b[0m # \u001b[0m v \u001b[0m # \u001b[0m ^ \u001b[0m # \u001b[0m v \n",
            "\u001b[0m v \u001b[0m # \u001b[0m ^ \u001b[0m # \u001b[0m v \u001b[0m # \u001b[0m ^ \u001b[0m # \u001b[0m v \n",
            "\u001b[0m > \u001b[0m > \u001b[0m ^ \u001b[0m # \u001b[0m > \u001b[0m > \u001b[0m ^ \u001b[0m # \u001b[0m @ \n",
            "\n"
          ],
          "name": "stdout"
        }
      ]
    },
    {
      "cell_type": "code",
      "metadata": {
        "colab": {
          "base_uri": "https://localhost:8080/"
        },
        "id": "aL5RnOCcnY0C",
        "outputId": "600d440b-ef34-4f8a-e47d-aeae5d5685af"
      },
      "source": [
        "policy_w1g, Q, episodes, converged, paths, total_R, path_length = policy(\n",
        "    w1g, alpha=0.1, epsilon=0.01, agent=4, max_steps=10000, gamma=0.9,\n",
        "    n_episodes=50000, step_funct = Q_learning_optimization\n",
        ")\n",
        "printPolicy(w1g, policy_w1g)"
      ],
      "execution_count": 246,
      "outputs": [
        {
          "output_type": "stream",
          "text": [
            "Converged in 1975 episodes. Path length: 240\n",
            "\u001b[0m v \u001b[0m # \u001b[0m > \u001b[0m > \u001b[0m v \u001b[0m # \u001b[0m > \u001b[0m > \u001b[0m v \u001b[0m # \u001b[0m > \u001b[0m > \u001b[0m v \u001b[0m # \u001b[0m > \u001b[0m > \u001b[0m v \u001b[0m # \u001b[0m > \u001b[0m > \u001b[0m v \n",
            "\u001b[0m v \u001b[0m # \u001b[0m ^ \u001b[0m # \u001b[0m v \u001b[0m # \u001b[0m ^ \u001b[0m # \u001b[0m v \u001b[0m # \u001b[0m ^ \u001b[0m # \u001b[0m v \u001b[0m # \u001b[0m ^ \u001b[0m # \u001b[0m v \u001b[0m # \u001b[0m ^ \u001b[0m # \u001b[0m v \n",
            "\u001b[0m v \u001b[0m # \u001b[0m ^ \u001b[0m # \u001b[0m v \u001b[0m # \u001b[0m ^ \u001b[0m # \u001b[0m v \u001b[0m # \u001b[0m ^ \u001b[0m # \u001b[0m v \u001b[0m # \u001b[0m ^ \u001b[0m # \u001b[0m v \u001b[0m # \u001b[0m ^ \u001b[0m # \u001b[0m v \n",
            "\u001b[0m v \u001b[0m # \u001b[0m ^ \u001b[0m # \u001b[0m v \u001b[0m # \u001b[0m ^ \u001b[0m # \u001b[0m v \u001b[0m # \u001b[0m ^ \u001b[0m # \u001b[0m v \u001b[0m # \u001b[0m ^ \u001b[0m # \u001b[0m v \u001b[0m # \u001b[0m ^ \u001b[0m # \u001b[0m v \n",
            "\u001b[0m v \u001b[0m # \u001b[0m ^ \u001b[0m # \u001b[0m v \u001b[0m # \u001b[0m ^ \u001b[0m # \u001b[0m v \u001b[0m # \u001b[0m ^ \u001b[0m # \u001b[0m v \u001b[0m # \u001b[0m ^ \u001b[0m # \u001b[0m v \u001b[0m # \u001b[0m ^ \u001b[0m # \u001b[0m v \n",
            "\u001b[0m v \u001b[0m # \u001b[0m ^ \u001b[0m # \u001b[0m v \u001b[0m # \u001b[0m ^ \u001b[0m # \u001b[0m v \u001b[0m # \u001b[0m ^ \u001b[0m # \u001b[0m v \u001b[0m # \u001b[0m ^ \u001b[0m # \u001b[0m v \u001b[0m # \u001b[0m ^ \u001b[0m # \u001b[0m v \n",
            "\u001b[0m v \u001b[0m # \u001b[0m ^ \u001b[0m # \u001b[0m v \u001b[0m # \u001b[0m ^ \u001b[0m # \u001b[0m v \u001b[0m # \u001b[0m ^ \u001b[0m # \u001b[0m v \u001b[0m # \u001b[0m ^ \u001b[0m # \u001b[0m v \u001b[0m # \u001b[0m ^ \u001b[0m # \u001b[0m v \n",
            "\u001b[0m v \u001b[0m # \u001b[0m ^ \u001b[0m # \u001b[0m v \u001b[0m # \u001b[0m ^ \u001b[0m # \u001b[0m v \u001b[0m # \u001b[0m ^ \u001b[0m # \u001b[0m v \u001b[0m # \u001b[0m ^ \u001b[0m # \u001b[0m v \u001b[0m # \u001b[0m ^ \u001b[0m # \u001b[0m v \n",
            "\u001b[0m v \u001b[0m # \u001b[0m ^ \u001b[0m # \u001b[0m v \u001b[0m # \u001b[0m ^ \u001b[0m # \u001b[0m v \u001b[0m # \u001b[0m ^ \u001b[0m # \u001b[0m v \u001b[0m # \u001b[0m ^ \u001b[0m # \u001b[0m v \u001b[0m # \u001b[0m ^ \u001b[0m # \u001b[0m v \n",
            "\u001b[0m v \u001b[0m # \u001b[0m ^ \u001b[0m # \u001b[0m v \u001b[0m # \u001b[0m ^ \u001b[0m # \u001b[0m v \u001b[0m # \u001b[0m ^ \u001b[0m # \u001b[0m v \u001b[0m # \u001b[0m ^ \u001b[0m # \u001b[0m v \u001b[0m # \u001b[0m ^ \u001b[0m # \u001b[0m v \n",
            "\u001b[0m v \u001b[0m # \u001b[0m ^ \u001b[0m # \u001b[0m v \u001b[0m # \u001b[0m ^ \u001b[0m # \u001b[0m v \u001b[0m # \u001b[0m ^ \u001b[0m # \u001b[0m v \u001b[0m # \u001b[0m ^ \u001b[0m # \u001b[0m v \u001b[0m # \u001b[0m ^ \u001b[0m # \u001b[0m v \n",
            "\u001b[0m v \u001b[0m # \u001b[0m ^ \u001b[0m # \u001b[0m v \u001b[0m # \u001b[0m ^ \u001b[0m # \u001b[0m v \u001b[0m # \u001b[0m ^ \u001b[0m # \u001b[0m v \u001b[0m # \u001b[0m ^ \u001b[0m # \u001b[0m v \u001b[0m # \u001b[0m ^ \u001b[0m # \u001b[0m v \n",
            "\u001b[0m v \u001b[0m # \u001b[0m ^ \u001b[0m # \u001b[0m v \u001b[0m # \u001b[0m ^ \u001b[0m # \u001b[0m v \u001b[0m # \u001b[0m ^ \u001b[0m # \u001b[0m v \u001b[0m # \u001b[0m ^ \u001b[0m # \u001b[0m v \u001b[0m # \u001b[0m ^ \u001b[0m # \u001b[0m v \n",
            "\u001b[0m v \u001b[0m # \u001b[0m ^ \u001b[0m # \u001b[0m v \u001b[0m # \u001b[0m ^ \u001b[0m # \u001b[0m v \u001b[0m # \u001b[0m ^ \u001b[0m # \u001b[0m v \u001b[0m # \u001b[0m ^ \u001b[0m # \u001b[0m v \u001b[0m # \u001b[0m ^ \u001b[0m # \u001b[0m v \n",
            "\u001b[0m v \u001b[0m # \u001b[0m ^ \u001b[0m # \u001b[0m v \u001b[0m # \u001b[0m ^ \u001b[0m # \u001b[0m v \u001b[0m # \u001b[0m ^ \u001b[0m # \u001b[0m v \u001b[0m # \u001b[0m ^ \u001b[0m # \u001b[0m v \u001b[0m # \u001b[0m ^ \u001b[0m # \u001b[0m v \n",
            "\u001b[0m v \u001b[0m # \u001b[0m ^ \u001b[0m # \u001b[0m v \u001b[0m # \u001b[0m ^ \u001b[0m # \u001b[0m v \u001b[0m # \u001b[0m ^ \u001b[0m # \u001b[0m v \u001b[0m # \u001b[0m ^ \u001b[0m # \u001b[0m v \u001b[0m # \u001b[0m ^ \u001b[0m # \u001b[0m v \n",
            "\u001b[0m v \u001b[0m # \u001b[0m ^ \u001b[0m # \u001b[0m v \u001b[0m # \u001b[0m ^ \u001b[0m # \u001b[0m v \u001b[0m # \u001b[0m ^ \u001b[0m # \u001b[0m v \u001b[0m # \u001b[0m ^ \u001b[0m # \u001b[0m v \u001b[0m # \u001b[0m ^ \u001b[0m # \u001b[0m v \n",
            "\u001b[0m v \u001b[0m # \u001b[0m ^ \u001b[0m # \u001b[0m v \u001b[0m # \u001b[0m ^ \u001b[0m # \u001b[0m v \u001b[0m # \u001b[0m ^ \u001b[0m # \u001b[0m v \u001b[0m # \u001b[0m ^ \u001b[0m # \u001b[0m v \u001b[0m # \u001b[0m ^ \u001b[0m # \u001b[0m v \n",
            "\u001b[0m v \u001b[0m # \u001b[0m ^ \u001b[0m # \u001b[0m v \u001b[0m # \u001b[0m ^ \u001b[0m # \u001b[0m v \u001b[0m # \u001b[0m ^ \u001b[0m # \u001b[0m v \u001b[0m # \u001b[0m ^ \u001b[0m # \u001b[0m v \u001b[0m # \u001b[0m ^ \u001b[0m # \u001b[0m v \n",
            "\u001b[0m v \u001b[0m # \u001b[0m ^ \u001b[0m # \u001b[0m v \u001b[0m # \u001b[0m ^ \u001b[0m # \u001b[0m v \u001b[0m # \u001b[0m ^ \u001b[0m # \u001b[0m v \u001b[0m # \u001b[0m ^ \u001b[0m # \u001b[0m v \u001b[0m # \u001b[0m ^ \u001b[0m # \u001b[0m v \n",
            "\u001b[0m > \u001b[0m > \u001b[0m ^ \u001b[0m # \u001b[0m > \u001b[0m > \u001b[0m ^ \u001b[0m # \u001b[0m > \u001b[0m > \u001b[0m ^ \u001b[0m # \u001b[0m > \u001b[0m > \u001b[0m ^ \u001b[0m # \u001b[0m > \u001b[0m > \u001b[0m ^ \u001b[0m # \u001b[0m @ \n",
            "\n"
          ],
          "name": "stdout"
        }
      ]
    },
    {
      "cell_type": "markdown",
      "metadata": {
        "id": "DfxHNSlbnY0F"
      },
      "source": [
        "#### Mapa 2"
      ]
    },
    {
      "cell_type": "code",
      "metadata": {
        "colab": {
          "base_uri": "https://localhost:8080/"
        },
        "id": "l_WbyDj7nY0H",
        "outputId": "ac4e6f75-9920-44bc-d495-6f0d9b0263d3"
      },
      "source": [
        "policy_w2p, Q, episodes, converged, paths, total_R, path_length = policy(\n",
        "    w2p, alpha=0.1, epsilon=0.0, n_episodes=100, agent=4,\n",
        "    step_funct = Q_learning_optimization, verbose=True\n",
        ")\n",
        "printPolicy(w2p, policy_w2p)"
      ],
      "execution_count": 247,
      "outputs": [
        {
          "output_type": "stream",
          "text": [
            "Episode 4\n",
            "\u001b[0m v \u001b[0m ^ \u001b[0m v \u001b[0m ^ \u001b[0m ^ \n",
            "\u001b[0m > \u001b[0m v \u001b[0m ^ \u001b[0m ^ \u001b[0m ^ \n",
            "\u001b[94m ^ \u001b[0m < \u001b[0m < \u001b[0m # \u001b[0m v \n",
            "\u001b[0m ^ \u001b[0m > \u001b[0m ^ \u001b[0m ^ \u001b[0m v \n",
            "\u001b[0m < \u001b[0m ^ \u001b[94m > \u001b[0m > \u001b[0m @ \n",
            "\n",
            "Converged in 4 episodes. Path length: 6\n",
            "Improved path length: 4 (13 episodes in total)\n",
            "\u001b[0m v \u001b[0m < \u001b[0m > \u001b[0m ^ \u001b[0m > \n",
            "\u001b[0m v \u001b[0m v \u001b[0m > \u001b[0m < \u001b[0m ^ \n",
            "\u001b[94m < \u001b[0m v \u001b[0m ^ \u001b[0m # \u001b[0m v \n",
            "\u001b[0m ^ \u001b[0m > \u001b[0m ^ \u001b[0m v \u001b[0m v \n",
            "\u001b[0m < \u001b[0m ^ \u001b[94m > \u001b[0m > \u001b[0m @ \n",
            "\n"
          ],
          "name": "stdout"
        }
      ]
    },
    {
      "cell_type": "code",
      "metadata": {
        "colab": {
          "base_uri": "https://localhost:8080/"
        },
        "id": "popO4S1nnY0J",
        "outputId": "25865047-c134-4359-85e8-5cf6ab0ed44a"
      },
      "source": [
        "policy_w2m, Q, episodes, converged, paths, total_R, path_length = policy(\n",
        "    w2m, alpha=0.1, epsilon=0.0, n_episodes=100, agent=4,\n",
        "    step_funct = Q_learning_optimization\n",
        ")\n",
        "printPolicy(w2m, policy_w2m)"
      ],
      "execution_count": null,
      "outputs": [
        {
          "output_type": "stream",
          "text": [
            "Converged in 44 episodes. Path length: 8\n",
            "\u001b[0m v \u001b[0m < \u001b[0m ^ \u001b[0m ^ \u001b[0m < \u001b[0m < \u001b[0m > \u001b[0m v \u001b[0m ^ \u001b[0m > \n",
            "\u001b[0m v \u001b[0m # \u001b[0m # \u001b[0m v \u001b[0m # \u001b[0m ^ \u001b[0m > \u001b[0m v \u001b[0m ^ \u001b[0m ^ \n",
            "\u001b[0m v \u001b[0m v \u001b[0m < \u001b[0m ^ \u001b[0m # \u001b[0m ^ \u001b[0m < \u001b[0m > \u001b[0m > \u001b[0m ^ \n",
            "\u001b[0m > \u001b[94m v \u001b[0m < \u001b[0m > \u001b[0m < \u001b[0m v \u001b[0m ^ \u001b[0m v \u001b[0m > \u001b[0m v \n",
            "\u001b[0m > \u001b[0m < \u001b[0m # \u001b[0m ^ \u001b[0m # \u001b[0m v \u001b[0m < \u001b[0m ^ \u001b[0m ^ \u001b[0m ^ \n",
            "\u001b[0m > \u001b[0m v \u001b[0m # \u001b[0m ^ \u001b[0m < \u001b[0m > \u001b[0m < \u001b[0m < \u001b[0m # \u001b[0m ^ \n",
            "\u001b[0m v \u001b[0m v \u001b[0m < \u001b[0m v \u001b[0m v \u001b[0m < \u001b[0m < \u001b[0m # \u001b[0m v \u001b[0m v \n",
            "\u001b[0m ^ \u001b[0m ^ \u001b[0m < \u001b[0m v \u001b[0m ^ \u001b[0m ^ \u001b[0m # \u001b[0m > \u001b[0m v \u001b[0m v \n",
            "\u001b[0m > \u001b[0m ^ \u001b[0m < \u001b[0m < \u001b[0m > \u001b[0m v \u001b[94m > \u001b[0m > \u001b[0m > \u001b[0m v \n",
            "\u001b[0m > \u001b[0m ^ \u001b[0m < \u001b[0m < \u001b[0m < \u001b[0m ^ \u001b[0m > \u001b[0m > \u001b[0m > \u001b[0m @ \n",
            "\n"
          ],
          "name": "stdout"
        }
      ]
    },
    {
      "cell_type": "code",
      "metadata": {
        "colab": {
          "base_uri": "https://localhost:8080/"
        },
        "id": "HQGZMdyLnY0L",
        "outputId": "137e1160-cf21-40a5-84d9-cbd46cc35881"
      },
      "source": [
        "policy_w2g, Q, episodes, converged, paths, total_R, path_length = policy(\n",
        "    w2g, alpha=0.1, epsilon=0.0, n_episodes=1000, agent=4,\n",
        "    step_funct = Q_learning_optimization\n",
        ")\n",
        "printPolicy(w2g, policy_w2g)"
      ],
      "execution_count": null,
      "outputs": [
        {
          "output_type": "stream",
          "text": [
            "Converged in 166 episodes. Path length: 16\n",
            "\u001b[0m v \u001b[0m > \u001b[0m > \u001b[0m v \u001b[0m v \u001b[0m < \u001b[0m ^ \u001b[0m ^ \u001b[0m v \u001b[0m < \u001b[0m v \u001b[0m v \u001b[0m v \u001b[0m v \u001b[0m v \u001b[0m < \u001b[0m < \u001b[0m < \u001b[0m ^ \u001b[0m > \u001b[0m ^ \n",
            "\u001b[0m v \u001b[0m > \u001b[0m v \u001b[0m < \u001b[0m < \u001b[0m > \u001b[0m ^ \u001b[0m > \u001b[0m ^ \u001b[0m ^ \u001b[0m < \u001b[0m < \u001b[0m ^ \u001b[0m > \u001b[0m > \u001b[0m v \u001b[0m # \u001b[0m v \u001b[0m < \u001b[0m ^ \u001b[0m ^ \n",
            "\u001b[0m v \u001b[0m > \u001b[0m > \u001b[0m ^ \u001b[0m ^ \u001b[0m > \u001b[0m > \u001b[0m v \u001b[0m < \u001b[0m v \u001b[0m < \u001b[0m > \u001b[0m > \u001b[0m v \u001b[0m # \u001b[0m v \u001b[0m < \u001b[0m < \u001b[0m > \u001b[0m < \u001b[0m < \n",
            "\u001b[0m > \u001b[0m > \u001b[0m v \u001b[0m > \u001b[0m v \u001b[0m < \u001b[0m < \u001b[0m < \u001b[0m v \u001b[0m ^ \u001b[0m v \u001b[0m < \u001b[0m ^ \u001b[0m > \u001b[0m > \u001b[0m < \u001b[0m < \u001b[0m < \u001b[0m > \u001b[0m ^ \u001b[0m < \n",
            "\u001b[0m ^ \u001b[0m > \u001b[0m v \u001b[0m < \u001b[0m < \u001b[0m < \u001b[0m v \u001b[0m # \u001b[0m v \u001b[0m ^ \u001b[0m > \u001b[0m > \u001b[0m ^ \u001b[0m # \u001b[0m > \u001b[0m ^ \u001b[0m ^ \u001b[0m ^ \u001b[0m > \u001b[0m ^ \u001b[0m ^ \n",
            "\u001b[0m v \u001b[0m > \u001b[0m v \u001b[0m < \u001b[0m # \u001b[0m v \u001b[0m > \u001b[0m v \u001b[0m v \u001b[0m < \u001b[0m # \u001b[0m > \u001b[0m ^ \u001b[0m # \u001b[0m ^ \u001b[0m v \u001b[0m < \u001b[0m # \u001b[0m v \u001b[0m < \u001b[0m ^ \n",
            "\u001b[0m > \u001b[0m > \u001b[94m v \u001b[0m # \u001b[0m v \u001b[0m v \u001b[0m ^ \u001b[0m > \u001b[0m v \u001b[0m ^ \u001b[0m v \u001b[0m ^ \u001b[0m v \u001b[0m > \u001b[0m v \u001b[0m < \u001b[0m # \u001b[0m v \u001b[0m < \u001b[0m ^ \u001b[0m ^ \n",
            "\u001b[0m ^ \u001b[0m # \u001b[0m ^ \u001b[0m # \u001b[0m ^ \u001b[0m v \u001b[0m # \u001b[0m > \u001b[0m > \u001b[0m ^ \u001b[0m ^ \u001b[0m # \u001b[0m ^ \u001b[0m # \u001b[0m ^ \u001b[0m > \u001b[0m < \u001b[0m v \u001b[0m ^ \u001b[0m ^ \u001b[0m ^ \n",
            "\u001b[0m v \u001b[0m < \u001b[0m v \u001b[0m v \u001b[0m # \u001b[0m > \u001b[0m < \u001b[0m # \u001b[0m > \u001b[0m ^ \u001b[0m # \u001b[0m > \u001b[0m ^ \u001b[0m # \u001b[0m # \u001b[0m ^ \u001b[0m v \u001b[0m > \u001b[0m ^ \u001b[0m v \u001b[0m ^ \n",
            "\u001b[0m < \u001b[0m > \u001b[0m ^ \u001b[0m < \u001b[0m # \u001b[0m v \u001b[0m ^ \u001b[0m v \u001b[0m < \u001b[0m ^ \u001b[0m < \u001b[0m v \u001b[0m ^ \u001b[0m v \u001b[0m v \u001b[0m v \u001b[0m < \u001b[0m # \u001b[0m ^ \u001b[0m > \u001b[0m ^ \n",
            "\u001b[0m ^ \u001b[0m < \u001b[0m < \u001b[0m ^ \u001b[0m < \u001b[0m v \u001b[0m # \u001b[0m > \u001b[0m > \u001b[0m ^ \u001b[0m # \u001b[0m v \u001b[0m # \u001b[0m ^ \u001b[0m v \u001b[0m < \u001b[0m ^ \u001b[0m > \u001b[0m v \u001b[0m v \u001b[0m < \n",
            "\u001b[0m < \u001b[0m v \u001b[0m ^ \u001b[0m < \u001b[0m # \u001b[0m > \u001b[0m v \u001b[0m # \u001b[0m # \u001b[0m v \u001b[0m < \u001b[0m > \u001b[0m v \u001b[0m # \u001b[0m > \u001b[0m < \u001b[0m > \u001b[0m ^ \u001b[0m < \u001b[0m < \u001b[0m ^ \n",
            "\u001b[0m v \u001b[0m > \u001b[0m v \u001b[0m < \u001b[0m v \u001b[0m # \u001b[0m v \u001b[0m > \u001b[0m > \u001b[0m > \u001b[0m v \u001b[0m < \u001b[0m < \u001b[0m > \u001b[0m v \u001b[0m # \u001b[0m v \u001b[0m ^ \u001b[0m < \u001b[0m > \u001b[0m < \n",
            "\u001b[0m v \u001b[0m ^ \u001b[0m v \u001b[0m # \u001b[0m v \u001b[0m < \u001b[0m v \u001b[0m v \u001b[0m > \u001b[0m < \u001b[0m > \u001b[0m v \u001b[0m < \u001b[0m ^ \u001b[0m ^ \u001b[0m v \u001b[0m v \u001b[0m > \u001b[0m ^ \u001b[0m > \u001b[0m v \n",
            "\u001b[0m ^ \u001b[0m # \u001b[0m ^ \u001b[0m v \u001b[0m > \u001b[0m ^ \u001b[0m < \u001b[0m > \u001b[0m > \u001b[0m v \u001b[0m # \u001b[0m > \u001b[0m < \u001b[0m ^ \u001b[0m < \u001b[0m ^ \u001b[0m < \u001b[0m v \u001b[0m ^ \u001b[0m > \u001b[0m ^ \n",
            "\u001b[0m ^ \u001b[0m v \u001b[0m > \u001b[0m > \u001b[0m v \u001b[0m ^ \u001b[0m # \u001b[0m ^ \u001b[0m # \u001b[0m ^ \u001b[0m # \u001b[0m > \u001b[0m v \u001b[0m v \u001b[0m # \u001b[0m # \u001b[0m > \u001b[0m < \u001b[0m > \u001b[0m v \u001b[0m v \n",
            "\u001b[0m < \u001b[0m < \u001b[0m # \u001b[0m # \u001b[0m > \u001b[0m > \u001b[0m > \u001b[0m < \u001b[0m > \u001b[0m ^ \u001b[0m > \u001b[0m > \u001b[0m ^ \u001b[0m v \u001b[0m # \u001b[0m v \u001b[0m # \u001b[0m v \u001b[0m > \u001b[0m v \u001b[0m v \n",
            "\u001b[0m v \u001b[0m > \u001b[0m v \u001b[0m > \u001b[0m < \u001b[0m < \u001b[0m > \u001b[0m > \u001b[0m < \u001b[0m # \u001b[0m > \u001b[0m < \u001b[0m > \u001b[0m ^ \u001b[0m > \u001b[0m < \u001b[0m > \u001b[0m v \u001b[0m > \u001b[0m v \u001b[0m v \n",
            "\u001b[0m ^ \u001b[0m ^ \u001b[0m v \u001b[0m > \u001b[0m v \u001b[0m < \u001b[0m v \u001b[0m < \u001b[0m < \u001b[0m > \u001b[0m v \u001b[0m # \u001b[0m v \u001b[0m v \u001b[94m > \u001b[0m v \u001b[0m v \u001b[0m v \u001b[0m > \u001b[0m v \u001b[0m v \n",
            "\u001b[0m > \u001b[0m v \u001b[0m < \u001b[0m < \u001b[0m < \u001b[0m < \u001b[0m < \u001b[0m v \u001b[0m < \u001b[0m v \u001b[0m < \u001b[0m v \u001b[0m > \u001b[0m ^ \u001b[0m > \u001b[0m v \u001b[0m v \u001b[0m v \u001b[0m > \u001b[0m v \u001b[0m v \n",
            "\u001b[0m < \u001b[0m > \u001b[0m ^ \u001b[0m ^ \u001b[0m > \u001b[0m ^ \u001b[0m v \u001b[0m > \u001b[0m ^ \u001b[0m v \u001b[0m ^ \u001b[0m < \u001b[0m v \u001b[0m > \u001b[0m > \u001b[0m > \u001b[0m > \u001b[0m > \u001b[0m > \u001b[0m > \u001b[0m @ \n",
            "\n"
          ],
          "name": "stdout"
        }
      ]
    },
    {
      "cell_type": "markdown",
      "metadata": {
        "id": "gzeX_vCBnY0N"
      },
      "source": [
        "#### Mapa 3"
      ]
    },
    {
      "cell_type": "code",
      "metadata": {
        "colab": {
          "base_uri": "https://localhost:8080/"
        },
        "id": "Ujf0BatSnY0Q",
        "outputId": "38ed05b5-9bfd-4c97-f4cb-8483aa521f49"
      },
      "source": [
        "policy_w3p, Q, episodes, converged, paths, total_R, path_length = policy(\n",
        "    w3p, alpha=0.1, epsilon=0.01, n_episodes=100, agent=4,\n",
        "    step_funct = Q_learning_optimization, verbose=True\n",
        ")"
      ],
      "execution_count": null,
      "outputs": [
        {
          "output_type": "stream",
          "text": [
            "Episode 21\n",
            "\u001b[0m v \u001b[0m ^ \u001b[0m > \u001b[0m > \u001b[94m v \n",
            "\u001b[0m v \u001b[0m # \u001b[0m v \u001b[0m ^ \u001b[0m v \n",
            "\u001b[0m v \u001b[0m < \u001b[0m ^ \u001b[0m # \u001b[0m v \n",
            "\u001b[0m v \u001b[0m # \u001b[0m v \u001b[0m v \u001b[0m v \n",
            "\u001b[94m ^ \u001b[0m > \u001b[0m > \u001b[0m > \u001b[0m @ \n",
            "\n",
            "Converged in 21 episodes. Path length: 8\n"
          ],
          "name": "stdout"
        }
      ]
    },
    {
      "cell_type": "code",
      "metadata": {
        "colab": {
          "base_uri": "https://localhost:8080/"
        },
        "id": "wUVcmnhHnY0R",
        "outputId": "a7c9a2fa-27d5-48f2-d9b7-4413992b9ef7"
      },
      "source": [
        "policy_w3m, Q, episodes, converged, paths, total_R, path_length = policy(\n",
        "    w3m, alpha=0.1, epsilon=0.0, n_episodes=1000, agent=4,\n",
        "    step_funct = Q_learning_optimization\n",
        ")\n",
        "printPolicy(w3m, policy_w3m)"
      ],
      "execution_count": null,
      "outputs": [
        {
          "output_type": "stream",
          "text": [
            "Converged in 140 episodes. Path length: 18\n",
            "\u001b[0m v \u001b[0m > \u001b[0m > \u001b[0m < \u001b[0m ^ \u001b[0m > \u001b[0m v \u001b[0m ^ \u001b[0m < \u001b[0m > \n",
            "\u001b[0m v \u001b[0m v \u001b[0m v \u001b[0m > \u001b[0m < \u001b[0m ^ \u001b[0m < \u001b[0m ^ \u001b[94m > \u001b[0m < \n",
            "\u001b[0m > \u001b[0m v \u001b[0m > \u001b[0m < \u001b[0m # \u001b[0m > \u001b[0m > \u001b[0m > \u001b[0m < \u001b[0m v \n",
            "\u001b[0m < \u001b[0m v \u001b[0m > \u001b[0m v \u001b[0m v \u001b[0m v \u001b[0m > \u001b[0m > \u001b[0m v \u001b[0m v \n",
            "\u001b[0m v \u001b[0m v \u001b[0m # \u001b[0m v \u001b[0m < \u001b[0m v \u001b[0m # \u001b[0m > \u001b[0m > \u001b[0m v \n",
            "\u001b[0m ^ \u001b[0m v \u001b[0m # \u001b[0m > \u001b[0m ^ \u001b[0m < \u001b[0m # \u001b[0m # \u001b[0m > \u001b[0m v \n",
            "\u001b[0m v \u001b[0m > \u001b[0m > \u001b[0m v \u001b[0m v \u001b[0m > \u001b[0m v \u001b[0m > \u001b[0m > \u001b[0m v \n",
            "\u001b[0m > \u001b[0m ^ \u001b[0m ^ \u001b[0m > \u001b[0m > \u001b[0m > \u001b[0m > \u001b[0m > \u001b[0m > \u001b[0m v \n",
            "\u001b[0m ^ \u001b[94m < \u001b[0m v \u001b[0m > \u001b[0m v \u001b[0m > \u001b[0m v \u001b[0m # \u001b[0m v \u001b[0m v \n",
            "\u001b[0m v \u001b[0m < \u001b[0m > \u001b[0m > \u001b[0m > \u001b[0m > \u001b[0m > \u001b[0m > \u001b[0m > \u001b[0m @ \n",
            "\n"
          ],
          "name": "stdout"
        }
      ]
    },
    {
      "cell_type": "code",
      "metadata": {
        "colab": {
          "base_uri": "https://localhost:8080/"
        },
        "id": "2zvM3a-_nY0S",
        "outputId": "97ffe133-cfce-4998-dc74-96701f55e225"
      },
      "source": [
        "policy_w3g, Q, episodes, converged, paths, total_R, path_length = policy(\n",
        "    w3g, alpha=0.1, epsilon=0.1, decay=0.8, n_episodes=10000,\n",
        "    max_steps=5000, agent=4, step_funct = Q_learning_optimization\n",
        ")\n",
        "printPolicy(w3g, policy_w3g)"
      ],
      "execution_count": null,
      "outputs": [
        {
          "output_type": "stream",
          "text": [
            "Converged in 1121 episodes. Path length: 40\n",
            "\u001b[0m > \u001b[0m v \u001b[0m > \u001b[0m > \u001b[0m > \u001b[0m > \u001b[0m > \u001b[0m > \u001b[0m ^ \u001b[0m v \u001b[0m ^ \u001b[0m v \u001b[0m > \u001b[0m > \u001b[0m > \u001b[0m ^ \u001b[0m > \u001b[0m > \u001b[0m ^ \u001b[0m > \u001b[0m ^ \n",
            "\u001b[0m v \u001b[0m v \u001b[0m v \u001b[0m < \u001b[0m > \u001b[0m v \u001b[0m > \u001b[0m ^ \u001b[0m > \u001b[0m < \u001b[0m > \u001b[0m > \u001b[0m < \u001b[0m < \u001b[0m ^ \u001b[0m > \u001b[0m < \u001b[0m v \u001b[0m ^ \u001b[0m ^ \u001b[0m v \n",
            "\u001b[0m v \u001b[0m > \u001b[0m v \u001b[0m # \u001b[0m > \u001b[0m < \u001b[0m v \u001b[0m v \u001b[0m # \u001b[0m ^ \u001b[0m # \u001b[0m # \u001b[0m > \u001b[0m > \u001b[0m > \u001b[0m ^ \u001b[0m v \u001b[0m v \u001b[94m < \u001b[0m ^ \u001b[0m v \n",
            "\u001b[0m v \u001b[0m # \u001b[0m v \u001b[0m < \u001b[0m v \u001b[0m ^ \u001b[0m > \u001b[0m < \u001b[0m # \u001b[0m ^ \u001b[0m < \u001b[0m > \u001b[0m > \u001b[0m ^ \u001b[0m ^ \u001b[0m # \u001b[0m v \u001b[0m > \u001b[0m v \u001b[0m v \u001b[0m ^ \n",
            "\u001b[0m v \u001b[0m # \u001b[0m > \u001b[0m > \u001b[0m > \u001b[0m v \u001b[0m ^ \u001b[0m v \u001b[0m # \u001b[0m > \u001b[0m > \u001b[0m > \u001b[0m ^ \u001b[0m ^ \u001b[0m # \u001b[0m v \u001b[0m > \u001b[0m v \u001b[0m v \u001b[0m v \u001b[0m < \n",
            "\u001b[0m v \u001b[0m # \u001b[0m ^ \u001b[0m v \u001b[0m > \u001b[0m v \u001b[0m > \u001b[0m > \u001b[0m > \u001b[0m v \u001b[0m v \u001b[0m ^ \u001b[0m ^ \u001b[0m # \u001b[0m v \u001b[0m v \u001b[0m ^ \u001b[0m v \u001b[0m v \u001b[0m > \u001b[0m v \n",
            "\u001b[0m ^ \u001b[0m # \u001b[0m ^ \u001b[0m < \u001b[0m > \u001b[0m v \u001b[0m < \u001b[0m < \u001b[0m # \u001b[0m > \u001b[0m < \u001b[0m v \u001b[0m # \u001b[0m v \u001b[0m > \u001b[0m < \u001b[0m > \u001b[0m < \u001b[0m v \u001b[0m v \u001b[0m v \n",
            "\u001b[0m < \u001b[0m < \u001b[0m < \u001b[0m ^ \u001b[0m v \u001b[0m v \u001b[0m v \u001b[0m # \u001b[0m # \u001b[0m > \u001b[0m v \u001b[0m v \u001b[0m # \u001b[0m v \u001b[0m ^ \u001b[0m > \u001b[0m v \u001b[0m v \u001b[0m v \u001b[0m v \u001b[0m v \n",
            "\u001b[0m ^ \u001b[0m v \u001b[0m < \u001b[0m v \u001b[0m > \u001b[0m v \u001b[0m v \u001b[0m < \u001b[0m < \u001b[0m < \u001b[0m > \u001b[0m > \u001b[0m > \u001b[0m v \u001b[0m # \u001b[0m # \u001b[0m v \u001b[0m > \u001b[0m v \u001b[0m v \u001b[0m v \n",
            "\u001b[0m v \u001b[0m v \u001b[0m v \u001b[0m > \u001b[0m > \u001b[0m > \u001b[0m v \u001b[0m # \u001b[0m > \u001b[0m < \u001b[0m ^ \u001b[0m # \u001b[0m > \u001b[0m v \u001b[0m v \u001b[0m # \u001b[0m > \u001b[0m > \u001b[0m > \u001b[0m v \u001b[0m v \n",
            "\u001b[0m v \u001b[0m < \u001b[0m > \u001b[0m v \u001b[0m v \u001b[0m # \u001b[0m v \u001b[0m > \u001b[0m > \u001b[0m v \u001b[0m v \u001b[0m v \u001b[0m > \u001b[0m > \u001b[0m v \u001b[0m v \u001b[0m v \u001b[0m # \u001b[0m > \u001b[0m v \u001b[0m v \n",
            "\u001b[0m ^ \u001b[0m ^ \u001b[0m # \u001b[0m ^ \u001b[0m v \u001b[0m < \u001b[0m > \u001b[0m > \u001b[0m > \u001b[0m > \u001b[0m v \u001b[0m < \u001b[0m v \u001b[0m # \u001b[0m v \u001b[0m v \u001b[0m v \u001b[0m > \u001b[0m v \u001b[0m v \u001b[0m v \n",
            "\u001b[0m v \u001b[0m # \u001b[0m # \u001b[0m # \u001b[0m v \u001b[0m v \u001b[0m > \u001b[0m v \u001b[0m v \u001b[0m < \u001b[0m > \u001b[0m > \u001b[0m v \u001b[0m v \u001b[0m v \u001b[0m v \u001b[0m v \u001b[0m v \u001b[0m > \u001b[0m v \u001b[0m v \n",
            "\u001b[0m > \u001b[0m < \u001b[0m v \u001b[0m # \u001b[0m v \u001b[0m > \u001b[0m v \u001b[0m ^ \u001b[0m > \u001b[0m < \u001b[0m > \u001b[0m > \u001b[0m > \u001b[0m > \u001b[0m > \u001b[0m > \u001b[0m v \u001b[0m v \u001b[0m > \u001b[0m v \u001b[0m v \n",
            "\u001b[0m v \u001b[0m v \u001b[0m v \u001b[0m < \u001b[0m > \u001b[0m > \u001b[0m v \u001b[0m v \u001b[0m # \u001b[0m v \u001b[0m v \u001b[0m v \u001b[0m < \u001b[0m # \u001b[0m > \u001b[0m > \u001b[0m > \u001b[0m > \u001b[0m > \u001b[0m > \u001b[0m v \n",
            "\u001b[0m ^ \u001b[0m ^ \u001b[0m < \u001b[0m > \u001b[0m ^ \u001b[0m v \u001b[0m v \u001b[0m v \u001b[0m v \u001b[0m > \u001b[0m > \u001b[0m v \u001b[0m v \u001b[0m # \u001b[0m # \u001b[0m > \u001b[0m v \u001b[0m > \u001b[0m > \u001b[0m > \u001b[0m v \n",
            "\u001b[0m v \u001b[0m > \u001b[0m > \u001b[0m v \u001b[0m # \u001b[0m > \u001b[0m > \u001b[0m > \u001b[0m > \u001b[0m v \u001b[0m v \u001b[0m v \u001b[0m v \u001b[0m > \u001b[0m v \u001b[0m # \u001b[0m v \u001b[0m v \u001b[0m v \u001b[0m > \u001b[0m v \n",
            "\u001b[0m v \u001b[0m # \u001b[0m v \u001b[0m > \u001b[0m < \u001b[0m < \u001b[0m # \u001b[0m > \u001b[0m v \u001b[0m > \u001b[0m v \u001b[0m v \u001b[0m v \u001b[0m # \u001b[0m v \u001b[0m > \u001b[0m v \u001b[0m > \u001b[0m v \u001b[0m v \u001b[0m v \n",
            "\u001b[0m ^ \u001b[0m v \u001b[94m ^ \u001b[0m v \u001b[0m > \u001b[0m > \u001b[0m > \u001b[0m > \u001b[0m > \u001b[0m v \u001b[0m v \u001b[0m v \u001b[0m v \u001b[0m v \u001b[0m v \u001b[0m # \u001b[0m v \u001b[0m > \u001b[0m v \u001b[0m > \u001b[0m v \n",
            "\u001b[0m > \u001b[0m < \u001b[0m < \u001b[0m < \u001b[0m > \u001b[0m > \u001b[0m > \u001b[0m > \u001b[0m > \u001b[0m > \u001b[0m > \u001b[0m > \u001b[0m > \u001b[0m > \u001b[0m > \u001b[0m > \u001b[0m > \u001b[0m > \u001b[0m > \u001b[0m > \u001b[0m v \n",
            "\u001b[0m ^ \u001b[0m < \u001b[0m ^ \u001b[0m > \u001b[0m ^ \u001b[0m > \u001b[0m > \u001b[0m ^ \u001b[0m > \u001b[0m > \u001b[0m ^ \u001b[0m > \u001b[0m ^ \u001b[0m ^ \u001b[0m ^ \u001b[0m ^ \u001b[0m ^ \u001b[0m ^ \u001b[0m > \u001b[0m > \u001b[0m @ \n",
            "\n"
          ],
          "name": "stdout"
        }
      ]
    },
    {
      "cell_type": "markdown",
      "metadata": {
        "id": "hsOqGJo-nY0S"
      },
      "source": [
        "#### Mapa 4"
      ]
    },
    {
      "cell_type": "code",
      "metadata": {
        "colab": {
          "base_uri": "https://localhost:8080/"
        },
        "id": "wlw8Cu1DnY0T",
        "outputId": "1f858c22-9a4a-4913-acdf-7bf4c3cad5d5"
      },
      "source": [
        "policy_w4, Q, episodes, converged, paths, total_R, path_length = policy(\n",
        "    w4, alpha=0.1, epsilon=0.1, decay=0.8, n_episodes=50000, agent=4,\n",
        "    max_steps=5000, gamma=0.9, step_funct=Q_learning_optimization\n",
        ")\n",
        "printPolicy(w4, policy_w4)"
      ],
      "execution_count": null,
      "outputs": [
        {
          "output_type": "stream",
          "text": [
            "Converged in 248 episodes. Path length: 82\n",
            "\u001b[0m v \u001b[0m # \u001b[0m v \u001b[0m # \u001b[0m ^ \u001b[0m ^ \u001b[0m < \u001b[0m > \u001b[0m v \u001b[0m # \u001b[0m > \u001b[0m > \u001b[0m < \u001b[0m < \u001b[0m ^ \u001b[0m # \u001b[0m # \u001b[0m # \u001b[0m v \u001b[0m # \u001b[0m ^ \n",
            "\u001b[0m v \u001b[0m # \u001b[0m v \u001b[0m # \u001b[0m # \u001b[0m # \u001b[0m # \u001b[0m # \u001b[0m v \u001b[0m # \u001b[0m # \u001b[0m # \u001b[0m # \u001b[0m # \u001b[0m ^ \u001b[0m > \u001b[0m < \u001b[0m # \u001b[0m ^ \u001b[0m # \u001b[0m ^ \n",
            "\u001b[0m v \u001b[0m # \u001b[0m > \u001b[0m > \u001b[0m v \u001b[0m > \u001b[0m v \u001b[0m > \u001b[0m ^ \u001b[0m # \u001b[0m v \u001b[0m > \u001b[0m v \u001b[0m # \u001b[0m ^ \u001b[0m # \u001b[0m # \u001b[0m # \u001b[0m v \u001b[0m # \u001b[0m v \n",
            "\u001b[0m v \u001b[0m # \u001b[0m ^ \u001b[0m # \u001b[0m v \u001b[0m # \u001b[0m ^ \u001b[0m # \u001b[0m ^ \u001b[0m # \u001b[0m ^ \u001b[0m # \u001b[0m ^ \u001b[0m < \u001b[0m ^ \u001b[0m < \u001b[0m # \u001b[0m v \u001b[0m < \u001b[0m # \u001b[0m v \n",
            "\u001b[0m > \u001b[0m > \u001b[0m ^ \u001b[0m # \u001b[0m v \u001b[0m # \u001b[0m v \u001b[0m # \u001b[0m # \u001b[0m # \u001b[0m # \u001b[0m # \u001b[0m # \u001b[0m # \u001b[0m # \u001b[0m ^ \u001b[0m # \u001b[0m v \u001b[0m # \u001b[0m # \u001b[0m ^ \n",
            "\u001b[0m # \u001b[0m # \u001b[0m # \u001b[0m # \u001b[0m v \u001b[0m # \u001b[0m > \u001b[0m < \u001b[0m v \u001b[0m # \u001b[0m > \u001b[0m > \u001b[0m > \u001b[0m < \u001b[0m > \u001b[0m ^ \u001b[0m # \u001b[0m ^ \u001b[0m > \u001b[0m > \u001b[0m < \n",
            "\u001b[0m > \u001b[0m < \u001b[0m < \u001b[0m < \u001b[0m v \u001b[0m # \u001b[0m # \u001b[0m # \u001b[0m ^ \u001b[0m # \u001b[0m # \u001b[0m # \u001b[0m # \u001b[0m # \u001b[0m # \u001b[0m v \u001b[0m # \u001b[0m # \u001b[0m ^ \u001b[0m # \u001b[0m ^ \n",
            "\u001b[0m # \u001b[0m # \u001b[0m # \u001b[0m # \u001b[0m v \u001b[0m # \u001b[0m v \u001b[0m # \u001b[0m ^ \u001b[0m # \u001b[0m v \u001b[0m > \u001b[0m > \u001b[0m > \u001b[0m > \u001b[0m > \u001b[0m < \u001b[0m > \u001b[0m ^ \u001b[0m # \u001b[0m v \n",
            "\u001b[0m v \u001b[0m < \u001b[0m < \u001b[0m # \u001b[0m v \u001b[0m > \u001b[0m ^ \u001b[0m # \u001b[0m # \u001b[0m # \u001b[0m v \u001b[0m ^ \u001b[0m # \u001b[0m # \u001b[0m # \u001b[0m # \u001b[0m # \u001b[0m # \u001b[0m # \u001b[0m # \u001b[0m > \n",
            "\u001b[0m v \u001b[0m # \u001b[0m ^ \u001b[0m # \u001b[0m v \u001b[0m # \u001b[0m ^ \u001b[0m # \u001b[0m > \u001b[0m > \u001b[0m v \u001b[0m # \u001b[0m # \u001b[0m > \u001b[0m > \u001b[0m < \u001b[0m > \u001b[0m > \u001b[0m v \u001b[0m # \u001b[0m # \n",
            "\u001b[0m v \u001b[0m # \u001b[0m ^ \u001b[0m # \u001b[0m v \u001b[0m # \u001b[0m # \u001b[0m # \u001b[0m ^ \u001b[0m # \u001b[0m v \u001b[0m # \u001b[0m > \u001b[0m ^ \u001b[0m # \u001b[0m # \u001b[0m # \u001b[0m # \u001b[0m ^ \u001b[0m < \u001b[0m v \n",
            "\u001b[0m v \u001b[0m # \u001b[0m ^ \u001b[0m # \u001b[0m v \u001b[0m # \u001b[0m > \u001b[0m > \u001b[0m ^ \u001b[0m # \u001b[0m v \u001b[0m # \u001b[0m ^ \u001b[0m # \u001b[0m # \u001b[0m v \u001b[0m v \u001b[0m # \u001b[0m # \u001b[0m # \u001b[0m v \n",
            "\u001b[0m v \u001b[0m # \u001b[0m ^ \u001b[0m < \u001b[0m < \u001b[0m # \u001b[0m # \u001b[0m ^ \u001b[0m # \u001b[0m # \u001b[0m v \u001b[0m # \u001b[0m ^ \u001b[0m # \u001b[0m > \u001b[0m > \u001b[0m > \u001b[0m > \u001b[0m v \u001b[0m # \u001b[0m > \n",
            "\u001b[0m v \u001b[0m # \u001b[0m # \u001b[0m # \u001b[0m # \u001b[0m # \u001b[0m > \u001b[0m ^ \u001b[0m # \u001b[0m v \u001b[0m > \u001b[0m > \u001b[0m > \u001b[0m > \u001b[0m ^ \u001b[0m # \u001b[0m # \u001b[0m # \u001b[0m v \u001b[0m # \u001b[0m ^ \n",
            "\u001b[0m > \u001b[0m > \u001b[0m > \u001b[0m v \u001b[0m # \u001b[0m > \u001b[0m ^ \u001b[0m # \u001b[0m # \u001b[0m ^ \u001b[0m # \u001b[0m v \u001b[0m # \u001b[0m # \u001b[0m v \u001b[0m # \u001b[0m v \u001b[0m < \u001b[0m < \u001b[0m # \u001b[0m > \n",
            "\u001b[0m # \u001b[0m # \u001b[0m # \u001b[0m > \u001b[0m > \u001b[0m ^ \u001b[0m # \u001b[0m # \u001b[0m > \u001b[0m < \u001b[0m # \u001b[0m > \u001b[0m < \u001b[0m # \u001b[0m # \u001b[0m # \u001b[0m v \u001b[0m # \u001b[0m # \u001b[0m # \u001b[0m # \n",
            "\u001b[0m < \u001b[0m v \u001b[0m # \u001b[0m # \u001b[0m ^ \u001b[0m # \u001b[0m # \u001b[0m # \u001b[0m # \u001b[0m # \u001b[0m # \u001b[0m # \u001b[0m v \u001b[0m < \u001b[0m < \u001b[0m # \u001b[0m v \u001b[0m # \u001b[0m > \u001b[0m > \u001b[0m v \n",
            "\u001b[0m # \u001b[0m > \u001b[0m < \u001b[0m # \u001b[0m ^ \u001b[0m # \u001b[0m > \u001b[0m < \u001b[0m v \u001b[0m # \u001b[0m > \u001b[0m > \u001b[0m < \u001b[0m # \u001b[0m # \u001b[0m # \u001b[0m v \u001b[0m # \u001b[0m ^ \u001b[0m # \u001b[0m v \n",
            "\u001b[0m # \u001b[0m # \u001b[0m ^ \u001b[0m > \u001b[0m < \u001b[0m # \u001b[0m # \u001b[0m # \u001b[0m ^ \u001b[0m # \u001b[0m # \u001b[0m # \u001b[0m v \u001b[0m < \u001b[0m < \u001b[0m # \u001b[0m > \u001b[0m > \u001b[0m ^ \u001b[0m # \u001b[0m v \n",
            "\u001b[0m v \u001b[0m # \u001b[0m # \u001b[0m v \u001b[0m # \u001b[0m # \u001b[0m > \u001b[0m < \u001b[0m > \u001b[0m < \u001b[0m < \u001b[0m # \u001b[0m v \u001b[0m # \u001b[0m # \u001b[0m # \u001b[0m # \u001b[0m # \u001b[0m # \u001b[0m # \u001b[0m v \n",
            "\u001b[0m v \u001b[0m > \u001b[0m < \u001b[0m < \u001b[0m < \u001b[0m > \u001b[0m v \u001b[0m # \u001b[0m # \u001b[0m # \u001b[0m v \u001b[0m # \u001b[0m ^ \u001b[0m > \u001b[0m v \u001b[0m < \u001b[0m > \u001b[0m < \u001b[0m v \u001b[0m # \u001b[0m @ \n",
            "\n"
          ],
          "name": "stdout"
        }
      ]
    },
    {
      "cell_type": "markdown",
      "metadata": {
        "id": "zD_2_U4PDvPG"
      },
      "source": [
        "## Análisis:\n",
        "\n",
        "*SARSA* y *Q-Learning* son dos algoritmos muy parecidos, que se pueden aplicar en los mismos problemas y suelen encontrar soluciones similares. No obstante, los resultados de ambos algoritmos pueden diferir en ciertos problemas: por ejemplo, hay un problema llamado Cliffworld en el que SARSA encuentra soluciones más seguras y con menos valor, mientras que Q-Learning asume más riesgos y consigue más valor ([artículo interesante](https://medium.com/gradientcrescent/fundamentals-of-reinforcement-learning-navigating-cliffworld-with-sarsa-and-q-learning-cc3c36eb5830)).\n",
        "\n",
        "## Ejercicio 3:\n",
        "\n",
        "Analizad los resultados obtenidos por ambos algoritmos en los escenarios de prueba."
      ]
    },
    {
      "cell_type": "markdown",
      "metadata": {
        "id": "k0BDgEYHqky5"
      },
      "source": [
        "**Pregunta 1.** Comentad el rendimiento que observáis en ambos algoritmos. ¿Qué problemas son capaces de resolver? ¿En cuáles no encuentran la solución óptima? ¿A qué se puede deber este comportamiento?\n",
        "\n",
        "*Respuesta*. En las celdas anteriores hemos ejecutado los dos algoritmos en todos los mapas de prueba, para los distintos comportamientos del agente implementados. Aunque no hemos hecho una búsqueda exhaustiva en el espacio de parámetros, hemos hecho distintas pruebas en cada mapa para intentar alcanzar la convergencia y resolver el laberinto. Tras todos los intentos, al final nos ha quedado que:\n",
        "\n",
        "- SARSA no es capaz de resolver en un tiempo razonable (acorde al tamaño de los mapas y la capacidad de cómputo) los mapas mediano y grande del mundo 1 con el agente 3, y el mapa 4 con el agente 3. Todos estos mapas se caracterizan por ser bastante grandes, tener una gran cantidad de obstáculos y, sobre todo, **un único camino posible a la meta**. La hipótesis que hacemos es que, al hacer que el refuerzo en las casillas vacías sea ligeramente negativo, el agente necesita bastantes más iteraciones (o un ajuste más fino de parámetros) para encontrar la salida en este tipo de mapas, puesto que no estamos modificando el comportamiento en los obstáculos, y es muy probable que se quede atrapado en uno de ellos tarde o temprano, teniendo que comenzar de nuevo en el siguiente episodio sin haber alcanzado un estado terminal de verdad (la meta). La exploración en este caso no ayuda demasiado, ya que como hemos dicho, solo hay un camino posible. Como parte positiva, los agentes 1, 2 y 4 resuelven todos los mapas.\n",
        "\n",
        "Podemos ver por ejemplo la política resultante en el mundo 1 mediano:"
      ]
    },
    {
      "cell_type": "code",
      "metadata": {
        "colab": {
          "base_uri": "https://localhost:8080/"
        },
        "id": "NOGUYzmlHBBU",
        "outputId": "36fa5265-89e9-4a56-9491-9651b307c977"
      },
      "source": [
        "policy_w1m, Q, episodes, converged, paths, total_R, path_length = policy(\n",
        "    w1m, alpha=0.1, epsilon=0.4, decay=0.9, gamma=0.8, n_episodes=10000, agent=3, \n",
        "    max_steps=2000, step_funct = SARSA_optimization\n",
        ")\n",
        "printPolicy(w1m, policy_w1m)"
      ],
      "execution_count": 279,
      "outputs": [
        {
          "output_type": "stream",
          "text": [
            "Did not converge after 10000 episodes\n",
            "\u001b[0m ^ \u001b[0m # \u001b[0m ^ \u001b[0m > \u001b[0m ^ \u001b[0m # \u001b[0m ^ \u001b[0m ^ \u001b[0m ^ \n",
            "\u001b[0m v \u001b[0m # \u001b[0m ^ \u001b[0m # \u001b[0m ^ \u001b[0m # \u001b[0m ^ \u001b[0m # \u001b[0m ^ \n",
            "\u001b[0m v \u001b[0m # \u001b[0m v \u001b[0m # \u001b[0m ^ \u001b[0m # \u001b[0m ^ \u001b[0m # \u001b[0m ^ \n",
            "\u001b[0m ^ \u001b[0m # \u001b[0m ^ \u001b[0m # \u001b[0m ^ \u001b[0m # \u001b[0m ^ \u001b[0m # \u001b[0m ^ \n",
            "\u001b[0m v \u001b[0m # \u001b[0m ^ \u001b[0m # \u001b[0m ^ \u001b[0m # \u001b[0m ^ \u001b[0m # \u001b[0m ^ \n",
            "\u001b[0m v \u001b[0m # \u001b[0m ^ \u001b[0m # \u001b[0m ^ \u001b[0m # \u001b[0m ^ \u001b[0m # \u001b[0m ^ \n",
            "\u001b[0m v \u001b[0m # \u001b[0m ^ \u001b[0m # \u001b[0m ^ \u001b[0m # \u001b[0m ^ \u001b[0m # \u001b[0m ^ \n",
            "\u001b[0m v \u001b[0m # \u001b[0m ^ \u001b[0m # \u001b[0m ^ \u001b[0m # \u001b[0m ^ \u001b[0m # \u001b[0m ^ \n",
            "\u001b[0m v \u001b[0m < \u001b[0m < \u001b[0m # \u001b[0m ^ \u001b[0m ^ \u001b[0m ^ \u001b[0m # \u001b[0m @ \n",
            "\n"
          ],
          "name": "stdout"
        }
      ]
    },
    {
      "cell_type": "markdown",
      "metadata": {
        "id": "Yr1_j3LUHSuv"
      },
      "source": [
        "Como vemos, dista bastante de la política óptima (solo acierta algunas de las primeras casillas, pero no es capaz de planear el final del laberinto)."
      ]
    },
    {
      "cell_type": "markdown",
      "metadata": {
        "id": "OZ2T3zkdHCo_"
      },
      "source": [
        "- En cuanto a Q-learning, ninguno de los tres primeros agentes es capaz de resolver los mapas del mundo 1 grande, ni del mundo 4. Suponemos que le ocurre lo mismo que a SARSA, y en este caso se observa que el número de épocas necesarias para la convergencia es de por sí más alto, haciendo que los dos primeros agentes tampoco puedan resolverlos, y que incluso en el mapa mediano tengan problemas. Aun así, con el agente 4 conseguimos resolver todos los mapas.\n",
        "\n",
        "Si observamos la política por ejemplo para el mundo 1 grande en los experimentos realizados arriba, vemos que es prácticamente la política inicial que poníamos por defecto, así que el agente no está aprendiendo. "
      ]
    },
    {
      "cell_type": "markdown",
      "metadata": {
        "id": "fybfIKudznhz"
      },
      "source": [
        "**Pregunta 2.** Comentad las diferencias entre los algoritmos en los diferentes escenarios: ¿Cuál resuelve más escenarios? ¿Cuál converge más rápido? ¿Cuál genera más valor?\n",
        "\n",
        "*Respuesta*. Ya hemos comentado arriba cuántos escenarios (mapas) resuelve cada algoritmo. En cuanto a la velocidad de convergencia, se observa en los experimentos realizados anteriormente que la velocidad de convergencia es similar; en algunos mapas es más rápido SARSA, y en otros Q-Learning. Sí que se ha observado que en los mapas más difíciles, Q-Learning tarda más en converger (o incluso no converge) para una cierta combinación de parámetros.\n",
        "\n",
        "En cuanto a la función de valor Q, podemos ver cómo se distribuye a lo largo del mapa en la política final:"
      ]
    },
    {
      "cell_type": "code",
      "metadata": {
        "id": "bw4DxqqhFTFW"
      },
      "source": [
        "def plot_qmap(Q):\n",
        "    map = Q.max(axis = 2)\n",
        "    fig = plt.figure()\n",
        "    ax = fig.add_subplot(111)\n",
        "    cax = ax.matshow(map)\n",
        "    fig.colorbar(cax)\n",
        "    plt.show()"
      ],
      "execution_count": 15,
      "outputs": []
    },
    {
      "cell_type": "code",
      "metadata": {
        "colab": {
          "base_uri": "https://localhost:8080/",
          "height": 304
        },
        "id": "XLM-MGge1ARA",
        "outputId": "a57a71de-8ffc-4290-98a2-224c8c530474"
      },
      "source": [
        "print(\"World 4 SARSA\")\n",
        "p, Q, _, _, paths, total_R, path_length = policy(\n",
        "    w4, alpha=0.1, epsilon=0.05, n_episodes=1000, agent=4,\n",
        "    step_funct = SARSA_optimization\n",
        ")\n",
        "plot_qmap(Q)"
      ],
      "execution_count": 281,
      "outputs": [
        {
          "output_type": "stream",
          "text": [
            "World 4 SARSA\n",
            "Converged in 596 episodes. Path length: 82\n"
          ],
          "name": "stdout"
        },
        {
          "output_type": "display_data",
          "data": {
            "image/png": "[encoded data removed]",
            "text/plain": [
              "<Figure size 432x288 with 2 Axes>"
            ]
          },
          "metadata": {
            "tags": [],
            "needs_background": "light"
          }
        }
      ]
    },
    {
      "cell_type": "code",
      "metadata": {
        "colab": {
          "base_uri": "https://localhost:8080/",
          "height": 304
        },
        "id": "ELLhBd-MGJcN",
        "outputId": "e43dc188-cf01-4e40-c179-4fb9d63dc420"
      },
      "source": [
        "print(\"World 4 Q-Learning\")\n",
        "p, Q, _, _, paths, total_R, path_length = policy(\n",
        "    w4, alpha=0.1, epsilon=0.05, n_episodes=1000, agent=4,\n",
        "    step_funct = Q_learning_optimization\n",
        ")\n",
        "plot_qmap(Q)"
      ],
      "execution_count": 283,
      "outputs": [
        {
          "output_type": "stream",
          "text": [
            "World 4 Q-Learning\n",
            "Converged in 586 episodes. Path length: 82\n"
          ],
          "name": "stdout"
        },
        {
          "output_type": "display_data",
          "data": {
            "image/png": "[encoded data removed]",
            "text/plain": [
              "<Figure size 432x288 with 2 Axes>"
            ]
          },
          "metadata": {
            "tags": [],
            "needs_background": "light"
          }
        }
      ]
    },
    {
      "cell_type": "markdown",
      "metadata": {
        "id": "-lEXx6TLJB4R"
      },
      "source": [
        "Como vemos, son bastante similares. Se observa un valor de 0 en los obstáculos, y después vemos cómo el valor va aumentando conforme nos acercamos a la meta. Podemos ver otro ejemplo de otro mapa:"
      ]
    },
    {
      "cell_type": "code",
      "metadata": {
        "colab": {
          "base_uri": "https://localhost:8080/",
          "height": 304
        },
        "id": "5b0pi9gFIjGu",
        "outputId": "44a51ef0-a4fe-4a6c-dc6a-e4d71dcc8d72"
      },
      "source": [
        "print(\"World 3 SARSA\")\n",
        "p, Q, _, _, paths, total_R, path_length = policy(\n",
        "    w3g, alpha=0.1, epsilon=0.05, gamma=0.95, n_episodes=5000, agent=4,\n",
        "    step_funct = SARSA_optimization\n",
        ")\n",
        "plot_qmap(Q)"
      ],
      "execution_count": 16,
      "outputs": [
        {
          "output_type": "stream",
          "text": [
            "World 3 SARSA\n",
            "Converged in 1059 episodes. Path length: 40\n"
          ],
          "name": "stdout"
        },
        {
          "output_type": "display_data",
          "data": {
            "image/png": "[encoded data removed]",
            "text/plain": [
              "<Figure size 432x288 with 2 Axes>"
            ]
          },
          "metadata": {
            "tags": [],
            "needs_background": "light"
          }
        }
      ]
    },
    {
      "cell_type": "code",
      "metadata": {
        "colab": {
          "base_uri": "https://localhost:8080/",
          "height": 321
        },
        "id": "naAKV0BiHtLc",
        "outputId": "9ef983dc-e616-496e-9d91-02234b506829"
      },
      "source": [
        "print(\"World 3 Q-learning\")\n",
        "p2, Q2, _, _, paths2, total_R2, path_length = policy(\n",
        "    w3g, alpha=0.1, epsilon=0.05, gamma=0.95, n_episodes=5000, agent=4,\n",
        "    step_funct = Q_learning_optimization\n",
        ")\n",
        "plot_qmap(Q)"
      ],
      "execution_count": 17,
      "outputs": [
        {
          "output_type": "stream",
          "text": [
            "World 3 Q-learning\n",
            "Converged in 868 episodes. Path length: 44\n",
            "Improved path length: 42 (913 episodes in total)\n"
          ],
          "name": "stdout"
        },
        {
          "output_type": "display_data",
          "data": {
            "image/png": "[encoded data removed]",
            "text/plain": [
              "<Figure size 432x288 with 2 Axes>"
            ]
          },
          "metadata": {
            "tags": [],
            "needs_background": "light"
          }
        }
      ]
    },
    {
      "cell_type": "markdown",
      "metadata": {
        "id": "RvLSYehyJRQo"
      },
      "source": [
        "Pasamos ahora a inspeccionar cuál de los dos métodos genera más valor. Dibujamos una gráfica con la evolución temporal (siguiendo la política final) de la función de valor Q."
      ]
    },
    {
      "cell_type": "code",
      "metadata": {
        "id": "52hCG-tWJNy_"
      },
      "source": [
        "def plot_Q_ev(policy, world, Q, agent, actions, label = None):\n",
        "    state = agent.state\n",
        "    vec = []\n",
        "\n",
        "    # If it doesn't reach the goal in HxW steps, it is cycling\n",
        "    for step in range(world.size[0]*world.size[1]):\n",
        "        if world.is_goal(state):\n",
        "            break\n",
        "\n",
        "        action_idx = policy[state[0], state[1]]\n",
        "        action = actions[action_idx]\n",
        "        state, R = agent.checkAction(state, action)\n",
        "        vec.append(np.max(Q[state[0], state[1], :]))\n",
        "\n",
        "    plt.plot(vec, label = label)"
      ],
      "execution_count": 18,
      "outputs": []
    },
    {
      "cell_type": "code",
      "metadata": {
        "colab": {
          "base_uri": "https://localhost:8080/"
        },
        "id": "f0y-LdhyLojc",
        "outputId": "ad69004e-df91-4b16-d86c-df2dcb0591d4"
      },
      "source": [
        "p, Q, _, _, paths1, total_R1, path_length1 = policy(\n",
        "    w3g, alpha=0.1, epsilon=0.2, n_episodes=2000, agent=4,\n",
        "    step_funct = SARSA_optimization\n",
        ")\n",
        "p2, Q2, _, _, paths2, total_R2, path_length2 = policy(\n",
        "    w3g, alpha=0.1, epsilon=0.2, n_episodes=2000, agent=4,\n",
        "    step_funct = Q_learning_optimization\n",
        ")"
      ],
      "execution_count": 304,
      "outputs": [
        {
          "output_type": "stream",
          "text": [
            "Converged in 1201 episodes. Path length: 42\n",
            "Converged in 868 episodes. Path length: 42\n",
            "Improved path length: 40 (908 episodes in total)\n"
          ],
          "name": "stdout"
        }
      ]
    },
    {
      "cell_type": "code",
      "metadata": {
        "colab": {
          "base_uri": "https://localhost:8080/",
          "height": 265
        },
        "id": "IFQaMhMVKacz",
        "outputId": "4700d9f4-dc52-4092-a7cb-73bea0b22761"
      },
      "source": [
        "plot_Q_ev(p, w3g, Q, Agent4(w3g, INITIAL_STATE), ACTIONS, label = \"SARSA\")\n",
        "plot_Q_ev(p2, w3g, Q2, Agent4(w3g, INITIAL_STATE), ACTIONS, label = \"Q Learning\")\n",
        "plt.legend();"
      ],
      "execution_count": 295,
      "outputs": [
        {
          "output_type": "display_data",
          "data": {
            "image/png": "[encoded data removed]",
            "text/plain": [
              "<Figure size 432x288 with 1 Axes>"
            ]
          },
          "metadata": {
            "tags": [],
            "needs_background": "light"
          }
        }
      ]
    },
    {
      "cell_type": "markdown",
      "metadata": {
        "id": "ZGkIyONTMjT7"
      },
      "source": [
        "Vemos que, tal y como veíamos en el enlace que se mencionaba en el enunciado, el método de Q-learning genera más valor a lo largo de los pasos en el laberinto. Además, podemos tomar el punto en el que comienza a descender el valor como el punto de convergencia, pues significa que se ha acabado la meta. En este caso se observa que tardan ambos más o menos lo mismo. Podemos hacer otra prueba, donde vemos que se iguala un poco más el valor:"
      ]
    },
    {
      "cell_type": "code",
      "metadata": {
        "colab": {
          "base_uri": "https://localhost:8080/",
          "height": 265
        },
        "id": "SnGVg8ktLgFw",
        "outputId": "c3f03432-d660-4c3f-f2c5-3587acdd3da2"
      },
      "source": [
        "plot_Q_ev(p, w3g, Q, Agent4(w3g, INITIAL_STATE), ACTIONS, label = \"SARSA\")\n",
        "plot_Q_ev(p2, w3g, Q2, Agent4(w3g, INITIAL_STATE), ACTIONS, label = \"Q Learning\")\n",
        "plt.legend();"
      ],
      "execution_count": 19,
      "outputs": [
        {
          "output_type": "display_data",
          "data": {
            "image/png": "[encoded data removed]",
            "text/plain": [
              "<Figure size 432x288 with 1 Axes>"
            ]
          },
          "metadata": {
            "tags": [],
            "needs_background": "light"
          }
        }
      ]
    },
    {
      "cell_type": "markdown",
      "metadata": {
        "id": "ae5SNtl9Lub0"
      },
      "source": [
        "**Pregunta 3.** Comentad las diferencias cuando se aplica una mayor exploración ($\\epsilon$ más alto) y una mayor explotación ($\\epsilon$ más bajo). ¿Cuál converge más rápido? ¿Cuál obtiene más valor? ¿Qué estrategia piensas que podría usarse para explorar y explotar de forma más inteligente?\n",
        "\n",
        "*Respuesa.* Probamos a aumentar el valor de $\\epsilon$:"
      ]
    },
    {
      "cell_type": "code",
      "metadata": {
        "colab": {
          "base_uri": "https://localhost:8080/"
        },
        "id": "eHUFNV1gNUSc",
        "outputId": "abd9304e-7e75-40d6-a5a1-60f390a9553e"
      },
      "source": [
        "p, Q, _, _, paths, total_R, path_length = policy(\n",
        "    w3g, alpha=0.1, epsilon=0.4, n_episodes=2000, agent=4,\n",
        "    step_funct = SARSA_optimization\n",
        ")\n",
        "p2, Q2, _, _, paths, total_R, path_length = policy(\n",
        "    w3g, alpha=0.1, epsilon=0.4, n_episodes=1000, agent=4,\n",
        "    step_funct = Q_learning_optimization\n",
        ")"
      ],
      "execution_count": 296,
      "outputs": [
        {
          "output_type": "stream",
          "text": [
            "Converged in 949 episodes. Path length: 42\n",
            "Converged in 527 episodes. Path length: 46\n"
          ],
          "name": "stdout"
        }
      ]
    },
    {
      "cell_type": "code",
      "metadata": {
        "colab": {
          "base_uri": "https://localhost:8080/",
          "height": 265
        },
        "id": "AoDqMSglNlMH",
        "outputId": "d0faba9c-124f-464e-c70f-b44c77e310d8"
      },
      "source": [
        "plot_Q_ev(p, w3g, Q, Agent4(w3g, INITIAL_STATE), ACTIONS, label = \"SARSA\")\n",
        "plot_Q_ev(p2, w3g, Q2, Agent4(w3g, INITIAL_STATE), ACTIONS, label = \"Q Learning\")\n",
        "plt.legend();"
      ],
      "execution_count": 297,
      "outputs": [
        {
          "output_type": "display_data",
          "data": {
            "image/png": "[encoded data removed]",
            "text/plain": [
              "<Figure size 432x288 with 1 Axes>"
            ]
          },
          "metadata": {
            "tags": [],
            "needs_background": "light"
          }
        }
      ]
    },
    {
      "cell_type": "markdown",
      "metadata": {
        "id": "4SrCKtzDNtbK"
      },
      "source": [
        "Vemos que al aumentar el nivel de exploración, la diferencia de valor es más pronunciada al principio, pero se equilibra hacia el final, y llega un momento en que incluso el valor de SARSA se impone (aunque por poco y por poco tiempo). En los experimentos realizados antes, se ha observado que los algoritmos son muy sensibles a este parámetro, y que un cambio muy pequeño puede hacer que incremente mucho el tiempo de convergencia. Los valores que manejábamos y que hemos visto que funcionaban bien eran bastante bajos, del orden de 0.1 ó 0.01.\n",
        "\n",
        "Además, para compensar el hecho de que si el valor de $\\epsilon$ es alto el algoritmo fallará mucho en los últimos episodios (cuando ya debería tener una buena política), **hemos implementado un método de *decay***: el valor de $\\epsilon$ va disminuyendo cada X iteraciones por un factor fijo, lo que hace que al principio podamos tener una alta exploración, pero que se vaya decrementando conforme aprendemos, para no perder demasiado de lo que ya tenemos. La implementación es muy sencilla y se puede consultar en el código de arriba, y además al probarlo ha proporcionado muy buenos resultados (conseguimos que algunos mapas que no finalizaban acabaran convergiendo aplicando el *decay*)."
      ]
    },
    {
      "cell_type": "markdown",
      "metadata": {
        "id": "flThzSdHOGUw"
      },
      "source": [
        "**Pregunta 4.** Comentad las diferencias cuando se varían otros parámetros como el número de episodios, el ratio de aprendizaje ($\\alpha$) o el factor de descuento ($\\gamma$). ¿Qué valores dan mejores resultados?\n",
        "\n",
        "Comenzamos con el parámetro $\\gamma$. Se ha observado que para los mapas más difíciles y más grandes, era mejor disminuir un poco el valor de $\\gamma$ y no planear a tan largo plazo. Es el caso por ejemplo del mapa 1 mediano con el agente 3, donde con un valor de $\\gamma=1$ no conseguimos que converja, mientras que con un valor de $\\gamma=0.9$ sí lo hace en muy poco tiempo."
      ]
    },
    {
      "cell_type": "code",
      "metadata": {
        "colab": {
          "base_uri": "https://localhost:8080/"
        },
        "id": "poGvm2iNnKE8",
        "outputId": "2866e422-27ce-4fba-a9ba-73cc08171d72"
      },
      "source": [
        "policy_w1m, Q, episodes, converged, paths, total_R, path_length = policy(\n",
        "    w1m, alpha=0.1, epsilon=0.01, n_episodes=10000, agent=3, gamma=0.9,\n",
        "    max_steps=5000, step_funct = Q_learning_optimization\n",
        ")\n",
        "printPolicy(w1m, policy_w1m)"
      ],
      "execution_count": 13,
      "outputs": [
        {
          "output_type": "stream",
          "text": [
            "Converged in 684 episodes. Path length: 48\n",
            "\u001b[0m v \u001b[0m # \u001b[0m > \u001b[0m > \u001b[0m v \u001b[0m # \u001b[0m > \u001b[0m > \u001b[0m v \n",
            "\u001b[0m v \u001b[0m # \u001b[0m ^ \u001b[0m # \u001b[0m v \u001b[0m # \u001b[0m ^ \u001b[0m # \u001b[0m v \n",
            "\u001b[0m v \u001b[0m # \u001b[0m ^ \u001b[0m # \u001b[0m v \u001b[0m # \u001b[0m ^ \u001b[0m # \u001b[0m v \n",
            "\u001b[0m v \u001b[0m # \u001b[0m ^ \u001b[0m # \u001b[0m v \u001b[0m # \u001b[0m ^ \u001b[0m # \u001b[0m v \n",
            "\u001b[0m v \u001b[0m # \u001b[0m ^ \u001b[0m # \u001b[0m v \u001b[0m # \u001b[0m ^ \u001b[0m # \u001b[0m v \n",
            "\u001b[0m v \u001b[0m # \u001b[0m ^ \u001b[0m # \u001b[0m v \u001b[0m # \u001b[0m ^ \u001b[0m # \u001b[0m v \n",
            "\u001b[0m v \u001b[0m # \u001b[0m ^ \u001b[0m # \u001b[0m v \u001b[0m # \u001b[0m ^ \u001b[0m # \u001b[0m v \n",
            "\u001b[0m v \u001b[0m # \u001b[0m ^ \u001b[0m # \u001b[0m v \u001b[0m # \u001b[0m ^ \u001b[0m # \u001b[0m v \n",
            "\u001b[0m > \u001b[0m > \u001b[0m ^ \u001b[0m # \u001b[0m > \u001b[0m > \u001b[0m ^ \u001b[0m # \u001b[0m @ \n",
            "\n"
          ],
          "name": "stdout"
        }
      ]
    },
    {
      "cell_type": "markdown",
      "metadata": {
        "id": "Xu6PY21zPTD7"
      },
      "source": [
        "Sin embargo, la mayoría de mapas funcionan mejor manteniendo $\\gamma=1$, y de hecho en muchos de ellos si decrementamos el valor se pierde la convergencia.\n",
        "\n",
        "En cuanto al *learning rate* $\\alpha$, hemos visto que en general se obtienen los mejores resultados cuando tiene un valor pequeño, del orden de $0.1$. Sin embargo, en algunos mapas puntuales obtenemos una mejoría al incrementar este valor hasta $0.2$ ó incluso $0.5$.\n",
        "\n",
        "Por último, el número de episodios es también un parámetro muy influyente. Dependiendo de la longitud del mapa, se necesitaban unos pocos cientos de episodios, o incluso miles de ellos para alcanzar la convergencia. Solo en algunos mapas excepcionales se aumentaba mucho este número, llegando a ser más de 30000 en el mapa 1 grande con el agente 1 en SARSA.\n",
        "\n",
        "También hemos optado por implementar un parámetro `max_steps`, que controla el número máximo de pasos (actualizaciones de Q) que se pueden hacer en un mismo episodio antes de darlo por concluido, para evitar que duren demasiado. Hemos visto que en muchas ocasiones, controlar este número y fijarlo a 1000 ó 2000 hace que obtengamos mejores resultados, pues aunque quizás haga más episodios, el tiempo de ejecución total es mucho menor."
      ]
    },
    {
      "cell_type": "markdown",
      "metadata": {
        "id": "acvPSQA5OKiB"
      },
      "source": [
        "**Extra:** Como dijimos antes, hemos implementado dos agentes (el 3 y el 4) que modifican el refuerzo para intentar encontrar caminos más cortos. En algunos mapas hemos tenido éxito, mejorando la longitud del camino tras unas cuantas iteraciones más (mejorando también con respecto a los otros agentes en ese mismo mapa). Cuando tras converger la política se mejora el camino, lo mostramos en el código, indicando el número total de episodios realizados. Podemos ver un ejemplo a continuación, donde gracias a esta modificación de refuerzos el agente pasa de ignorar un túnel útil a usarlo."
      ]
    },
    {
      "cell_type": "code",
      "metadata": {
        "colab": {
          "base_uri": "https://localhost:8080/"
        },
        "id": "ddrynZSGOf2h",
        "outputId": "e872f2af-5e0e-47eb-db93-4281603552a4"
      },
      "source": [
        "policy_w2p, Q, episodes, converged, paths, total_R, path_length = policy(\n",
        "    w2p, alpha=0.1, epsilon=0.0, n_episodes=100, agent=4,\n",
        "    step_funct = SARSA_optimization, verbose=True\n",
        ")\n",
        "printPolicy(w2p, policy_w2p)"
      ],
      "execution_count": 312,
      "outputs": [
        {
          "output_type": "stream",
          "text": [
            "Episode 6\n",
            "\u001b[0m > \u001b[0m > \u001b[0m > \u001b[0m v \u001b[0m < \n",
            "\u001b[0m < \u001b[0m # \u001b[0m > \u001b[0m v \u001b[0m v \n",
            "\u001b[94m < \u001b[0m < \u001b[0m < \u001b[0m v \u001b[0m ^ \n",
            "\u001b[0m v \u001b[0m # \u001b[0m # \u001b[0m v \u001b[0m v \n",
            "\u001b[0m ^ \u001b[0m v \u001b[94m > \u001b[0m > \u001b[0m @ \n",
            "\n",
            "Converged in 6 episodes. Path length: 8\n",
            "Improved path length: 4 (12 episodes in total)\n",
            "\u001b[0m v \u001b[0m ^ \u001b[0m ^ \u001b[0m ^ \u001b[0m > \n",
            "\u001b[0m v \u001b[0m # \u001b[0m > \u001b[0m ^ \u001b[0m v \n",
            "\u001b[94m < \u001b[0m < \u001b[0m ^ \u001b[0m ^ \u001b[0m v \n",
            "\u001b[0m v \u001b[0m # \u001b[0m # \u001b[0m v \u001b[0m v \n",
            "\u001b[0m ^ \u001b[0m v \u001b[94m > \u001b[0m > \u001b[0m @ \n",
            "\n"
          ],
          "name": "stdout"
        }
      ]
    }
  ]
}